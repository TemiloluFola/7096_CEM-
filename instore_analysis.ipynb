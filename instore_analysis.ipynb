{
 "cells": [
  {
   "cell_type": "code",
   "execution_count": 1,
   "metadata": {},
   "outputs": [],
   "source": [
    "# the following cells of code will be used for exploring instore the UK retail sales value data \n",
    "# these cells will cover exploration, analysis, and visualisation\n",
    "# the analytical process is aiming to see if there are any distinguushable trends within the sector as whole \n",
    "# the timeliene will be considering pre-COVID, COVID, and post-COVID\n",
    "# an ML algo might be employed for forecasting after for future work but  \n",
    "# this is strictly a descriptive analytical using Historical data"
   ]
  },
  {
   "cell_type": "code",
   "execution_count": 2,
   "metadata": {},
   "outputs": [],
   "source": [
    "# coversion and speration to ease exploration and initial analysis \n",
    "\n",
    "import pandas as pd\n",
    "total_instore_online = pd.read_excel(r'/Users/temilolu_trois/desktop/datasets_csv_format/detailedonlineandinstore.xlsx', sheet_name= 1)\n",
    "instore = pd.read_excel(r'/Users/temilolu_trois/desktop/datasets_csv_format/detailedonlineandinstore.xlsx', sheet_name= 2)\n",
    "online = pd.read_excel(r'/Users/temilolu_trois/desktop/datasets_csv_format/detailedonlineandinstore.xlsx', sheet_name= 3)\n",
    "total_instore_online.to_csv(r'/Users/temilolu_trois/desktop/datasets_csv_format/hello_ds/total_instore_online.csv', index = None, header = True)\n",
    "instore.to_csv(r'/Users/temilolu_trois/desktop/datasets_csv_format/hello_ds/instore.csv', index = None, header = True)\n",
    "online.to_csv(r'/Users/temilolu_trois/desktop/datasets_csv_format/hello_ds/online.csv', index = None, header = True)\n",
    "\n"
   ]
  },
  {
   "cell_type": "code",
   "execution_count": 3,
   "metadata": {},
   "outputs": [
    {
     "data": {
      "text/html": [
       "<div>\n",
       "<style scoped>\n",
       "    .dataframe tbody tr th:only-of-type {\n",
       "        vertical-align: middle;\n",
       "    }\n",
       "\n",
       "    .dataframe tbody tr th {\n",
       "        vertical-align: top;\n",
       "    }\n",
       "\n",
       "    .dataframe thead th {\n",
       "        text-align: right;\n",
       "    }\n",
       "</style>\n",
       "<table border=\"1\" class=\"dataframe\">\n",
       "  <thead>\n",
       "    <tr style=\"text-align: right;\">\n",
       "      <th></th>\n",
       "      <th>Number of weeks</th>\n",
       "      <th>Description</th>\n",
       "      <th>All retailing</th>\n",
       "      <th>All retailing except automotive fuel</th>\n",
       "      <th>Predominantly food stores</th>\n",
       "      <th>Non-specialised stores (i.e supermarkets)</th>\n",
       "      <th>Specialist food stores (i.e butchers and bakers)</th>\n",
       "      <th>Alcoholic drink, beverages &amp; tobacco</th>\n",
       "      <th>Predominantly non-food stores</th>\n",
       "      <th>Non-specialised stores (i.e department stores)</th>\n",
       "      <th>...</th>\n",
       "      <th>Clothing</th>\n",
       "      <th>Footwear and leather goods</th>\n",
       "      <th>Household goods stores</th>\n",
       "      <th>Furniture, lighting and household articles n.e.c</th>\n",
       "      <th>Electrical household aplliances</th>\n",
       "      <th>Hardware, paints and glass</th>\n",
       "      <th>Music and video recordings &amp; equiptment</th>\n",
       "      <th>Non-store retailing</th>\n",
       "      <th>Mail order</th>\n",
       "      <th>Fuel</th>\n",
       "    </tr>\n",
       "  </thead>\n",
       "  <tbody>\n",
       "    <tr>\n",
       "      <th>0</th>\n",
       "      <td>NaN</td>\n",
       "      <td>AGG/SIC</td>\n",
       "      <td>AGG21</td>\n",
       "      <td>AGG21X</td>\n",
       "      <td>AGG1</td>\n",
       "      <td>47.11</td>\n",
       "      <td>AGG26</td>\n",
       "      <td>AGG27</td>\n",
       "      <td>AGG12</td>\n",
       "      <td>47.19</td>\n",
       "      <td>...</td>\n",
       "      <td>47.71</td>\n",
       "      <td>47.72</td>\n",
       "      <td>AGG7</td>\n",
       "      <td>47.59</td>\n",
       "      <td>47.54</td>\n",
       "      <td>47.52</td>\n",
       "      <td>AGG31</td>\n",
       "      <td>AGG14</td>\n",
       "      <td>47.91</td>\n",
       "      <td>47.3</td>\n",
       "    </tr>\n",
       "    <tr>\n",
       "      <th>1</th>\n",
       "      <td>4.0</td>\n",
       "      <td>2007JAN</td>\n",
       "      <td>22005169</td>\n",
       "      <td>19714130</td>\n",
       "      <td>8910382</td>\n",
       "      <td>8059986.00</td>\n",
       "      <td>503460</td>\n",
       "      <td>346936</td>\n",
       "      <td>10092869</td>\n",
       "      <td>1765610.00</td>\n",
       "      <td>...</td>\n",
       "      <td>2377331.00</td>\n",
       "      <td>271220.00</td>\n",
       "      <td>2573727</td>\n",
       "      <td>821046.00</td>\n",
       "      <td>698949.00</td>\n",
       "      <td>868934.00</td>\n",
       "      <td>184798</td>\n",
       "      <td>710879</td>\n",
       "      <td>536745.00</td>\n",
       "      <td>2291039.0</td>\n",
       "    </tr>\n",
       "    <tr>\n",
       "      <th>2</th>\n",
       "      <td>4.0</td>\n",
       "      <td>2007FEB</td>\n",
       "      <td>22333002</td>\n",
       "      <td>20039583</td>\n",
       "      <td>9001003</td>\n",
       "      <td>8142505.00</td>\n",
       "      <td>518324</td>\n",
       "      <td>340174</td>\n",
       "      <td>10320844</td>\n",
       "      <td>1764298.00</td>\n",
       "      <td>...</td>\n",
       "      <td>2490931.00</td>\n",
       "      <td>285398.00</td>\n",
       "      <td>2626700</td>\n",
       "      <td>861326.00</td>\n",
       "      <td>719189.00</td>\n",
       "      <td>858938.00</td>\n",
       "      <td>187247</td>\n",
       "      <td>717736</td>\n",
       "      <td>547799.00</td>\n",
       "      <td>2293419.0</td>\n",
       "    </tr>\n",
       "    <tr>\n",
       "      <th>3</th>\n",
       "      <td>5.0</td>\n",
       "      <td>2007MAR</td>\n",
       "      <td>28184320</td>\n",
       "      <td>25214663</td>\n",
       "      <td>11301125</td>\n",
       "      <td>10205396.00</td>\n",
       "      <td>657196</td>\n",
       "      <td>438533</td>\n",
       "      <td>13059933</td>\n",
       "      <td>2239668.00</td>\n",
       "      <td>...</td>\n",
       "      <td>3135620.00</td>\n",
       "      <td>363895.00</td>\n",
       "      <td>3319665</td>\n",
       "      <td>1121943.00</td>\n",
       "      <td>905324.00</td>\n",
       "      <td>1056602.00</td>\n",
       "      <td>235796</td>\n",
       "      <td>853605</td>\n",
       "      <td>658566.00</td>\n",
       "      <td>2969657.0</td>\n",
       "    </tr>\n",
       "    <tr>\n",
       "      <th>4</th>\n",
       "      <td>4.0</td>\n",
       "      <td>2007APR</td>\n",
       "      <td>22752297</td>\n",
       "      <td>20235206</td>\n",
       "      <td>9059538</td>\n",
       "      <td>8194269.00</td>\n",
       "      <td>511437</td>\n",
       "      <td>353832</td>\n",
       "      <td>10490886</td>\n",
       "      <td>1791301.00</td>\n",
       "      <td>...</td>\n",
       "      <td>2595627.00</td>\n",
       "      <td>322562.00</td>\n",
       "      <td>2564643</td>\n",
       "      <td>843364.00</td>\n",
       "      <td>661362.00</td>\n",
       "      <td>881006.00</td>\n",
       "      <td>178911</td>\n",
       "      <td>684782</td>\n",
       "      <td>535609.00</td>\n",
       "      <td>2517091.0</td>\n",
       "    </tr>\n",
       "    <tr>\n",
       "      <th>...</th>\n",
       "      <td>...</td>\n",
       "      <td>...</td>\n",
       "      <td>...</td>\n",
       "      <td>...</td>\n",
       "      <td>...</td>\n",
       "      <td>...</td>\n",
       "      <td>...</td>\n",
       "      <td>...</td>\n",
       "      <td>...</td>\n",
       "      <td>...</td>\n",
       "      <td>...</td>\n",
       "      <td>...</td>\n",
       "      <td>...</td>\n",
       "      <td>...</td>\n",
       "      <td>...</td>\n",
       "      <td>...</td>\n",
       "      <td>...</td>\n",
       "      <td>...</td>\n",
       "      <td>...</td>\n",
       "      <td>...</td>\n",
       "      <td>...</td>\n",
       "    </tr>\n",
       "    <tr>\n",
       "      <th>178</th>\n",
       "      <td>4.0</td>\n",
       "      <td>2021OCT</td>\n",
       "      <td>27195128</td>\n",
       "      <td>23629953</td>\n",
       "      <td>12309396</td>\n",
       "      <td>11340843.00</td>\n",
       "      <td>728897</td>\n",
       "      <td>239656</td>\n",
       "      <td>11120230</td>\n",
       "      <td>1965015.00</td>\n",
       "      <td>...</td>\n",
       "      <td>2451539.00</td>\n",
       "      <td>299315.00</td>\n",
       "      <td>2198453</td>\n",
       "      <td>911445.00</td>\n",
       "      <td>355698.00</td>\n",
       "      <td>878095.00</td>\n",
       "      <td>53215</td>\n",
       "      <td>200327</td>\n",
       "      <td>7451.00</td>\n",
       "      <td>3565175.0</td>\n",
       "    </tr>\n",
       "    <tr>\n",
       "      <th>179</th>\n",
       "      <td>4.0</td>\n",
       "      <td>2021NOV</td>\n",
       "      <td>27873975</td>\n",
       "      <td>23950532</td>\n",
       "      <td>12431747</td>\n",
       "      <td>11388911.00</td>\n",
       "      <td>753234</td>\n",
       "      <td>289602</td>\n",
       "      <td>11272240</td>\n",
       "      <td>1923049.00</td>\n",
       "      <td>...</td>\n",
       "      <td>2572936.00</td>\n",
       "      <td>305941.00</td>\n",
       "      <td>2229782</td>\n",
       "      <td>943554.00</td>\n",
       "      <td>333795.00</td>\n",
       "      <td>904609.00</td>\n",
       "      <td>47824</td>\n",
       "      <td>246545</td>\n",
       "      <td>56665.00</td>\n",
       "      <td>3923443.0</td>\n",
       "    </tr>\n",
       "    <tr>\n",
       "      <th>180</th>\n",
       "      <td>5.0</td>\n",
       "      <td>2021DEC</td>\n",
       "      <td>33464670</td>\n",
       "      <td>28840473</td>\n",
       "      <td>15353408</td>\n",
       "      <td>14011048.00</td>\n",
       "      <td>926377</td>\n",
       "      <td>415983</td>\n",
       "      <td>12823506</td>\n",
       "      <td>2308073.00</td>\n",
       "      <td>...</td>\n",
       "      <td>2938003.00</td>\n",
       "      <td>368655.00</td>\n",
       "      <td>2681707</td>\n",
       "      <td>1066403.00</td>\n",
       "      <td>394007.00</td>\n",
       "      <td>1122323.00</td>\n",
       "      <td>98974</td>\n",
       "      <td>663559</td>\n",
       "      <td>452047.00</td>\n",
       "      <td>4624197.0</td>\n",
       "    </tr>\n",
       "    <tr>\n",
       "      <th>181</th>\n",
       "      <td>4.0</td>\n",
       "      <td>2022JAN</td>\n",
       "      <td>27566539</td>\n",
       "      <td>23774708</td>\n",
       "      <td>12220759</td>\n",
       "      <td>11155367.00</td>\n",
       "      <td>783349</td>\n",
       "      <td>282043</td>\n",
       "      <td>11020187</td>\n",
       "      <td>1959429.00</td>\n",
       "      <td>...</td>\n",
       "      <td>2237628.00</td>\n",
       "      <td>262001.00</td>\n",
       "      <td>2375414</td>\n",
       "      <td>1032326.00</td>\n",
       "      <td>368729.00</td>\n",
       "      <td>924575.00</td>\n",
       "      <td>49784</td>\n",
       "      <td>533762</td>\n",
       "      <td>364031.00</td>\n",
       "      <td>3791831.0</td>\n",
       "    </tr>\n",
       "    <tr>\n",
       "      <th>182</th>\n",
       "      <td>4.0</td>\n",
       "      <td>2022FEB</td>\n",
       "      <td>27888938</td>\n",
       "      <td>23920093</td>\n",
       "      <td>12417653</td>\n",
       "      <td>11392382.00</td>\n",
       "      <td>771200</td>\n",
       "      <td>254071</td>\n",
       "      <td>11181761</td>\n",
       "      <td>2072145.00</td>\n",
       "      <td>...</td>\n",
       "      <td>2583119.00</td>\n",
       "      <td>309918.00</td>\n",
       "      <td>2348662</td>\n",
       "      <td>990143.00</td>\n",
       "      <td>381497.00</td>\n",
       "      <td>930668.00</td>\n",
       "      <td>46354</td>\n",
       "      <td>320679</td>\n",
       "      <td>202943.00</td>\n",
       "      <td>3968845.0</td>\n",
       "    </tr>\n",
       "  </tbody>\n",
       "</table>\n",
       "<p>183 rows × 34 columns</p>\n",
       "</div>"
      ],
      "text/plain": [
       "     Number of weeks Description All retailing  \\\n",
       "0                NaN     AGG/SIC         AGG21   \n",
       "1                4.0     2007JAN      22005169   \n",
       "2                4.0     2007FEB      22333002   \n",
       "3                5.0     2007MAR      28184320   \n",
       "4                4.0     2007APR      22752297   \n",
       "..               ...         ...           ...   \n",
       "178              4.0     2021OCT      27195128   \n",
       "179              4.0     2021NOV      27873975   \n",
       "180              5.0     2021DEC      33464670   \n",
       "181              4.0     2022JAN      27566539   \n",
       "182              4.0     2022FEB      27888938   \n",
       "\n",
       "    All retailing except automotive fuel Predominantly food stores  \\\n",
       "0                                 AGG21X                      AGG1   \n",
       "1                               19714130                   8910382   \n",
       "2                               20039583                   9001003   \n",
       "3                               25214663                  11301125   \n",
       "4                               20235206                   9059538   \n",
       "..                                   ...                       ...   \n",
       "178                             23629953                  12309396   \n",
       "179                             23950532                  12431747   \n",
       "180                             28840473                  15353408   \n",
       "181                             23774708                  12220759   \n",
       "182                             23920093                  12417653   \n",
       "\n",
       "     Non-specialised stores (i.e supermarkets)  \\\n",
       "0                                        47.11   \n",
       "1                                   8059986.00   \n",
       "2                                   8142505.00   \n",
       "3                                  10205396.00   \n",
       "4                                   8194269.00   \n",
       "..                                         ...   \n",
       "178                                11340843.00   \n",
       "179                                11388911.00   \n",
       "180                                14011048.00   \n",
       "181                                11155367.00   \n",
       "182                                11392382.00   \n",
       "\n",
       "    Specialist food stores (i.e butchers and bakers)  \\\n",
       "0                                              AGG26   \n",
       "1                                             503460   \n",
       "2                                             518324   \n",
       "3                                             657196   \n",
       "4                                             511437   \n",
       "..                                               ...   \n",
       "178                                           728897   \n",
       "179                                           753234   \n",
       "180                                           926377   \n",
       "181                                           783349   \n",
       "182                                           771200   \n",
       "\n",
       "    Alcoholic drink, beverages & tobacco Predominantly non-food stores  \\\n",
       "0                                  AGG27                         AGG12   \n",
       "1                                 346936                      10092869   \n",
       "2                                 340174                      10320844   \n",
       "3                                 438533                      13059933   \n",
       "4                                 353832                      10490886   \n",
       "..                                   ...                           ...   \n",
       "178                               239656                      11120230   \n",
       "179                               289602                      11272240   \n",
       "180                               415983                      12823506   \n",
       "181                               282043                      11020187   \n",
       "182                               254071                      11181761   \n",
       "\n",
       "     Non-specialised stores (i.e department stores)  ...    Clothing  \\\n",
       "0                                             47.19  ...       47.71   \n",
       "1                                        1765610.00  ...  2377331.00   \n",
       "2                                        1764298.00  ...  2490931.00   \n",
       "3                                        2239668.00  ...  3135620.00   \n",
       "4                                        1791301.00  ...  2595627.00   \n",
       "..                                              ...  ...         ...   \n",
       "178                                      1965015.00  ...  2451539.00   \n",
       "179                                      1923049.00  ...  2572936.00   \n",
       "180                                      2308073.00  ...  2938003.00   \n",
       "181                                      1959429.00  ...  2237628.00   \n",
       "182                                      2072145.00  ...  2583119.00   \n",
       "\n",
       "     Footwear and leather goods  Household goods stores  \\\n",
       "0                         47.72                    AGG7   \n",
       "1                     271220.00                 2573727   \n",
       "2                     285398.00                 2626700   \n",
       "3                     363895.00                 3319665   \n",
       "4                     322562.00                 2564643   \n",
       "..                          ...                     ...   \n",
       "178                   299315.00                 2198453   \n",
       "179                   305941.00                 2229782   \n",
       "180                   368655.00                 2681707   \n",
       "181                   262001.00                 2375414   \n",
       "182                   309918.00                 2348662   \n",
       "\n",
       "     Furniture, lighting and household articles n.e.c  \\\n",
       "0                                               47.59   \n",
       "1                                           821046.00   \n",
       "2                                           861326.00   \n",
       "3                                          1121943.00   \n",
       "4                                           843364.00   \n",
       "..                                                ...   \n",
       "178                                         911445.00   \n",
       "179                                         943554.00   \n",
       "180                                        1066403.00   \n",
       "181                                        1032326.00   \n",
       "182                                         990143.00   \n",
       "\n",
       "    Electrical household aplliances  Hardware, paints and glass  \\\n",
       "0                             47.54                       47.52   \n",
       "1                         698949.00                   868934.00   \n",
       "2                         719189.00                   858938.00   \n",
       "3                         905324.00                  1056602.00   \n",
       "4                         661362.00                   881006.00   \n",
       "..                              ...                         ...   \n",
       "178                       355698.00                   878095.00   \n",
       "179                       333795.00                   904609.00   \n",
       "180                       394007.00                  1122323.00   \n",
       "181                       368729.00                   924575.00   \n",
       "182                       381497.00                   930668.00   \n",
       "\n",
       "    Music and video recordings & equiptment Non-store retailing  Mail order  \\\n",
       "0                                     AGG31               AGG14       47.91   \n",
       "1                                    184798              710879   536745.00   \n",
       "2                                    187247              717736   547799.00   \n",
       "3                                    235796              853605   658566.00   \n",
       "4                                    178911              684782   535609.00   \n",
       "..                                      ...                 ...         ...   \n",
       "178                                   53215              200327     7451.00   \n",
       "179                                   47824              246545    56665.00   \n",
       "180                                   98974              663559   452047.00   \n",
       "181                                   49784              533762   364031.00   \n",
       "182                                   46354              320679   202943.00   \n",
       "\n",
       "          Fuel  \n",
       "0         47.3  \n",
       "1    2291039.0  \n",
       "2    2293419.0  \n",
       "3    2969657.0  \n",
       "4    2517091.0  \n",
       "..         ...  \n",
       "178  3565175.0  \n",
       "179  3923443.0  \n",
       "180  4624197.0  \n",
       "181  3791831.0  \n",
       "182  3968845.0  \n",
       "\n",
       "[183 rows x 34 columns]"
      ]
     },
     "execution_count": 3,
     "metadata": {},
     "output_type": "execute_result"
    }
   ],
   "source": [
    "# instore sales will be considered first\n",
    "df1 = pd.DataFrame(instore) # creating a df for instore sales \n",
    "df1"
   ]
  },
  {
   "cell_type": "code",
   "execution_count": 4,
   "metadata": {},
   "outputs": [
    {
     "data": {
      "text/html": [
       "<div>\n",
       "<style scoped>\n",
       "    .dataframe tbody tr th:only-of-type {\n",
       "        vertical-align: middle;\n",
       "    }\n",
       "\n",
       "    .dataframe tbody tr th {\n",
       "        vertical-align: top;\n",
       "    }\n",
       "\n",
       "    .dataframe thead th {\n",
       "        text-align: right;\n",
       "    }\n",
       "</style>\n",
       "<table border=\"1\" class=\"dataframe\">\n",
       "  <thead>\n",
       "    <tr style=\"text-align: right;\">\n",
       "      <th></th>\n",
       "      <th>Number of weeks</th>\n",
       "      <th>Description</th>\n",
       "      <th>All retailing</th>\n",
       "      <th>All retailing except automotive fuel</th>\n",
       "      <th>Predominantly food stores</th>\n",
       "      <th>Non-specialised stores (i.e supermarkets)</th>\n",
       "      <th>Specialist food stores (i.e butchers and bakers)</th>\n",
       "      <th>Alcoholic drink, beverages &amp; tobacco</th>\n",
       "      <th>Predominantly non-food stores</th>\n",
       "      <th>Non-specialised stores (i.e department stores)</th>\n",
       "      <th>...</th>\n",
       "      <th>Clothing</th>\n",
       "      <th>Footwear and leather goods</th>\n",
       "      <th>Household goods stores</th>\n",
       "      <th>Furniture, lighting and household articles n.e.c</th>\n",
       "      <th>Electrical household aplliances</th>\n",
       "      <th>Hardware, paints and glass</th>\n",
       "      <th>Music and video recordings &amp; equiptment</th>\n",
       "      <th>Non-store retailing</th>\n",
       "      <th>Mail order</th>\n",
       "      <th>Fuel</th>\n",
       "    </tr>\n",
       "  </thead>\n",
       "  <tbody>\n",
       "    <tr>\n",
       "      <th>0</th>\n",
       "      <td>NaN</td>\n",
       "      <td>AGG/SIC</td>\n",
       "      <td>AGG21</td>\n",
       "      <td>AGG21X</td>\n",
       "      <td>AGG1</td>\n",
       "      <td>47.11</td>\n",
       "      <td>AGG26</td>\n",
       "      <td>AGG27</td>\n",
       "      <td>AGG12</td>\n",
       "      <td>47.19</td>\n",
       "      <td>...</td>\n",
       "      <td>47.71</td>\n",
       "      <td>47.72</td>\n",
       "      <td>AGG7</td>\n",
       "      <td>47.59</td>\n",
       "      <td>47.54</td>\n",
       "      <td>47.52</td>\n",
       "      <td>AGG31</td>\n",
       "      <td>AGG14</td>\n",
       "      <td>47.91</td>\n",
       "      <td>47.3</td>\n",
       "    </tr>\n",
       "    <tr>\n",
       "      <th>1</th>\n",
       "      <td>4.0</td>\n",
       "      <td>2007JAN</td>\n",
       "      <td>22005169</td>\n",
       "      <td>19714130</td>\n",
       "      <td>8910382</td>\n",
       "      <td>8059986.00</td>\n",
       "      <td>503460</td>\n",
       "      <td>346936</td>\n",
       "      <td>10092869</td>\n",
       "      <td>1765610.00</td>\n",
       "      <td>...</td>\n",
       "      <td>2377331.00</td>\n",
       "      <td>271220.00</td>\n",
       "      <td>2573727</td>\n",
       "      <td>821046.00</td>\n",
       "      <td>698949.00</td>\n",
       "      <td>868934.00</td>\n",
       "      <td>184798</td>\n",
       "      <td>710879</td>\n",
       "      <td>536745.00</td>\n",
       "      <td>2291039.0</td>\n",
       "    </tr>\n",
       "    <tr>\n",
       "      <th>2</th>\n",
       "      <td>4.0</td>\n",
       "      <td>2007FEB</td>\n",
       "      <td>22333002</td>\n",
       "      <td>20039583</td>\n",
       "      <td>9001003</td>\n",
       "      <td>8142505.00</td>\n",
       "      <td>518324</td>\n",
       "      <td>340174</td>\n",
       "      <td>10320844</td>\n",
       "      <td>1764298.00</td>\n",
       "      <td>...</td>\n",
       "      <td>2490931.00</td>\n",
       "      <td>285398.00</td>\n",
       "      <td>2626700</td>\n",
       "      <td>861326.00</td>\n",
       "      <td>719189.00</td>\n",
       "      <td>858938.00</td>\n",
       "      <td>187247</td>\n",
       "      <td>717736</td>\n",
       "      <td>547799.00</td>\n",
       "      <td>2293419.0</td>\n",
       "    </tr>\n",
       "    <tr>\n",
       "      <th>3</th>\n",
       "      <td>5.0</td>\n",
       "      <td>2007MAR</td>\n",
       "      <td>28184320</td>\n",
       "      <td>25214663</td>\n",
       "      <td>11301125</td>\n",
       "      <td>10205396.00</td>\n",
       "      <td>657196</td>\n",
       "      <td>438533</td>\n",
       "      <td>13059933</td>\n",
       "      <td>2239668.00</td>\n",
       "      <td>...</td>\n",
       "      <td>3135620.00</td>\n",
       "      <td>363895.00</td>\n",
       "      <td>3319665</td>\n",
       "      <td>1121943.00</td>\n",
       "      <td>905324.00</td>\n",
       "      <td>1056602.00</td>\n",
       "      <td>235796</td>\n",
       "      <td>853605</td>\n",
       "      <td>658566.00</td>\n",
       "      <td>2969657.0</td>\n",
       "    </tr>\n",
       "    <tr>\n",
       "      <th>4</th>\n",
       "      <td>4.0</td>\n",
       "      <td>2007APR</td>\n",
       "      <td>22752297</td>\n",
       "      <td>20235206</td>\n",
       "      <td>9059538</td>\n",
       "      <td>8194269.00</td>\n",
       "      <td>511437</td>\n",
       "      <td>353832</td>\n",
       "      <td>10490886</td>\n",
       "      <td>1791301.00</td>\n",
       "      <td>...</td>\n",
       "      <td>2595627.00</td>\n",
       "      <td>322562.00</td>\n",
       "      <td>2564643</td>\n",
       "      <td>843364.00</td>\n",
       "      <td>661362.00</td>\n",
       "      <td>881006.00</td>\n",
       "      <td>178911</td>\n",
       "      <td>684782</td>\n",
       "      <td>535609.00</td>\n",
       "      <td>2517091.0</td>\n",
       "    </tr>\n",
       "    <tr>\n",
       "      <th>...</th>\n",
       "      <td>...</td>\n",
       "      <td>...</td>\n",
       "      <td>...</td>\n",
       "      <td>...</td>\n",
       "      <td>...</td>\n",
       "      <td>...</td>\n",
       "      <td>...</td>\n",
       "      <td>...</td>\n",
       "      <td>...</td>\n",
       "      <td>...</td>\n",
       "      <td>...</td>\n",
       "      <td>...</td>\n",
       "      <td>...</td>\n",
       "      <td>...</td>\n",
       "      <td>...</td>\n",
       "      <td>...</td>\n",
       "      <td>...</td>\n",
       "      <td>...</td>\n",
       "      <td>...</td>\n",
       "      <td>...</td>\n",
       "      <td>...</td>\n",
       "    </tr>\n",
       "    <tr>\n",
       "      <th>178</th>\n",
       "      <td>4.0</td>\n",
       "      <td>2021OCT</td>\n",
       "      <td>27195128</td>\n",
       "      <td>23629953</td>\n",
       "      <td>12309396</td>\n",
       "      <td>11340843.00</td>\n",
       "      <td>728897</td>\n",
       "      <td>239656</td>\n",
       "      <td>11120230</td>\n",
       "      <td>1965015.00</td>\n",
       "      <td>...</td>\n",
       "      <td>2451539.00</td>\n",
       "      <td>299315.00</td>\n",
       "      <td>2198453</td>\n",
       "      <td>911445.00</td>\n",
       "      <td>355698.00</td>\n",
       "      <td>878095.00</td>\n",
       "      <td>53215</td>\n",
       "      <td>200327</td>\n",
       "      <td>7451.00</td>\n",
       "      <td>3565175.0</td>\n",
       "    </tr>\n",
       "    <tr>\n",
       "      <th>179</th>\n",
       "      <td>4.0</td>\n",
       "      <td>2021NOV</td>\n",
       "      <td>27873975</td>\n",
       "      <td>23950532</td>\n",
       "      <td>12431747</td>\n",
       "      <td>11388911.00</td>\n",
       "      <td>753234</td>\n",
       "      <td>289602</td>\n",
       "      <td>11272240</td>\n",
       "      <td>1923049.00</td>\n",
       "      <td>...</td>\n",
       "      <td>2572936.00</td>\n",
       "      <td>305941.00</td>\n",
       "      <td>2229782</td>\n",
       "      <td>943554.00</td>\n",
       "      <td>333795.00</td>\n",
       "      <td>904609.00</td>\n",
       "      <td>47824</td>\n",
       "      <td>246545</td>\n",
       "      <td>56665.00</td>\n",
       "      <td>3923443.0</td>\n",
       "    </tr>\n",
       "    <tr>\n",
       "      <th>180</th>\n",
       "      <td>5.0</td>\n",
       "      <td>2021DEC</td>\n",
       "      <td>33464670</td>\n",
       "      <td>28840473</td>\n",
       "      <td>15353408</td>\n",
       "      <td>14011048.00</td>\n",
       "      <td>926377</td>\n",
       "      <td>415983</td>\n",
       "      <td>12823506</td>\n",
       "      <td>2308073.00</td>\n",
       "      <td>...</td>\n",
       "      <td>2938003.00</td>\n",
       "      <td>368655.00</td>\n",
       "      <td>2681707</td>\n",
       "      <td>1066403.00</td>\n",
       "      <td>394007.00</td>\n",
       "      <td>1122323.00</td>\n",
       "      <td>98974</td>\n",
       "      <td>663559</td>\n",
       "      <td>452047.00</td>\n",
       "      <td>4624197.0</td>\n",
       "    </tr>\n",
       "    <tr>\n",
       "      <th>181</th>\n",
       "      <td>4.0</td>\n",
       "      <td>2022JAN</td>\n",
       "      <td>27566539</td>\n",
       "      <td>23774708</td>\n",
       "      <td>12220759</td>\n",
       "      <td>11155367.00</td>\n",
       "      <td>783349</td>\n",
       "      <td>282043</td>\n",
       "      <td>11020187</td>\n",
       "      <td>1959429.00</td>\n",
       "      <td>...</td>\n",
       "      <td>2237628.00</td>\n",
       "      <td>262001.00</td>\n",
       "      <td>2375414</td>\n",
       "      <td>1032326.00</td>\n",
       "      <td>368729.00</td>\n",
       "      <td>924575.00</td>\n",
       "      <td>49784</td>\n",
       "      <td>533762</td>\n",
       "      <td>364031.00</td>\n",
       "      <td>3791831.0</td>\n",
       "    </tr>\n",
       "    <tr>\n",
       "      <th>182</th>\n",
       "      <td>4.0</td>\n",
       "      <td>2022FEB</td>\n",
       "      <td>27888938</td>\n",
       "      <td>23920093</td>\n",
       "      <td>12417653</td>\n",
       "      <td>11392382.00</td>\n",
       "      <td>771200</td>\n",
       "      <td>254071</td>\n",
       "      <td>11181761</td>\n",
       "      <td>2072145.00</td>\n",
       "      <td>...</td>\n",
       "      <td>2583119.00</td>\n",
       "      <td>309918.00</td>\n",
       "      <td>2348662</td>\n",
       "      <td>990143.00</td>\n",
       "      <td>381497.00</td>\n",
       "      <td>930668.00</td>\n",
       "      <td>46354</td>\n",
       "      <td>320679</td>\n",
       "      <td>202943.00</td>\n",
       "      <td>3968845.0</td>\n",
       "    </tr>\n",
       "  </tbody>\n",
       "</table>\n",
       "<p>183 rows × 34 columns</p>\n",
       "</div>"
      ],
      "text/plain": [
       "     Number of weeks Description All retailing  \\\n",
       "0                NaN     AGG/SIC         AGG21   \n",
       "1                4.0     2007JAN      22005169   \n",
       "2                4.0     2007FEB      22333002   \n",
       "3                5.0     2007MAR      28184320   \n",
       "4                4.0     2007APR      22752297   \n",
       "..               ...         ...           ...   \n",
       "178              4.0     2021OCT      27195128   \n",
       "179              4.0     2021NOV      27873975   \n",
       "180              5.0     2021DEC      33464670   \n",
       "181              4.0     2022JAN      27566539   \n",
       "182              4.0     2022FEB      27888938   \n",
       "\n",
       "    All retailing except automotive fuel Predominantly food stores  \\\n",
       "0                                 AGG21X                      AGG1   \n",
       "1                               19714130                   8910382   \n",
       "2                               20039583                   9001003   \n",
       "3                               25214663                  11301125   \n",
       "4                               20235206                   9059538   \n",
       "..                                   ...                       ...   \n",
       "178                             23629953                  12309396   \n",
       "179                             23950532                  12431747   \n",
       "180                             28840473                  15353408   \n",
       "181                             23774708                  12220759   \n",
       "182                             23920093                  12417653   \n",
       "\n",
       "     Non-specialised stores (i.e supermarkets)  \\\n",
       "0                                        47.11   \n",
       "1                                   8059986.00   \n",
       "2                                   8142505.00   \n",
       "3                                  10205396.00   \n",
       "4                                   8194269.00   \n",
       "..                                         ...   \n",
       "178                                11340843.00   \n",
       "179                                11388911.00   \n",
       "180                                14011048.00   \n",
       "181                                11155367.00   \n",
       "182                                11392382.00   \n",
       "\n",
       "    Specialist food stores (i.e butchers and bakers)  \\\n",
       "0                                              AGG26   \n",
       "1                                             503460   \n",
       "2                                             518324   \n",
       "3                                             657196   \n",
       "4                                             511437   \n",
       "..                                               ...   \n",
       "178                                           728897   \n",
       "179                                           753234   \n",
       "180                                           926377   \n",
       "181                                           783349   \n",
       "182                                           771200   \n",
       "\n",
       "    Alcoholic drink, beverages & tobacco Predominantly non-food stores  \\\n",
       "0                                  AGG27                         AGG12   \n",
       "1                                 346936                      10092869   \n",
       "2                                 340174                      10320844   \n",
       "3                                 438533                      13059933   \n",
       "4                                 353832                      10490886   \n",
       "..                                   ...                           ...   \n",
       "178                               239656                      11120230   \n",
       "179                               289602                      11272240   \n",
       "180                               415983                      12823506   \n",
       "181                               282043                      11020187   \n",
       "182                               254071                      11181761   \n",
       "\n",
       "     Non-specialised stores (i.e department stores)  ...    Clothing  \\\n",
       "0                                             47.19  ...       47.71   \n",
       "1                                        1765610.00  ...  2377331.00   \n",
       "2                                        1764298.00  ...  2490931.00   \n",
       "3                                        2239668.00  ...  3135620.00   \n",
       "4                                        1791301.00  ...  2595627.00   \n",
       "..                                              ...  ...         ...   \n",
       "178                                      1965015.00  ...  2451539.00   \n",
       "179                                      1923049.00  ...  2572936.00   \n",
       "180                                      2308073.00  ...  2938003.00   \n",
       "181                                      1959429.00  ...  2237628.00   \n",
       "182                                      2072145.00  ...  2583119.00   \n",
       "\n",
       "     Footwear and leather goods  Household goods stores  \\\n",
       "0                         47.72                    AGG7   \n",
       "1                     271220.00                 2573727   \n",
       "2                     285398.00                 2626700   \n",
       "3                     363895.00                 3319665   \n",
       "4                     322562.00                 2564643   \n",
       "..                          ...                     ...   \n",
       "178                   299315.00                 2198453   \n",
       "179                   305941.00                 2229782   \n",
       "180                   368655.00                 2681707   \n",
       "181                   262001.00                 2375414   \n",
       "182                   309918.00                 2348662   \n",
       "\n",
       "     Furniture, lighting and household articles n.e.c  \\\n",
       "0                                               47.59   \n",
       "1                                           821046.00   \n",
       "2                                           861326.00   \n",
       "3                                          1121943.00   \n",
       "4                                           843364.00   \n",
       "..                                                ...   \n",
       "178                                         911445.00   \n",
       "179                                         943554.00   \n",
       "180                                        1066403.00   \n",
       "181                                        1032326.00   \n",
       "182                                         990143.00   \n",
       "\n",
       "    Electrical household aplliances  Hardware, paints and glass  \\\n",
       "0                             47.54                       47.52   \n",
       "1                         698949.00                   868934.00   \n",
       "2                         719189.00                   858938.00   \n",
       "3                         905324.00                  1056602.00   \n",
       "4                         661362.00                   881006.00   \n",
       "..                              ...                         ...   \n",
       "178                       355698.00                   878095.00   \n",
       "179                       333795.00                   904609.00   \n",
       "180                       394007.00                  1122323.00   \n",
       "181                       368729.00                   924575.00   \n",
       "182                       381497.00                   930668.00   \n",
       "\n",
       "    Music and video recordings & equiptment Non-store retailing  Mail order  \\\n",
       "0                                     AGG31               AGG14       47.91   \n",
       "1                                    184798              710879   536745.00   \n",
       "2                                    187247              717736   547799.00   \n",
       "3                                    235796              853605   658566.00   \n",
       "4                                    178911              684782   535609.00   \n",
       "..                                      ...                 ...         ...   \n",
       "178                                   53215              200327     7451.00   \n",
       "179                                   47824              246545    56665.00   \n",
       "180                                   98974              663559   452047.00   \n",
       "181                                   49784              533762   364031.00   \n",
       "182                                   46354              320679   202943.00   \n",
       "\n",
       "          Fuel  \n",
       "0         47.3  \n",
       "1    2291039.0  \n",
       "2    2293419.0  \n",
       "3    2969657.0  \n",
       "4    2517091.0  \n",
       "..         ...  \n",
       "178  3565175.0  \n",
       "179  3923443.0  \n",
       "180  4624197.0  \n",
       "181  3791831.0  \n",
       "182  3968845.0  \n",
       "\n",
       "[183 rows x 34 columns]"
      ]
     },
     "execution_count": 4,
     "metadata": {},
     "output_type": "execute_result"
    }
   ],
   "source": [
    "# data cleaning process \n",
    "df1.dropna(how=\"all\").drop_duplicates() # to drop duplicate values and null values \n"
   ]
  },
  {
   "cell_type": "code",
   "execution_count": 5,
   "metadata": {},
   "outputs": [],
   "source": [
    "df1_copy = df1.dropna(how=\"all\").drop_duplicates().copy() # cretating a copy of the cleaned df\n",
    "\n",
    "# df1_copy"
   ]
  },
  {
   "cell_type": "code",
   "execution_count": 6,
   "metadata": {},
   "outputs": [
    {
     "data": {
      "text/html": [
       "<div>\n",
       "<style scoped>\n",
       "    .dataframe tbody tr th:only-of-type {\n",
       "        vertical-align: middle;\n",
       "    }\n",
       "\n",
       "    .dataframe tbody tr th {\n",
       "        vertical-align: top;\n",
       "    }\n",
       "\n",
       "    .dataframe thead th {\n",
       "        text-align: right;\n",
       "    }\n",
       "</style>\n",
       "<table border=\"1\" class=\"dataframe\">\n",
       "  <thead>\n",
       "    <tr style=\"text-align: right;\">\n",
       "      <th></th>\n",
       "      <th>Number of weeks</th>\n",
       "      <th>Description</th>\n",
       "      <th>All retailing</th>\n",
       "      <th>All retailing except automotive fuel</th>\n",
       "      <th>Predominantly food stores</th>\n",
       "      <th>Non-specialised stores (i.e supermarkets)</th>\n",
       "      <th>Specialist food stores (i.e butchers and bakers)</th>\n",
       "      <th>Alcoholic drink, beverages &amp; tobacco</th>\n",
       "      <th>Predominantly non-food stores</th>\n",
       "      <th>Non-specialised stores (i.e department stores)</th>\n",
       "      <th>...</th>\n",
       "      <th>Clothing</th>\n",
       "      <th>Footwear and leather goods</th>\n",
       "      <th>Household goods stores</th>\n",
       "      <th>Furniture, lighting and household articles n.e.c</th>\n",
       "      <th>Electrical household aplliances</th>\n",
       "      <th>Hardware, paints and glass</th>\n",
       "      <th>Music and video recordings &amp; equiptment</th>\n",
       "      <th>Non-store retailing</th>\n",
       "      <th>Mail order</th>\n",
       "      <th>Fuel</th>\n",
       "    </tr>\n",
       "  </thead>\n",
       "  <tbody>\n",
       "    <tr>\n",
       "      <th>37</th>\n",
       "      <td>4.0</td>\n",
       "      <td>2010JAN</td>\n",
       "      <td>22639923</td>\n",
       "      <td>20219574</td>\n",
       "      <td>10088465</td>\n",
       "      <td>9291058.0</td>\n",
       "      <td>514817</td>\n",
       "      <td>282590</td>\n",
       "      <td>9610119</td>\n",
       "      <td>1806828.0</td>\n",
       "      <td>...</td>\n",
       "      <td>2509959.0</td>\n",
       "      <td>297738.0</td>\n",
       "      <td>2043819</td>\n",
       "      <td>671490.0</td>\n",
       "      <td>464566.0</td>\n",
       "      <td>776836.0</td>\n",
       "      <td>130927</td>\n",
       "      <td>520990</td>\n",
       "      <td>340304.0</td>\n",
       "      <td>2420349.0</td>\n",
       "    </tr>\n",
       "    <tr>\n",
       "      <th>38</th>\n",
       "      <td>4.0</td>\n",
       "      <td>2010FEB</td>\n",
       "      <td>23260198</td>\n",
       "      <td>20733151</td>\n",
       "      <td>9975771</td>\n",
       "      <td>9191079.0</td>\n",
       "      <td>536620</td>\n",
       "      <td>248072</td>\n",
       "      <td>10215607</td>\n",
       "      <td>1854588.0</td>\n",
       "      <td>...</td>\n",
       "      <td>2594503.0</td>\n",
       "      <td>313600.0</td>\n",
       "      <td>2297030</td>\n",
       "      <td>773125.0</td>\n",
       "      <td>551599.0</td>\n",
       "      <td>823876.0</td>\n",
       "      <td>148430</td>\n",
       "      <td>541773</td>\n",
       "      <td>373393.0</td>\n",
       "      <td>2527047.0</td>\n",
       "    </tr>\n",
       "    <tr>\n",
       "      <th>39</th>\n",
       "      <td>5.0</td>\n",
       "      <td>2010MAR</td>\n",
       "      <td>29149509</td>\n",
       "      <td>25930662</td>\n",
       "      <td>12482521</td>\n",
       "      <td>11489974.0</td>\n",
       "      <td>691855</td>\n",
       "      <td>300692</td>\n",
       "      <td>12759418</td>\n",
       "      <td>2314100.0</td>\n",
       "      <td>...</td>\n",
       "      <td>3220874.0</td>\n",
       "      <td>400288.0</td>\n",
       "      <td>2936596</td>\n",
       "      <td>940362.0</td>\n",
       "      <td>744684.0</td>\n",
       "      <td>1070086.0</td>\n",
       "      <td>181464</td>\n",
       "      <td>688723</td>\n",
       "      <td>456122.0</td>\n",
       "      <td>3218847.0</td>\n",
       "    </tr>\n",
       "    <tr>\n",
       "      <th>40</th>\n",
       "      <td>4.0</td>\n",
       "      <td>2010APR</td>\n",
       "      <td>23514698</td>\n",
       "      <td>20873051</td>\n",
       "      <td>10141751</td>\n",
       "      <td>9353827.0</td>\n",
       "      <td>561992</td>\n",
       "      <td>225932</td>\n",
       "      <td>10153132</td>\n",
       "      <td>1853718.0</td>\n",
       "      <td>...</td>\n",
       "      <td>2618734.0</td>\n",
       "      <td>308210.0</td>\n",
       "      <td>2300467</td>\n",
       "      <td>741934.0</td>\n",
       "      <td>553020.0</td>\n",
       "      <td>856459.0</td>\n",
       "      <td>149054</td>\n",
       "      <td>578168</td>\n",
       "      <td>387027.0</td>\n",
       "      <td>2641647.0</td>\n",
       "    </tr>\n",
       "    <tr>\n",
       "      <th>41</th>\n",
       "      <td>4.0</td>\n",
       "      <td>2010MAY</td>\n",
       "      <td>23515812</td>\n",
       "      <td>20883857</td>\n",
       "      <td>10194600</td>\n",
       "      <td>9410647.0</td>\n",
       "      <td>556482</td>\n",
       "      <td>227471</td>\n",
       "      <td>10154349</td>\n",
       "      <td>1869121.0</td>\n",
       "      <td>...</td>\n",
       "      <td>2567599.0</td>\n",
       "      <td>310575.0</td>\n",
       "      <td>2327836</td>\n",
       "      <td>748583.0</td>\n",
       "      <td>601898.0</td>\n",
       "      <td>831398.0</td>\n",
       "      <td>145957</td>\n",
       "      <td>534908</td>\n",
       "      <td>348998.0</td>\n",
       "      <td>2631955.0</td>\n",
       "    </tr>\n",
       "    <tr>\n",
       "      <th>...</th>\n",
       "      <td>...</td>\n",
       "      <td>...</td>\n",
       "      <td>...</td>\n",
       "      <td>...</td>\n",
       "      <td>...</td>\n",
       "      <td>...</td>\n",
       "      <td>...</td>\n",
       "      <td>...</td>\n",
       "      <td>...</td>\n",
       "      <td>...</td>\n",
       "      <td>...</td>\n",
       "      <td>...</td>\n",
       "      <td>...</td>\n",
       "      <td>...</td>\n",
       "      <td>...</td>\n",
       "      <td>...</td>\n",
       "      <td>...</td>\n",
       "      <td>...</td>\n",
       "      <td>...</td>\n",
       "      <td>...</td>\n",
       "      <td>...</td>\n",
       "    </tr>\n",
       "    <tr>\n",
       "      <th>178</th>\n",
       "      <td>4.0</td>\n",
       "      <td>2021OCT</td>\n",
       "      <td>27195128</td>\n",
       "      <td>23629953</td>\n",
       "      <td>12309396</td>\n",
       "      <td>11340843.0</td>\n",
       "      <td>728897</td>\n",
       "      <td>239656</td>\n",
       "      <td>11120230</td>\n",
       "      <td>1965015.0</td>\n",
       "      <td>...</td>\n",
       "      <td>2451539.0</td>\n",
       "      <td>299315.0</td>\n",
       "      <td>2198453</td>\n",
       "      <td>911445.0</td>\n",
       "      <td>355698.0</td>\n",
       "      <td>878095.0</td>\n",
       "      <td>53215</td>\n",
       "      <td>200327</td>\n",
       "      <td>7451.0</td>\n",
       "      <td>3565175.0</td>\n",
       "    </tr>\n",
       "    <tr>\n",
       "      <th>179</th>\n",
       "      <td>4.0</td>\n",
       "      <td>2021NOV</td>\n",
       "      <td>27873975</td>\n",
       "      <td>23950532</td>\n",
       "      <td>12431747</td>\n",
       "      <td>11388911.0</td>\n",
       "      <td>753234</td>\n",
       "      <td>289602</td>\n",
       "      <td>11272240</td>\n",
       "      <td>1923049.0</td>\n",
       "      <td>...</td>\n",
       "      <td>2572936.0</td>\n",
       "      <td>305941.0</td>\n",
       "      <td>2229782</td>\n",
       "      <td>943554.0</td>\n",
       "      <td>333795.0</td>\n",
       "      <td>904609.0</td>\n",
       "      <td>47824</td>\n",
       "      <td>246545</td>\n",
       "      <td>56665.0</td>\n",
       "      <td>3923443.0</td>\n",
       "    </tr>\n",
       "    <tr>\n",
       "      <th>180</th>\n",
       "      <td>5.0</td>\n",
       "      <td>2021DEC</td>\n",
       "      <td>33464670</td>\n",
       "      <td>28840473</td>\n",
       "      <td>15353408</td>\n",
       "      <td>14011048.0</td>\n",
       "      <td>926377</td>\n",
       "      <td>415983</td>\n",
       "      <td>12823506</td>\n",
       "      <td>2308073.0</td>\n",
       "      <td>...</td>\n",
       "      <td>2938003.0</td>\n",
       "      <td>368655.0</td>\n",
       "      <td>2681707</td>\n",
       "      <td>1066403.0</td>\n",
       "      <td>394007.0</td>\n",
       "      <td>1122323.0</td>\n",
       "      <td>98974</td>\n",
       "      <td>663559</td>\n",
       "      <td>452047.0</td>\n",
       "      <td>4624197.0</td>\n",
       "    </tr>\n",
       "    <tr>\n",
       "      <th>181</th>\n",
       "      <td>4.0</td>\n",
       "      <td>2022JAN</td>\n",
       "      <td>27566539</td>\n",
       "      <td>23774708</td>\n",
       "      <td>12220759</td>\n",
       "      <td>11155367.0</td>\n",
       "      <td>783349</td>\n",
       "      <td>282043</td>\n",
       "      <td>11020187</td>\n",
       "      <td>1959429.0</td>\n",
       "      <td>...</td>\n",
       "      <td>2237628.0</td>\n",
       "      <td>262001.0</td>\n",
       "      <td>2375414</td>\n",
       "      <td>1032326.0</td>\n",
       "      <td>368729.0</td>\n",
       "      <td>924575.0</td>\n",
       "      <td>49784</td>\n",
       "      <td>533762</td>\n",
       "      <td>364031.0</td>\n",
       "      <td>3791831.0</td>\n",
       "    </tr>\n",
       "    <tr>\n",
       "      <th>182</th>\n",
       "      <td>4.0</td>\n",
       "      <td>2022FEB</td>\n",
       "      <td>27888938</td>\n",
       "      <td>23920093</td>\n",
       "      <td>12417653</td>\n",
       "      <td>11392382.0</td>\n",
       "      <td>771200</td>\n",
       "      <td>254071</td>\n",
       "      <td>11181761</td>\n",
       "      <td>2072145.0</td>\n",
       "      <td>...</td>\n",
       "      <td>2583119.0</td>\n",
       "      <td>309918.0</td>\n",
       "      <td>2348662</td>\n",
       "      <td>990143.0</td>\n",
       "      <td>381497.0</td>\n",
       "      <td>930668.0</td>\n",
       "      <td>46354</td>\n",
       "      <td>320679</td>\n",
       "      <td>202943.0</td>\n",
       "      <td>3968845.0</td>\n",
       "    </tr>\n",
       "  </tbody>\n",
       "</table>\n",
       "<p>146 rows × 34 columns</p>\n",
       "</div>"
      ],
      "text/plain": [
       "     Number of weeks Description All retailing  \\\n",
       "37               4.0     2010JAN      22639923   \n",
       "38               4.0     2010FEB      23260198   \n",
       "39               5.0     2010MAR      29149509   \n",
       "40               4.0     2010APR      23514698   \n",
       "41               4.0     2010MAY      23515812   \n",
       "..               ...         ...           ...   \n",
       "178              4.0     2021OCT      27195128   \n",
       "179              4.0     2021NOV      27873975   \n",
       "180              5.0     2021DEC      33464670   \n",
       "181              4.0     2022JAN      27566539   \n",
       "182              4.0     2022FEB      27888938   \n",
       "\n",
       "    All retailing except automotive fuel Predominantly food stores  \\\n",
       "37                              20219574                  10088465   \n",
       "38                              20733151                   9975771   \n",
       "39                              25930662                  12482521   \n",
       "40                              20873051                  10141751   \n",
       "41                              20883857                  10194600   \n",
       "..                                   ...                       ...   \n",
       "178                             23629953                  12309396   \n",
       "179                             23950532                  12431747   \n",
       "180                             28840473                  15353408   \n",
       "181                             23774708                  12220759   \n",
       "182                             23920093                  12417653   \n",
       "\n",
       "     Non-specialised stores (i.e supermarkets)  \\\n",
       "37                                   9291058.0   \n",
       "38                                   9191079.0   \n",
       "39                                  11489974.0   \n",
       "40                                   9353827.0   \n",
       "41                                   9410647.0   \n",
       "..                                         ...   \n",
       "178                                 11340843.0   \n",
       "179                                 11388911.0   \n",
       "180                                 14011048.0   \n",
       "181                                 11155367.0   \n",
       "182                                 11392382.0   \n",
       "\n",
       "    Specialist food stores (i.e butchers and bakers)  \\\n",
       "37                                            514817   \n",
       "38                                            536620   \n",
       "39                                            691855   \n",
       "40                                            561992   \n",
       "41                                            556482   \n",
       "..                                               ...   \n",
       "178                                           728897   \n",
       "179                                           753234   \n",
       "180                                           926377   \n",
       "181                                           783349   \n",
       "182                                           771200   \n",
       "\n",
       "    Alcoholic drink, beverages & tobacco Predominantly non-food stores  \\\n",
       "37                                282590                       9610119   \n",
       "38                                248072                      10215607   \n",
       "39                                300692                      12759418   \n",
       "40                                225932                      10153132   \n",
       "41                                227471                      10154349   \n",
       "..                                   ...                           ...   \n",
       "178                               239656                      11120230   \n",
       "179                               289602                      11272240   \n",
       "180                               415983                      12823506   \n",
       "181                               282043                      11020187   \n",
       "182                               254071                      11181761   \n",
       "\n",
       "     Non-specialised stores (i.e department stores)  ...   Clothing  \\\n",
       "37                                        1806828.0  ...  2509959.0   \n",
       "38                                        1854588.0  ...  2594503.0   \n",
       "39                                        2314100.0  ...  3220874.0   \n",
       "40                                        1853718.0  ...  2618734.0   \n",
       "41                                        1869121.0  ...  2567599.0   \n",
       "..                                              ...  ...        ...   \n",
       "178                                       1965015.0  ...  2451539.0   \n",
       "179                                       1923049.0  ...  2572936.0   \n",
       "180                                       2308073.0  ...  2938003.0   \n",
       "181                                       1959429.0  ...  2237628.0   \n",
       "182                                       2072145.0  ...  2583119.0   \n",
       "\n",
       "     Footwear and leather goods  Household goods stores  \\\n",
       "37                     297738.0                 2043819   \n",
       "38                     313600.0                 2297030   \n",
       "39                     400288.0                 2936596   \n",
       "40                     308210.0                 2300467   \n",
       "41                     310575.0                 2327836   \n",
       "..                          ...                     ...   \n",
       "178                    299315.0                 2198453   \n",
       "179                    305941.0                 2229782   \n",
       "180                    368655.0                 2681707   \n",
       "181                    262001.0                 2375414   \n",
       "182                    309918.0                 2348662   \n",
       "\n",
       "     Furniture, lighting and household articles n.e.c  \\\n",
       "37                                           671490.0   \n",
       "38                                           773125.0   \n",
       "39                                           940362.0   \n",
       "40                                           741934.0   \n",
       "41                                           748583.0   \n",
       "..                                                ...   \n",
       "178                                          911445.0   \n",
       "179                                          943554.0   \n",
       "180                                         1066403.0   \n",
       "181                                         1032326.0   \n",
       "182                                          990143.0   \n",
       "\n",
       "    Electrical household aplliances  Hardware, paints and glass  \\\n",
       "37                         464566.0                    776836.0   \n",
       "38                         551599.0                    823876.0   \n",
       "39                         744684.0                   1070086.0   \n",
       "40                         553020.0                    856459.0   \n",
       "41                         601898.0                    831398.0   \n",
       "..                              ...                         ...   \n",
       "178                        355698.0                    878095.0   \n",
       "179                        333795.0                    904609.0   \n",
       "180                        394007.0                   1122323.0   \n",
       "181                        368729.0                    924575.0   \n",
       "182                        381497.0                    930668.0   \n",
       "\n",
       "    Music and video recordings & equiptment Non-store retailing  Mail order  \\\n",
       "37                                   130927              520990    340304.0   \n",
       "38                                   148430              541773    373393.0   \n",
       "39                                   181464              688723    456122.0   \n",
       "40                                   149054              578168    387027.0   \n",
       "41                                   145957              534908    348998.0   \n",
       "..                                      ...                 ...         ...   \n",
       "178                                   53215              200327      7451.0   \n",
       "179                                   47824              246545     56665.0   \n",
       "180                                   98974              663559    452047.0   \n",
       "181                                   49784              533762    364031.0   \n",
       "182                                   46354              320679    202943.0   \n",
       "\n",
       "          Fuel  \n",
       "37   2420349.0  \n",
       "38   2527047.0  \n",
       "39   3218847.0  \n",
       "40   2641647.0  \n",
       "41   2631955.0  \n",
       "..         ...  \n",
       "178  3565175.0  \n",
       "179  3923443.0  \n",
       "180  4624197.0  \n",
       "181  3791831.0  \n",
       "182  3968845.0  \n",
       "\n",
       "[146 rows x 34 columns]"
      ]
     },
     "execution_count": 6,
     "metadata": {},
     "output_type": "execute_result"
    }
   ],
   "source": [
    "# selecting required timeline for further analysis and exploration\n",
    "df1_subset = df1_copy.drop(df1_copy.index[0:37]).copy() # .set_index('Description') \n",
    "\n",
    "df1_subset # covers a decade before COVID, COVID, and post COVID\n"
   ]
  },
  {
   "cell_type": "code",
   "execution_count": 7,
   "metadata": {},
   "outputs": [
    {
     "data": {
      "text/html": [
       "<div>\n",
       "<style scoped>\n",
       "    .dataframe tbody tr th:only-of-type {\n",
       "        vertical-align: middle;\n",
       "    }\n",
       "\n",
       "    .dataframe tbody tr th {\n",
       "        vertical-align: top;\n",
       "    }\n",
       "\n",
       "    .dataframe thead th {\n",
       "        text-align: right;\n",
       "    }\n",
       "</style>\n",
       "<table border=\"1\" class=\"dataframe\">\n",
       "  <thead>\n",
       "    <tr style=\"text-align: right;\">\n",
       "      <th></th>\n",
       "      <th>Number of weeks</th>\n",
       "      <th>Description</th>\n",
       "      <th>All retailing</th>\n",
       "      <th>All retailing except automotive fuel</th>\n",
       "      <th>Predominantly food stores</th>\n",
       "      <th>Non-specialised stores (i.e supermarkets)</th>\n",
       "      <th>Specialist food stores (i.e butchers and bakers)</th>\n",
       "      <th>Alcoholic drink, beverages &amp; tobacco</th>\n",
       "      <th>Predominantly non-food stores</th>\n",
       "      <th>Non-specialised stores (i.e department stores)</th>\n",
       "      <th>...</th>\n",
       "      <th>Clothing</th>\n",
       "      <th>Footwear and leather goods</th>\n",
       "      <th>Household goods stores</th>\n",
       "      <th>Furniture, lighting and household articles n.e.c</th>\n",
       "      <th>Electrical household aplliances</th>\n",
       "      <th>Hardware, paints and glass</th>\n",
       "      <th>Music and video recordings &amp; equiptment</th>\n",
       "      <th>Non-store retailing</th>\n",
       "      <th>Mail order</th>\n",
       "      <th>Fuel</th>\n",
       "    </tr>\n",
       "  </thead>\n",
       "  <tbody>\n",
       "    <tr>\n",
       "      <th>37</th>\n",
       "      <td>4.0</td>\n",
       "      <td>2010JAN</td>\n",
       "      <td>22639923</td>\n",
       "      <td>20219574</td>\n",
       "      <td>10088465</td>\n",
       "      <td>9291058.0</td>\n",
       "      <td>514817</td>\n",
       "      <td>282590</td>\n",
       "      <td>9610119</td>\n",
       "      <td>1806828.0</td>\n",
       "      <td>...</td>\n",
       "      <td>2509959.0</td>\n",
       "      <td>297738.0</td>\n",
       "      <td>2043819</td>\n",
       "      <td>671490.0</td>\n",
       "      <td>464566.0</td>\n",
       "      <td>776836.0</td>\n",
       "      <td>130927</td>\n",
       "      <td>520990</td>\n",
       "      <td>340304.0</td>\n",
       "      <td>2420349.0</td>\n",
       "    </tr>\n",
       "    <tr>\n",
       "      <th>38</th>\n",
       "      <td>4.0</td>\n",
       "      <td>2010FEB</td>\n",
       "      <td>23260198</td>\n",
       "      <td>20733151</td>\n",
       "      <td>9975771</td>\n",
       "      <td>9191079.0</td>\n",
       "      <td>536620</td>\n",
       "      <td>248072</td>\n",
       "      <td>10215607</td>\n",
       "      <td>1854588.0</td>\n",
       "      <td>...</td>\n",
       "      <td>2594503.0</td>\n",
       "      <td>313600.0</td>\n",
       "      <td>2297030</td>\n",
       "      <td>773125.0</td>\n",
       "      <td>551599.0</td>\n",
       "      <td>823876.0</td>\n",
       "      <td>148430</td>\n",
       "      <td>541773</td>\n",
       "      <td>373393.0</td>\n",
       "      <td>2527047.0</td>\n",
       "    </tr>\n",
       "    <tr>\n",
       "      <th>39</th>\n",
       "      <td>5.0</td>\n",
       "      <td>2010MAR</td>\n",
       "      <td>29149509</td>\n",
       "      <td>25930662</td>\n",
       "      <td>12482521</td>\n",
       "      <td>11489974.0</td>\n",
       "      <td>691855</td>\n",
       "      <td>300692</td>\n",
       "      <td>12759418</td>\n",
       "      <td>2314100.0</td>\n",
       "      <td>...</td>\n",
       "      <td>3220874.0</td>\n",
       "      <td>400288.0</td>\n",
       "      <td>2936596</td>\n",
       "      <td>940362.0</td>\n",
       "      <td>744684.0</td>\n",
       "      <td>1070086.0</td>\n",
       "      <td>181464</td>\n",
       "      <td>688723</td>\n",
       "      <td>456122.0</td>\n",
       "      <td>3218847.0</td>\n",
       "    </tr>\n",
       "    <tr>\n",
       "      <th>40</th>\n",
       "      <td>4.0</td>\n",
       "      <td>2010APR</td>\n",
       "      <td>23514698</td>\n",
       "      <td>20873051</td>\n",
       "      <td>10141751</td>\n",
       "      <td>9353827.0</td>\n",
       "      <td>561992</td>\n",
       "      <td>225932</td>\n",
       "      <td>10153132</td>\n",
       "      <td>1853718.0</td>\n",
       "      <td>...</td>\n",
       "      <td>2618734.0</td>\n",
       "      <td>308210.0</td>\n",
       "      <td>2300467</td>\n",
       "      <td>741934.0</td>\n",
       "      <td>553020.0</td>\n",
       "      <td>856459.0</td>\n",
       "      <td>149054</td>\n",
       "      <td>578168</td>\n",
       "      <td>387027.0</td>\n",
       "      <td>2641647.0</td>\n",
       "    </tr>\n",
       "    <tr>\n",
       "      <th>41</th>\n",
       "      <td>4.0</td>\n",
       "      <td>2010MAY</td>\n",
       "      <td>23515812</td>\n",
       "      <td>20883857</td>\n",
       "      <td>10194600</td>\n",
       "      <td>9410647.0</td>\n",
       "      <td>556482</td>\n",
       "      <td>227471</td>\n",
       "      <td>10154349</td>\n",
       "      <td>1869121.0</td>\n",
       "      <td>...</td>\n",
       "      <td>2567599.0</td>\n",
       "      <td>310575.0</td>\n",
       "      <td>2327836</td>\n",
       "      <td>748583.0</td>\n",
       "      <td>601898.0</td>\n",
       "      <td>831398.0</td>\n",
       "      <td>145957</td>\n",
       "      <td>534908</td>\n",
       "      <td>348998.0</td>\n",
       "      <td>2631955.0</td>\n",
       "    </tr>\n",
       "    <tr>\n",
       "      <th>...</th>\n",
       "      <td>...</td>\n",
       "      <td>...</td>\n",
       "      <td>...</td>\n",
       "      <td>...</td>\n",
       "      <td>...</td>\n",
       "      <td>...</td>\n",
       "      <td>...</td>\n",
       "      <td>...</td>\n",
       "      <td>...</td>\n",
       "      <td>...</td>\n",
       "      <td>...</td>\n",
       "      <td>...</td>\n",
       "      <td>...</td>\n",
       "      <td>...</td>\n",
       "      <td>...</td>\n",
       "      <td>...</td>\n",
       "      <td>...</td>\n",
       "      <td>...</td>\n",
       "      <td>...</td>\n",
       "      <td>...</td>\n",
       "      <td>...</td>\n",
       "    </tr>\n",
       "    <tr>\n",
       "      <th>152</th>\n",
       "      <td>4.0</td>\n",
       "      <td>2019AUG</td>\n",
       "      <td>28029768</td>\n",
       "      <td>24495986</td>\n",
       "      <td>12228720</td>\n",
       "      <td>11286155.0</td>\n",
       "      <td>698542</td>\n",
       "      <td>244023</td>\n",
       "      <td>11477800</td>\n",
       "      <td>2209819.0</td>\n",
       "      <td>...</td>\n",
       "      <td>2756116.0</td>\n",
       "      <td>333370.0</td>\n",
       "      <td>2215247</td>\n",
       "      <td>995807.0</td>\n",
       "      <td>387350.0</td>\n",
       "      <td>781334.0</td>\n",
       "      <td>50756</td>\n",
       "      <td>789466</td>\n",
       "      <td>638660.0</td>\n",
       "      <td>3533782.0</td>\n",
       "    </tr>\n",
       "    <tr>\n",
       "      <th>153</th>\n",
       "      <td>5.0</td>\n",
       "      <td>2019SEP</td>\n",
       "      <td>35096388</td>\n",
       "      <td>30766340</td>\n",
       "      <td>15366330</td>\n",
       "      <td>14171890.0</td>\n",
       "      <td>874392</td>\n",
       "      <td>320048</td>\n",
       "      <td>14330934</td>\n",
       "      <td>2749315.0</td>\n",
       "      <td>...</td>\n",
       "      <td>3411807.0</td>\n",
       "      <td>412844.0</td>\n",
       "      <td>2821926</td>\n",
       "      <td>1227126.0</td>\n",
       "      <td>552902.0</td>\n",
       "      <td>960824.0</td>\n",
       "      <td>81074</td>\n",
       "      <td>1069076</td>\n",
       "      <td>850640.0</td>\n",
       "      <td>4330048.0</td>\n",
       "    </tr>\n",
       "    <tr>\n",
       "      <th>154</th>\n",
       "      <td>4.0</td>\n",
       "      <td>2019OCT</td>\n",
       "      <td>28036550</td>\n",
       "      <td>24510820</td>\n",
       "      <td>12336239</td>\n",
       "      <td>11350543.0</td>\n",
       "      <td>705963</td>\n",
       "      <td>279733</td>\n",
       "      <td>11365808</td>\n",
       "      <td>2222294.0</td>\n",
       "      <td>...</td>\n",
       "      <td>2749051.0</td>\n",
       "      <td>327769.0</td>\n",
       "      <td>2164394</td>\n",
       "      <td>1014524.0</td>\n",
       "      <td>363662.0</td>\n",
       "      <td>728823.0</td>\n",
       "      <td>57385</td>\n",
       "      <td>808773</td>\n",
       "      <td>638098.0</td>\n",
       "      <td>3525730.0</td>\n",
       "    </tr>\n",
       "    <tr>\n",
       "      <th>155</th>\n",
       "      <td>4.0</td>\n",
       "      <td>2019NOV</td>\n",
       "      <td>27966424</td>\n",
       "      <td>24508852</td>\n",
       "      <td>12239965</td>\n",
       "      <td>11259372.0</td>\n",
       "      <td>709153</td>\n",
       "      <td>271440</td>\n",
       "      <td>11473486</td>\n",
       "      <td>2292743.0</td>\n",
       "      <td>...</td>\n",
       "      <td>2705036.0</td>\n",
       "      <td>355785.0</td>\n",
       "      <td>2238217</td>\n",
       "      <td>963174.0</td>\n",
       "      <td>418274.0</td>\n",
       "      <td>799145.0</td>\n",
       "      <td>57624</td>\n",
       "      <td>795401</td>\n",
       "      <td>624417.0</td>\n",
       "      <td>3457572.0</td>\n",
       "    </tr>\n",
       "    <tr>\n",
       "      <th>156</th>\n",
       "      <td>5.0</td>\n",
       "      <td>2019DEC</td>\n",
       "      <td>35006432</td>\n",
       "      <td>30499304</td>\n",
       "      <td>15330429</td>\n",
       "      <td>13978107.0</td>\n",
       "      <td>951727</td>\n",
       "      <td>400595</td>\n",
       "      <td>14182776</td>\n",
       "      <td>2765884.0</td>\n",
       "      <td>...</td>\n",
       "      <td>3413022.0</td>\n",
       "      <td>426062.0</td>\n",
       "      <td>2790626</td>\n",
       "      <td>1222028.0</td>\n",
       "      <td>513536.0</td>\n",
       "      <td>982163.0</td>\n",
       "      <td>72899</td>\n",
       "      <td>986099</td>\n",
       "      <td>785047.0</td>\n",
       "      <td>4507128.0</td>\n",
       "    </tr>\n",
       "  </tbody>\n",
       "</table>\n",
       "<p>120 rows × 34 columns</p>\n",
       "</div>"
      ],
      "text/plain": [
       "     Number of weeks Description All retailing  \\\n",
       "37               4.0     2010JAN      22639923   \n",
       "38               4.0     2010FEB      23260198   \n",
       "39               5.0     2010MAR      29149509   \n",
       "40               4.0     2010APR      23514698   \n",
       "41               4.0     2010MAY      23515812   \n",
       "..               ...         ...           ...   \n",
       "152              4.0     2019AUG      28029768   \n",
       "153              5.0     2019SEP      35096388   \n",
       "154              4.0     2019OCT      28036550   \n",
       "155              4.0     2019NOV      27966424   \n",
       "156              5.0     2019DEC      35006432   \n",
       "\n",
       "    All retailing except automotive fuel Predominantly food stores  \\\n",
       "37                              20219574                  10088465   \n",
       "38                              20733151                   9975771   \n",
       "39                              25930662                  12482521   \n",
       "40                              20873051                  10141751   \n",
       "41                              20883857                  10194600   \n",
       "..                                   ...                       ...   \n",
       "152                             24495986                  12228720   \n",
       "153                             30766340                  15366330   \n",
       "154                             24510820                  12336239   \n",
       "155                             24508852                  12239965   \n",
       "156                             30499304                  15330429   \n",
       "\n",
       "     Non-specialised stores (i.e supermarkets)  \\\n",
       "37                                   9291058.0   \n",
       "38                                   9191079.0   \n",
       "39                                  11489974.0   \n",
       "40                                   9353827.0   \n",
       "41                                   9410647.0   \n",
       "..                                         ...   \n",
       "152                                 11286155.0   \n",
       "153                                 14171890.0   \n",
       "154                                 11350543.0   \n",
       "155                                 11259372.0   \n",
       "156                                 13978107.0   \n",
       "\n",
       "    Specialist food stores (i.e butchers and bakers)  \\\n",
       "37                                            514817   \n",
       "38                                            536620   \n",
       "39                                            691855   \n",
       "40                                            561992   \n",
       "41                                            556482   \n",
       "..                                               ...   \n",
       "152                                           698542   \n",
       "153                                           874392   \n",
       "154                                           705963   \n",
       "155                                           709153   \n",
       "156                                           951727   \n",
       "\n",
       "    Alcoholic drink, beverages & tobacco Predominantly non-food stores  \\\n",
       "37                                282590                       9610119   \n",
       "38                                248072                      10215607   \n",
       "39                                300692                      12759418   \n",
       "40                                225932                      10153132   \n",
       "41                                227471                      10154349   \n",
       "..                                   ...                           ...   \n",
       "152                               244023                      11477800   \n",
       "153                               320048                      14330934   \n",
       "154                               279733                      11365808   \n",
       "155                               271440                      11473486   \n",
       "156                               400595                      14182776   \n",
       "\n",
       "     Non-specialised stores (i.e department stores)  ...   Clothing  \\\n",
       "37                                        1806828.0  ...  2509959.0   \n",
       "38                                        1854588.0  ...  2594503.0   \n",
       "39                                        2314100.0  ...  3220874.0   \n",
       "40                                        1853718.0  ...  2618734.0   \n",
       "41                                        1869121.0  ...  2567599.0   \n",
       "..                                              ...  ...        ...   \n",
       "152                                       2209819.0  ...  2756116.0   \n",
       "153                                       2749315.0  ...  3411807.0   \n",
       "154                                       2222294.0  ...  2749051.0   \n",
       "155                                       2292743.0  ...  2705036.0   \n",
       "156                                       2765884.0  ...  3413022.0   \n",
       "\n",
       "     Footwear and leather goods  Household goods stores  \\\n",
       "37                     297738.0                 2043819   \n",
       "38                     313600.0                 2297030   \n",
       "39                     400288.0                 2936596   \n",
       "40                     308210.0                 2300467   \n",
       "41                     310575.0                 2327836   \n",
       "..                          ...                     ...   \n",
       "152                    333370.0                 2215247   \n",
       "153                    412844.0                 2821926   \n",
       "154                    327769.0                 2164394   \n",
       "155                    355785.0                 2238217   \n",
       "156                    426062.0                 2790626   \n",
       "\n",
       "     Furniture, lighting and household articles n.e.c  \\\n",
       "37                                           671490.0   \n",
       "38                                           773125.0   \n",
       "39                                           940362.0   \n",
       "40                                           741934.0   \n",
       "41                                           748583.0   \n",
       "..                                                ...   \n",
       "152                                          995807.0   \n",
       "153                                         1227126.0   \n",
       "154                                         1014524.0   \n",
       "155                                          963174.0   \n",
       "156                                         1222028.0   \n",
       "\n",
       "    Electrical household aplliances  Hardware, paints and glass  \\\n",
       "37                         464566.0                    776836.0   \n",
       "38                         551599.0                    823876.0   \n",
       "39                         744684.0                   1070086.0   \n",
       "40                         553020.0                    856459.0   \n",
       "41                         601898.0                    831398.0   \n",
       "..                              ...                         ...   \n",
       "152                        387350.0                    781334.0   \n",
       "153                        552902.0                    960824.0   \n",
       "154                        363662.0                    728823.0   \n",
       "155                        418274.0                    799145.0   \n",
       "156                        513536.0                    982163.0   \n",
       "\n",
       "    Music and video recordings & equiptment Non-store retailing  Mail order  \\\n",
       "37                                   130927              520990    340304.0   \n",
       "38                                   148430              541773    373393.0   \n",
       "39                                   181464              688723    456122.0   \n",
       "40                                   149054              578168    387027.0   \n",
       "41                                   145957              534908    348998.0   \n",
       "..                                      ...                 ...         ...   \n",
       "152                                   50756              789466    638660.0   \n",
       "153                                   81074             1069076    850640.0   \n",
       "154                                   57385              808773    638098.0   \n",
       "155                                   57624              795401    624417.0   \n",
       "156                                   72899              986099    785047.0   \n",
       "\n",
       "          Fuel  \n",
       "37   2420349.0  \n",
       "38   2527047.0  \n",
       "39   3218847.0  \n",
       "40   2641647.0  \n",
       "41   2631955.0  \n",
       "..         ...  \n",
       "152  3533782.0  \n",
       "153  4330048.0  \n",
       "154  3525730.0  \n",
       "155  3457572.0  \n",
       "156  4507128.0  \n",
       "\n",
       "[120 rows x 34 columns]"
      ]
     },
     "execution_count": 7,
     "metadata": {},
     "output_type": "execute_result"
    }
   ],
   "source": [
    "# creating a df subset for pre_COVID times \n",
    "df_preCOVID = df1_subset.loc[37:156] \n",
    "df_preCOVID"
   ]
  },
  {
   "cell_type": "code",
   "execution_count": 8,
   "metadata": {},
   "outputs": [
    {
     "data": {
      "text/html": [
       "<div>\n",
       "<style scoped>\n",
       "    .dataframe tbody tr th:only-of-type {\n",
       "        vertical-align: middle;\n",
       "    }\n",
       "\n",
       "    .dataframe tbody tr th {\n",
       "        vertical-align: top;\n",
       "    }\n",
       "\n",
       "    .dataframe thead th {\n",
       "        text-align: right;\n",
       "    }\n",
       "</style>\n",
       "<table border=\"1\" class=\"dataframe\">\n",
       "  <thead>\n",
       "    <tr style=\"text-align: right;\">\n",
       "      <th></th>\n",
       "      <th>Number of weeks</th>\n",
       "      <th>Description</th>\n",
       "      <th>All retailing</th>\n",
       "      <th>All retailing except automotive fuel</th>\n",
       "      <th>Predominantly food stores</th>\n",
       "      <th>Non-specialised stores (i.e supermarkets)</th>\n",
       "      <th>Specialist food stores (i.e butchers and bakers)</th>\n",
       "      <th>Alcoholic drink, beverages &amp; tobacco</th>\n",
       "      <th>Predominantly non-food stores</th>\n",
       "      <th>Non-specialised stores (i.e department stores)</th>\n",
       "      <th>...</th>\n",
       "      <th>Clothing</th>\n",
       "      <th>Footwear and leather goods</th>\n",
       "      <th>Household goods stores</th>\n",
       "      <th>Furniture, lighting and household articles n.e.c</th>\n",
       "      <th>Electrical household aplliances</th>\n",
       "      <th>Hardware, paints and glass</th>\n",
       "      <th>Music and video recordings &amp; equiptment</th>\n",
       "      <th>Non-store retailing</th>\n",
       "      <th>Mail order</th>\n",
       "      <th>Fuel</th>\n",
       "    </tr>\n",
       "  </thead>\n",
       "  <tbody>\n",
       "    <tr>\n",
       "      <th>157</th>\n",
       "      <td>5.0</td>\n",
       "      <td>2020JAN</td>\n",
       "      <td>35117053</td>\n",
       "      <td>30764662</td>\n",
       "      <td>15498383</td>\n",
       "      <td>14399782.0</td>\n",
       "      <td>783386</td>\n",
       "      <td>315215</td>\n",
       "      <td>14414125</td>\n",
       "      <td>2791018.0</td>\n",
       "      <td>...</td>\n",
       "      <td>3506830.0</td>\n",
       "      <td>446419.0</td>\n",
       "      <td>2809268</td>\n",
       "      <td>1208178.0</td>\n",
       "      <td>516623.0</td>\n",
       "      <td>1012781.0</td>\n",
       "      <td>71686</td>\n",
       "      <td>852154</td>\n",
       "      <td>648517.0</td>\n",
       "      <td>4352391.0</td>\n",
       "    </tr>\n",
       "    <tr>\n",
       "      <th>158</th>\n",
       "      <td>4.0</td>\n",
       "      <td>2020FEB</td>\n",
       "      <td>27621978</td>\n",
       "      <td>24194866</td>\n",
       "      <td>12358948</td>\n",
       "      <td>11397685.0</td>\n",
       "      <td>719142</td>\n",
       "      <td>242121</td>\n",
       "      <td>11281705</td>\n",
       "      <td>2208905.0</td>\n",
       "      <td>...</td>\n",
       "      <td>2709336.0</td>\n",
       "      <td>336782.0</td>\n",
       "      <td>2253418</td>\n",
       "      <td>932613.0</td>\n",
       "      <td>413594.0</td>\n",
       "      <td>841692.0</td>\n",
       "      <td>65519</td>\n",
       "      <td>554213</td>\n",
       "      <td>381998.0</td>\n",
       "      <td>3427112.0</td>\n",
       "    </tr>\n",
       "    <tr>\n",
       "      <th>159</th>\n",
       "      <td>5.0</td>\n",
       "      <td>2020MAR</td>\n",
       "      <td>31230355</td>\n",
       "      <td>27880126</td>\n",
       "      <td>16693294</td>\n",
       "      <td>15462200.0</td>\n",
       "      <td>881258</td>\n",
       "      <td>349836</td>\n",
       "      <td>10456031</td>\n",
       "      <td>2554690.0</td>\n",
       "      <td>...</td>\n",
       "      <td>1983570.0</td>\n",
       "      <td>213384.0</td>\n",
       "      <td>2328178</td>\n",
       "      <td>840442.0</td>\n",
       "      <td>424354.0</td>\n",
       "      <td>994116.0</td>\n",
       "      <td>69266</td>\n",
       "      <td>730801</td>\n",
       "      <td>579491.0</td>\n",
       "      <td>3350229.0</td>\n",
       "    </tr>\n",
       "    <tr>\n",
       "      <th>160</th>\n",
       "      <td>4.0</td>\n",
       "      <td>2020APR</td>\n",
       "      <td>17953389</td>\n",
       "      <td>16755616</td>\n",
       "      <td>12367812</td>\n",
       "      <td>11737237.0</td>\n",
       "      <td>408452</td>\n",
       "      <td>222123</td>\n",
       "      <td>3401600</td>\n",
       "      <td>1255136.0</td>\n",
       "      <td>...</td>\n",
       "      <td>529623.0</td>\n",
       "      <td>65803.0</td>\n",
       "      <td>503890</td>\n",
       "      <td>53120.0</td>\n",
       "      <td>61307.0</td>\n",
       "      <td>365785.0</td>\n",
       "      <td>23678</td>\n",
       "      <td>986204</td>\n",
       "      <td>926955.0</td>\n",
       "      <td>1197773.0</td>\n",
       "    </tr>\n",
       "    <tr>\n",
       "      <th>161</th>\n",
       "      <td>4.0</td>\n",
       "      <td>2020MAY</td>\n",
       "      <td>19549615</td>\n",
       "      <td>17847731</td>\n",
       "      <td>12299484</td>\n",
       "      <td>11652367.0</td>\n",
       "      <td>454596</td>\n",
       "      <td>192521</td>\n",
       "      <td>4377368</td>\n",
       "      <td>1524722.0</td>\n",
       "      <td>...</td>\n",
       "      <td>671955.0</td>\n",
       "      <td>39874.0</td>\n",
       "      <td>1005787</td>\n",
       "      <td>163950.0</td>\n",
       "      <td>56666.0</td>\n",
       "      <td>769903.0</td>\n",
       "      <td>15268</td>\n",
       "      <td>1170879</td>\n",
       "      <td>1058179.0</td>\n",
       "      <td>1701884.0</td>\n",
       "    </tr>\n",
       "    <tr>\n",
       "      <th>162</th>\n",
       "      <td>5.0</td>\n",
       "      <td>2020JUN</td>\n",
       "      <td>28563796</td>\n",
       "      <td>25997618</td>\n",
       "      <td>15377599</td>\n",
       "      <td>14528064.0</td>\n",
       "      <td>618220</td>\n",
       "      <td>231315</td>\n",
       "      <td>9150932</td>\n",
       "      <td>1913239.0</td>\n",
       "      <td>...</td>\n",
       "      <td>1651595.0</td>\n",
       "      <td>165801.0</td>\n",
       "      <td>2226766</td>\n",
       "      <td>889952.0</td>\n",
       "      <td>226575.0</td>\n",
       "      <td>1076698.0</td>\n",
       "      <td>33541</td>\n",
       "      <td>1469087</td>\n",
       "      <td>1352995.0</td>\n",
       "      <td>2566178.0</td>\n",
       "    </tr>\n",
       "    <tr>\n",
       "      <th>163</th>\n",
       "      <td>4.0</td>\n",
       "      <td>2020JUL</td>\n",
       "      <td>24912477</td>\n",
       "      <td>22256548</td>\n",
       "      <td>11952508</td>\n",
       "      <td>11132082.0</td>\n",
       "      <td>637537</td>\n",
       "      <td>182889</td>\n",
       "      <td>9227741</td>\n",
       "      <td>1748416.0</td>\n",
       "      <td>...</td>\n",
       "      <td>1810779.0</td>\n",
       "      <td>193412.0</td>\n",
       "      <td>2135038</td>\n",
       "      <td>865031.0</td>\n",
       "      <td>308805.0</td>\n",
       "      <td>917614.0</td>\n",
       "      <td>43588</td>\n",
       "      <td>1076299</td>\n",
       "      <td>930094.0</td>\n",
       "      <td>2655929.0</td>\n",
       "    </tr>\n",
       "    <tr>\n",
       "      <th>164</th>\n",
       "      <td>4.0</td>\n",
       "      <td>2020AUG</td>\n",
       "      <td>25345970</td>\n",
       "      <td>22582369</td>\n",
       "      <td>12051741</td>\n",
       "      <td>11231664.0</td>\n",
       "      <td>619231</td>\n",
       "      <td>200846</td>\n",
       "      <td>9573370</td>\n",
       "      <td>1756221.0</td>\n",
       "      <td>...</td>\n",
       "      <td>1988357.0</td>\n",
       "      <td>244776.0</td>\n",
       "      <td>2177182</td>\n",
       "      <td>858702.0</td>\n",
       "      <td>300252.0</td>\n",
       "      <td>966575.0</td>\n",
       "      <td>51653</td>\n",
       "      <td>957258</td>\n",
       "      <td>795361.0</td>\n",
       "      <td>2763601.0</td>\n",
       "    </tr>\n",
       "    <tr>\n",
       "      <th>165</th>\n",
       "      <td>5.0</td>\n",
       "      <td>2020SEP</td>\n",
       "      <td>32335199</td>\n",
       "      <td>28862443</td>\n",
       "      <td>15227870</td>\n",
       "      <td>14133476.0</td>\n",
       "      <td>844129</td>\n",
       "      <td>250265</td>\n",
       "      <td>12522073</td>\n",
       "      <td>2204527.0</td>\n",
       "      <td>...</td>\n",
       "      <td>2533317.0</td>\n",
       "      <td>317146.0</td>\n",
       "      <td>2825142</td>\n",
       "      <td>1140586.0</td>\n",
       "      <td>379156.0</td>\n",
       "      <td>1241091.0</td>\n",
       "      <td>64309</td>\n",
       "      <td>1112500</td>\n",
       "      <td>908082.0</td>\n",
       "      <td>3472756.0</td>\n",
       "    </tr>\n",
       "    <tr>\n",
       "      <th>166</th>\n",
       "      <td>4.0</td>\n",
       "      <td>2020OCT</td>\n",
       "      <td>25913869</td>\n",
       "      <td>23082519</td>\n",
       "      <td>12078885</td>\n",
       "      <td>11207314.0</td>\n",
       "      <td>679849</td>\n",
       "      <td>191722</td>\n",
       "      <td>10110028</td>\n",
       "      <td>1817379.0</td>\n",
       "      <td>...</td>\n",
       "      <td>2030078.0</td>\n",
       "      <td>249686.0</td>\n",
       "      <td>2246464</td>\n",
       "      <td>890536.0</td>\n",
       "      <td>322400.0</td>\n",
       "      <td>966041.0</td>\n",
       "      <td>67487</td>\n",
       "      <td>893606</td>\n",
       "      <td>715087.0</td>\n",
       "      <td>2831350.0</td>\n",
       "    </tr>\n",
       "    <tr>\n",
       "      <th>167</th>\n",
       "      <td>4.0</td>\n",
       "      <td>2020NOV</td>\n",
       "      <td>23745474</td>\n",
       "      <td>21364902</td>\n",
       "      <td>12351021</td>\n",
       "      <td>11485720.0</td>\n",
       "      <td>664985</td>\n",
       "      <td>200316</td>\n",
       "      <td>8104402</td>\n",
       "      <td>1668476.0</td>\n",
       "      <td>...</td>\n",
       "      <td>1315833.0</td>\n",
       "      <td>143181.0</td>\n",
       "      <td>2073667</td>\n",
       "      <td>724681.0</td>\n",
       "      <td>217980.0</td>\n",
       "      <td>1088182.0</td>\n",
       "      <td>42824</td>\n",
       "      <td>909479</td>\n",
       "      <td>783842.0</td>\n",
       "      <td>2380572.0</td>\n",
       "    </tr>\n",
       "    <tr>\n",
       "      <th>168</th>\n",
       "      <td>5.0</td>\n",
       "      <td>2020DEC</td>\n",
       "      <td>31105698</td>\n",
       "      <td>28094712</td>\n",
       "      <td>14757788</td>\n",
       "      <td>13698798.0</td>\n",
       "      <td>789492</td>\n",
       "      <td>269498</td>\n",
       "      <td>11925176</td>\n",
       "      <td>2091379.0</td>\n",
       "      <td>...</td>\n",
       "      <td>2412425.0</td>\n",
       "      <td>287661.0</td>\n",
       "      <td>2841753</td>\n",
       "      <td>1079856.0</td>\n",
       "      <td>482564.0</td>\n",
       "      <td>1224258.0</td>\n",
       "      <td>55075</td>\n",
       "      <td>1411748</td>\n",
       "      <td>1212270.0</td>\n",
       "      <td>3010986.0</td>\n",
       "    </tr>\n",
       "    <tr>\n",
       "      <th>169</th>\n",
       "      <td>4.0</td>\n",
       "      <td>2021JAN</td>\n",
       "      <td>21005457</td>\n",
       "      <td>18690364</td>\n",
       "      <td>12042449</td>\n",
       "      <td>11269213.0</td>\n",
       "      <td>528025</td>\n",
       "      <td>245211</td>\n",
       "      <td>5951878</td>\n",
       "      <td>1436281.0</td>\n",
       "      <td>...</td>\n",
       "      <td>855934.0</td>\n",
       "      <td>89264.0</td>\n",
       "      <td>1459797</td>\n",
       "      <td>489984.0</td>\n",
       "      <td>134540.0</td>\n",
       "      <td>804479.0</td>\n",
       "      <td>30794</td>\n",
       "      <td>696037</td>\n",
       "      <td>507220.0</td>\n",
       "      <td>2315093.0</td>\n",
       "    </tr>\n",
       "    <tr>\n",
       "      <th>170</th>\n",
       "      <td>4.0</td>\n",
       "      <td>2021FEB</td>\n",
       "      <td>21009991</td>\n",
       "      <td>18580163</td>\n",
       "      <td>12340298</td>\n",
       "      <td>11485821.0</td>\n",
       "      <td>564173</td>\n",
       "      <td>290304</td>\n",
       "      <td>5924340</td>\n",
       "      <td>1676120.0</td>\n",
       "      <td>...</td>\n",
       "      <td>576817.0</td>\n",
       "      <td>90102.0</td>\n",
       "      <td>1665849</td>\n",
       "      <td>485835.0</td>\n",
       "      <td>128900.0</td>\n",
       "      <td>952303.0</td>\n",
       "      <td>98811</td>\n",
       "      <td>315525</td>\n",
       "      <td>196360.0</td>\n",
       "      <td>2429828.0</td>\n",
       "    </tr>\n",
       "    <tr>\n",
       "      <th>171</th>\n",
       "      <td>5.0</td>\n",
       "      <td>2021MAR</td>\n",
       "      <td>28489184</td>\n",
       "      <td>25054482</td>\n",
       "      <td>15597051</td>\n",
       "      <td>14470315.0</td>\n",
       "      <td>763777</td>\n",
       "      <td>362959</td>\n",
       "      <td>8834791</td>\n",
       "      <td>2260770.0</td>\n",
       "      <td>...</td>\n",
       "      <td>1129142.0</td>\n",
       "      <td>106233.0</td>\n",
       "      <td>2306127</td>\n",
       "      <td>626201.0</td>\n",
       "      <td>147076.0</td>\n",
       "      <td>1486861.0</td>\n",
       "      <td>45989</td>\n",
       "      <td>622640</td>\n",
       "      <td>435965.0</td>\n",
       "      <td>3434702.0</td>\n",
       "    </tr>\n",
       "    <tr>\n",
       "      <th>172</th>\n",
       "      <td>4.0</td>\n",
       "      <td>2021APR</td>\n",
       "      <td>26464127</td>\n",
       "      <td>23388201</td>\n",
       "      <td>12559165</td>\n",
       "      <td>11650265.0</td>\n",
       "      <td>607601</td>\n",
       "      <td>301299</td>\n",
       "      <td>10178038</td>\n",
       "      <td>2055558.0</td>\n",
       "      <td>...</td>\n",
       "      <td>2262256.0</td>\n",
       "      <td>233856.0</td>\n",
       "      <td>2238956</td>\n",
       "      <td>852246.0</td>\n",
       "      <td>348781.0</td>\n",
       "      <td>988271.0</td>\n",
       "      <td>49658</td>\n",
       "      <td>650998</td>\n",
       "      <td>479483.0</td>\n",
       "      <td>3075926.0</td>\n",
       "    </tr>\n",
       "    <tr>\n",
       "      <th>173</th>\n",
       "      <td>4.0</td>\n",
       "      <td>2021MAY</td>\n",
       "      <td>26690679</td>\n",
       "      <td>23399489</td>\n",
       "      <td>11891552</td>\n",
       "      <td>10991440.0</td>\n",
       "      <td>616074</td>\n",
       "      <td>284038</td>\n",
       "      <td>10871425</td>\n",
       "      <td>1932670.0</td>\n",
       "      <td>...</td>\n",
       "      <td>2260130.0</td>\n",
       "      <td>256926.0</td>\n",
       "      <td>2498129</td>\n",
       "      <td>1090721.0</td>\n",
       "      <td>378219.0</td>\n",
       "      <td>977978.0</td>\n",
       "      <td>51211</td>\n",
       "      <td>636512</td>\n",
       "      <td>463168.0</td>\n",
       "      <td>3291190.0</td>\n",
       "    </tr>\n",
       "    <tr>\n",
       "      <th>174</th>\n",
       "      <td>5.0</td>\n",
       "      <td>2021JUN</td>\n",
       "      <td>34252080</td>\n",
       "      <td>30048725</td>\n",
       "      <td>15633486</td>\n",
       "      <td>14503034.0</td>\n",
       "      <td>812553</td>\n",
       "      <td>317899</td>\n",
       "      <td>13690472</td>\n",
       "      <td>2422248.0</td>\n",
       "      <td>...</td>\n",
       "      <td>2784161.0</td>\n",
       "      <td>305522.0</td>\n",
       "      <td>2957706</td>\n",
       "      <td>1235092.0</td>\n",
       "      <td>442620.0</td>\n",
       "      <td>1216149.0</td>\n",
       "      <td>63845</td>\n",
       "      <td>724767</td>\n",
       "      <td>480802.0</td>\n",
       "      <td>4203355.0</td>\n",
       "    </tr>\n",
       "    <tr>\n",
       "      <th>175</th>\n",
       "      <td>4.0</td>\n",
       "      <td>2021JUL</td>\n",
       "      <td>26767398</td>\n",
       "      <td>23243460</td>\n",
       "      <td>12218234</td>\n",
       "      <td>11304116.0</td>\n",
       "      <td>646740</td>\n",
       "      <td>267378</td>\n",
       "      <td>10541501</td>\n",
       "      <td>1931785.0</td>\n",
       "      <td>...</td>\n",
       "      <td>2199975.0</td>\n",
       "      <td>237648.0</td>\n",
       "      <td>2280030</td>\n",
       "      <td>938425.0</td>\n",
       "      <td>345222.0</td>\n",
       "      <td>943209.0</td>\n",
       "      <td>53174</td>\n",
       "      <td>483725</td>\n",
       "      <td>313535.0</td>\n",
       "      <td>3523938.0</td>\n",
       "    </tr>\n",
       "    <tr>\n",
       "      <th>176</th>\n",
       "      <td>4.0</td>\n",
       "      <td>2021AUG</td>\n",
       "      <td>26549778</td>\n",
       "      <td>22983969</td>\n",
       "      <td>12097341</td>\n",
       "      <td>11196055.0</td>\n",
       "      <td>668063</td>\n",
       "      <td>233223</td>\n",
       "      <td>10590494</td>\n",
       "      <td>1894565.0</td>\n",
       "      <td>...</td>\n",
       "      <td>2243603.0</td>\n",
       "      <td>252649.0</td>\n",
       "      <td>2248940</td>\n",
       "      <td>933796.0</td>\n",
       "      <td>340510.0</td>\n",
       "      <td>923479.0</td>\n",
       "      <td>51155</td>\n",
       "      <td>296134</td>\n",
       "      <td>115831.0</td>\n",
       "      <td>3565809.0</td>\n",
       "    </tr>\n",
       "    <tr>\n",
       "      <th>177</th>\n",
       "      <td>5.0</td>\n",
       "      <td>2021SEP</td>\n",
       "      <td>33140445</td>\n",
       "      <td>28533232</td>\n",
       "      <td>15156137</td>\n",
       "      <td>13998756.0</td>\n",
       "      <td>865896</td>\n",
       "      <td>291485</td>\n",
       "      <td>13151669</td>\n",
       "      <td>2432795.0</td>\n",
       "      <td>...</td>\n",
       "      <td>2889504.0</td>\n",
       "      <td>314692.0</td>\n",
       "      <td>2634840</td>\n",
       "      <td>1058412.0</td>\n",
       "      <td>411871.0</td>\n",
       "      <td>1111907.0</td>\n",
       "      <td>52650</td>\n",
       "      <td>225426</td>\n",
       "      <td>-7879.0</td>\n",
       "      <td>4607213.0</td>\n",
       "    </tr>\n",
       "    <tr>\n",
       "      <th>178</th>\n",
       "      <td>4.0</td>\n",
       "      <td>2021OCT</td>\n",
       "      <td>27195128</td>\n",
       "      <td>23629953</td>\n",
       "      <td>12309396</td>\n",
       "      <td>11340843.0</td>\n",
       "      <td>728897</td>\n",
       "      <td>239656</td>\n",
       "      <td>11120230</td>\n",
       "      <td>1965015.0</td>\n",
       "      <td>...</td>\n",
       "      <td>2451539.0</td>\n",
       "      <td>299315.0</td>\n",
       "      <td>2198453</td>\n",
       "      <td>911445.0</td>\n",
       "      <td>355698.0</td>\n",
       "      <td>878095.0</td>\n",
       "      <td>53215</td>\n",
       "      <td>200327</td>\n",
       "      <td>7451.0</td>\n",
       "      <td>3565175.0</td>\n",
       "    </tr>\n",
       "    <tr>\n",
       "      <th>179</th>\n",
       "      <td>4.0</td>\n",
       "      <td>2021NOV</td>\n",
       "      <td>27873975</td>\n",
       "      <td>23950532</td>\n",
       "      <td>12431747</td>\n",
       "      <td>11388911.0</td>\n",
       "      <td>753234</td>\n",
       "      <td>289602</td>\n",
       "      <td>11272240</td>\n",
       "      <td>1923049.0</td>\n",
       "      <td>...</td>\n",
       "      <td>2572936.0</td>\n",
       "      <td>305941.0</td>\n",
       "      <td>2229782</td>\n",
       "      <td>943554.0</td>\n",
       "      <td>333795.0</td>\n",
       "      <td>904609.0</td>\n",
       "      <td>47824</td>\n",
       "      <td>246545</td>\n",
       "      <td>56665.0</td>\n",
       "      <td>3923443.0</td>\n",
       "    </tr>\n",
       "    <tr>\n",
       "      <th>180</th>\n",
       "      <td>5.0</td>\n",
       "      <td>2021DEC</td>\n",
       "      <td>33464670</td>\n",
       "      <td>28840473</td>\n",
       "      <td>15353408</td>\n",
       "      <td>14011048.0</td>\n",
       "      <td>926377</td>\n",
       "      <td>415983</td>\n",
       "      <td>12823506</td>\n",
       "      <td>2308073.0</td>\n",
       "      <td>...</td>\n",
       "      <td>2938003.0</td>\n",
       "      <td>368655.0</td>\n",
       "      <td>2681707</td>\n",
       "      <td>1066403.0</td>\n",
       "      <td>394007.0</td>\n",
       "      <td>1122323.0</td>\n",
       "      <td>98974</td>\n",
       "      <td>663559</td>\n",
       "      <td>452047.0</td>\n",
       "      <td>4624197.0</td>\n",
       "    </tr>\n",
       "  </tbody>\n",
       "</table>\n",
       "<p>24 rows × 34 columns</p>\n",
       "</div>"
      ],
      "text/plain": [
       "     Number of weeks Description All retailing  \\\n",
       "157              5.0     2020JAN      35117053   \n",
       "158              4.0     2020FEB      27621978   \n",
       "159              5.0     2020MAR      31230355   \n",
       "160              4.0     2020APR      17953389   \n",
       "161              4.0     2020MAY      19549615   \n",
       "162              5.0     2020JUN      28563796   \n",
       "163              4.0     2020JUL      24912477   \n",
       "164              4.0     2020AUG      25345970   \n",
       "165              5.0     2020SEP      32335199   \n",
       "166              4.0     2020OCT      25913869   \n",
       "167              4.0     2020NOV      23745474   \n",
       "168              5.0     2020DEC      31105698   \n",
       "169              4.0     2021JAN      21005457   \n",
       "170              4.0     2021FEB      21009991   \n",
       "171              5.0     2021MAR      28489184   \n",
       "172              4.0     2021APR      26464127   \n",
       "173              4.0     2021MAY      26690679   \n",
       "174              5.0     2021JUN      34252080   \n",
       "175              4.0     2021JUL      26767398   \n",
       "176              4.0     2021AUG      26549778   \n",
       "177              5.0     2021SEP      33140445   \n",
       "178              4.0     2021OCT      27195128   \n",
       "179              4.0     2021NOV      27873975   \n",
       "180              5.0     2021DEC      33464670   \n",
       "\n",
       "    All retailing except automotive fuel Predominantly food stores  \\\n",
       "157                             30764662                  15498383   \n",
       "158                             24194866                  12358948   \n",
       "159                             27880126                  16693294   \n",
       "160                             16755616                  12367812   \n",
       "161                             17847731                  12299484   \n",
       "162                             25997618                  15377599   \n",
       "163                             22256548                  11952508   \n",
       "164                             22582369                  12051741   \n",
       "165                             28862443                  15227870   \n",
       "166                             23082519                  12078885   \n",
       "167                             21364902                  12351021   \n",
       "168                             28094712                  14757788   \n",
       "169                             18690364                  12042449   \n",
       "170                             18580163                  12340298   \n",
       "171                             25054482                  15597051   \n",
       "172                             23388201                  12559165   \n",
       "173                             23399489                  11891552   \n",
       "174                             30048725                  15633486   \n",
       "175                             23243460                  12218234   \n",
       "176                             22983969                  12097341   \n",
       "177                             28533232                  15156137   \n",
       "178                             23629953                  12309396   \n",
       "179                             23950532                  12431747   \n",
       "180                             28840473                  15353408   \n",
       "\n",
       "     Non-specialised stores (i.e supermarkets)  \\\n",
       "157                                 14399782.0   \n",
       "158                                 11397685.0   \n",
       "159                                 15462200.0   \n",
       "160                                 11737237.0   \n",
       "161                                 11652367.0   \n",
       "162                                 14528064.0   \n",
       "163                                 11132082.0   \n",
       "164                                 11231664.0   \n",
       "165                                 14133476.0   \n",
       "166                                 11207314.0   \n",
       "167                                 11485720.0   \n",
       "168                                 13698798.0   \n",
       "169                                 11269213.0   \n",
       "170                                 11485821.0   \n",
       "171                                 14470315.0   \n",
       "172                                 11650265.0   \n",
       "173                                 10991440.0   \n",
       "174                                 14503034.0   \n",
       "175                                 11304116.0   \n",
       "176                                 11196055.0   \n",
       "177                                 13998756.0   \n",
       "178                                 11340843.0   \n",
       "179                                 11388911.0   \n",
       "180                                 14011048.0   \n",
       "\n",
       "    Specialist food stores (i.e butchers and bakers)  \\\n",
       "157                                           783386   \n",
       "158                                           719142   \n",
       "159                                           881258   \n",
       "160                                           408452   \n",
       "161                                           454596   \n",
       "162                                           618220   \n",
       "163                                           637537   \n",
       "164                                           619231   \n",
       "165                                           844129   \n",
       "166                                           679849   \n",
       "167                                           664985   \n",
       "168                                           789492   \n",
       "169                                           528025   \n",
       "170                                           564173   \n",
       "171                                           763777   \n",
       "172                                           607601   \n",
       "173                                           616074   \n",
       "174                                           812553   \n",
       "175                                           646740   \n",
       "176                                           668063   \n",
       "177                                           865896   \n",
       "178                                           728897   \n",
       "179                                           753234   \n",
       "180                                           926377   \n",
       "\n",
       "    Alcoholic drink, beverages & tobacco Predominantly non-food stores  \\\n",
       "157                               315215                      14414125   \n",
       "158                               242121                      11281705   \n",
       "159                               349836                      10456031   \n",
       "160                               222123                       3401600   \n",
       "161                               192521                       4377368   \n",
       "162                               231315                       9150932   \n",
       "163                               182889                       9227741   \n",
       "164                               200846                       9573370   \n",
       "165                               250265                      12522073   \n",
       "166                               191722                      10110028   \n",
       "167                               200316                       8104402   \n",
       "168                               269498                      11925176   \n",
       "169                               245211                       5951878   \n",
       "170                               290304                       5924340   \n",
       "171                               362959                       8834791   \n",
       "172                               301299                      10178038   \n",
       "173                               284038                      10871425   \n",
       "174                               317899                      13690472   \n",
       "175                               267378                      10541501   \n",
       "176                               233223                      10590494   \n",
       "177                               291485                      13151669   \n",
       "178                               239656                      11120230   \n",
       "179                               289602                      11272240   \n",
       "180                               415983                      12823506   \n",
       "\n",
       "     Non-specialised stores (i.e department stores)  ...   Clothing  \\\n",
       "157                                       2791018.0  ...  3506830.0   \n",
       "158                                       2208905.0  ...  2709336.0   \n",
       "159                                       2554690.0  ...  1983570.0   \n",
       "160                                       1255136.0  ...   529623.0   \n",
       "161                                       1524722.0  ...   671955.0   \n",
       "162                                       1913239.0  ...  1651595.0   \n",
       "163                                       1748416.0  ...  1810779.0   \n",
       "164                                       1756221.0  ...  1988357.0   \n",
       "165                                       2204527.0  ...  2533317.0   \n",
       "166                                       1817379.0  ...  2030078.0   \n",
       "167                                       1668476.0  ...  1315833.0   \n",
       "168                                       2091379.0  ...  2412425.0   \n",
       "169                                       1436281.0  ...   855934.0   \n",
       "170                                       1676120.0  ...   576817.0   \n",
       "171                                       2260770.0  ...  1129142.0   \n",
       "172                                       2055558.0  ...  2262256.0   \n",
       "173                                       1932670.0  ...  2260130.0   \n",
       "174                                       2422248.0  ...  2784161.0   \n",
       "175                                       1931785.0  ...  2199975.0   \n",
       "176                                       1894565.0  ...  2243603.0   \n",
       "177                                       2432795.0  ...  2889504.0   \n",
       "178                                       1965015.0  ...  2451539.0   \n",
       "179                                       1923049.0  ...  2572936.0   \n",
       "180                                       2308073.0  ...  2938003.0   \n",
       "\n",
       "     Footwear and leather goods  Household goods stores  \\\n",
       "157                    446419.0                 2809268   \n",
       "158                    336782.0                 2253418   \n",
       "159                    213384.0                 2328178   \n",
       "160                     65803.0                  503890   \n",
       "161                     39874.0                 1005787   \n",
       "162                    165801.0                 2226766   \n",
       "163                    193412.0                 2135038   \n",
       "164                    244776.0                 2177182   \n",
       "165                    317146.0                 2825142   \n",
       "166                    249686.0                 2246464   \n",
       "167                    143181.0                 2073667   \n",
       "168                    287661.0                 2841753   \n",
       "169                     89264.0                 1459797   \n",
       "170                     90102.0                 1665849   \n",
       "171                    106233.0                 2306127   \n",
       "172                    233856.0                 2238956   \n",
       "173                    256926.0                 2498129   \n",
       "174                    305522.0                 2957706   \n",
       "175                    237648.0                 2280030   \n",
       "176                    252649.0                 2248940   \n",
       "177                    314692.0                 2634840   \n",
       "178                    299315.0                 2198453   \n",
       "179                    305941.0                 2229782   \n",
       "180                    368655.0                 2681707   \n",
       "\n",
       "     Furniture, lighting and household articles n.e.c  \\\n",
       "157                                         1208178.0   \n",
       "158                                          932613.0   \n",
       "159                                          840442.0   \n",
       "160                                           53120.0   \n",
       "161                                          163950.0   \n",
       "162                                          889952.0   \n",
       "163                                          865031.0   \n",
       "164                                          858702.0   \n",
       "165                                         1140586.0   \n",
       "166                                          890536.0   \n",
       "167                                          724681.0   \n",
       "168                                         1079856.0   \n",
       "169                                          489984.0   \n",
       "170                                          485835.0   \n",
       "171                                          626201.0   \n",
       "172                                          852246.0   \n",
       "173                                         1090721.0   \n",
       "174                                         1235092.0   \n",
       "175                                          938425.0   \n",
       "176                                          933796.0   \n",
       "177                                         1058412.0   \n",
       "178                                          911445.0   \n",
       "179                                          943554.0   \n",
       "180                                         1066403.0   \n",
       "\n",
       "    Electrical household aplliances  Hardware, paints and glass  \\\n",
       "157                        516623.0                   1012781.0   \n",
       "158                        413594.0                    841692.0   \n",
       "159                        424354.0                    994116.0   \n",
       "160                         61307.0                    365785.0   \n",
       "161                         56666.0                    769903.0   \n",
       "162                        226575.0                   1076698.0   \n",
       "163                        308805.0                    917614.0   \n",
       "164                        300252.0                    966575.0   \n",
       "165                        379156.0                   1241091.0   \n",
       "166                        322400.0                    966041.0   \n",
       "167                        217980.0                   1088182.0   \n",
       "168                        482564.0                   1224258.0   \n",
       "169                        134540.0                    804479.0   \n",
       "170                        128900.0                    952303.0   \n",
       "171                        147076.0                   1486861.0   \n",
       "172                        348781.0                    988271.0   \n",
       "173                        378219.0                    977978.0   \n",
       "174                        442620.0                   1216149.0   \n",
       "175                        345222.0                    943209.0   \n",
       "176                        340510.0                    923479.0   \n",
       "177                        411871.0                   1111907.0   \n",
       "178                        355698.0                    878095.0   \n",
       "179                        333795.0                    904609.0   \n",
       "180                        394007.0                   1122323.0   \n",
       "\n",
       "    Music and video recordings & equiptment Non-store retailing  Mail order  \\\n",
       "157                                   71686              852154    648517.0   \n",
       "158                                   65519              554213    381998.0   \n",
       "159                                   69266              730801    579491.0   \n",
       "160                                   23678              986204    926955.0   \n",
       "161                                   15268             1170879   1058179.0   \n",
       "162                                   33541             1469087   1352995.0   \n",
       "163                                   43588             1076299    930094.0   \n",
       "164                                   51653              957258    795361.0   \n",
       "165                                   64309             1112500    908082.0   \n",
       "166                                   67487              893606    715087.0   \n",
       "167                                   42824              909479    783842.0   \n",
       "168                                   55075             1411748   1212270.0   \n",
       "169                                   30794              696037    507220.0   \n",
       "170                                   98811              315525    196360.0   \n",
       "171                                   45989              622640    435965.0   \n",
       "172                                   49658              650998    479483.0   \n",
       "173                                   51211              636512    463168.0   \n",
       "174                                   63845              724767    480802.0   \n",
       "175                                   53174              483725    313535.0   \n",
       "176                                   51155              296134    115831.0   \n",
       "177                                   52650              225426     -7879.0   \n",
       "178                                   53215              200327      7451.0   \n",
       "179                                   47824              246545     56665.0   \n",
       "180                                   98974              663559    452047.0   \n",
       "\n",
       "          Fuel  \n",
       "157  4352391.0  \n",
       "158  3427112.0  \n",
       "159  3350229.0  \n",
       "160  1197773.0  \n",
       "161  1701884.0  \n",
       "162  2566178.0  \n",
       "163  2655929.0  \n",
       "164  2763601.0  \n",
       "165  3472756.0  \n",
       "166  2831350.0  \n",
       "167  2380572.0  \n",
       "168  3010986.0  \n",
       "169  2315093.0  \n",
       "170  2429828.0  \n",
       "171  3434702.0  \n",
       "172  3075926.0  \n",
       "173  3291190.0  \n",
       "174  4203355.0  \n",
       "175  3523938.0  \n",
       "176  3565809.0  \n",
       "177  4607213.0  \n",
       "178  3565175.0  \n",
       "179  3923443.0  \n",
       "180  4624197.0  \n",
       "\n",
       "[24 rows x 34 columns]"
      ]
     },
     "execution_count": 8,
     "metadata": {},
     "output_type": "execute_result"
    }
   ],
   "source": [
    "# creating a df subset for COVID times \n",
    "df_COVID = df1_subset.loc[157:180]  \n",
    "df_COVID "
   ]
  },
  {
   "cell_type": "code",
   "execution_count": 9,
   "metadata": {},
   "outputs": [
    {
     "data": {
      "text/html": [
       "<div>\n",
       "<style scoped>\n",
       "    .dataframe tbody tr th:only-of-type {\n",
       "        vertical-align: middle;\n",
       "    }\n",
       "\n",
       "    .dataframe tbody tr th {\n",
       "        vertical-align: top;\n",
       "    }\n",
       "\n",
       "    .dataframe thead th {\n",
       "        text-align: right;\n",
       "    }\n",
       "</style>\n",
       "<table border=\"1\" class=\"dataframe\">\n",
       "  <thead>\n",
       "    <tr style=\"text-align: right;\">\n",
       "      <th></th>\n",
       "      <th>Number of weeks</th>\n",
       "      <th>Description</th>\n",
       "      <th>All retailing</th>\n",
       "      <th>All retailing except automotive fuel</th>\n",
       "      <th>Predominantly food stores</th>\n",
       "      <th>Non-specialised stores (i.e supermarkets)</th>\n",
       "      <th>Specialist food stores (i.e butchers and bakers)</th>\n",
       "      <th>Alcoholic drink, beverages &amp; tobacco</th>\n",
       "      <th>Predominantly non-food stores</th>\n",
       "      <th>Non-specialised stores (i.e department stores)</th>\n",
       "      <th>...</th>\n",
       "      <th>Clothing</th>\n",
       "      <th>Footwear and leather goods</th>\n",
       "      <th>Household goods stores</th>\n",
       "      <th>Furniture, lighting and household articles n.e.c</th>\n",
       "      <th>Electrical household aplliances</th>\n",
       "      <th>Hardware, paints and glass</th>\n",
       "      <th>Music and video recordings &amp; equiptment</th>\n",
       "      <th>Non-store retailing</th>\n",
       "      <th>Mail order</th>\n",
       "      <th>Fuel</th>\n",
       "    </tr>\n",
       "  </thead>\n",
       "  <tbody>\n",
       "    <tr>\n",
       "      <th>180</th>\n",
       "      <td>5.0</td>\n",
       "      <td>2021DEC</td>\n",
       "      <td>33464670</td>\n",
       "      <td>28840473</td>\n",
       "      <td>15353408</td>\n",
       "      <td>14011048.0</td>\n",
       "      <td>926377</td>\n",
       "      <td>415983</td>\n",
       "      <td>12823506</td>\n",
       "      <td>2308073.0</td>\n",
       "      <td>...</td>\n",
       "      <td>2938003.0</td>\n",
       "      <td>368655.0</td>\n",
       "      <td>2681707</td>\n",
       "      <td>1066403.0</td>\n",
       "      <td>394007.0</td>\n",
       "      <td>1122323.0</td>\n",
       "      <td>98974</td>\n",
       "      <td>663559</td>\n",
       "      <td>452047.0</td>\n",
       "      <td>4624197.0</td>\n",
       "    </tr>\n",
       "    <tr>\n",
       "      <th>181</th>\n",
       "      <td>4.0</td>\n",
       "      <td>2022JAN</td>\n",
       "      <td>27566539</td>\n",
       "      <td>23774708</td>\n",
       "      <td>12220759</td>\n",
       "      <td>11155367.0</td>\n",
       "      <td>783349</td>\n",
       "      <td>282043</td>\n",
       "      <td>11020187</td>\n",
       "      <td>1959429.0</td>\n",
       "      <td>...</td>\n",
       "      <td>2237628.0</td>\n",
       "      <td>262001.0</td>\n",
       "      <td>2375414</td>\n",
       "      <td>1032326.0</td>\n",
       "      <td>368729.0</td>\n",
       "      <td>924575.0</td>\n",
       "      <td>49784</td>\n",
       "      <td>533762</td>\n",
       "      <td>364031.0</td>\n",
       "      <td>3791831.0</td>\n",
       "    </tr>\n",
       "    <tr>\n",
       "      <th>182</th>\n",
       "      <td>4.0</td>\n",
       "      <td>2022FEB</td>\n",
       "      <td>27888938</td>\n",
       "      <td>23920093</td>\n",
       "      <td>12417653</td>\n",
       "      <td>11392382.0</td>\n",
       "      <td>771200</td>\n",
       "      <td>254071</td>\n",
       "      <td>11181761</td>\n",
       "      <td>2072145.0</td>\n",
       "      <td>...</td>\n",
       "      <td>2583119.0</td>\n",
       "      <td>309918.0</td>\n",
       "      <td>2348662</td>\n",
       "      <td>990143.0</td>\n",
       "      <td>381497.0</td>\n",
       "      <td>930668.0</td>\n",
       "      <td>46354</td>\n",
       "      <td>320679</td>\n",
       "      <td>202943.0</td>\n",
       "      <td>3968845.0</td>\n",
       "    </tr>\n",
       "  </tbody>\n",
       "</table>\n",
       "<p>3 rows × 34 columns</p>\n",
       "</div>"
      ],
      "text/plain": [
       "     Number of weeks Description All retailing  \\\n",
       "180              5.0     2021DEC      33464670   \n",
       "181              4.0     2022JAN      27566539   \n",
       "182              4.0     2022FEB      27888938   \n",
       "\n",
       "    All retailing except automotive fuel Predominantly food stores  \\\n",
       "180                             28840473                  15353408   \n",
       "181                             23774708                  12220759   \n",
       "182                             23920093                  12417653   \n",
       "\n",
       "     Non-specialised stores (i.e supermarkets)  \\\n",
       "180                                 14011048.0   \n",
       "181                                 11155367.0   \n",
       "182                                 11392382.0   \n",
       "\n",
       "    Specialist food stores (i.e butchers and bakers)  \\\n",
       "180                                           926377   \n",
       "181                                           783349   \n",
       "182                                           771200   \n",
       "\n",
       "    Alcoholic drink, beverages & tobacco Predominantly non-food stores  \\\n",
       "180                               415983                      12823506   \n",
       "181                               282043                      11020187   \n",
       "182                               254071                      11181761   \n",
       "\n",
       "     Non-specialised stores (i.e department stores)  ...   Clothing  \\\n",
       "180                                       2308073.0  ...  2938003.0   \n",
       "181                                       1959429.0  ...  2237628.0   \n",
       "182                                       2072145.0  ...  2583119.0   \n",
       "\n",
       "     Footwear and leather goods  Household goods stores  \\\n",
       "180                    368655.0                 2681707   \n",
       "181                    262001.0                 2375414   \n",
       "182                    309918.0                 2348662   \n",
       "\n",
       "     Furniture, lighting and household articles n.e.c  \\\n",
       "180                                         1066403.0   \n",
       "181                                         1032326.0   \n",
       "182                                          990143.0   \n",
       "\n",
       "    Electrical household aplliances  Hardware, paints and glass  \\\n",
       "180                        394007.0                   1122323.0   \n",
       "181                        368729.0                    924575.0   \n",
       "182                        381497.0                    930668.0   \n",
       "\n",
       "    Music and video recordings & equiptment Non-store retailing  Mail order  \\\n",
       "180                                   98974              663559    452047.0   \n",
       "181                                   49784              533762    364031.0   \n",
       "182                                   46354              320679    202943.0   \n",
       "\n",
       "          Fuel  \n",
       "180  4624197.0  \n",
       "181  3791831.0  \n",
       "182  3968845.0  \n",
       "\n",
       "[3 rows x 34 columns]"
      ]
     },
     "execution_count": 9,
     "metadata": {},
     "output_type": "execute_result"
    }
   ],
   "source": [
    "# creating a df subset for post-COVID times \n",
    "df_post_COVID = df1_subset.loc[180:]\n",
    "df_post_COVID"
   ]
  },
  {
   "cell_type": "code",
   "execution_count": 10,
   "metadata": {},
   "outputs": [
    {
     "data": {
      "application/vnd.plotly.v1+json": {
       "config": {
        "plotlyServerURL": "https://plot.ly"
       },
       "data": [
        {
         "alignmentgroup": "True",
         "hovertemplate": "Description=%{x}<br>All retailing=%{y}<extra></extra>",
         "legendgroup": "",
         "marker": {
          "color": "#636efa",
          "pattern": {
           "shape": ""
          }
         },
         "name": "",
         "offsetgroup": "",
         "orientation": "v",
         "showlegend": false,
         "textposition": "auto",
         "type": "bar",
         "x": [
          "2010JAN",
          "2010FEB",
          "2010MAR",
          "2010APR",
          "2010MAY",
          "2010JUN",
          "2010JUL",
          "2010AUG",
          "2010SEP",
          "2010OCT",
          "2010NOV",
          "2010DEC",
          "2011JAN",
          "2011FEB",
          "2011MAR",
          "2011APR",
          "2011MAY",
          "2011JUN",
          "2011JUL",
          "2011AUG",
          "2011SEP",
          "2011OCT",
          "2011NOV",
          "2011DEC",
          "2012JAN",
          "2012FEB",
          "2012MAR",
          "2012APR",
          "2012MAY",
          "2012JUN",
          "2012JUL",
          "2012AUG",
          "2012SEP",
          "2012OCT",
          "2012NOV",
          "2012DEC",
          "2013JAN",
          "2013FEB",
          "2013MAR",
          "2013APR",
          "2013MAY",
          "2013JUN",
          "2013JUL",
          "2013AUG",
          "2013SEP",
          "2013OCT",
          "2013NOV",
          "2013DEC",
          "2014JAN",
          "2014FEB",
          "2014MAR",
          "2014APR",
          "2014MAY",
          "2014JUN",
          "2014JUL",
          "2014AUG",
          "2014SEP",
          "2014OCT",
          "2014NOV",
          "2014DEC",
          "2015JAN",
          "2015FEB",
          "2015MAR",
          "2015APR",
          "2015MAY",
          "2015JUN",
          "2015JUL",
          "2015AUG",
          "2015SEP",
          "2015OCT",
          "2015NOV",
          "2015DEC",
          "2016JAN",
          "2016FEB",
          "2016MAR",
          "2016APR",
          "2016MAY",
          "2016JUN",
          "2016JUL",
          "2016AUG",
          "2016SEP",
          "2016OCT",
          "2016NOV",
          "2016DEC",
          "2017JAN",
          "2017FEB",
          "2017MAR",
          "2017APR",
          "2017MAY",
          "2017JUN",
          "2017JUL",
          "2017AUG",
          "2017SEP",
          "2017OCT",
          "2017NOV",
          "2017DEC",
          "2018JAN",
          "2018FEB",
          "2018MAR",
          "2018APR",
          "2018MAY",
          "2018JUN",
          "2018JUL",
          "2018AUG",
          "2018SEP",
          "2018OCT",
          "2018NOV",
          "2018DEC",
          "2019JAN",
          "2019FEB",
          "2019MAR",
          "2019APR",
          "2019MAY",
          "2019JUN",
          "2019JUL",
          "2019AUG",
          "2019SEP",
          "2019OCT",
          "2019NOV",
          "2019DEC",
          "2020JAN",
          "2020FEB",
          "2020MAR",
          "2020APR",
          "2020MAY",
          "2020JUN",
          "2020JUL",
          "2020AUG",
          "2020SEP",
          "2020OCT",
          "2020NOV",
          "2020DEC",
          "2021JAN",
          "2021FEB",
          "2021MAR",
          "2021APR",
          "2021MAY",
          "2021JUN",
          "2021JUL",
          "2021AUG",
          "2021SEP",
          "2021OCT",
          "2021NOV",
          "2021DEC",
          "2022JAN",
          "2022FEB"
         ],
         "xaxis": "x",
         "y": [
          22639923,
          23260198,
          29149509,
          23514698,
          23515812,
          29474040,
          23584871,
          23503159,
          29193922,
          23526371,
          23710513,
          29103560,
          24124208,
          24160376,
          30194158,
          24609009,
          24169111,
          30207968,
          24300493,
          24277035,
          30481012,
          24665264,
          24515707,
          30950864,
          24768852,
          24596124,
          31445263,
          24461640,
          24520361,
          30689469,
          24480523,
          24776411,
          31189402,
          24887766,
          24756255,
          31036809,
          24794384,
          25187828,
          30787483,
          24512473,
          24935228,
          31392021,
          25312474,
          25121010,
          31764375,
          25163335,
          25227183,
          31641992,
          31715406,
          25355087,
          32111447,
          25523474,
          25502556,
          32164560,
          25647402,
          25568724,
          31765325,
          25491588,
          25609601,
          32362804,
          25304245,
          25444952,
          31871804,
          25569581,
          25641992,
          32077163,
          25581048,
          25282511,
          32147524,
          25294136,
          25366654,
          31624245,
          25631135,
          25458992,
          31709700,
          25383528,
          25672667,
          31788952,
          25932856,
          25718219,
          32183470,
          26186245,
          26064661,
          32510465,
          26092693,
          26365452,
          32697210,
          26635934,
          26295990,
          32829944,
          26330893,
          26557295,
          33277012,
          26767514,
          26968417,
          33714166,
          26995564,
          27042126,
          33027502,
          26883976,
          27276138,
          34123337,
          27460472,
          27602756,
          34428661,
          27418334,
          27886013,
          34803538,
          27817859,
          27879596,
          35032948,
          27873743,
          27719544,
          35403905,
          28193826,
          28029768,
          35096388,
          28036550,
          27966424,
          35006432,
          35117053,
          27621978,
          31230355,
          17953389,
          19549615,
          28563796,
          24912477,
          25345970,
          32335199,
          25913869,
          23745474,
          31105698,
          21005457,
          21009991,
          28489184,
          26464127,
          26690679,
          34252080,
          26767398,
          26549778,
          33140445,
          27195128,
          27873975,
          33464670,
          27566539,
          27888938
         ],
         "yaxis": "y"
        }
       ],
       "layout": {
        "barmode": "relative",
        "legend": {
         "tracegroupgap": 0
        },
        "margin": {
         "t": 60
        },
        "template": {
         "data": {
          "bar": [
           {
            "error_x": {
             "color": "#2a3f5f"
            },
            "error_y": {
             "color": "#2a3f5f"
            },
            "marker": {
             "line": {
              "color": "#E5ECF6",
              "width": 0.5
             },
             "pattern": {
              "fillmode": "overlay",
              "size": 10,
              "solidity": 0.2
             }
            },
            "type": "bar"
           }
          ],
          "barpolar": [
           {
            "marker": {
             "line": {
              "color": "#E5ECF6",
              "width": 0.5
             },
             "pattern": {
              "fillmode": "overlay",
              "size": 10,
              "solidity": 0.2
             }
            },
            "type": "barpolar"
           }
          ],
          "carpet": [
           {
            "aaxis": {
             "endlinecolor": "#2a3f5f",
             "gridcolor": "white",
             "linecolor": "white",
             "minorgridcolor": "white",
             "startlinecolor": "#2a3f5f"
            },
            "baxis": {
             "endlinecolor": "#2a3f5f",
             "gridcolor": "white",
             "linecolor": "white",
             "minorgridcolor": "white",
             "startlinecolor": "#2a3f5f"
            },
            "type": "carpet"
           }
          ],
          "choropleth": [
           {
            "colorbar": {
             "outlinewidth": 0,
             "ticks": ""
            },
            "type": "choropleth"
           }
          ],
          "contour": [
           {
            "colorbar": {
             "outlinewidth": 0,
             "ticks": ""
            },
            "colorscale": [
             [
              0,
              "#0d0887"
             ],
             [
              0.1111111111111111,
              "#46039f"
             ],
             [
              0.2222222222222222,
              "#7201a8"
             ],
             [
              0.3333333333333333,
              "#9c179e"
             ],
             [
              0.4444444444444444,
              "#bd3786"
             ],
             [
              0.5555555555555556,
              "#d8576b"
             ],
             [
              0.6666666666666666,
              "#ed7953"
             ],
             [
              0.7777777777777778,
              "#fb9f3a"
             ],
             [
              0.8888888888888888,
              "#fdca26"
             ],
             [
              1,
              "#f0f921"
             ]
            ],
            "type": "contour"
           }
          ],
          "contourcarpet": [
           {
            "colorbar": {
             "outlinewidth": 0,
             "ticks": ""
            },
            "type": "contourcarpet"
           }
          ],
          "heatmap": [
           {
            "colorbar": {
             "outlinewidth": 0,
             "ticks": ""
            },
            "colorscale": [
             [
              0,
              "#0d0887"
             ],
             [
              0.1111111111111111,
              "#46039f"
             ],
             [
              0.2222222222222222,
              "#7201a8"
             ],
             [
              0.3333333333333333,
              "#9c179e"
             ],
             [
              0.4444444444444444,
              "#bd3786"
             ],
             [
              0.5555555555555556,
              "#d8576b"
             ],
             [
              0.6666666666666666,
              "#ed7953"
             ],
             [
              0.7777777777777778,
              "#fb9f3a"
             ],
             [
              0.8888888888888888,
              "#fdca26"
             ],
             [
              1,
              "#f0f921"
             ]
            ],
            "type": "heatmap"
           }
          ],
          "heatmapgl": [
           {
            "colorbar": {
             "outlinewidth": 0,
             "ticks": ""
            },
            "colorscale": [
             [
              0,
              "#0d0887"
             ],
             [
              0.1111111111111111,
              "#46039f"
             ],
             [
              0.2222222222222222,
              "#7201a8"
             ],
             [
              0.3333333333333333,
              "#9c179e"
             ],
             [
              0.4444444444444444,
              "#bd3786"
             ],
             [
              0.5555555555555556,
              "#d8576b"
             ],
             [
              0.6666666666666666,
              "#ed7953"
             ],
             [
              0.7777777777777778,
              "#fb9f3a"
             ],
             [
              0.8888888888888888,
              "#fdca26"
             ],
             [
              1,
              "#f0f921"
             ]
            ],
            "type": "heatmapgl"
           }
          ],
          "histogram": [
           {
            "marker": {
             "pattern": {
              "fillmode": "overlay",
              "size": 10,
              "solidity": 0.2
             }
            },
            "type": "histogram"
           }
          ],
          "histogram2d": [
           {
            "colorbar": {
             "outlinewidth": 0,
             "ticks": ""
            },
            "colorscale": [
             [
              0,
              "#0d0887"
             ],
             [
              0.1111111111111111,
              "#46039f"
             ],
             [
              0.2222222222222222,
              "#7201a8"
             ],
             [
              0.3333333333333333,
              "#9c179e"
             ],
             [
              0.4444444444444444,
              "#bd3786"
             ],
             [
              0.5555555555555556,
              "#d8576b"
             ],
             [
              0.6666666666666666,
              "#ed7953"
             ],
             [
              0.7777777777777778,
              "#fb9f3a"
             ],
             [
              0.8888888888888888,
              "#fdca26"
             ],
             [
              1,
              "#f0f921"
             ]
            ],
            "type": "histogram2d"
           }
          ],
          "histogram2dcontour": [
           {
            "colorbar": {
             "outlinewidth": 0,
             "ticks": ""
            },
            "colorscale": [
             [
              0,
              "#0d0887"
             ],
             [
              0.1111111111111111,
              "#46039f"
             ],
             [
              0.2222222222222222,
              "#7201a8"
             ],
             [
              0.3333333333333333,
              "#9c179e"
             ],
             [
              0.4444444444444444,
              "#bd3786"
             ],
             [
              0.5555555555555556,
              "#d8576b"
             ],
             [
              0.6666666666666666,
              "#ed7953"
             ],
             [
              0.7777777777777778,
              "#fb9f3a"
             ],
             [
              0.8888888888888888,
              "#fdca26"
             ],
             [
              1,
              "#f0f921"
             ]
            ],
            "type": "histogram2dcontour"
           }
          ],
          "mesh3d": [
           {
            "colorbar": {
             "outlinewidth": 0,
             "ticks": ""
            },
            "type": "mesh3d"
           }
          ],
          "parcoords": [
           {
            "line": {
             "colorbar": {
              "outlinewidth": 0,
              "ticks": ""
             }
            },
            "type": "parcoords"
           }
          ],
          "pie": [
           {
            "automargin": true,
            "type": "pie"
           }
          ],
          "scatter": [
           {
            "fillpattern": {
             "fillmode": "overlay",
             "size": 10,
             "solidity": 0.2
            },
            "type": "scatter"
           }
          ],
          "scatter3d": [
           {
            "line": {
             "colorbar": {
              "outlinewidth": 0,
              "ticks": ""
             }
            },
            "marker": {
             "colorbar": {
              "outlinewidth": 0,
              "ticks": ""
             }
            },
            "type": "scatter3d"
           }
          ],
          "scattercarpet": [
           {
            "marker": {
             "colorbar": {
              "outlinewidth": 0,
              "ticks": ""
             }
            },
            "type": "scattercarpet"
           }
          ],
          "scattergeo": [
           {
            "marker": {
             "colorbar": {
              "outlinewidth": 0,
              "ticks": ""
             }
            },
            "type": "scattergeo"
           }
          ],
          "scattergl": [
           {
            "marker": {
             "colorbar": {
              "outlinewidth": 0,
              "ticks": ""
             }
            },
            "type": "scattergl"
           }
          ],
          "scattermapbox": [
           {
            "marker": {
             "colorbar": {
              "outlinewidth": 0,
              "ticks": ""
             }
            },
            "type": "scattermapbox"
           }
          ],
          "scatterpolar": [
           {
            "marker": {
             "colorbar": {
              "outlinewidth": 0,
              "ticks": ""
             }
            },
            "type": "scatterpolar"
           }
          ],
          "scatterpolargl": [
           {
            "marker": {
             "colorbar": {
              "outlinewidth": 0,
              "ticks": ""
             }
            },
            "type": "scatterpolargl"
           }
          ],
          "scatterternary": [
           {
            "marker": {
             "colorbar": {
              "outlinewidth": 0,
              "ticks": ""
             }
            },
            "type": "scatterternary"
           }
          ],
          "surface": [
           {
            "colorbar": {
             "outlinewidth": 0,
             "ticks": ""
            },
            "colorscale": [
             [
              0,
              "#0d0887"
             ],
             [
              0.1111111111111111,
              "#46039f"
             ],
             [
              0.2222222222222222,
              "#7201a8"
             ],
             [
              0.3333333333333333,
              "#9c179e"
             ],
             [
              0.4444444444444444,
              "#bd3786"
             ],
             [
              0.5555555555555556,
              "#d8576b"
             ],
             [
              0.6666666666666666,
              "#ed7953"
             ],
             [
              0.7777777777777778,
              "#fb9f3a"
             ],
             [
              0.8888888888888888,
              "#fdca26"
             ],
             [
              1,
              "#f0f921"
             ]
            ],
            "type": "surface"
           }
          ],
          "table": [
           {
            "cells": {
             "fill": {
              "color": "#EBF0F8"
             },
             "line": {
              "color": "white"
             }
            },
            "header": {
             "fill": {
              "color": "#C8D4E3"
             },
             "line": {
              "color": "white"
             }
            },
            "type": "table"
           }
          ]
         },
         "layout": {
          "annotationdefaults": {
           "arrowcolor": "#2a3f5f",
           "arrowhead": 0,
           "arrowwidth": 1
          },
          "autotypenumbers": "strict",
          "coloraxis": {
           "colorbar": {
            "outlinewidth": 0,
            "ticks": ""
           }
          },
          "colorscale": {
           "diverging": [
            [
             0,
             "#8e0152"
            ],
            [
             0.1,
             "#c51b7d"
            ],
            [
             0.2,
             "#de77ae"
            ],
            [
             0.3,
             "#f1b6da"
            ],
            [
             0.4,
             "#fde0ef"
            ],
            [
             0.5,
             "#f7f7f7"
            ],
            [
             0.6,
             "#e6f5d0"
            ],
            [
             0.7,
             "#b8e186"
            ],
            [
             0.8,
             "#7fbc41"
            ],
            [
             0.9,
             "#4d9221"
            ],
            [
             1,
             "#276419"
            ]
           ],
           "sequential": [
            [
             0,
             "#0d0887"
            ],
            [
             0.1111111111111111,
             "#46039f"
            ],
            [
             0.2222222222222222,
             "#7201a8"
            ],
            [
             0.3333333333333333,
             "#9c179e"
            ],
            [
             0.4444444444444444,
             "#bd3786"
            ],
            [
             0.5555555555555556,
             "#d8576b"
            ],
            [
             0.6666666666666666,
             "#ed7953"
            ],
            [
             0.7777777777777778,
             "#fb9f3a"
            ],
            [
             0.8888888888888888,
             "#fdca26"
            ],
            [
             1,
             "#f0f921"
            ]
           ],
           "sequentialminus": [
            [
             0,
             "#0d0887"
            ],
            [
             0.1111111111111111,
             "#46039f"
            ],
            [
             0.2222222222222222,
             "#7201a8"
            ],
            [
             0.3333333333333333,
             "#9c179e"
            ],
            [
             0.4444444444444444,
             "#bd3786"
            ],
            [
             0.5555555555555556,
             "#d8576b"
            ],
            [
             0.6666666666666666,
             "#ed7953"
            ],
            [
             0.7777777777777778,
             "#fb9f3a"
            ],
            [
             0.8888888888888888,
             "#fdca26"
            ],
            [
             1,
             "#f0f921"
            ]
           ]
          },
          "colorway": [
           "#636efa",
           "#EF553B",
           "#00cc96",
           "#ab63fa",
           "#FFA15A",
           "#19d3f3",
           "#FF6692",
           "#B6E880",
           "#FF97FF",
           "#FECB52"
          ],
          "font": {
           "color": "#2a3f5f"
          },
          "geo": {
           "bgcolor": "white",
           "lakecolor": "white",
           "landcolor": "#E5ECF6",
           "showlakes": true,
           "showland": true,
           "subunitcolor": "white"
          },
          "hoverlabel": {
           "align": "left"
          },
          "hovermode": "closest",
          "mapbox": {
           "style": "light"
          },
          "paper_bgcolor": "white",
          "plot_bgcolor": "#E5ECF6",
          "polar": {
           "angularaxis": {
            "gridcolor": "white",
            "linecolor": "white",
            "ticks": ""
           },
           "bgcolor": "#E5ECF6",
           "radialaxis": {
            "gridcolor": "white",
            "linecolor": "white",
            "ticks": ""
           }
          },
          "scene": {
           "xaxis": {
            "backgroundcolor": "#E5ECF6",
            "gridcolor": "white",
            "gridwidth": 2,
            "linecolor": "white",
            "showbackground": true,
            "ticks": "",
            "zerolinecolor": "white"
           },
           "yaxis": {
            "backgroundcolor": "#E5ECF6",
            "gridcolor": "white",
            "gridwidth": 2,
            "linecolor": "white",
            "showbackground": true,
            "ticks": "",
            "zerolinecolor": "white"
           },
           "zaxis": {
            "backgroundcolor": "#E5ECF6",
            "gridcolor": "white",
            "gridwidth": 2,
            "linecolor": "white",
            "showbackground": true,
            "ticks": "",
            "zerolinecolor": "white"
           }
          },
          "shapedefaults": {
           "line": {
            "color": "#2a3f5f"
           }
          },
          "ternary": {
           "aaxis": {
            "gridcolor": "white",
            "linecolor": "white",
            "ticks": ""
           },
           "baxis": {
            "gridcolor": "white",
            "linecolor": "white",
            "ticks": ""
           },
           "bgcolor": "#E5ECF6",
           "caxis": {
            "gridcolor": "white",
            "linecolor": "white",
            "ticks": ""
           }
          },
          "title": {
           "x": 0.05
          },
          "xaxis": {
           "automargin": true,
           "gridcolor": "white",
           "linecolor": "white",
           "ticks": "",
           "title": {
            "standoff": 15
           },
           "zerolinecolor": "white",
           "zerolinewidth": 2
          },
          "yaxis": {
           "automargin": true,
           "gridcolor": "white",
           "linecolor": "white",
           "ticks": "",
           "title": {
            "standoff": 15
           },
           "zerolinecolor": "white",
           "zerolinewidth": 2
          }
         }
        },
        "xaxis": {
         "anchor": "y",
         "domain": [
          0,
          1
         ],
         "title": {
          "text": "Description"
         }
        },
        "yaxis": {
         "anchor": "x",
         "domain": [
          0,
          1
         ],
         "title": {
          "text": "All retailing"
         }
        }
       }
      }
     },
     "metadata": {},
     "output_type": "display_data"
    }
   ],
   "source": [
    "import plotly.express as px # barhcart to show value of sales across selected timeline\n",
    "# across all sub-sectors of retail\n",
    "dfb = df1_subset\n",
    "df = px.data.tips()\n",
    "fig = px.bar(dfb, x='Description', y='All retailing')\n",
    "fig.show() "
   ]
  },
  {
   "cell_type": "code",
   "execution_count": 11,
   "metadata": {},
   "outputs": [
    {
     "name": "stdout",
     "output_type": "stream",
     "text": [
      "5.9.0\n"
     ]
    }
   ],
   "source": [
    "# import plotly tools\n",
    "import plotly\n",
    "from plotly import __version__\n",
    "print (__version__)\n",
    "from plotly.offline import download_plotlyjs, init_notebook_mode, plot, iplot"
   ]
  },
  {
   "cell_type": "code",
   "execution_count": 12,
   "metadata": {},
   "outputs": [
    {
     "data": {
      "application/vnd.plotly.v1+json": {
       "config": {
        "plotlyServerURL": "https://plot.ly"
       },
       "data": [
        {
         "hovertemplate": "Description=%{x}<br>All retailing=%{y}<extra></extra>",
         "legendgroup": "",
         "line": {
          "color": "#636efa",
          "dash": "solid"
         },
         "marker": {
          "symbol": "circle"
         },
         "mode": "lines",
         "name": "",
         "orientation": "v",
         "showlegend": false,
         "type": "scatter",
         "x": [
          "2010JAN",
          "2010FEB",
          "2010MAR",
          "2010APR",
          "2010MAY",
          "2010JUN",
          "2010JUL",
          "2010AUG",
          "2010SEP",
          "2010OCT",
          "2010NOV",
          "2010DEC",
          "2011JAN",
          "2011FEB",
          "2011MAR",
          "2011APR",
          "2011MAY",
          "2011JUN",
          "2011JUL",
          "2011AUG",
          "2011SEP",
          "2011OCT",
          "2011NOV",
          "2011DEC",
          "2012JAN",
          "2012FEB",
          "2012MAR",
          "2012APR",
          "2012MAY",
          "2012JUN",
          "2012JUL",
          "2012AUG",
          "2012SEP",
          "2012OCT",
          "2012NOV",
          "2012DEC",
          "2013JAN",
          "2013FEB",
          "2013MAR",
          "2013APR",
          "2013MAY",
          "2013JUN",
          "2013JUL",
          "2013AUG",
          "2013SEP",
          "2013OCT",
          "2013NOV",
          "2013DEC",
          "2014JAN",
          "2014FEB",
          "2014MAR",
          "2014APR",
          "2014MAY",
          "2014JUN",
          "2014JUL",
          "2014AUG",
          "2014SEP",
          "2014OCT",
          "2014NOV",
          "2014DEC",
          "2015JAN",
          "2015FEB",
          "2015MAR",
          "2015APR",
          "2015MAY",
          "2015JUN",
          "2015JUL",
          "2015AUG",
          "2015SEP",
          "2015OCT",
          "2015NOV",
          "2015DEC",
          "2016JAN",
          "2016FEB",
          "2016MAR",
          "2016APR",
          "2016MAY",
          "2016JUN",
          "2016JUL",
          "2016AUG",
          "2016SEP",
          "2016OCT",
          "2016NOV",
          "2016DEC",
          "2017JAN",
          "2017FEB",
          "2017MAR",
          "2017APR",
          "2017MAY",
          "2017JUN",
          "2017JUL",
          "2017AUG",
          "2017SEP",
          "2017OCT",
          "2017NOV",
          "2017DEC",
          "2018JAN",
          "2018FEB",
          "2018MAR",
          "2018APR",
          "2018MAY",
          "2018JUN",
          "2018JUL",
          "2018AUG",
          "2018SEP",
          "2018OCT",
          "2018NOV",
          "2018DEC",
          "2019JAN",
          "2019FEB",
          "2019MAR",
          "2019APR",
          "2019MAY",
          "2019JUN",
          "2019JUL",
          "2019AUG",
          "2019SEP",
          "2019OCT",
          "2019NOV",
          "2019DEC",
          "2020JAN",
          "2020FEB",
          "2020MAR",
          "2020APR",
          "2020MAY",
          "2020JUN",
          "2020JUL",
          "2020AUG",
          "2020SEP",
          "2020OCT",
          "2020NOV",
          "2020DEC",
          "2021JAN",
          "2021FEB",
          "2021MAR",
          "2021APR",
          "2021MAY",
          "2021JUN",
          "2021JUL",
          "2021AUG",
          "2021SEP",
          "2021OCT",
          "2021NOV",
          "2021DEC",
          "2022JAN",
          "2022FEB"
         ],
         "xaxis": "x",
         "y": [
          22639923,
          23260198,
          29149509,
          23514698,
          23515812,
          29474040,
          23584871,
          23503159,
          29193922,
          23526371,
          23710513,
          29103560,
          24124208,
          24160376,
          30194158,
          24609009,
          24169111,
          30207968,
          24300493,
          24277035,
          30481012,
          24665264,
          24515707,
          30950864,
          24768852,
          24596124,
          31445263,
          24461640,
          24520361,
          30689469,
          24480523,
          24776411,
          31189402,
          24887766,
          24756255,
          31036809,
          24794384,
          25187828,
          30787483,
          24512473,
          24935228,
          31392021,
          25312474,
          25121010,
          31764375,
          25163335,
          25227183,
          31641992,
          31715406,
          25355087,
          32111447,
          25523474,
          25502556,
          32164560,
          25647402,
          25568724,
          31765325,
          25491588,
          25609601,
          32362804,
          25304245,
          25444952,
          31871804,
          25569581,
          25641992,
          32077163,
          25581048,
          25282511,
          32147524,
          25294136,
          25366654,
          31624245,
          25631135,
          25458992,
          31709700,
          25383528,
          25672667,
          31788952,
          25932856,
          25718219,
          32183470,
          26186245,
          26064661,
          32510465,
          26092693,
          26365452,
          32697210,
          26635934,
          26295990,
          32829944,
          26330893,
          26557295,
          33277012,
          26767514,
          26968417,
          33714166,
          26995564,
          27042126,
          33027502,
          26883976,
          27276138,
          34123337,
          27460472,
          27602756,
          34428661,
          27418334,
          27886013,
          34803538,
          27817859,
          27879596,
          35032948,
          27873743,
          27719544,
          35403905,
          28193826,
          28029768,
          35096388,
          28036550,
          27966424,
          35006432,
          35117053,
          27621978,
          31230355,
          17953389,
          19549615,
          28563796,
          24912477,
          25345970,
          32335199,
          25913869,
          23745474,
          31105698,
          21005457,
          21009991,
          28489184,
          26464127,
          26690679,
          34252080,
          26767398,
          26549778,
          33140445,
          27195128,
          27873975,
          33464670,
          27566539,
          27888938
         ],
         "yaxis": "y"
        }
       ],
       "layout": {
        "legend": {
         "tracegroupgap": 0
        },
        "margin": {
         "t": 60
        },
        "template": {
         "data": {
          "bar": [
           {
            "error_x": {
             "color": "#2a3f5f"
            },
            "error_y": {
             "color": "#2a3f5f"
            },
            "marker": {
             "line": {
              "color": "#E5ECF6",
              "width": 0.5
             },
             "pattern": {
              "fillmode": "overlay",
              "size": 10,
              "solidity": 0.2
             }
            },
            "type": "bar"
           }
          ],
          "barpolar": [
           {
            "marker": {
             "line": {
              "color": "#E5ECF6",
              "width": 0.5
             },
             "pattern": {
              "fillmode": "overlay",
              "size": 10,
              "solidity": 0.2
             }
            },
            "type": "barpolar"
           }
          ],
          "carpet": [
           {
            "aaxis": {
             "endlinecolor": "#2a3f5f",
             "gridcolor": "white",
             "linecolor": "white",
             "minorgridcolor": "white",
             "startlinecolor": "#2a3f5f"
            },
            "baxis": {
             "endlinecolor": "#2a3f5f",
             "gridcolor": "white",
             "linecolor": "white",
             "minorgridcolor": "white",
             "startlinecolor": "#2a3f5f"
            },
            "type": "carpet"
           }
          ],
          "choropleth": [
           {
            "colorbar": {
             "outlinewidth": 0,
             "ticks": ""
            },
            "type": "choropleth"
           }
          ],
          "contour": [
           {
            "colorbar": {
             "outlinewidth": 0,
             "ticks": ""
            },
            "colorscale": [
             [
              0,
              "#0d0887"
             ],
             [
              0.1111111111111111,
              "#46039f"
             ],
             [
              0.2222222222222222,
              "#7201a8"
             ],
             [
              0.3333333333333333,
              "#9c179e"
             ],
             [
              0.4444444444444444,
              "#bd3786"
             ],
             [
              0.5555555555555556,
              "#d8576b"
             ],
             [
              0.6666666666666666,
              "#ed7953"
             ],
             [
              0.7777777777777778,
              "#fb9f3a"
             ],
             [
              0.8888888888888888,
              "#fdca26"
             ],
             [
              1,
              "#f0f921"
             ]
            ],
            "type": "contour"
           }
          ],
          "contourcarpet": [
           {
            "colorbar": {
             "outlinewidth": 0,
             "ticks": ""
            },
            "type": "contourcarpet"
           }
          ],
          "heatmap": [
           {
            "colorbar": {
             "outlinewidth": 0,
             "ticks": ""
            },
            "colorscale": [
             [
              0,
              "#0d0887"
             ],
             [
              0.1111111111111111,
              "#46039f"
             ],
             [
              0.2222222222222222,
              "#7201a8"
             ],
             [
              0.3333333333333333,
              "#9c179e"
             ],
             [
              0.4444444444444444,
              "#bd3786"
             ],
             [
              0.5555555555555556,
              "#d8576b"
             ],
             [
              0.6666666666666666,
              "#ed7953"
             ],
             [
              0.7777777777777778,
              "#fb9f3a"
             ],
             [
              0.8888888888888888,
              "#fdca26"
             ],
             [
              1,
              "#f0f921"
             ]
            ],
            "type": "heatmap"
           }
          ],
          "heatmapgl": [
           {
            "colorbar": {
             "outlinewidth": 0,
             "ticks": ""
            },
            "colorscale": [
             [
              0,
              "#0d0887"
             ],
             [
              0.1111111111111111,
              "#46039f"
             ],
             [
              0.2222222222222222,
              "#7201a8"
             ],
             [
              0.3333333333333333,
              "#9c179e"
             ],
             [
              0.4444444444444444,
              "#bd3786"
             ],
             [
              0.5555555555555556,
              "#d8576b"
             ],
             [
              0.6666666666666666,
              "#ed7953"
             ],
             [
              0.7777777777777778,
              "#fb9f3a"
             ],
             [
              0.8888888888888888,
              "#fdca26"
             ],
             [
              1,
              "#f0f921"
             ]
            ],
            "type": "heatmapgl"
           }
          ],
          "histogram": [
           {
            "marker": {
             "pattern": {
              "fillmode": "overlay",
              "size": 10,
              "solidity": 0.2
             }
            },
            "type": "histogram"
           }
          ],
          "histogram2d": [
           {
            "colorbar": {
             "outlinewidth": 0,
             "ticks": ""
            },
            "colorscale": [
             [
              0,
              "#0d0887"
             ],
             [
              0.1111111111111111,
              "#46039f"
             ],
             [
              0.2222222222222222,
              "#7201a8"
             ],
             [
              0.3333333333333333,
              "#9c179e"
             ],
             [
              0.4444444444444444,
              "#bd3786"
             ],
             [
              0.5555555555555556,
              "#d8576b"
             ],
             [
              0.6666666666666666,
              "#ed7953"
             ],
             [
              0.7777777777777778,
              "#fb9f3a"
             ],
             [
              0.8888888888888888,
              "#fdca26"
             ],
             [
              1,
              "#f0f921"
             ]
            ],
            "type": "histogram2d"
           }
          ],
          "histogram2dcontour": [
           {
            "colorbar": {
             "outlinewidth": 0,
             "ticks": ""
            },
            "colorscale": [
             [
              0,
              "#0d0887"
             ],
             [
              0.1111111111111111,
              "#46039f"
             ],
             [
              0.2222222222222222,
              "#7201a8"
             ],
             [
              0.3333333333333333,
              "#9c179e"
             ],
             [
              0.4444444444444444,
              "#bd3786"
             ],
             [
              0.5555555555555556,
              "#d8576b"
             ],
             [
              0.6666666666666666,
              "#ed7953"
             ],
             [
              0.7777777777777778,
              "#fb9f3a"
             ],
             [
              0.8888888888888888,
              "#fdca26"
             ],
             [
              1,
              "#f0f921"
             ]
            ],
            "type": "histogram2dcontour"
           }
          ],
          "mesh3d": [
           {
            "colorbar": {
             "outlinewidth": 0,
             "ticks": ""
            },
            "type": "mesh3d"
           }
          ],
          "parcoords": [
           {
            "line": {
             "colorbar": {
              "outlinewidth": 0,
              "ticks": ""
             }
            },
            "type": "parcoords"
           }
          ],
          "pie": [
           {
            "automargin": true,
            "type": "pie"
           }
          ],
          "scatter": [
           {
            "fillpattern": {
             "fillmode": "overlay",
             "size": 10,
             "solidity": 0.2
            },
            "type": "scatter"
           }
          ],
          "scatter3d": [
           {
            "line": {
             "colorbar": {
              "outlinewidth": 0,
              "ticks": ""
             }
            },
            "marker": {
             "colorbar": {
              "outlinewidth": 0,
              "ticks": ""
             }
            },
            "type": "scatter3d"
           }
          ],
          "scattercarpet": [
           {
            "marker": {
             "colorbar": {
              "outlinewidth": 0,
              "ticks": ""
             }
            },
            "type": "scattercarpet"
           }
          ],
          "scattergeo": [
           {
            "marker": {
             "colorbar": {
              "outlinewidth": 0,
              "ticks": ""
             }
            },
            "type": "scattergeo"
           }
          ],
          "scattergl": [
           {
            "marker": {
             "colorbar": {
              "outlinewidth": 0,
              "ticks": ""
             }
            },
            "type": "scattergl"
           }
          ],
          "scattermapbox": [
           {
            "marker": {
             "colorbar": {
              "outlinewidth": 0,
              "ticks": ""
             }
            },
            "type": "scattermapbox"
           }
          ],
          "scatterpolar": [
           {
            "marker": {
             "colorbar": {
              "outlinewidth": 0,
              "ticks": ""
             }
            },
            "type": "scatterpolar"
           }
          ],
          "scatterpolargl": [
           {
            "marker": {
             "colorbar": {
              "outlinewidth": 0,
              "ticks": ""
             }
            },
            "type": "scatterpolargl"
           }
          ],
          "scatterternary": [
           {
            "marker": {
             "colorbar": {
              "outlinewidth": 0,
              "ticks": ""
             }
            },
            "type": "scatterternary"
           }
          ],
          "surface": [
           {
            "colorbar": {
             "outlinewidth": 0,
             "ticks": ""
            },
            "colorscale": [
             [
              0,
              "#0d0887"
             ],
             [
              0.1111111111111111,
              "#46039f"
             ],
             [
              0.2222222222222222,
              "#7201a8"
             ],
             [
              0.3333333333333333,
              "#9c179e"
             ],
             [
              0.4444444444444444,
              "#bd3786"
             ],
             [
              0.5555555555555556,
              "#d8576b"
             ],
             [
              0.6666666666666666,
              "#ed7953"
             ],
             [
              0.7777777777777778,
              "#fb9f3a"
             ],
             [
              0.8888888888888888,
              "#fdca26"
             ],
             [
              1,
              "#f0f921"
             ]
            ],
            "type": "surface"
           }
          ],
          "table": [
           {
            "cells": {
             "fill": {
              "color": "#EBF0F8"
             },
             "line": {
              "color": "white"
             }
            },
            "header": {
             "fill": {
              "color": "#C8D4E3"
             },
             "line": {
              "color": "white"
             }
            },
            "type": "table"
           }
          ]
         },
         "layout": {
          "annotationdefaults": {
           "arrowcolor": "#2a3f5f",
           "arrowhead": 0,
           "arrowwidth": 1
          },
          "autotypenumbers": "strict",
          "coloraxis": {
           "colorbar": {
            "outlinewidth": 0,
            "ticks": ""
           }
          },
          "colorscale": {
           "diverging": [
            [
             0,
             "#8e0152"
            ],
            [
             0.1,
             "#c51b7d"
            ],
            [
             0.2,
             "#de77ae"
            ],
            [
             0.3,
             "#f1b6da"
            ],
            [
             0.4,
             "#fde0ef"
            ],
            [
             0.5,
             "#f7f7f7"
            ],
            [
             0.6,
             "#e6f5d0"
            ],
            [
             0.7,
             "#b8e186"
            ],
            [
             0.8,
             "#7fbc41"
            ],
            [
             0.9,
             "#4d9221"
            ],
            [
             1,
             "#276419"
            ]
           ],
           "sequential": [
            [
             0,
             "#0d0887"
            ],
            [
             0.1111111111111111,
             "#46039f"
            ],
            [
             0.2222222222222222,
             "#7201a8"
            ],
            [
             0.3333333333333333,
             "#9c179e"
            ],
            [
             0.4444444444444444,
             "#bd3786"
            ],
            [
             0.5555555555555556,
             "#d8576b"
            ],
            [
             0.6666666666666666,
             "#ed7953"
            ],
            [
             0.7777777777777778,
             "#fb9f3a"
            ],
            [
             0.8888888888888888,
             "#fdca26"
            ],
            [
             1,
             "#f0f921"
            ]
           ],
           "sequentialminus": [
            [
             0,
             "#0d0887"
            ],
            [
             0.1111111111111111,
             "#46039f"
            ],
            [
             0.2222222222222222,
             "#7201a8"
            ],
            [
             0.3333333333333333,
             "#9c179e"
            ],
            [
             0.4444444444444444,
             "#bd3786"
            ],
            [
             0.5555555555555556,
             "#d8576b"
            ],
            [
             0.6666666666666666,
             "#ed7953"
            ],
            [
             0.7777777777777778,
             "#fb9f3a"
            ],
            [
             0.8888888888888888,
             "#fdca26"
            ],
            [
             1,
             "#f0f921"
            ]
           ]
          },
          "colorway": [
           "#636efa",
           "#EF553B",
           "#00cc96",
           "#ab63fa",
           "#FFA15A",
           "#19d3f3",
           "#FF6692",
           "#B6E880",
           "#FF97FF",
           "#FECB52"
          ],
          "font": {
           "color": "#2a3f5f"
          },
          "geo": {
           "bgcolor": "white",
           "lakecolor": "white",
           "landcolor": "#E5ECF6",
           "showlakes": true,
           "showland": true,
           "subunitcolor": "white"
          },
          "hoverlabel": {
           "align": "left"
          },
          "hovermode": "closest",
          "mapbox": {
           "style": "light"
          },
          "paper_bgcolor": "white",
          "plot_bgcolor": "#E5ECF6",
          "polar": {
           "angularaxis": {
            "gridcolor": "white",
            "linecolor": "white",
            "ticks": ""
           },
           "bgcolor": "#E5ECF6",
           "radialaxis": {
            "gridcolor": "white",
            "linecolor": "white",
            "ticks": ""
           }
          },
          "scene": {
           "xaxis": {
            "backgroundcolor": "#E5ECF6",
            "gridcolor": "white",
            "gridwidth": 2,
            "linecolor": "white",
            "showbackground": true,
            "ticks": "",
            "zerolinecolor": "white"
           },
           "yaxis": {
            "backgroundcolor": "#E5ECF6",
            "gridcolor": "white",
            "gridwidth": 2,
            "linecolor": "white",
            "showbackground": true,
            "ticks": "",
            "zerolinecolor": "white"
           },
           "zaxis": {
            "backgroundcolor": "#E5ECF6",
            "gridcolor": "white",
            "gridwidth": 2,
            "linecolor": "white",
            "showbackground": true,
            "ticks": "",
            "zerolinecolor": "white"
           }
          },
          "shapedefaults": {
           "line": {
            "color": "#2a3f5f"
           }
          },
          "ternary": {
           "aaxis": {
            "gridcolor": "white",
            "linecolor": "white",
            "ticks": ""
           },
           "baxis": {
            "gridcolor": "white",
            "linecolor": "white",
            "ticks": ""
           },
           "bgcolor": "#E5ECF6",
           "caxis": {
            "gridcolor": "white",
            "linecolor": "white",
            "ticks": ""
           }
          },
          "title": {
           "x": 0.05
          },
          "xaxis": {
           "automargin": true,
           "gridcolor": "white",
           "linecolor": "white",
           "ticks": "",
           "title": {
            "standoff": 15
           },
           "zerolinecolor": "white",
           "zerolinewidth": 2
          },
          "yaxis": {
           "automargin": true,
           "gridcolor": "white",
           "linecolor": "white",
           "ticks": "",
           "title": {
            "standoff": 15
           },
           "zerolinecolor": "white",
           "zerolinewidth": 2
          }
         }
        },
        "xaxis": {
         "anchor": "y",
         "domain": [
          0,
          1
         ],
         "title": {
          "text": "Description"
         }
        },
        "yaxis": {
         "anchor": "x",
         "domain": [
          0,
          1
         ],
         "title": {
          "text": "All retailing"
         }
        }
       }
      }
     },
     "metadata": {},
     "output_type": "display_data"
    }
   ],
   "source": [
    "import plotly.express as px # linechart to show value of sales across selected timeline\n",
    "dfb = df1_subset\n",
    "df = px.data.tips()\n",
    "fig = px.line(dfb, x='Description', y='All retailing')  \n",
    "fig.show() "
   ]
  },
  {
   "cell_type": "code",
   "execution_count": 13,
   "metadata": {},
   "outputs": [
    {
     "data": {
      "application/vnd.plotly.v1+json": {
       "config": {
        "plotlyServerURL": "https://plot.ly"
       },
       "data": [
        {
         "hovertemplate": "Description=%{x}<br>All retailing=%{y}<extra></extra>",
         "legendgroup": "",
         "line": {
          "color": "#636efa",
          "dash": "solid"
         },
         "marker": {
          "symbol": "circle"
         },
         "mode": "lines",
         "name": "",
         "orientation": "v",
         "showlegend": false,
         "type": "scatter",
         "x": [
          "2010JAN",
          "2010FEB",
          "2010MAR",
          "2010APR",
          "2010MAY",
          "2010JUN",
          "2010JUL",
          "2010AUG",
          "2010SEP",
          "2010OCT",
          "2010NOV",
          "2010DEC",
          "2011JAN",
          "2011FEB",
          "2011MAR",
          "2011APR",
          "2011MAY",
          "2011JUN",
          "2011JUL",
          "2011AUG",
          "2011SEP",
          "2011OCT",
          "2011NOV",
          "2011DEC",
          "2012JAN",
          "2012FEB",
          "2012MAR",
          "2012APR",
          "2012MAY",
          "2012JUN",
          "2012JUL",
          "2012AUG",
          "2012SEP",
          "2012OCT",
          "2012NOV",
          "2012DEC",
          "2013JAN",
          "2013FEB",
          "2013MAR",
          "2013APR",
          "2013MAY",
          "2013JUN",
          "2013JUL",
          "2013AUG",
          "2013SEP",
          "2013OCT",
          "2013NOV",
          "2013DEC",
          "2014JAN",
          "2014FEB",
          "2014MAR",
          "2014APR",
          "2014MAY",
          "2014JUN",
          "2014JUL",
          "2014AUG",
          "2014SEP",
          "2014OCT",
          "2014NOV",
          "2014DEC",
          "2015JAN",
          "2015FEB",
          "2015MAR",
          "2015APR",
          "2015MAY",
          "2015JUN",
          "2015JUL",
          "2015AUG",
          "2015SEP",
          "2015OCT",
          "2015NOV",
          "2015DEC",
          "2016JAN",
          "2016FEB",
          "2016MAR",
          "2016APR",
          "2016MAY",
          "2016JUN",
          "2016JUL",
          "2016AUG",
          "2016SEP",
          "2016OCT",
          "2016NOV",
          "2016DEC",
          "2017JAN",
          "2017FEB",
          "2017MAR",
          "2017APR",
          "2017MAY",
          "2017JUN",
          "2017JUL",
          "2017AUG",
          "2017SEP",
          "2017OCT",
          "2017NOV",
          "2017DEC",
          "2018JAN",
          "2018FEB",
          "2018MAR",
          "2018APR",
          "2018MAY",
          "2018JUN",
          "2018JUL",
          "2018AUG",
          "2018SEP",
          "2018OCT",
          "2018NOV",
          "2018DEC",
          "2019JAN",
          "2019FEB",
          "2019MAR",
          "2019APR",
          "2019MAY",
          "2019JUN",
          "2019JUL",
          "2019AUG",
          "2019SEP",
          "2019OCT",
          "2019NOV",
          "2019DEC"
         ],
         "xaxis": "x",
         "y": [
          22639923,
          23260198,
          29149509,
          23514698,
          23515812,
          29474040,
          23584871,
          23503159,
          29193922,
          23526371,
          23710513,
          29103560,
          24124208,
          24160376,
          30194158,
          24609009,
          24169111,
          30207968,
          24300493,
          24277035,
          30481012,
          24665264,
          24515707,
          30950864,
          24768852,
          24596124,
          31445263,
          24461640,
          24520361,
          30689469,
          24480523,
          24776411,
          31189402,
          24887766,
          24756255,
          31036809,
          24794384,
          25187828,
          30787483,
          24512473,
          24935228,
          31392021,
          25312474,
          25121010,
          31764375,
          25163335,
          25227183,
          31641992,
          31715406,
          25355087,
          32111447,
          25523474,
          25502556,
          32164560,
          25647402,
          25568724,
          31765325,
          25491588,
          25609601,
          32362804,
          25304245,
          25444952,
          31871804,
          25569581,
          25641992,
          32077163,
          25581048,
          25282511,
          32147524,
          25294136,
          25366654,
          31624245,
          25631135,
          25458992,
          31709700,
          25383528,
          25672667,
          31788952,
          25932856,
          25718219,
          32183470,
          26186245,
          26064661,
          32510465,
          26092693,
          26365452,
          32697210,
          26635934,
          26295990,
          32829944,
          26330893,
          26557295,
          33277012,
          26767514,
          26968417,
          33714166,
          26995564,
          27042126,
          33027502,
          26883976,
          27276138,
          34123337,
          27460472,
          27602756,
          34428661,
          27418334,
          27886013,
          34803538,
          27817859,
          27879596,
          35032948,
          27873743,
          27719544,
          35403905,
          28193826,
          28029768,
          35096388,
          28036550,
          27966424,
          35006432
         ],
         "yaxis": "y"
        }
       ],
       "layout": {
        "legend": {
         "tracegroupgap": 0
        },
        "margin": {
         "t": 60
        },
        "template": {
         "data": {
          "bar": [
           {
            "error_x": {
             "color": "#2a3f5f"
            },
            "error_y": {
             "color": "#2a3f5f"
            },
            "marker": {
             "line": {
              "color": "#E5ECF6",
              "width": 0.5
             },
             "pattern": {
              "fillmode": "overlay",
              "size": 10,
              "solidity": 0.2
             }
            },
            "type": "bar"
           }
          ],
          "barpolar": [
           {
            "marker": {
             "line": {
              "color": "#E5ECF6",
              "width": 0.5
             },
             "pattern": {
              "fillmode": "overlay",
              "size": 10,
              "solidity": 0.2
             }
            },
            "type": "barpolar"
           }
          ],
          "carpet": [
           {
            "aaxis": {
             "endlinecolor": "#2a3f5f",
             "gridcolor": "white",
             "linecolor": "white",
             "minorgridcolor": "white",
             "startlinecolor": "#2a3f5f"
            },
            "baxis": {
             "endlinecolor": "#2a3f5f",
             "gridcolor": "white",
             "linecolor": "white",
             "minorgridcolor": "white",
             "startlinecolor": "#2a3f5f"
            },
            "type": "carpet"
           }
          ],
          "choropleth": [
           {
            "colorbar": {
             "outlinewidth": 0,
             "ticks": ""
            },
            "type": "choropleth"
           }
          ],
          "contour": [
           {
            "colorbar": {
             "outlinewidth": 0,
             "ticks": ""
            },
            "colorscale": [
             [
              0,
              "#0d0887"
             ],
             [
              0.1111111111111111,
              "#46039f"
             ],
             [
              0.2222222222222222,
              "#7201a8"
             ],
             [
              0.3333333333333333,
              "#9c179e"
             ],
             [
              0.4444444444444444,
              "#bd3786"
             ],
             [
              0.5555555555555556,
              "#d8576b"
             ],
             [
              0.6666666666666666,
              "#ed7953"
             ],
             [
              0.7777777777777778,
              "#fb9f3a"
             ],
             [
              0.8888888888888888,
              "#fdca26"
             ],
             [
              1,
              "#f0f921"
             ]
            ],
            "type": "contour"
           }
          ],
          "contourcarpet": [
           {
            "colorbar": {
             "outlinewidth": 0,
             "ticks": ""
            },
            "type": "contourcarpet"
           }
          ],
          "heatmap": [
           {
            "colorbar": {
             "outlinewidth": 0,
             "ticks": ""
            },
            "colorscale": [
             [
              0,
              "#0d0887"
             ],
             [
              0.1111111111111111,
              "#46039f"
             ],
             [
              0.2222222222222222,
              "#7201a8"
             ],
             [
              0.3333333333333333,
              "#9c179e"
             ],
             [
              0.4444444444444444,
              "#bd3786"
             ],
             [
              0.5555555555555556,
              "#d8576b"
             ],
             [
              0.6666666666666666,
              "#ed7953"
             ],
             [
              0.7777777777777778,
              "#fb9f3a"
             ],
             [
              0.8888888888888888,
              "#fdca26"
             ],
             [
              1,
              "#f0f921"
             ]
            ],
            "type": "heatmap"
           }
          ],
          "heatmapgl": [
           {
            "colorbar": {
             "outlinewidth": 0,
             "ticks": ""
            },
            "colorscale": [
             [
              0,
              "#0d0887"
             ],
             [
              0.1111111111111111,
              "#46039f"
             ],
             [
              0.2222222222222222,
              "#7201a8"
             ],
             [
              0.3333333333333333,
              "#9c179e"
             ],
             [
              0.4444444444444444,
              "#bd3786"
             ],
             [
              0.5555555555555556,
              "#d8576b"
             ],
             [
              0.6666666666666666,
              "#ed7953"
             ],
             [
              0.7777777777777778,
              "#fb9f3a"
             ],
             [
              0.8888888888888888,
              "#fdca26"
             ],
             [
              1,
              "#f0f921"
             ]
            ],
            "type": "heatmapgl"
           }
          ],
          "histogram": [
           {
            "marker": {
             "pattern": {
              "fillmode": "overlay",
              "size": 10,
              "solidity": 0.2
             }
            },
            "type": "histogram"
           }
          ],
          "histogram2d": [
           {
            "colorbar": {
             "outlinewidth": 0,
             "ticks": ""
            },
            "colorscale": [
             [
              0,
              "#0d0887"
             ],
             [
              0.1111111111111111,
              "#46039f"
             ],
             [
              0.2222222222222222,
              "#7201a8"
             ],
             [
              0.3333333333333333,
              "#9c179e"
             ],
             [
              0.4444444444444444,
              "#bd3786"
             ],
             [
              0.5555555555555556,
              "#d8576b"
             ],
             [
              0.6666666666666666,
              "#ed7953"
             ],
             [
              0.7777777777777778,
              "#fb9f3a"
             ],
             [
              0.8888888888888888,
              "#fdca26"
             ],
             [
              1,
              "#f0f921"
             ]
            ],
            "type": "histogram2d"
           }
          ],
          "histogram2dcontour": [
           {
            "colorbar": {
             "outlinewidth": 0,
             "ticks": ""
            },
            "colorscale": [
             [
              0,
              "#0d0887"
             ],
             [
              0.1111111111111111,
              "#46039f"
             ],
             [
              0.2222222222222222,
              "#7201a8"
             ],
             [
              0.3333333333333333,
              "#9c179e"
             ],
             [
              0.4444444444444444,
              "#bd3786"
             ],
             [
              0.5555555555555556,
              "#d8576b"
             ],
             [
              0.6666666666666666,
              "#ed7953"
             ],
             [
              0.7777777777777778,
              "#fb9f3a"
             ],
             [
              0.8888888888888888,
              "#fdca26"
             ],
             [
              1,
              "#f0f921"
             ]
            ],
            "type": "histogram2dcontour"
           }
          ],
          "mesh3d": [
           {
            "colorbar": {
             "outlinewidth": 0,
             "ticks": ""
            },
            "type": "mesh3d"
           }
          ],
          "parcoords": [
           {
            "line": {
             "colorbar": {
              "outlinewidth": 0,
              "ticks": ""
             }
            },
            "type": "parcoords"
           }
          ],
          "pie": [
           {
            "automargin": true,
            "type": "pie"
           }
          ],
          "scatter": [
           {
            "fillpattern": {
             "fillmode": "overlay",
             "size": 10,
             "solidity": 0.2
            },
            "type": "scatter"
           }
          ],
          "scatter3d": [
           {
            "line": {
             "colorbar": {
              "outlinewidth": 0,
              "ticks": ""
             }
            },
            "marker": {
             "colorbar": {
              "outlinewidth": 0,
              "ticks": ""
             }
            },
            "type": "scatter3d"
           }
          ],
          "scattercarpet": [
           {
            "marker": {
             "colorbar": {
              "outlinewidth": 0,
              "ticks": ""
             }
            },
            "type": "scattercarpet"
           }
          ],
          "scattergeo": [
           {
            "marker": {
             "colorbar": {
              "outlinewidth": 0,
              "ticks": ""
             }
            },
            "type": "scattergeo"
           }
          ],
          "scattergl": [
           {
            "marker": {
             "colorbar": {
              "outlinewidth": 0,
              "ticks": ""
             }
            },
            "type": "scattergl"
           }
          ],
          "scattermapbox": [
           {
            "marker": {
             "colorbar": {
              "outlinewidth": 0,
              "ticks": ""
             }
            },
            "type": "scattermapbox"
           }
          ],
          "scatterpolar": [
           {
            "marker": {
             "colorbar": {
              "outlinewidth": 0,
              "ticks": ""
             }
            },
            "type": "scatterpolar"
           }
          ],
          "scatterpolargl": [
           {
            "marker": {
             "colorbar": {
              "outlinewidth": 0,
              "ticks": ""
             }
            },
            "type": "scatterpolargl"
           }
          ],
          "scatterternary": [
           {
            "marker": {
             "colorbar": {
              "outlinewidth": 0,
              "ticks": ""
             }
            },
            "type": "scatterternary"
           }
          ],
          "surface": [
           {
            "colorbar": {
             "outlinewidth": 0,
             "ticks": ""
            },
            "colorscale": [
             [
              0,
              "#0d0887"
             ],
             [
              0.1111111111111111,
              "#46039f"
             ],
             [
              0.2222222222222222,
              "#7201a8"
             ],
             [
              0.3333333333333333,
              "#9c179e"
             ],
             [
              0.4444444444444444,
              "#bd3786"
             ],
             [
              0.5555555555555556,
              "#d8576b"
             ],
             [
              0.6666666666666666,
              "#ed7953"
             ],
             [
              0.7777777777777778,
              "#fb9f3a"
             ],
             [
              0.8888888888888888,
              "#fdca26"
             ],
             [
              1,
              "#f0f921"
             ]
            ],
            "type": "surface"
           }
          ],
          "table": [
           {
            "cells": {
             "fill": {
              "color": "#EBF0F8"
             },
             "line": {
              "color": "white"
             }
            },
            "header": {
             "fill": {
              "color": "#C8D4E3"
             },
             "line": {
              "color": "white"
             }
            },
            "type": "table"
           }
          ]
         },
         "layout": {
          "annotationdefaults": {
           "arrowcolor": "#2a3f5f",
           "arrowhead": 0,
           "arrowwidth": 1
          },
          "autotypenumbers": "strict",
          "coloraxis": {
           "colorbar": {
            "outlinewidth": 0,
            "ticks": ""
           }
          },
          "colorscale": {
           "diverging": [
            [
             0,
             "#8e0152"
            ],
            [
             0.1,
             "#c51b7d"
            ],
            [
             0.2,
             "#de77ae"
            ],
            [
             0.3,
             "#f1b6da"
            ],
            [
             0.4,
             "#fde0ef"
            ],
            [
             0.5,
             "#f7f7f7"
            ],
            [
             0.6,
             "#e6f5d0"
            ],
            [
             0.7,
             "#b8e186"
            ],
            [
             0.8,
             "#7fbc41"
            ],
            [
             0.9,
             "#4d9221"
            ],
            [
             1,
             "#276419"
            ]
           ],
           "sequential": [
            [
             0,
             "#0d0887"
            ],
            [
             0.1111111111111111,
             "#46039f"
            ],
            [
             0.2222222222222222,
             "#7201a8"
            ],
            [
             0.3333333333333333,
             "#9c179e"
            ],
            [
             0.4444444444444444,
             "#bd3786"
            ],
            [
             0.5555555555555556,
             "#d8576b"
            ],
            [
             0.6666666666666666,
             "#ed7953"
            ],
            [
             0.7777777777777778,
             "#fb9f3a"
            ],
            [
             0.8888888888888888,
             "#fdca26"
            ],
            [
             1,
             "#f0f921"
            ]
           ],
           "sequentialminus": [
            [
             0,
             "#0d0887"
            ],
            [
             0.1111111111111111,
             "#46039f"
            ],
            [
             0.2222222222222222,
             "#7201a8"
            ],
            [
             0.3333333333333333,
             "#9c179e"
            ],
            [
             0.4444444444444444,
             "#bd3786"
            ],
            [
             0.5555555555555556,
             "#d8576b"
            ],
            [
             0.6666666666666666,
             "#ed7953"
            ],
            [
             0.7777777777777778,
             "#fb9f3a"
            ],
            [
             0.8888888888888888,
             "#fdca26"
            ],
            [
             1,
             "#f0f921"
            ]
           ]
          },
          "colorway": [
           "#636efa",
           "#EF553B",
           "#00cc96",
           "#ab63fa",
           "#FFA15A",
           "#19d3f3",
           "#FF6692",
           "#B6E880",
           "#FF97FF",
           "#FECB52"
          ],
          "font": {
           "color": "#2a3f5f"
          },
          "geo": {
           "bgcolor": "white",
           "lakecolor": "white",
           "landcolor": "#E5ECF6",
           "showlakes": true,
           "showland": true,
           "subunitcolor": "white"
          },
          "hoverlabel": {
           "align": "left"
          },
          "hovermode": "closest",
          "mapbox": {
           "style": "light"
          },
          "paper_bgcolor": "white",
          "plot_bgcolor": "#E5ECF6",
          "polar": {
           "angularaxis": {
            "gridcolor": "white",
            "linecolor": "white",
            "ticks": ""
           },
           "bgcolor": "#E5ECF6",
           "radialaxis": {
            "gridcolor": "white",
            "linecolor": "white",
            "ticks": ""
           }
          },
          "scene": {
           "xaxis": {
            "backgroundcolor": "#E5ECF6",
            "gridcolor": "white",
            "gridwidth": 2,
            "linecolor": "white",
            "showbackground": true,
            "ticks": "",
            "zerolinecolor": "white"
           },
           "yaxis": {
            "backgroundcolor": "#E5ECF6",
            "gridcolor": "white",
            "gridwidth": 2,
            "linecolor": "white",
            "showbackground": true,
            "ticks": "",
            "zerolinecolor": "white"
           },
           "zaxis": {
            "backgroundcolor": "#E5ECF6",
            "gridcolor": "white",
            "gridwidth": 2,
            "linecolor": "white",
            "showbackground": true,
            "ticks": "",
            "zerolinecolor": "white"
           }
          },
          "shapedefaults": {
           "line": {
            "color": "#2a3f5f"
           }
          },
          "ternary": {
           "aaxis": {
            "gridcolor": "white",
            "linecolor": "white",
            "ticks": ""
           },
           "baxis": {
            "gridcolor": "white",
            "linecolor": "white",
            "ticks": ""
           },
           "bgcolor": "#E5ECF6",
           "caxis": {
            "gridcolor": "white",
            "linecolor": "white",
            "ticks": ""
           }
          },
          "title": {
           "x": 0.05
          },
          "xaxis": {
           "automargin": true,
           "gridcolor": "white",
           "linecolor": "white",
           "ticks": "",
           "title": {
            "standoff": 15
           },
           "zerolinecolor": "white",
           "zerolinewidth": 2
          },
          "yaxis": {
           "automargin": true,
           "gridcolor": "white",
           "linecolor": "white",
           "ticks": "",
           "title": {
            "standoff": 15
           },
           "zerolinecolor": "white",
           "zerolinewidth": 2
          }
         }
        },
        "xaxis": {
         "anchor": "y",
         "domain": [
          0,
          1
         ],
         "title": {
          "text": "Description"
         }
        },
        "yaxis": {
         "anchor": "x",
         "domain": [
          0,
          1
         ],
         "title": {
          "text": "All retailing"
         }
        }
       }
      }
     },
     "metadata": {},
     "output_type": "display_data"
    }
   ],
   "source": [
    "import plotly.express as px # linechart to show value of sales across selected timeline - before covid\n",
    "dfb = df_preCOVID\n",
    "df = px.data.tips()\n",
    "fig = px.line(dfb, x='Description', y='All retailing')  \n",
    "fig.show() "
   ]
  },
  {
   "cell_type": "code",
   "execution_count": 14,
   "metadata": {},
   "outputs": [
    {
     "data": {
      "application/vnd.plotly.v1+json": {
       "config": {
        "plotlyServerURL": "https://plot.ly"
       },
       "data": [
        {
         "hovertemplate": "Description=%{x}<br>All retailing=%{y}<extra></extra>",
         "legendgroup": "",
         "line": {
          "color": "#636efa",
          "dash": "solid"
         },
         "marker": {
          "symbol": "circle"
         },
         "mode": "lines",
         "name": "",
         "orientation": "v",
         "showlegend": false,
         "type": "scatter",
         "x": [
          "2020JAN",
          "2020FEB",
          "2020MAR",
          "2020APR",
          "2020MAY",
          "2020JUN",
          "2020JUL",
          "2020AUG",
          "2020SEP",
          "2020OCT",
          "2020NOV",
          "2020DEC",
          "2021JAN",
          "2021FEB",
          "2021MAR",
          "2021APR",
          "2021MAY",
          "2021JUN",
          "2021JUL",
          "2021AUG",
          "2021SEP",
          "2021OCT",
          "2021NOV",
          "2021DEC"
         ],
         "xaxis": "x",
         "y": [
          35117053,
          27621978,
          31230355,
          17953389,
          19549615,
          28563796,
          24912477,
          25345970,
          32335199,
          25913869,
          23745474,
          31105698,
          21005457,
          21009991,
          28489184,
          26464127,
          26690679,
          34252080,
          26767398,
          26549778,
          33140445,
          27195128,
          27873975,
          33464670
         ],
         "yaxis": "y"
        }
       ],
       "layout": {
        "legend": {
         "tracegroupgap": 0
        },
        "margin": {
         "t": 60
        },
        "template": {
         "data": {
          "bar": [
           {
            "error_x": {
             "color": "#2a3f5f"
            },
            "error_y": {
             "color": "#2a3f5f"
            },
            "marker": {
             "line": {
              "color": "#E5ECF6",
              "width": 0.5
             },
             "pattern": {
              "fillmode": "overlay",
              "size": 10,
              "solidity": 0.2
             }
            },
            "type": "bar"
           }
          ],
          "barpolar": [
           {
            "marker": {
             "line": {
              "color": "#E5ECF6",
              "width": 0.5
             },
             "pattern": {
              "fillmode": "overlay",
              "size": 10,
              "solidity": 0.2
             }
            },
            "type": "barpolar"
           }
          ],
          "carpet": [
           {
            "aaxis": {
             "endlinecolor": "#2a3f5f",
             "gridcolor": "white",
             "linecolor": "white",
             "minorgridcolor": "white",
             "startlinecolor": "#2a3f5f"
            },
            "baxis": {
             "endlinecolor": "#2a3f5f",
             "gridcolor": "white",
             "linecolor": "white",
             "minorgridcolor": "white",
             "startlinecolor": "#2a3f5f"
            },
            "type": "carpet"
           }
          ],
          "choropleth": [
           {
            "colorbar": {
             "outlinewidth": 0,
             "ticks": ""
            },
            "type": "choropleth"
           }
          ],
          "contour": [
           {
            "colorbar": {
             "outlinewidth": 0,
             "ticks": ""
            },
            "colorscale": [
             [
              0,
              "#0d0887"
             ],
             [
              0.1111111111111111,
              "#46039f"
             ],
             [
              0.2222222222222222,
              "#7201a8"
             ],
             [
              0.3333333333333333,
              "#9c179e"
             ],
             [
              0.4444444444444444,
              "#bd3786"
             ],
             [
              0.5555555555555556,
              "#d8576b"
             ],
             [
              0.6666666666666666,
              "#ed7953"
             ],
             [
              0.7777777777777778,
              "#fb9f3a"
             ],
             [
              0.8888888888888888,
              "#fdca26"
             ],
             [
              1,
              "#f0f921"
             ]
            ],
            "type": "contour"
           }
          ],
          "contourcarpet": [
           {
            "colorbar": {
             "outlinewidth": 0,
             "ticks": ""
            },
            "type": "contourcarpet"
           }
          ],
          "heatmap": [
           {
            "colorbar": {
             "outlinewidth": 0,
             "ticks": ""
            },
            "colorscale": [
             [
              0,
              "#0d0887"
             ],
             [
              0.1111111111111111,
              "#46039f"
             ],
             [
              0.2222222222222222,
              "#7201a8"
             ],
             [
              0.3333333333333333,
              "#9c179e"
             ],
             [
              0.4444444444444444,
              "#bd3786"
             ],
             [
              0.5555555555555556,
              "#d8576b"
             ],
             [
              0.6666666666666666,
              "#ed7953"
             ],
             [
              0.7777777777777778,
              "#fb9f3a"
             ],
             [
              0.8888888888888888,
              "#fdca26"
             ],
             [
              1,
              "#f0f921"
             ]
            ],
            "type": "heatmap"
           }
          ],
          "heatmapgl": [
           {
            "colorbar": {
             "outlinewidth": 0,
             "ticks": ""
            },
            "colorscale": [
             [
              0,
              "#0d0887"
             ],
             [
              0.1111111111111111,
              "#46039f"
             ],
             [
              0.2222222222222222,
              "#7201a8"
             ],
             [
              0.3333333333333333,
              "#9c179e"
             ],
             [
              0.4444444444444444,
              "#bd3786"
             ],
             [
              0.5555555555555556,
              "#d8576b"
             ],
             [
              0.6666666666666666,
              "#ed7953"
             ],
             [
              0.7777777777777778,
              "#fb9f3a"
             ],
             [
              0.8888888888888888,
              "#fdca26"
             ],
             [
              1,
              "#f0f921"
             ]
            ],
            "type": "heatmapgl"
           }
          ],
          "histogram": [
           {
            "marker": {
             "pattern": {
              "fillmode": "overlay",
              "size": 10,
              "solidity": 0.2
             }
            },
            "type": "histogram"
           }
          ],
          "histogram2d": [
           {
            "colorbar": {
             "outlinewidth": 0,
             "ticks": ""
            },
            "colorscale": [
             [
              0,
              "#0d0887"
             ],
             [
              0.1111111111111111,
              "#46039f"
             ],
             [
              0.2222222222222222,
              "#7201a8"
             ],
             [
              0.3333333333333333,
              "#9c179e"
             ],
             [
              0.4444444444444444,
              "#bd3786"
             ],
             [
              0.5555555555555556,
              "#d8576b"
             ],
             [
              0.6666666666666666,
              "#ed7953"
             ],
             [
              0.7777777777777778,
              "#fb9f3a"
             ],
             [
              0.8888888888888888,
              "#fdca26"
             ],
             [
              1,
              "#f0f921"
             ]
            ],
            "type": "histogram2d"
           }
          ],
          "histogram2dcontour": [
           {
            "colorbar": {
             "outlinewidth": 0,
             "ticks": ""
            },
            "colorscale": [
             [
              0,
              "#0d0887"
             ],
             [
              0.1111111111111111,
              "#46039f"
             ],
             [
              0.2222222222222222,
              "#7201a8"
             ],
             [
              0.3333333333333333,
              "#9c179e"
             ],
             [
              0.4444444444444444,
              "#bd3786"
             ],
             [
              0.5555555555555556,
              "#d8576b"
             ],
             [
              0.6666666666666666,
              "#ed7953"
             ],
             [
              0.7777777777777778,
              "#fb9f3a"
             ],
             [
              0.8888888888888888,
              "#fdca26"
             ],
             [
              1,
              "#f0f921"
             ]
            ],
            "type": "histogram2dcontour"
           }
          ],
          "mesh3d": [
           {
            "colorbar": {
             "outlinewidth": 0,
             "ticks": ""
            },
            "type": "mesh3d"
           }
          ],
          "parcoords": [
           {
            "line": {
             "colorbar": {
              "outlinewidth": 0,
              "ticks": ""
             }
            },
            "type": "parcoords"
           }
          ],
          "pie": [
           {
            "automargin": true,
            "type": "pie"
           }
          ],
          "scatter": [
           {
            "fillpattern": {
             "fillmode": "overlay",
             "size": 10,
             "solidity": 0.2
            },
            "type": "scatter"
           }
          ],
          "scatter3d": [
           {
            "line": {
             "colorbar": {
              "outlinewidth": 0,
              "ticks": ""
             }
            },
            "marker": {
             "colorbar": {
              "outlinewidth": 0,
              "ticks": ""
             }
            },
            "type": "scatter3d"
           }
          ],
          "scattercarpet": [
           {
            "marker": {
             "colorbar": {
              "outlinewidth": 0,
              "ticks": ""
             }
            },
            "type": "scattercarpet"
           }
          ],
          "scattergeo": [
           {
            "marker": {
             "colorbar": {
              "outlinewidth": 0,
              "ticks": ""
             }
            },
            "type": "scattergeo"
           }
          ],
          "scattergl": [
           {
            "marker": {
             "colorbar": {
              "outlinewidth": 0,
              "ticks": ""
             }
            },
            "type": "scattergl"
           }
          ],
          "scattermapbox": [
           {
            "marker": {
             "colorbar": {
              "outlinewidth": 0,
              "ticks": ""
             }
            },
            "type": "scattermapbox"
           }
          ],
          "scatterpolar": [
           {
            "marker": {
             "colorbar": {
              "outlinewidth": 0,
              "ticks": ""
             }
            },
            "type": "scatterpolar"
           }
          ],
          "scatterpolargl": [
           {
            "marker": {
             "colorbar": {
              "outlinewidth": 0,
              "ticks": ""
             }
            },
            "type": "scatterpolargl"
           }
          ],
          "scatterternary": [
           {
            "marker": {
             "colorbar": {
              "outlinewidth": 0,
              "ticks": ""
             }
            },
            "type": "scatterternary"
           }
          ],
          "surface": [
           {
            "colorbar": {
             "outlinewidth": 0,
             "ticks": ""
            },
            "colorscale": [
             [
              0,
              "#0d0887"
             ],
             [
              0.1111111111111111,
              "#46039f"
             ],
             [
              0.2222222222222222,
              "#7201a8"
             ],
             [
              0.3333333333333333,
              "#9c179e"
             ],
             [
              0.4444444444444444,
              "#bd3786"
             ],
             [
              0.5555555555555556,
              "#d8576b"
             ],
             [
              0.6666666666666666,
              "#ed7953"
             ],
             [
              0.7777777777777778,
              "#fb9f3a"
             ],
             [
              0.8888888888888888,
              "#fdca26"
             ],
             [
              1,
              "#f0f921"
             ]
            ],
            "type": "surface"
           }
          ],
          "table": [
           {
            "cells": {
             "fill": {
              "color": "#EBF0F8"
             },
             "line": {
              "color": "white"
             }
            },
            "header": {
             "fill": {
              "color": "#C8D4E3"
             },
             "line": {
              "color": "white"
             }
            },
            "type": "table"
           }
          ]
         },
         "layout": {
          "annotationdefaults": {
           "arrowcolor": "#2a3f5f",
           "arrowhead": 0,
           "arrowwidth": 1
          },
          "autotypenumbers": "strict",
          "coloraxis": {
           "colorbar": {
            "outlinewidth": 0,
            "ticks": ""
           }
          },
          "colorscale": {
           "diverging": [
            [
             0,
             "#8e0152"
            ],
            [
             0.1,
             "#c51b7d"
            ],
            [
             0.2,
             "#de77ae"
            ],
            [
             0.3,
             "#f1b6da"
            ],
            [
             0.4,
             "#fde0ef"
            ],
            [
             0.5,
             "#f7f7f7"
            ],
            [
             0.6,
             "#e6f5d0"
            ],
            [
             0.7,
             "#b8e186"
            ],
            [
             0.8,
             "#7fbc41"
            ],
            [
             0.9,
             "#4d9221"
            ],
            [
             1,
             "#276419"
            ]
           ],
           "sequential": [
            [
             0,
             "#0d0887"
            ],
            [
             0.1111111111111111,
             "#46039f"
            ],
            [
             0.2222222222222222,
             "#7201a8"
            ],
            [
             0.3333333333333333,
             "#9c179e"
            ],
            [
             0.4444444444444444,
             "#bd3786"
            ],
            [
             0.5555555555555556,
             "#d8576b"
            ],
            [
             0.6666666666666666,
             "#ed7953"
            ],
            [
             0.7777777777777778,
             "#fb9f3a"
            ],
            [
             0.8888888888888888,
             "#fdca26"
            ],
            [
             1,
             "#f0f921"
            ]
           ],
           "sequentialminus": [
            [
             0,
             "#0d0887"
            ],
            [
             0.1111111111111111,
             "#46039f"
            ],
            [
             0.2222222222222222,
             "#7201a8"
            ],
            [
             0.3333333333333333,
             "#9c179e"
            ],
            [
             0.4444444444444444,
             "#bd3786"
            ],
            [
             0.5555555555555556,
             "#d8576b"
            ],
            [
             0.6666666666666666,
             "#ed7953"
            ],
            [
             0.7777777777777778,
             "#fb9f3a"
            ],
            [
             0.8888888888888888,
             "#fdca26"
            ],
            [
             1,
             "#f0f921"
            ]
           ]
          },
          "colorway": [
           "#636efa",
           "#EF553B",
           "#00cc96",
           "#ab63fa",
           "#FFA15A",
           "#19d3f3",
           "#FF6692",
           "#B6E880",
           "#FF97FF",
           "#FECB52"
          ],
          "font": {
           "color": "#2a3f5f"
          },
          "geo": {
           "bgcolor": "white",
           "lakecolor": "white",
           "landcolor": "#E5ECF6",
           "showlakes": true,
           "showland": true,
           "subunitcolor": "white"
          },
          "hoverlabel": {
           "align": "left"
          },
          "hovermode": "closest",
          "mapbox": {
           "style": "light"
          },
          "paper_bgcolor": "white",
          "plot_bgcolor": "#E5ECF6",
          "polar": {
           "angularaxis": {
            "gridcolor": "white",
            "linecolor": "white",
            "ticks": ""
           },
           "bgcolor": "#E5ECF6",
           "radialaxis": {
            "gridcolor": "white",
            "linecolor": "white",
            "ticks": ""
           }
          },
          "scene": {
           "xaxis": {
            "backgroundcolor": "#E5ECF6",
            "gridcolor": "white",
            "gridwidth": 2,
            "linecolor": "white",
            "showbackground": true,
            "ticks": "",
            "zerolinecolor": "white"
           },
           "yaxis": {
            "backgroundcolor": "#E5ECF6",
            "gridcolor": "white",
            "gridwidth": 2,
            "linecolor": "white",
            "showbackground": true,
            "ticks": "",
            "zerolinecolor": "white"
           },
           "zaxis": {
            "backgroundcolor": "#E5ECF6",
            "gridcolor": "white",
            "gridwidth": 2,
            "linecolor": "white",
            "showbackground": true,
            "ticks": "",
            "zerolinecolor": "white"
           }
          },
          "shapedefaults": {
           "line": {
            "color": "#2a3f5f"
           }
          },
          "ternary": {
           "aaxis": {
            "gridcolor": "white",
            "linecolor": "white",
            "ticks": ""
           },
           "baxis": {
            "gridcolor": "white",
            "linecolor": "white",
            "ticks": ""
           },
           "bgcolor": "#E5ECF6",
           "caxis": {
            "gridcolor": "white",
            "linecolor": "white",
            "ticks": ""
           }
          },
          "title": {
           "x": 0.05
          },
          "xaxis": {
           "automargin": true,
           "gridcolor": "white",
           "linecolor": "white",
           "ticks": "",
           "title": {
            "standoff": 15
           },
           "zerolinecolor": "white",
           "zerolinewidth": 2
          },
          "yaxis": {
           "automargin": true,
           "gridcolor": "white",
           "linecolor": "white",
           "ticks": "",
           "title": {
            "standoff": 15
           },
           "zerolinecolor": "white",
           "zerolinewidth": 2
          }
         }
        },
        "xaxis": {
         "anchor": "y",
         "domain": [
          0,
          1
         ],
         "title": {
          "text": "Description"
         }
        },
        "yaxis": {
         "anchor": "x",
         "domain": [
          0,
          1
         ],
         "title": {
          "text": "All retailing"
         }
        }
       }
      }
     },
     "metadata": {},
     "output_type": "display_data"
    }
   ],
   "source": [
    "import plotly.express as px # linechart to show value of sales across selected timeline - during covid\n",
    "dfb = df_COVID\n",
    "df = px.data.tips()\n",
    "fig = px.line(dfb, x='Description', y='All retailing')  \n",
    "fig.show() "
   ]
  },
  {
   "cell_type": "code",
   "execution_count": 15,
   "metadata": {},
   "outputs": [
    {
     "data": {
      "application/vnd.plotly.v1+json": {
       "config": {
        "plotlyServerURL": "https://plot.ly"
       },
       "data": [
        {
         "hovertemplate": "Description=%{x}<br>All retailing=%{y}<extra></extra>",
         "legendgroup": "",
         "line": {
          "color": "#636efa",
          "dash": "solid"
         },
         "marker": {
          "symbol": "circle"
         },
         "mode": "lines",
         "name": "",
         "orientation": "v",
         "showlegend": false,
         "type": "scatter",
         "x": [
          "2021DEC",
          "2022JAN",
          "2022FEB"
         ],
         "xaxis": "x",
         "y": [
          33464670,
          27566539,
          27888938
         ],
         "yaxis": "y"
        }
       ],
       "layout": {
        "legend": {
         "tracegroupgap": 0
        },
        "margin": {
         "t": 60
        },
        "template": {
         "data": {
          "bar": [
           {
            "error_x": {
             "color": "#2a3f5f"
            },
            "error_y": {
             "color": "#2a3f5f"
            },
            "marker": {
             "line": {
              "color": "#E5ECF6",
              "width": 0.5
             },
             "pattern": {
              "fillmode": "overlay",
              "size": 10,
              "solidity": 0.2
             }
            },
            "type": "bar"
           }
          ],
          "barpolar": [
           {
            "marker": {
             "line": {
              "color": "#E5ECF6",
              "width": 0.5
             },
             "pattern": {
              "fillmode": "overlay",
              "size": 10,
              "solidity": 0.2
             }
            },
            "type": "barpolar"
           }
          ],
          "carpet": [
           {
            "aaxis": {
             "endlinecolor": "#2a3f5f",
             "gridcolor": "white",
             "linecolor": "white",
             "minorgridcolor": "white",
             "startlinecolor": "#2a3f5f"
            },
            "baxis": {
             "endlinecolor": "#2a3f5f",
             "gridcolor": "white",
             "linecolor": "white",
             "minorgridcolor": "white",
             "startlinecolor": "#2a3f5f"
            },
            "type": "carpet"
           }
          ],
          "choropleth": [
           {
            "colorbar": {
             "outlinewidth": 0,
             "ticks": ""
            },
            "type": "choropleth"
           }
          ],
          "contour": [
           {
            "colorbar": {
             "outlinewidth": 0,
             "ticks": ""
            },
            "colorscale": [
             [
              0,
              "#0d0887"
             ],
             [
              0.1111111111111111,
              "#46039f"
             ],
             [
              0.2222222222222222,
              "#7201a8"
             ],
             [
              0.3333333333333333,
              "#9c179e"
             ],
             [
              0.4444444444444444,
              "#bd3786"
             ],
             [
              0.5555555555555556,
              "#d8576b"
             ],
             [
              0.6666666666666666,
              "#ed7953"
             ],
             [
              0.7777777777777778,
              "#fb9f3a"
             ],
             [
              0.8888888888888888,
              "#fdca26"
             ],
             [
              1,
              "#f0f921"
             ]
            ],
            "type": "contour"
           }
          ],
          "contourcarpet": [
           {
            "colorbar": {
             "outlinewidth": 0,
             "ticks": ""
            },
            "type": "contourcarpet"
           }
          ],
          "heatmap": [
           {
            "colorbar": {
             "outlinewidth": 0,
             "ticks": ""
            },
            "colorscale": [
             [
              0,
              "#0d0887"
             ],
             [
              0.1111111111111111,
              "#46039f"
             ],
             [
              0.2222222222222222,
              "#7201a8"
             ],
             [
              0.3333333333333333,
              "#9c179e"
             ],
             [
              0.4444444444444444,
              "#bd3786"
             ],
             [
              0.5555555555555556,
              "#d8576b"
             ],
             [
              0.6666666666666666,
              "#ed7953"
             ],
             [
              0.7777777777777778,
              "#fb9f3a"
             ],
             [
              0.8888888888888888,
              "#fdca26"
             ],
             [
              1,
              "#f0f921"
             ]
            ],
            "type": "heatmap"
           }
          ],
          "heatmapgl": [
           {
            "colorbar": {
             "outlinewidth": 0,
             "ticks": ""
            },
            "colorscale": [
             [
              0,
              "#0d0887"
             ],
             [
              0.1111111111111111,
              "#46039f"
             ],
             [
              0.2222222222222222,
              "#7201a8"
             ],
             [
              0.3333333333333333,
              "#9c179e"
             ],
             [
              0.4444444444444444,
              "#bd3786"
             ],
             [
              0.5555555555555556,
              "#d8576b"
             ],
             [
              0.6666666666666666,
              "#ed7953"
             ],
             [
              0.7777777777777778,
              "#fb9f3a"
             ],
             [
              0.8888888888888888,
              "#fdca26"
             ],
             [
              1,
              "#f0f921"
             ]
            ],
            "type": "heatmapgl"
           }
          ],
          "histogram": [
           {
            "marker": {
             "pattern": {
              "fillmode": "overlay",
              "size": 10,
              "solidity": 0.2
             }
            },
            "type": "histogram"
           }
          ],
          "histogram2d": [
           {
            "colorbar": {
             "outlinewidth": 0,
             "ticks": ""
            },
            "colorscale": [
             [
              0,
              "#0d0887"
             ],
             [
              0.1111111111111111,
              "#46039f"
             ],
             [
              0.2222222222222222,
              "#7201a8"
             ],
             [
              0.3333333333333333,
              "#9c179e"
             ],
             [
              0.4444444444444444,
              "#bd3786"
             ],
             [
              0.5555555555555556,
              "#d8576b"
             ],
             [
              0.6666666666666666,
              "#ed7953"
             ],
             [
              0.7777777777777778,
              "#fb9f3a"
             ],
             [
              0.8888888888888888,
              "#fdca26"
             ],
             [
              1,
              "#f0f921"
             ]
            ],
            "type": "histogram2d"
           }
          ],
          "histogram2dcontour": [
           {
            "colorbar": {
             "outlinewidth": 0,
             "ticks": ""
            },
            "colorscale": [
             [
              0,
              "#0d0887"
             ],
             [
              0.1111111111111111,
              "#46039f"
             ],
             [
              0.2222222222222222,
              "#7201a8"
             ],
             [
              0.3333333333333333,
              "#9c179e"
             ],
             [
              0.4444444444444444,
              "#bd3786"
             ],
             [
              0.5555555555555556,
              "#d8576b"
             ],
             [
              0.6666666666666666,
              "#ed7953"
             ],
             [
              0.7777777777777778,
              "#fb9f3a"
             ],
             [
              0.8888888888888888,
              "#fdca26"
             ],
             [
              1,
              "#f0f921"
             ]
            ],
            "type": "histogram2dcontour"
           }
          ],
          "mesh3d": [
           {
            "colorbar": {
             "outlinewidth": 0,
             "ticks": ""
            },
            "type": "mesh3d"
           }
          ],
          "parcoords": [
           {
            "line": {
             "colorbar": {
              "outlinewidth": 0,
              "ticks": ""
             }
            },
            "type": "parcoords"
           }
          ],
          "pie": [
           {
            "automargin": true,
            "type": "pie"
           }
          ],
          "scatter": [
           {
            "fillpattern": {
             "fillmode": "overlay",
             "size": 10,
             "solidity": 0.2
            },
            "type": "scatter"
           }
          ],
          "scatter3d": [
           {
            "line": {
             "colorbar": {
              "outlinewidth": 0,
              "ticks": ""
             }
            },
            "marker": {
             "colorbar": {
              "outlinewidth": 0,
              "ticks": ""
             }
            },
            "type": "scatter3d"
           }
          ],
          "scattercarpet": [
           {
            "marker": {
             "colorbar": {
              "outlinewidth": 0,
              "ticks": ""
             }
            },
            "type": "scattercarpet"
           }
          ],
          "scattergeo": [
           {
            "marker": {
             "colorbar": {
              "outlinewidth": 0,
              "ticks": ""
             }
            },
            "type": "scattergeo"
           }
          ],
          "scattergl": [
           {
            "marker": {
             "colorbar": {
              "outlinewidth": 0,
              "ticks": ""
             }
            },
            "type": "scattergl"
           }
          ],
          "scattermapbox": [
           {
            "marker": {
             "colorbar": {
              "outlinewidth": 0,
              "ticks": ""
             }
            },
            "type": "scattermapbox"
           }
          ],
          "scatterpolar": [
           {
            "marker": {
             "colorbar": {
              "outlinewidth": 0,
              "ticks": ""
             }
            },
            "type": "scatterpolar"
           }
          ],
          "scatterpolargl": [
           {
            "marker": {
             "colorbar": {
              "outlinewidth": 0,
              "ticks": ""
             }
            },
            "type": "scatterpolargl"
           }
          ],
          "scatterternary": [
           {
            "marker": {
             "colorbar": {
              "outlinewidth": 0,
              "ticks": ""
             }
            },
            "type": "scatterternary"
           }
          ],
          "surface": [
           {
            "colorbar": {
             "outlinewidth": 0,
             "ticks": ""
            },
            "colorscale": [
             [
              0,
              "#0d0887"
             ],
             [
              0.1111111111111111,
              "#46039f"
             ],
             [
              0.2222222222222222,
              "#7201a8"
             ],
             [
              0.3333333333333333,
              "#9c179e"
             ],
             [
              0.4444444444444444,
              "#bd3786"
             ],
             [
              0.5555555555555556,
              "#d8576b"
             ],
             [
              0.6666666666666666,
              "#ed7953"
             ],
             [
              0.7777777777777778,
              "#fb9f3a"
             ],
             [
              0.8888888888888888,
              "#fdca26"
             ],
             [
              1,
              "#f0f921"
             ]
            ],
            "type": "surface"
           }
          ],
          "table": [
           {
            "cells": {
             "fill": {
              "color": "#EBF0F8"
             },
             "line": {
              "color": "white"
             }
            },
            "header": {
             "fill": {
              "color": "#C8D4E3"
             },
             "line": {
              "color": "white"
             }
            },
            "type": "table"
           }
          ]
         },
         "layout": {
          "annotationdefaults": {
           "arrowcolor": "#2a3f5f",
           "arrowhead": 0,
           "arrowwidth": 1
          },
          "autotypenumbers": "strict",
          "coloraxis": {
           "colorbar": {
            "outlinewidth": 0,
            "ticks": ""
           }
          },
          "colorscale": {
           "diverging": [
            [
             0,
             "#8e0152"
            ],
            [
             0.1,
             "#c51b7d"
            ],
            [
             0.2,
             "#de77ae"
            ],
            [
             0.3,
             "#f1b6da"
            ],
            [
             0.4,
             "#fde0ef"
            ],
            [
             0.5,
             "#f7f7f7"
            ],
            [
             0.6,
             "#e6f5d0"
            ],
            [
             0.7,
             "#b8e186"
            ],
            [
             0.8,
             "#7fbc41"
            ],
            [
             0.9,
             "#4d9221"
            ],
            [
             1,
             "#276419"
            ]
           ],
           "sequential": [
            [
             0,
             "#0d0887"
            ],
            [
             0.1111111111111111,
             "#46039f"
            ],
            [
             0.2222222222222222,
             "#7201a8"
            ],
            [
             0.3333333333333333,
             "#9c179e"
            ],
            [
             0.4444444444444444,
             "#bd3786"
            ],
            [
             0.5555555555555556,
             "#d8576b"
            ],
            [
             0.6666666666666666,
             "#ed7953"
            ],
            [
             0.7777777777777778,
             "#fb9f3a"
            ],
            [
             0.8888888888888888,
             "#fdca26"
            ],
            [
             1,
             "#f0f921"
            ]
           ],
           "sequentialminus": [
            [
             0,
             "#0d0887"
            ],
            [
             0.1111111111111111,
             "#46039f"
            ],
            [
             0.2222222222222222,
             "#7201a8"
            ],
            [
             0.3333333333333333,
             "#9c179e"
            ],
            [
             0.4444444444444444,
             "#bd3786"
            ],
            [
             0.5555555555555556,
             "#d8576b"
            ],
            [
             0.6666666666666666,
             "#ed7953"
            ],
            [
             0.7777777777777778,
             "#fb9f3a"
            ],
            [
             0.8888888888888888,
             "#fdca26"
            ],
            [
             1,
             "#f0f921"
            ]
           ]
          },
          "colorway": [
           "#636efa",
           "#EF553B",
           "#00cc96",
           "#ab63fa",
           "#FFA15A",
           "#19d3f3",
           "#FF6692",
           "#B6E880",
           "#FF97FF",
           "#FECB52"
          ],
          "font": {
           "color": "#2a3f5f"
          },
          "geo": {
           "bgcolor": "white",
           "lakecolor": "white",
           "landcolor": "#E5ECF6",
           "showlakes": true,
           "showland": true,
           "subunitcolor": "white"
          },
          "hoverlabel": {
           "align": "left"
          },
          "hovermode": "closest",
          "mapbox": {
           "style": "light"
          },
          "paper_bgcolor": "white",
          "plot_bgcolor": "#E5ECF6",
          "polar": {
           "angularaxis": {
            "gridcolor": "white",
            "linecolor": "white",
            "ticks": ""
           },
           "bgcolor": "#E5ECF6",
           "radialaxis": {
            "gridcolor": "white",
            "linecolor": "white",
            "ticks": ""
           }
          },
          "scene": {
           "xaxis": {
            "backgroundcolor": "#E5ECF6",
            "gridcolor": "white",
            "gridwidth": 2,
            "linecolor": "white",
            "showbackground": true,
            "ticks": "",
            "zerolinecolor": "white"
           },
           "yaxis": {
            "backgroundcolor": "#E5ECF6",
            "gridcolor": "white",
            "gridwidth": 2,
            "linecolor": "white",
            "showbackground": true,
            "ticks": "",
            "zerolinecolor": "white"
           },
           "zaxis": {
            "backgroundcolor": "#E5ECF6",
            "gridcolor": "white",
            "gridwidth": 2,
            "linecolor": "white",
            "showbackground": true,
            "ticks": "",
            "zerolinecolor": "white"
           }
          },
          "shapedefaults": {
           "line": {
            "color": "#2a3f5f"
           }
          },
          "ternary": {
           "aaxis": {
            "gridcolor": "white",
            "linecolor": "white",
            "ticks": ""
           },
           "baxis": {
            "gridcolor": "white",
            "linecolor": "white",
            "ticks": ""
           },
           "bgcolor": "#E5ECF6",
           "caxis": {
            "gridcolor": "white",
            "linecolor": "white",
            "ticks": ""
           }
          },
          "title": {
           "x": 0.05
          },
          "xaxis": {
           "automargin": true,
           "gridcolor": "white",
           "linecolor": "white",
           "ticks": "",
           "title": {
            "standoff": 15
           },
           "zerolinecolor": "white",
           "zerolinewidth": 2
          },
          "yaxis": {
           "automargin": true,
           "gridcolor": "white",
           "linecolor": "white",
           "ticks": "",
           "title": {
            "standoff": 15
           },
           "zerolinecolor": "white",
           "zerolinewidth": 2
          }
         }
        },
        "xaxis": {
         "anchor": "y",
         "domain": [
          0,
          1
         ],
         "title": {
          "text": "Description"
         }
        },
        "yaxis": {
         "anchor": "x",
         "domain": [
          0,
          1
         ],
         "title": {
          "text": "All retailing"
         }
        }
       }
      }
     },
     "metadata": {},
     "output_type": "display_data"
    }
   ],
   "source": [
    "import plotly.express as px # linechart to show value of sales across selected timeline - post covid\n",
    "dfb = df_post_COVID\n",
    "df = px.data.tips()\n",
    "fig = px.line(dfb, x='Description', y='All retailing')  \n",
    "fig.show() "
   ]
  },
  {
   "cell_type": "code",
   "execution_count": 20,
   "metadata": {},
   "outputs": [
    {
     "data": {
      "application/vnd.plotly.v1+json": {
       "config": {
        "plotlyServerURL": "https://plot.ly"
       },
       "data": [
        {
         "hovertemplate": "variable=Predominantly food stores<br>Description=%{x}<br>value=%{y}<extra></extra>",
         "legendgroup": "Predominantly food stores",
         "line": {
          "color": "#636efa",
          "dash": "solid"
         },
         "marker": {
          "symbol": "circle"
         },
         "mode": "lines",
         "name": "Predominantly food stores",
         "orientation": "v",
         "showlegend": true,
         "type": "scatter",
         "x": [
          "2021DEC",
          "2022JAN",
          "2022FEB"
         ],
         "xaxis": "x",
         "y": [
          15353408,
          12220759,
          12417653
         ],
         "yaxis": "y"
        },
        {
         "hovertemplate": "variable=Non-store retailing<br>Description=%{x}<br>value=%{y}<extra></extra>",
         "legendgroup": "Non-store retailing",
         "line": {
          "color": "#EF553B",
          "dash": "solid"
         },
         "marker": {
          "symbol": "circle"
         },
         "mode": "lines",
         "name": "Non-store retailing",
         "orientation": "v",
         "showlegend": true,
         "type": "scatter",
         "x": [
          "2021DEC",
          "2022JAN",
          "2022FEB"
         ],
         "xaxis": "x",
         "y": [
          663559,
          533762,
          320679
         ],
         "yaxis": "y"
        },
        {
         "hovertemplate": "variable=Predominantly non-food stores<br>Description=%{x}<br>value=%{y}<extra></extra>",
         "legendgroup": "Predominantly non-food stores",
         "line": {
          "color": "#00cc96",
          "dash": "solid"
         },
         "marker": {
          "symbol": "circle"
         },
         "mode": "lines",
         "name": "Predominantly non-food stores",
         "orientation": "v",
         "showlegend": true,
         "type": "scatter",
         "x": [
          "2021DEC",
          "2022JAN",
          "2022FEB"
         ],
         "xaxis": "x",
         "y": [
          12823506,
          11020187,
          11181761
         ],
         "yaxis": "y"
        },
        {
         "hovertemplate": "variable=Household goods stores<br>Description=%{x}<br>value=%{y}<extra></extra>",
         "legendgroup": "Household goods stores",
         "line": {
          "color": "#ab63fa",
          "dash": "solid"
         },
         "marker": {
          "symbol": "circle"
         },
         "mode": "lines",
         "name": "Household goods stores",
         "orientation": "v",
         "showlegend": true,
         "type": "scatter",
         "x": [
          "2021DEC",
          "2022JAN",
          "2022FEB"
         ],
         "xaxis": "x",
         "y": [
          2681707,
          2375414,
          2348662
         ],
         "yaxis": "y"
        }
       ],
       "layout": {
        "legend": {
         "title": {
          "text": "variable"
         },
         "tracegroupgap": 0
        },
        "template": {
         "data": {
          "bar": [
           {
            "error_x": {
             "color": "#2a3f5f"
            },
            "error_y": {
             "color": "#2a3f5f"
            },
            "marker": {
             "line": {
              "color": "#E5ECF6",
              "width": 0.5
             },
             "pattern": {
              "fillmode": "overlay",
              "size": 10,
              "solidity": 0.2
             }
            },
            "type": "bar"
           }
          ],
          "barpolar": [
           {
            "marker": {
             "line": {
              "color": "#E5ECF6",
              "width": 0.5
             },
             "pattern": {
              "fillmode": "overlay",
              "size": 10,
              "solidity": 0.2
             }
            },
            "type": "barpolar"
           }
          ],
          "carpet": [
           {
            "aaxis": {
             "endlinecolor": "#2a3f5f",
             "gridcolor": "white",
             "linecolor": "white",
             "minorgridcolor": "white",
             "startlinecolor": "#2a3f5f"
            },
            "baxis": {
             "endlinecolor": "#2a3f5f",
             "gridcolor": "white",
             "linecolor": "white",
             "minorgridcolor": "white",
             "startlinecolor": "#2a3f5f"
            },
            "type": "carpet"
           }
          ],
          "choropleth": [
           {
            "colorbar": {
             "outlinewidth": 0,
             "ticks": ""
            },
            "type": "choropleth"
           }
          ],
          "contour": [
           {
            "colorbar": {
             "outlinewidth": 0,
             "ticks": ""
            },
            "colorscale": [
             [
              0,
              "#0d0887"
             ],
             [
              0.1111111111111111,
              "#46039f"
             ],
             [
              0.2222222222222222,
              "#7201a8"
             ],
             [
              0.3333333333333333,
              "#9c179e"
             ],
             [
              0.4444444444444444,
              "#bd3786"
             ],
             [
              0.5555555555555556,
              "#d8576b"
             ],
             [
              0.6666666666666666,
              "#ed7953"
             ],
             [
              0.7777777777777778,
              "#fb9f3a"
             ],
             [
              0.8888888888888888,
              "#fdca26"
             ],
             [
              1,
              "#f0f921"
             ]
            ],
            "type": "contour"
           }
          ],
          "contourcarpet": [
           {
            "colorbar": {
             "outlinewidth": 0,
             "ticks": ""
            },
            "type": "contourcarpet"
           }
          ],
          "heatmap": [
           {
            "colorbar": {
             "outlinewidth": 0,
             "ticks": ""
            },
            "colorscale": [
             [
              0,
              "#0d0887"
             ],
             [
              0.1111111111111111,
              "#46039f"
             ],
             [
              0.2222222222222222,
              "#7201a8"
             ],
             [
              0.3333333333333333,
              "#9c179e"
             ],
             [
              0.4444444444444444,
              "#bd3786"
             ],
             [
              0.5555555555555556,
              "#d8576b"
             ],
             [
              0.6666666666666666,
              "#ed7953"
             ],
             [
              0.7777777777777778,
              "#fb9f3a"
             ],
             [
              0.8888888888888888,
              "#fdca26"
             ],
             [
              1,
              "#f0f921"
             ]
            ],
            "type": "heatmap"
           }
          ],
          "heatmapgl": [
           {
            "colorbar": {
             "outlinewidth": 0,
             "ticks": ""
            },
            "colorscale": [
             [
              0,
              "#0d0887"
             ],
             [
              0.1111111111111111,
              "#46039f"
             ],
             [
              0.2222222222222222,
              "#7201a8"
             ],
             [
              0.3333333333333333,
              "#9c179e"
             ],
             [
              0.4444444444444444,
              "#bd3786"
             ],
             [
              0.5555555555555556,
              "#d8576b"
             ],
             [
              0.6666666666666666,
              "#ed7953"
             ],
             [
              0.7777777777777778,
              "#fb9f3a"
             ],
             [
              0.8888888888888888,
              "#fdca26"
             ],
             [
              1,
              "#f0f921"
             ]
            ],
            "type": "heatmapgl"
           }
          ],
          "histogram": [
           {
            "marker": {
             "pattern": {
              "fillmode": "overlay",
              "size": 10,
              "solidity": 0.2
             }
            },
            "type": "histogram"
           }
          ],
          "histogram2d": [
           {
            "colorbar": {
             "outlinewidth": 0,
             "ticks": ""
            },
            "colorscale": [
             [
              0,
              "#0d0887"
             ],
             [
              0.1111111111111111,
              "#46039f"
             ],
             [
              0.2222222222222222,
              "#7201a8"
             ],
             [
              0.3333333333333333,
              "#9c179e"
             ],
             [
              0.4444444444444444,
              "#bd3786"
             ],
             [
              0.5555555555555556,
              "#d8576b"
             ],
             [
              0.6666666666666666,
              "#ed7953"
             ],
             [
              0.7777777777777778,
              "#fb9f3a"
             ],
             [
              0.8888888888888888,
              "#fdca26"
             ],
             [
              1,
              "#f0f921"
             ]
            ],
            "type": "histogram2d"
           }
          ],
          "histogram2dcontour": [
           {
            "colorbar": {
             "outlinewidth": 0,
             "ticks": ""
            },
            "colorscale": [
             [
              0,
              "#0d0887"
             ],
             [
              0.1111111111111111,
              "#46039f"
             ],
             [
              0.2222222222222222,
              "#7201a8"
             ],
             [
              0.3333333333333333,
              "#9c179e"
             ],
             [
              0.4444444444444444,
              "#bd3786"
             ],
             [
              0.5555555555555556,
              "#d8576b"
             ],
             [
              0.6666666666666666,
              "#ed7953"
             ],
             [
              0.7777777777777778,
              "#fb9f3a"
             ],
             [
              0.8888888888888888,
              "#fdca26"
             ],
             [
              1,
              "#f0f921"
             ]
            ],
            "type": "histogram2dcontour"
           }
          ],
          "mesh3d": [
           {
            "colorbar": {
             "outlinewidth": 0,
             "ticks": ""
            },
            "type": "mesh3d"
           }
          ],
          "parcoords": [
           {
            "line": {
             "colorbar": {
              "outlinewidth": 0,
              "ticks": ""
             }
            },
            "type": "parcoords"
           }
          ],
          "pie": [
           {
            "automargin": true,
            "type": "pie"
           }
          ],
          "scatter": [
           {
            "fillpattern": {
             "fillmode": "overlay",
             "size": 10,
             "solidity": 0.2
            },
            "type": "scatter"
           }
          ],
          "scatter3d": [
           {
            "line": {
             "colorbar": {
              "outlinewidth": 0,
              "ticks": ""
             }
            },
            "marker": {
             "colorbar": {
              "outlinewidth": 0,
              "ticks": ""
             }
            },
            "type": "scatter3d"
           }
          ],
          "scattercarpet": [
           {
            "marker": {
             "colorbar": {
              "outlinewidth": 0,
              "ticks": ""
             }
            },
            "type": "scattercarpet"
           }
          ],
          "scattergeo": [
           {
            "marker": {
             "colorbar": {
              "outlinewidth": 0,
              "ticks": ""
             }
            },
            "type": "scattergeo"
           }
          ],
          "scattergl": [
           {
            "marker": {
             "colorbar": {
              "outlinewidth": 0,
              "ticks": ""
             }
            },
            "type": "scattergl"
           }
          ],
          "scattermapbox": [
           {
            "marker": {
             "colorbar": {
              "outlinewidth": 0,
              "ticks": ""
             }
            },
            "type": "scattermapbox"
           }
          ],
          "scatterpolar": [
           {
            "marker": {
             "colorbar": {
              "outlinewidth": 0,
              "ticks": ""
             }
            },
            "type": "scatterpolar"
           }
          ],
          "scatterpolargl": [
           {
            "marker": {
             "colorbar": {
              "outlinewidth": 0,
              "ticks": ""
             }
            },
            "type": "scatterpolargl"
           }
          ],
          "scatterternary": [
           {
            "marker": {
             "colorbar": {
              "outlinewidth": 0,
              "ticks": ""
             }
            },
            "type": "scatterternary"
           }
          ],
          "surface": [
           {
            "colorbar": {
             "outlinewidth": 0,
             "ticks": ""
            },
            "colorscale": [
             [
              0,
              "#0d0887"
             ],
             [
              0.1111111111111111,
              "#46039f"
             ],
             [
              0.2222222222222222,
              "#7201a8"
             ],
             [
              0.3333333333333333,
              "#9c179e"
             ],
             [
              0.4444444444444444,
              "#bd3786"
             ],
             [
              0.5555555555555556,
              "#d8576b"
             ],
             [
              0.6666666666666666,
              "#ed7953"
             ],
             [
              0.7777777777777778,
              "#fb9f3a"
             ],
             [
              0.8888888888888888,
              "#fdca26"
             ],
             [
              1,
              "#f0f921"
             ]
            ],
            "type": "surface"
           }
          ],
          "table": [
           {
            "cells": {
             "fill": {
              "color": "#EBF0F8"
             },
             "line": {
              "color": "white"
             }
            },
            "header": {
             "fill": {
              "color": "#C8D4E3"
             },
             "line": {
              "color": "white"
             }
            },
            "type": "table"
           }
          ]
         },
         "layout": {
          "annotationdefaults": {
           "arrowcolor": "#2a3f5f",
           "arrowhead": 0,
           "arrowwidth": 1
          },
          "autotypenumbers": "strict",
          "coloraxis": {
           "colorbar": {
            "outlinewidth": 0,
            "ticks": ""
           }
          },
          "colorscale": {
           "diverging": [
            [
             0,
             "#8e0152"
            ],
            [
             0.1,
             "#c51b7d"
            ],
            [
             0.2,
             "#de77ae"
            ],
            [
             0.3,
             "#f1b6da"
            ],
            [
             0.4,
             "#fde0ef"
            ],
            [
             0.5,
             "#f7f7f7"
            ],
            [
             0.6,
             "#e6f5d0"
            ],
            [
             0.7,
             "#b8e186"
            ],
            [
             0.8,
             "#7fbc41"
            ],
            [
             0.9,
             "#4d9221"
            ],
            [
             1,
             "#276419"
            ]
           ],
           "sequential": [
            [
             0,
             "#0d0887"
            ],
            [
             0.1111111111111111,
             "#46039f"
            ],
            [
             0.2222222222222222,
             "#7201a8"
            ],
            [
             0.3333333333333333,
             "#9c179e"
            ],
            [
             0.4444444444444444,
             "#bd3786"
            ],
            [
             0.5555555555555556,
             "#d8576b"
            ],
            [
             0.6666666666666666,
             "#ed7953"
            ],
            [
             0.7777777777777778,
             "#fb9f3a"
            ],
            [
             0.8888888888888888,
             "#fdca26"
            ],
            [
             1,
             "#f0f921"
            ]
           ],
           "sequentialminus": [
            [
             0,
             "#0d0887"
            ],
            [
             0.1111111111111111,
             "#46039f"
            ],
            [
             0.2222222222222222,
             "#7201a8"
            ],
            [
             0.3333333333333333,
             "#9c179e"
            ],
            [
             0.4444444444444444,
             "#bd3786"
            ],
            [
             0.5555555555555556,
             "#d8576b"
            ],
            [
             0.6666666666666666,
             "#ed7953"
            ],
            [
             0.7777777777777778,
             "#fb9f3a"
            ],
            [
             0.8888888888888888,
             "#fdca26"
            ],
            [
             1,
             "#f0f921"
            ]
           ]
          },
          "colorway": [
           "#636efa",
           "#EF553B",
           "#00cc96",
           "#ab63fa",
           "#FFA15A",
           "#19d3f3",
           "#FF6692",
           "#B6E880",
           "#FF97FF",
           "#FECB52"
          ],
          "font": {
           "color": "#2a3f5f"
          },
          "geo": {
           "bgcolor": "white",
           "lakecolor": "white",
           "landcolor": "#E5ECF6",
           "showlakes": true,
           "showland": true,
           "subunitcolor": "white"
          },
          "hoverlabel": {
           "align": "left"
          },
          "hovermode": "closest",
          "mapbox": {
           "style": "light"
          },
          "paper_bgcolor": "white",
          "plot_bgcolor": "#E5ECF6",
          "polar": {
           "angularaxis": {
            "gridcolor": "white",
            "linecolor": "white",
            "ticks": ""
           },
           "bgcolor": "#E5ECF6",
           "radialaxis": {
            "gridcolor": "white",
            "linecolor": "white",
            "ticks": ""
           }
          },
          "scene": {
           "xaxis": {
            "backgroundcolor": "#E5ECF6",
            "gridcolor": "white",
            "gridwidth": 2,
            "linecolor": "white",
            "showbackground": true,
            "ticks": "",
            "zerolinecolor": "white"
           },
           "yaxis": {
            "backgroundcolor": "#E5ECF6",
            "gridcolor": "white",
            "gridwidth": 2,
            "linecolor": "white",
            "showbackground": true,
            "ticks": "",
            "zerolinecolor": "white"
           },
           "zaxis": {
            "backgroundcolor": "#E5ECF6",
            "gridcolor": "white",
            "gridwidth": 2,
            "linecolor": "white",
            "showbackground": true,
            "ticks": "",
            "zerolinecolor": "white"
           }
          },
          "shapedefaults": {
           "line": {
            "color": "#2a3f5f"
           }
          },
          "ternary": {
           "aaxis": {
            "gridcolor": "white",
            "linecolor": "white",
            "ticks": ""
           },
           "baxis": {
            "gridcolor": "white",
            "linecolor": "white",
            "ticks": ""
           },
           "bgcolor": "#E5ECF6",
           "caxis": {
            "gridcolor": "white",
            "linecolor": "white",
            "ticks": ""
           }
          },
          "title": {
           "x": 0.05
          },
          "xaxis": {
           "automargin": true,
           "gridcolor": "white",
           "linecolor": "white",
           "ticks": "",
           "title": {
            "standoff": 15
           },
           "zerolinecolor": "white",
           "zerolinewidth": 2
          },
          "yaxis": {
           "automargin": true,
           "gridcolor": "white",
           "linecolor": "white",
           "ticks": "",
           "title": {
            "standoff": 15
           },
           "zerolinecolor": "white",
           "zerolinewidth": 2
          }
         }
        },
        "title": {
         "text": "Instore sales DEC to JAN"
        },
        "xaxis": {
         "anchor": "y",
         "domain": [
          0,
          1
         ],
         "title": {
          "text": "Description"
         }
        },
        "yaxis": {
         "anchor": "x",
         "domain": [
          0,
          1
         ],
         "title": {
          "text": "value"
         }
        }
       }
      }
     },
     "metadata": {},
     "output_type": "display_data"
    }
   ],
   "source": [
    "# from ctypes import sizeof\n",
    "import plotly.graph_objects as go # linechart to show value of sales across selected timeline - post covid\n",
    "import numpy as np\n",
    "dfb = df_post_COVID\n",
    "# df = px.data.weekstips()\n",
    "px.line(dfb, x='Description', y=['Predominantly food stores', 'Non-store retailing', 'Predominantly non-food stores', 'Household goods stores'], title='Instore sales DEC to JAN')"
   ]
  },
  {
   "cell_type": "code",
   "execution_count": 19,
   "metadata": {},
   "outputs": [
    {
     "data": {
      "application/vnd.plotly.v1+json": {
       "config": {
        "plotlyServerURL": "https://plot.ly"
       },
       "data": [
        {
         "alignmentgroup": "True",
         "bingroup": "y",
         "histfunc": "sum",
         "hovertemplate": "variable=Predominantly food stores<br>sum of value=%{x}<br>Description=%{y}<extra></extra>",
         "legendgroup": "Predominantly food stores",
         "marker": {
          "color": "#636efa",
          "pattern": {
           "shape": ""
          }
         },
         "name": "Predominantly food stores",
         "offsetgroup": "Predominantly food stores",
         "orientation": "h",
         "showlegend": true,
         "type": "histogram",
         "x": [
          15353408,
          12220759,
          12417653
         ],
         "xaxis": "x",
         "y": [
          "2021DEC",
          "2022JAN",
          "2022FEB"
         ],
         "yaxis": "y"
        },
        {
         "alignmentgroup": "True",
         "bingroup": "y",
         "histfunc": "sum",
         "hovertemplate": "variable=Non-store retailing<br>sum of value=%{x}<br>Description=%{y}<extra></extra>",
         "legendgroup": "Non-store retailing",
         "marker": {
          "color": "#EF553B",
          "pattern": {
           "shape": ""
          }
         },
         "name": "Non-store retailing",
         "offsetgroup": "Non-store retailing",
         "orientation": "h",
         "showlegend": true,
         "type": "histogram",
         "x": [
          663559,
          533762,
          320679
         ],
         "xaxis": "x",
         "y": [
          "2021DEC",
          "2022JAN",
          "2022FEB"
         ],
         "yaxis": "y"
        },
        {
         "alignmentgroup": "True",
         "bingroup": "y",
         "histfunc": "sum",
         "hovertemplate": "variable=Predominantly non-food stores<br>sum of value=%{x}<br>Description=%{y}<extra></extra>",
         "legendgroup": "Predominantly non-food stores",
         "marker": {
          "color": "#00cc96",
          "pattern": {
           "shape": ""
          }
         },
         "name": "Predominantly non-food stores",
         "offsetgroup": "Predominantly non-food stores",
         "orientation": "h",
         "showlegend": true,
         "type": "histogram",
         "x": [
          12823506,
          11020187,
          11181761
         ],
         "xaxis": "x",
         "y": [
          "2021DEC",
          "2022JAN",
          "2022FEB"
         ],
         "yaxis": "y"
        },
        {
         "alignmentgroup": "True",
         "bingroup": "y",
         "histfunc": "sum",
         "hovertemplate": "variable=Household goods stores<br>sum of value=%{x}<br>Description=%{y}<extra></extra>",
         "legendgroup": "Household goods stores",
         "marker": {
          "color": "#ab63fa",
          "pattern": {
           "shape": ""
          }
         },
         "name": "Household goods stores",
         "offsetgroup": "Household goods stores",
         "orientation": "h",
         "showlegend": true,
         "type": "histogram",
         "x": [
          2681707,
          2375414,
          2348662
         ],
         "xaxis": "x",
         "y": [
          "2021DEC",
          "2022JAN",
          "2022FEB"
         ],
         "yaxis": "y"
        }
       ],
       "layout": {
        "barmode": "group",
        "legend": {
         "title": {
          "text": "variable"
         },
         "tracegroupgap": 0
        },
        "template": {
         "data": {
          "bar": [
           {
            "error_x": {
             "color": "#2a3f5f"
            },
            "error_y": {
             "color": "#2a3f5f"
            },
            "marker": {
             "line": {
              "color": "#E5ECF6",
              "width": 0.5
             },
             "pattern": {
              "fillmode": "overlay",
              "size": 10,
              "solidity": 0.2
             }
            },
            "type": "bar"
           }
          ],
          "barpolar": [
           {
            "marker": {
             "line": {
              "color": "#E5ECF6",
              "width": 0.5
             },
             "pattern": {
              "fillmode": "overlay",
              "size": 10,
              "solidity": 0.2
             }
            },
            "type": "barpolar"
           }
          ],
          "carpet": [
           {
            "aaxis": {
             "endlinecolor": "#2a3f5f",
             "gridcolor": "white",
             "linecolor": "white",
             "minorgridcolor": "white",
             "startlinecolor": "#2a3f5f"
            },
            "baxis": {
             "endlinecolor": "#2a3f5f",
             "gridcolor": "white",
             "linecolor": "white",
             "minorgridcolor": "white",
             "startlinecolor": "#2a3f5f"
            },
            "type": "carpet"
           }
          ],
          "choropleth": [
           {
            "colorbar": {
             "outlinewidth": 0,
             "ticks": ""
            },
            "type": "choropleth"
           }
          ],
          "contour": [
           {
            "colorbar": {
             "outlinewidth": 0,
             "ticks": ""
            },
            "colorscale": [
             [
              0,
              "#0d0887"
             ],
             [
              0.1111111111111111,
              "#46039f"
             ],
             [
              0.2222222222222222,
              "#7201a8"
             ],
             [
              0.3333333333333333,
              "#9c179e"
             ],
             [
              0.4444444444444444,
              "#bd3786"
             ],
             [
              0.5555555555555556,
              "#d8576b"
             ],
             [
              0.6666666666666666,
              "#ed7953"
             ],
             [
              0.7777777777777778,
              "#fb9f3a"
             ],
             [
              0.8888888888888888,
              "#fdca26"
             ],
             [
              1,
              "#f0f921"
             ]
            ],
            "type": "contour"
           }
          ],
          "contourcarpet": [
           {
            "colorbar": {
             "outlinewidth": 0,
             "ticks": ""
            },
            "type": "contourcarpet"
           }
          ],
          "heatmap": [
           {
            "colorbar": {
             "outlinewidth": 0,
             "ticks": ""
            },
            "colorscale": [
             [
              0,
              "#0d0887"
             ],
             [
              0.1111111111111111,
              "#46039f"
             ],
             [
              0.2222222222222222,
              "#7201a8"
             ],
             [
              0.3333333333333333,
              "#9c179e"
             ],
             [
              0.4444444444444444,
              "#bd3786"
             ],
             [
              0.5555555555555556,
              "#d8576b"
             ],
             [
              0.6666666666666666,
              "#ed7953"
             ],
             [
              0.7777777777777778,
              "#fb9f3a"
             ],
             [
              0.8888888888888888,
              "#fdca26"
             ],
             [
              1,
              "#f0f921"
             ]
            ],
            "type": "heatmap"
           }
          ],
          "heatmapgl": [
           {
            "colorbar": {
             "outlinewidth": 0,
             "ticks": ""
            },
            "colorscale": [
             [
              0,
              "#0d0887"
             ],
             [
              0.1111111111111111,
              "#46039f"
             ],
             [
              0.2222222222222222,
              "#7201a8"
             ],
             [
              0.3333333333333333,
              "#9c179e"
             ],
             [
              0.4444444444444444,
              "#bd3786"
             ],
             [
              0.5555555555555556,
              "#d8576b"
             ],
             [
              0.6666666666666666,
              "#ed7953"
             ],
             [
              0.7777777777777778,
              "#fb9f3a"
             ],
             [
              0.8888888888888888,
              "#fdca26"
             ],
             [
              1,
              "#f0f921"
             ]
            ],
            "type": "heatmapgl"
           }
          ],
          "histogram": [
           {
            "marker": {
             "pattern": {
              "fillmode": "overlay",
              "size": 10,
              "solidity": 0.2
             }
            },
            "type": "histogram"
           }
          ],
          "histogram2d": [
           {
            "colorbar": {
             "outlinewidth": 0,
             "ticks": ""
            },
            "colorscale": [
             [
              0,
              "#0d0887"
             ],
             [
              0.1111111111111111,
              "#46039f"
             ],
             [
              0.2222222222222222,
              "#7201a8"
             ],
             [
              0.3333333333333333,
              "#9c179e"
             ],
             [
              0.4444444444444444,
              "#bd3786"
             ],
             [
              0.5555555555555556,
              "#d8576b"
             ],
             [
              0.6666666666666666,
              "#ed7953"
             ],
             [
              0.7777777777777778,
              "#fb9f3a"
             ],
             [
              0.8888888888888888,
              "#fdca26"
             ],
             [
              1,
              "#f0f921"
             ]
            ],
            "type": "histogram2d"
           }
          ],
          "histogram2dcontour": [
           {
            "colorbar": {
             "outlinewidth": 0,
             "ticks": ""
            },
            "colorscale": [
             [
              0,
              "#0d0887"
             ],
             [
              0.1111111111111111,
              "#46039f"
             ],
             [
              0.2222222222222222,
              "#7201a8"
             ],
             [
              0.3333333333333333,
              "#9c179e"
             ],
             [
              0.4444444444444444,
              "#bd3786"
             ],
             [
              0.5555555555555556,
              "#d8576b"
             ],
             [
              0.6666666666666666,
              "#ed7953"
             ],
             [
              0.7777777777777778,
              "#fb9f3a"
             ],
             [
              0.8888888888888888,
              "#fdca26"
             ],
             [
              1,
              "#f0f921"
             ]
            ],
            "type": "histogram2dcontour"
           }
          ],
          "mesh3d": [
           {
            "colorbar": {
             "outlinewidth": 0,
             "ticks": ""
            },
            "type": "mesh3d"
           }
          ],
          "parcoords": [
           {
            "line": {
             "colorbar": {
              "outlinewidth": 0,
              "ticks": ""
             }
            },
            "type": "parcoords"
           }
          ],
          "pie": [
           {
            "automargin": true,
            "type": "pie"
           }
          ],
          "scatter": [
           {
            "fillpattern": {
             "fillmode": "overlay",
             "size": 10,
             "solidity": 0.2
            },
            "type": "scatter"
           }
          ],
          "scatter3d": [
           {
            "line": {
             "colorbar": {
              "outlinewidth": 0,
              "ticks": ""
             }
            },
            "marker": {
             "colorbar": {
              "outlinewidth": 0,
              "ticks": ""
             }
            },
            "type": "scatter3d"
           }
          ],
          "scattercarpet": [
           {
            "marker": {
             "colorbar": {
              "outlinewidth": 0,
              "ticks": ""
             }
            },
            "type": "scattercarpet"
           }
          ],
          "scattergeo": [
           {
            "marker": {
             "colorbar": {
              "outlinewidth": 0,
              "ticks": ""
             }
            },
            "type": "scattergeo"
           }
          ],
          "scattergl": [
           {
            "marker": {
             "colorbar": {
              "outlinewidth": 0,
              "ticks": ""
             }
            },
            "type": "scattergl"
           }
          ],
          "scattermapbox": [
           {
            "marker": {
             "colorbar": {
              "outlinewidth": 0,
              "ticks": ""
             }
            },
            "type": "scattermapbox"
           }
          ],
          "scatterpolar": [
           {
            "marker": {
             "colorbar": {
              "outlinewidth": 0,
              "ticks": ""
             }
            },
            "type": "scatterpolar"
           }
          ],
          "scatterpolargl": [
           {
            "marker": {
             "colorbar": {
              "outlinewidth": 0,
              "ticks": ""
             }
            },
            "type": "scatterpolargl"
           }
          ],
          "scatterternary": [
           {
            "marker": {
             "colorbar": {
              "outlinewidth": 0,
              "ticks": ""
             }
            },
            "type": "scatterternary"
           }
          ],
          "surface": [
           {
            "colorbar": {
             "outlinewidth": 0,
             "ticks": ""
            },
            "colorscale": [
             [
              0,
              "#0d0887"
             ],
             [
              0.1111111111111111,
              "#46039f"
             ],
             [
              0.2222222222222222,
              "#7201a8"
             ],
             [
              0.3333333333333333,
              "#9c179e"
             ],
             [
              0.4444444444444444,
              "#bd3786"
             ],
             [
              0.5555555555555556,
              "#d8576b"
             ],
             [
              0.6666666666666666,
              "#ed7953"
             ],
             [
              0.7777777777777778,
              "#fb9f3a"
             ],
             [
              0.8888888888888888,
              "#fdca26"
             ],
             [
              1,
              "#f0f921"
             ]
            ],
            "type": "surface"
           }
          ],
          "table": [
           {
            "cells": {
             "fill": {
              "color": "#EBF0F8"
             },
             "line": {
              "color": "white"
             }
            },
            "header": {
             "fill": {
              "color": "#C8D4E3"
             },
             "line": {
              "color": "white"
             }
            },
            "type": "table"
           }
          ]
         },
         "layout": {
          "annotationdefaults": {
           "arrowcolor": "#2a3f5f",
           "arrowhead": 0,
           "arrowwidth": 1
          },
          "autotypenumbers": "strict",
          "coloraxis": {
           "colorbar": {
            "outlinewidth": 0,
            "ticks": ""
           }
          },
          "colorscale": {
           "diverging": [
            [
             0,
             "#8e0152"
            ],
            [
             0.1,
             "#c51b7d"
            ],
            [
             0.2,
             "#de77ae"
            ],
            [
             0.3,
             "#f1b6da"
            ],
            [
             0.4,
             "#fde0ef"
            ],
            [
             0.5,
             "#f7f7f7"
            ],
            [
             0.6,
             "#e6f5d0"
            ],
            [
             0.7,
             "#b8e186"
            ],
            [
             0.8,
             "#7fbc41"
            ],
            [
             0.9,
             "#4d9221"
            ],
            [
             1,
             "#276419"
            ]
           ],
           "sequential": [
            [
             0,
             "#0d0887"
            ],
            [
             0.1111111111111111,
             "#46039f"
            ],
            [
             0.2222222222222222,
             "#7201a8"
            ],
            [
             0.3333333333333333,
             "#9c179e"
            ],
            [
             0.4444444444444444,
             "#bd3786"
            ],
            [
             0.5555555555555556,
             "#d8576b"
            ],
            [
             0.6666666666666666,
             "#ed7953"
            ],
            [
             0.7777777777777778,
             "#fb9f3a"
            ],
            [
             0.8888888888888888,
             "#fdca26"
            ],
            [
             1,
             "#f0f921"
            ]
           ],
           "sequentialminus": [
            [
             0,
             "#0d0887"
            ],
            [
             0.1111111111111111,
             "#46039f"
            ],
            [
             0.2222222222222222,
             "#7201a8"
            ],
            [
             0.3333333333333333,
             "#9c179e"
            ],
            [
             0.4444444444444444,
             "#bd3786"
            ],
            [
             0.5555555555555556,
             "#d8576b"
            ],
            [
             0.6666666666666666,
             "#ed7953"
            ],
            [
             0.7777777777777778,
             "#fb9f3a"
            ],
            [
             0.8888888888888888,
             "#fdca26"
            ],
            [
             1,
             "#f0f921"
            ]
           ]
          },
          "colorway": [
           "#636efa",
           "#EF553B",
           "#00cc96",
           "#ab63fa",
           "#FFA15A",
           "#19d3f3",
           "#FF6692",
           "#B6E880",
           "#FF97FF",
           "#FECB52"
          ],
          "font": {
           "color": "#2a3f5f"
          },
          "geo": {
           "bgcolor": "white",
           "lakecolor": "white",
           "landcolor": "#E5ECF6",
           "showlakes": true,
           "showland": true,
           "subunitcolor": "white"
          },
          "hoverlabel": {
           "align": "left"
          },
          "hovermode": "closest",
          "mapbox": {
           "style": "light"
          },
          "paper_bgcolor": "white",
          "plot_bgcolor": "#E5ECF6",
          "polar": {
           "angularaxis": {
            "gridcolor": "white",
            "linecolor": "white",
            "ticks": ""
           },
           "bgcolor": "#E5ECF6",
           "radialaxis": {
            "gridcolor": "white",
            "linecolor": "white",
            "ticks": ""
           }
          },
          "scene": {
           "xaxis": {
            "backgroundcolor": "#E5ECF6",
            "gridcolor": "white",
            "gridwidth": 2,
            "linecolor": "white",
            "showbackground": true,
            "ticks": "",
            "zerolinecolor": "white"
           },
           "yaxis": {
            "backgroundcolor": "#E5ECF6",
            "gridcolor": "white",
            "gridwidth": 2,
            "linecolor": "white",
            "showbackground": true,
            "ticks": "",
            "zerolinecolor": "white"
           },
           "zaxis": {
            "backgroundcolor": "#E5ECF6",
            "gridcolor": "white",
            "gridwidth": 2,
            "linecolor": "white",
            "showbackground": true,
            "ticks": "",
            "zerolinecolor": "white"
           }
          },
          "shapedefaults": {
           "line": {
            "color": "#2a3f5f"
           }
          },
          "ternary": {
           "aaxis": {
            "gridcolor": "white",
            "linecolor": "white",
            "ticks": ""
           },
           "baxis": {
            "gridcolor": "white",
            "linecolor": "white",
            "ticks": ""
           },
           "bgcolor": "#E5ECF6",
           "caxis": {
            "gridcolor": "white",
            "linecolor": "white",
            "ticks": ""
           }
          },
          "title": {
           "x": 0.05
          },
          "xaxis": {
           "automargin": true,
           "gridcolor": "white",
           "linecolor": "white",
           "ticks": "",
           "title": {
            "standoff": 15
           },
           "zerolinecolor": "white",
           "zerolinewidth": 2
          },
          "yaxis": {
           "automargin": true,
           "gridcolor": "white",
           "linecolor": "white",
           "ticks": "",
           "title": {
            "standoff": 15
           },
           "zerolinecolor": "white",
           "zerolinewidth": 2
          }
         }
        },
        "title": {
         "text": "Instore sales DEC to JAN"
        },
        "xaxis": {
         "anchor": "y",
         "domain": [
          0,
          1
         ],
         "title": {
          "text": "sum of value"
         }
        },
        "yaxis": {
         "anchor": "x",
         "domain": [
          0,
          1
         ],
         "title": {
          "text": "Description"
         }
        }
       }
      }
     },
     "metadata": {},
     "output_type": "display_data"
    }
   ],
   "source": [
    "import plotly.express as px # linechart to show value of sales across selected timeline - post covid\n",
    "import numpy as np\n",
    "dfb = df_post_COVID\n",
    "# df = px.data.weekstips()\n",
    "px.histogram(dfb, y='Description', x=['Predominantly food stores', 'Non-store retailing', 'Predominantly non-food stores', 'Household goods stores'], title='Instore sales DEC to JAN', barmode='group', orientation='h')"
   ]
  },
  {
   "cell_type": "code",
   "execution_count": 23,
   "metadata": {},
   "outputs": [
    {
     "data": {
      "text/html": [
       "<div>\n",
       "<style scoped>\n",
       "    .dataframe tbody tr th:only-of-type {\n",
       "        vertical-align: middle;\n",
       "    }\n",
       "\n",
       "    .dataframe tbody tr th {\n",
       "        vertical-align: top;\n",
       "    }\n",
       "\n",
       "    .dataframe thead th {\n",
       "        text-align: right;\n",
       "    }\n",
       "</style>\n",
       "<table border=\"1\" class=\"dataframe\">\n",
       "  <thead>\n",
       "    <tr style=\"text-align: right;\">\n",
       "      <th></th>\n",
       "      <th>Description</th>\n",
       "      <th>All retailing</th>\n",
       "      <th>Non-specialised stores (i.e supermarkets)</th>\n",
       "      <th>Non-specialised stores (i.e department stores)</th>\n",
       "    </tr>\n",
       "  </thead>\n",
       "  <tbody>\n",
       "    <tr>\n",
       "      <th>180</th>\n",
       "      <td>2021DEC</td>\n",
       "      <td>33464670</td>\n",
       "      <td>14011048.0</td>\n",
       "      <td>2308073.0</td>\n",
       "    </tr>\n",
       "    <tr>\n",
       "      <th>181</th>\n",
       "      <td>2022JAN</td>\n",
       "      <td>27566539</td>\n",
       "      <td>11155367.0</td>\n",
       "      <td>1959429.0</td>\n",
       "    </tr>\n",
       "    <tr>\n",
       "      <th>182</th>\n",
       "      <td>2022FEB</td>\n",
       "      <td>27888938</td>\n",
       "      <td>11392382.0</td>\n",
       "      <td>2072145.0</td>\n",
       "    </tr>\n",
       "  </tbody>\n",
       "</table>\n",
       "</div>"
      ],
      "text/plain": [
       "    Description All retailing  Non-specialised stores (i.e supermarkets)  \\\n",
       "180     2021DEC      33464670                                 14011048.0   \n",
       "181     2022JAN      27566539                                 11155367.0   \n",
       "182     2022FEB      27888938                                 11392382.0   \n",
       "\n",
       "     Non-specialised stores (i.e department stores)  \n",
       "180                                       2308073.0  \n",
       "181                                       1959429.0  \n",
       "182                                       2072145.0  "
      ]
     },
     "execution_count": 23,
     "metadata": {},
     "output_type": "execute_result"
    }
   ],
   "source": [
    "df_post_COVID[['Description', 'All retailing', 'Non-specialised stores (i.e supermarkets)', 'Non-specialised stores (i.e department stores)']]"
   ]
  }
 ],
 "metadata": {
  "kernelspec": {
   "display_name": "Python 3.9.7 ('base')",
   "language": "python",
   "name": "python3"
  },
  "language_info": {
   "codemirror_mode": {
    "name": "ipython",
    "version": 3
   },
   "file_extension": ".py",
   "mimetype": "text/x-python",
   "name": "python",
   "nbconvert_exporter": "python",
   "pygments_lexer": "ipython3",
   "version": "3.9.7"
  },
  "orig_nbformat": 4,
  "vscode": {
   "interpreter": {
    "hash": "40d3a090f54c6569ab1632332b64b2c03c39dcf918b08424e98f38b5ae0af88f"
   }
  }
 },
 "nbformat": 4,
 "nbformat_minor": 2
}

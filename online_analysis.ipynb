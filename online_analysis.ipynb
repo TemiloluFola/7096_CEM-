{
 "cells": [
  {
   "cell_type": "code",
   "execution_count": 1,
   "metadata": {},
   "outputs": [],
   "source": [
    "# the following cells of code will be used for exploring online the UK retail sales value data \n",
    "# these cells will cover exploration, analysis, and visualisation\n",
    "# the analytical process is aiming to see if there are any distinguushable trends within the sector as whole \n",
    "# the timeliene will be considering pre-COVID, COVID, and post-COVID\n",
    "# an ML algo might be employed for forecasting after for future work but  \n",
    "# this is strictly a descriptive analytical using Historical data"
   ]
  },
  {
   "cell_type": "code",
   "execution_count": 2,
   "metadata": {},
   "outputs": [],
   "source": [
    "# coversion and speration to ease exploration and initial analysis \n",
    "\n",
    "import pandas as pd\n",
    "total_instore_online = pd.read_excel(r'/Users/temilolu_trois/desktop/datasets_csv_format/detailedonlineandinstore.xlsx', sheet_name= 1)\n",
    "instore = pd.read_excel(r'/Users/temilolu_trois/desktop/datasets_csv_format/detailedonlineandinstore.xlsx', sheet_name= 2)\n",
    "online = pd.read_excel(r'/Users/temilolu_trois/desktop/datasets_csv_format/detailedonlineandinstore.xlsx', sheet_name= 3)\n",
    "total_instore_online.to_csv(r'/Users/temilolu_trois/desktop/datasets_csv_format/hello_ds/total_instore_online.csv', index = None, header = True)\n",
    "instore.to_csv(r'/Users/temilolu_trois/desktop/datasets_csv_format/hello_ds/instore.csv', index = None, header = True)\n",
    "online.to_csv(r'/Users/temilolu_trois/desktop/datasets_csv_format/hello_ds/online.csv', index = None, header = True)"
   ]
  },
  {
   "cell_type": "code",
   "execution_count": null,
   "metadata": {},
   "outputs": [],
   "source": []
  },
  {
   "cell_type": "code",
   "execution_count": 3,
   "metadata": {},
   "outputs": [],
   "source": [
    "# instore sales will be considered first\n",
    "df1 = pd.DataFrame(online) # creating a df for instore sales \n"
   ]
  },
  {
   "cell_type": "code",
   "execution_count": 4,
   "metadata": {},
   "outputs": [
    {
     "data": {
      "text/html": [
       "<div>\n",
       "<style scoped>\n",
       "    .dataframe tbody tr th:only-of-type {\n",
       "        vertical-align: middle;\n",
       "    }\n",
       "\n",
       "    .dataframe tbody tr th {\n",
       "        vertical-align: top;\n",
       "    }\n",
       "\n",
       "    .dataframe thead th {\n",
       "        text-align: right;\n",
       "    }\n",
       "</style>\n",
       "<table border=\"1\" class=\"dataframe\">\n",
       "  <thead>\n",
       "    <tr style=\"text-align: right;\">\n",
       "      <th></th>\n",
       "      <th>Number of weeks</th>\n",
       "      <th>Description</th>\n",
       "      <th>All retailing</th>\n",
       "      <th>All retailing except automotive fuel</th>\n",
       "      <th>Predominantly food stores</th>\n",
       "      <th>Non-specialised stores (i.e supermarkets)</th>\n",
       "      <th>Specialist food stores (i.e butchers and bakers)</th>\n",
       "      <th>Alcoholic drink, beverages &amp; tobacco</th>\n",
       "      <th>Predominantly non-food stores</th>\n",
       "      <th>Non-specialised stores (i.e department stores)</th>\n",
       "      <th>...</th>\n",
       "      <th>Textiles</th>\n",
       "      <th>Clothing</th>\n",
       "      <th>Footwear and leather goods</th>\n",
       "      <th>Household goods stores</th>\n",
       "      <th>Furniture, lighting and household articles n.e.c</th>\n",
       "      <th>Electrical household aplliances</th>\n",
       "      <th>Hardware, paints and glass</th>\n",
       "      <th>Music and video recordings &amp; equiptment</th>\n",
       "      <th>Non-store retailing</th>\n",
       "      <th>Mail order</th>\n",
       "    </tr>\n",
       "  </thead>\n",
       "  <tbody>\n",
       "    <tr>\n",
       "      <th>0</th>\n",
       "      <td>NaN</td>\n",
       "      <td>AGG/SIC</td>\n",
       "      <td>AGG21</td>\n",
       "      <td>AGG21X</td>\n",
       "      <td>AGG1</td>\n",
       "      <td>47.11</td>\n",
       "      <td>AGG26</td>\n",
       "      <td>AGG27</td>\n",
       "      <td>AGG12</td>\n",
       "      <td>47.19</td>\n",
       "      <td>...</td>\n",
       "      <td>47.51</td>\n",
       "      <td>47.71</td>\n",
       "      <td>47.72</td>\n",
       "      <td>AGG7</td>\n",
       "      <td>47.59</td>\n",
       "      <td>47.54</td>\n",
       "      <td>47.52</td>\n",
       "      <td>AGG31</td>\n",
       "      <td>AGG14</td>\n",
       "      <td>47.91</td>\n",
       "    </tr>\n",
       "    <tr>\n",
       "      <th>1</th>\n",
       "      <td>4.0</td>\n",
       "      <td>2007JAN</td>\n",
       "      <td>540353</td>\n",
       "      <td>540353</td>\n",
       "      <td>93388</td>\n",
       "      <td>89899.00</td>\n",
       "      <td>1402</td>\n",
       "      <td>2087</td>\n",
       "      <td>219059</td>\n",
       "      <td>39747.00</td>\n",
       "      <td>...</td>\n",
       "      <td>2168.00</td>\n",
       "      <td>50604.00</td>\n",
       "      <td>3889.00</td>\n",
       "      <td>52838</td>\n",
       "      <td>22309.00</td>\n",
       "      <td>19932.00</td>\n",
       "      <td>8662.00</td>\n",
       "      <td>1935</td>\n",
       "      <td>227906</td>\n",
       "      <td>201539.00</td>\n",
       "    </tr>\n",
       "    <tr>\n",
       "      <th>2</th>\n",
       "      <td>4.0</td>\n",
       "      <td>2007FEB</td>\n",
       "      <td>573698</td>\n",
       "      <td>573698</td>\n",
       "      <td>95290</td>\n",
       "      <td>91788.00</td>\n",
       "      <td>1416</td>\n",
       "      <td>2086</td>\n",
       "      <td>239217</td>\n",
       "      <td>43363.00</td>\n",
       "      <td>...</td>\n",
       "      <td>2392.00</td>\n",
       "      <td>57139.00</td>\n",
       "      <td>4147.00</td>\n",
       "      <td>57163</td>\n",
       "      <td>24118.00</td>\n",
       "      <td>21790.00</td>\n",
       "      <td>9184.00</td>\n",
       "      <td>2071</td>\n",
       "      <td>239191</td>\n",
       "      <td>209963.00</td>\n",
       "    </tr>\n",
       "    <tr>\n",
       "      <th>3</th>\n",
       "      <td>5.0</td>\n",
       "      <td>2007MAR</td>\n",
       "      <td>772016</td>\n",
       "      <td>772016</td>\n",
       "      <td>125638</td>\n",
       "      <td>120936.00</td>\n",
       "      <td>2045</td>\n",
       "      <td>2657</td>\n",
       "      <td>319576</td>\n",
       "      <td>58214.00</td>\n",
       "      <td>...</td>\n",
       "      <td>3111.00</td>\n",
       "      <td>76197.00</td>\n",
       "      <td>5527.00</td>\n",
       "      <td>77442</td>\n",
       "      <td>33236.00</td>\n",
       "      <td>30383.00</td>\n",
       "      <td>11037.00</td>\n",
       "      <td>2786</td>\n",
       "      <td>326802</td>\n",
       "      <td>286930.00</td>\n",
       "    </tr>\n",
       "    <tr>\n",
       "      <th>4</th>\n",
       "      <td>4.0</td>\n",
       "      <td>2007APR</td>\n",
       "      <td>642392</td>\n",
       "      <td>642392</td>\n",
       "      <td>104367</td>\n",
       "      <td>100291.00</td>\n",
       "      <td>1748</td>\n",
       "      <td>2328</td>\n",
       "      <td>265276</td>\n",
       "      <td>47486.00</td>\n",
       "      <td>...</td>\n",
       "      <td>2508.00</td>\n",
       "      <td>62545.00</td>\n",
       "      <td>4469.00</td>\n",
       "      <td>65046</td>\n",
       "      <td>28481.00</td>\n",
       "      <td>25745.00</td>\n",
       "      <td>8565.00</td>\n",
       "      <td>2255</td>\n",
       "      <td>272749</td>\n",
       "      <td>241320.00</td>\n",
       "    </tr>\n",
       "    <tr>\n",
       "      <th>...</th>\n",
       "      <td>...</td>\n",
       "      <td>...</td>\n",
       "      <td>...</td>\n",
       "      <td>...</td>\n",
       "      <td>...</td>\n",
       "      <td>...</td>\n",
       "      <td>...</td>\n",
       "      <td>...</td>\n",
       "      <td>...</td>\n",
       "      <td>...</td>\n",
       "      <td>...</td>\n",
       "      <td>...</td>\n",
       "      <td>...</td>\n",
       "      <td>...</td>\n",
       "      <td>...</td>\n",
       "      <td>...</td>\n",
       "      <td>...</td>\n",
       "      <td>...</td>\n",
       "      <td>...</td>\n",
       "      <td>...</td>\n",
       "      <td>...</td>\n",
       "    </tr>\n",
       "    <tr>\n",
       "      <th>178</th>\n",
       "      <td>4.0</td>\n",
       "      <td>2021OCT</td>\n",
       "      <td>9566557</td>\n",
       "      <td>9566557</td>\n",
       "      <td>1401036</td>\n",
       "      <td>1226441.00</td>\n",
       "      <td>57156</td>\n",
       "      <td>117439</td>\n",
       "      <td>3273196</td>\n",
       "      <td>670733.00</td>\n",
       "      <td>...</td>\n",
       "      <td>23215.00</td>\n",
       "      <td>930754.00</td>\n",
       "      <td>91276.00</td>\n",
       "      <td>640401</td>\n",
       "      <td>216843.00</td>\n",
       "      <td>255155.00</td>\n",
       "      <td>150837.00</td>\n",
       "      <td>17566</td>\n",
       "      <td>4892325</td>\n",
       "      <td>4848106.00</td>\n",
       "    </tr>\n",
       "    <tr>\n",
       "      <th>179</th>\n",
       "      <td>4.0</td>\n",
       "      <td>2021NOV</td>\n",
       "      <td>9481485</td>\n",
       "      <td>9481485</td>\n",
       "      <td>1354782</td>\n",
       "      <td>1200369.00</td>\n",
       "      <td>51131</td>\n",
       "      <td>103282</td>\n",
       "      <td>3214688</td>\n",
       "      <td>659784.00</td>\n",
       "      <td>...</td>\n",
       "      <td>24737.00</td>\n",
       "      <td>888602.00</td>\n",
       "      <td>91766.00</td>\n",
       "      <td>646295</td>\n",
       "      <td>201246.00</td>\n",
       "      <td>267733.00</td>\n",
       "      <td>159375.00</td>\n",
       "      <td>17941</td>\n",
       "      <td>4912015</td>\n",
       "      <td>4869211.00</td>\n",
       "    </tr>\n",
       "    <tr>\n",
       "      <th>180</th>\n",
       "      <td>5.0</td>\n",
       "      <td>2021DEC</td>\n",
       "      <td>11813749</td>\n",
       "      <td>11813749</td>\n",
       "      <td>1873787</td>\n",
       "      <td>1683077.00</td>\n",
       "      <td>65917</td>\n",
       "      <td>124793</td>\n",
       "      <td>3995813</td>\n",
       "      <td>743741.00</td>\n",
       "      <td>...</td>\n",
       "      <td>33521.00</td>\n",
       "      <td>1110102.00</td>\n",
       "      <td>115372.00</td>\n",
       "      <td>786799</td>\n",
       "      <td>245356.00</td>\n",
       "      <td>250902.00</td>\n",
       "      <td>266399.00</td>\n",
       "      <td>24142</td>\n",
       "      <td>5944149</td>\n",
       "      <td>5881725.00</td>\n",
       "    </tr>\n",
       "    <tr>\n",
       "      <th>181</th>\n",
       "      <td>4.0</td>\n",
       "      <td>2022JAN</td>\n",
       "      <td>9279541</td>\n",
       "      <td>9279541</td>\n",
       "      <td>1245360</td>\n",
       "      <td>1166016.00</td>\n",
       "      <td>46378</td>\n",
       "      <td>32966</td>\n",
       "      <td>3065025</td>\n",
       "      <td>593922.00</td>\n",
       "      <td>...</td>\n",
       "      <td>26049.00</td>\n",
       "      <td>843525.00</td>\n",
       "      <td>76181.00</td>\n",
       "      <td>603528</td>\n",
       "      <td>235378.00</td>\n",
       "      <td>212386.00</td>\n",
       "      <td>138076.00</td>\n",
       "      <td>17688</td>\n",
       "      <td>4969156</td>\n",
       "      <td>4918595.00</td>\n",
       "    </tr>\n",
       "    <tr>\n",
       "      <th>182</th>\n",
       "      <td>4.0</td>\n",
       "      <td>2022FEB</td>\n",
       "      <td>9216920</td>\n",
       "      <td>9216920</td>\n",
       "      <td>1213413</td>\n",
       "      <td>1144109.00</td>\n",
       "      <td>44913</td>\n",
       "      <td>24391</td>\n",
       "      <td>3038396</td>\n",
       "      <td>590885.00</td>\n",
       "      <td>...</td>\n",
       "      <td>23349.00</td>\n",
       "      <td>841686.00</td>\n",
       "      <td>87202.00</td>\n",
       "      <td>589728</td>\n",
       "      <td>207618.00</td>\n",
       "      <td>224600.00</td>\n",
       "      <td>138172.00</td>\n",
       "      <td>19338</td>\n",
       "      <td>4965111</td>\n",
       "      <td>4920188.00</td>\n",
       "    </tr>\n",
       "  </tbody>\n",
       "</table>\n",
       "<p>183 rows × 33 columns</p>\n",
       "</div>"
      ],
      "text/plain": [
       "     Number of weeks Description All retailing  \\\n",
       "0                NaN     AGG/SIC         AGG21   \n",
       "1                4.0     2007JAN        540353   \n",
       "2                4.0     2007FEB        573698   \n",
       "3                5.0     2007MAR        772016   \n",
       "4                4.0     2007APR        642392   \n",
       "..               ...         ...           ...   \n",
       "178              4.0     2021OCT       9566557   \n",
       "179              4.0     2021NOV       9481485   \n",
       "180              5.0     2021DEC      11813749   \n",
       "181              4.0     2022JAN       9279541   \n",
       "182              4.0     2022FEB       9216920   \n",
       "\n",
       "    All retailing except automotive fuel Predominantly food stores  \\\n",
       "0                                 AGG21X                      AGG1   \n",
       "1                                 540353                     93388   \n",
       "2                                 573698                     95290   \n",
       "3                                 772016                    125638   \n",
       "4                                 642392                    104367   \n",
       "..                                   ...                       ...   \n",
       "178                              9566557                   1401036   \n",
       "179                              9481485                   1354782   \n",
       "180                             11813749                   1873787   \n",
       "181                              9279541                   1245360   \n",
       "182                              9216920                   1213413   \n",
       "\n",
       "     Non-specialised stores (i.e supermarkets)  \\\n",
       "0                                        47.11   \n",
       "1                                     89899.00   \n",
       "2                                     91788.00   \n",
       "3                                    120936.00   \n",
       "4                                    100291.00   \n",
       "..                                         ...   \n",
       "178                                 1226441.00   \n",
       "179                                 1200369.00   \n",
       "180                                 1683077.00   \n",
       "181                                 1166016.00   \n",
       "182                                 1144109.00   \n",
       "\n",
       "    Specialist food stores (i.e butchers and bakers)  \\\n",
       "0                                              AGG26   \n",
       "1                                               1402   \n",
       "2                                               1416   \n",
       "3                                               2045   \n",
       "4                                               1748   \n",
       "..                                               ...   \n",
       "178                                            57156   \n",
       "179                                            51131   \n",
       "180                                            65917   \n",
       "181                                            46378   \n",
       "182                                            44913   \n",
       "\n",
       "    Alcoholic drink, beverages & tobacco Predominantly non-food stores  \\\n",
       "0                                  AGG27                         AGG12   \n",
       "1                                   2087                        219059   \n",
       "2                                   2086                        239217   \n",
       "3                                   2657                        319576   \n",
       "4                                   2328                        265276   \n",
       "..                                   ...                           ...   \n",
       "178                               117439                       3273196   \n",
       "179                               103282                       3214688   \n",
       "180                               124793                       3995813   \n",
       "181                                32966                       3065025   \n",
       "182                                24391                       3038396   \n",
       "\n",
       "     Non-specialised stores (i.e department stores)  ...  Textiles  \\\n",
       "0                                             47.19  ...     47.51   \n",
       "1                                          39747.00  ...   2168.00   \n",
       "2                                          43363.00  ...   2392.00   \n",
       "3                                          58214.00  ...   3111.00   \n",
       "4                                          47486.00  ...   2508.00   \n",
       "..                                              ...  ...       ...   \n",
       "178                                       670733.00  ...  23215.00   \n",
       "179                                       659784.00  ...  24737.00   \n",
       "180                                       743741.00  ...  33521.00   \n",
       "181                                       593922.00  ...  26049.00   \n",
       "182                                       590885.00  ...  23349.00   \n",
       "\n",
       "       Clothing  Footwear and leather goods  Household goods stores  \\\n",
       "0         47.71                       47.72                    AGG7   \n",
       "1      50604.00                     3889.00                   52838   \n",
       "2      57139.00                     4147.00                   57163   \n",
       "3      76197.00                     5527.00                   77442   \n",
       "4      62545.00                     4469.00                   65046   \n",
       "..          ...                         ...                     ...   \n",
       "178   930754.00                    91276.00                  640401   \n",
       "179   888602.00                    91766.00                  646295   \n",
       "180  1110102.00                   115372.00                  786799   \n",
       "181   843525.00                    76181.00                  603528   \n",
       "182   841686.00                    87202.00                  589728   \n",
       "\n",
       "    Furniture, lighting and household articles n.e.c  \\\n",
       "0                                              47.59   \n",
       "1                                           22309.00   \n",
       "2                                           24118.00   \n",
       "3                                           33236.00   \n",
       "4                                           28481.00   \n",
       "..                                               ...   \n",
       "178                                        216843.00   \n",
       "179                                        201246.00   \n",
       "180                                        245356.00   \n",
       "181                                        235378.00   \n",
       "182                                        207618.00   \n",
       "\n",
       "     Electrical household aplliances Hardware, paints and glass  \\\n",
       "0                              47.54                      47.52   \n",
       "1                           19932.00                    8662.00   \n",
       "2                           21790.00                    9184.00   \n",
       "3                           30383.00                   11037.00   \n",
       "4                           25745.00                    8565.00   \n",
       "..                               ...                        ...   \n",
       "178                        255155.00                  150837.00   \n",
       "179                        267733.00                  159375.00   \n",
       "180                        250902.00                  266399.00   \n",
       "181                        212386.00                  138076.00   \n",
       "182                        224600.00                  138172.00   \n",
       "\n",
       "    Music and video recordings & equiptment  Non-store retailing  Mail order  \n",
       "0                                     AGG31                AGG14       47.91  \n",
       "1                                      1935               227906   201539.00  \n",
       "2                                      2071               239191   209963.00  \n",
       "3                                      2786               326802   286930.00  \n",
       "4                                      2255               272749   241320.00  \n",
       "..                                      ...                  ...         ...  \n",
       "178                                   17566              4892325  4848106.00  \n",
       "179                                   17941              4912015  4869211.00  \n",
       "180                                   24142              5944149  5881725.00  \n",
       "181                                   17688              4969156  4918595.00  \n",
       "182                                   19338              4965111  4920188.00  \n",
       "\n",
       "[183 rows x 33 columns]"
      ]
     },
     "execution_count": 4,
     "metadata": {},
     "output_type": "execute_result"
    }
   ],
   "source": [
    "# data cleaning process \n",
    "df1.dropna(how=\"all\").drop_duplicates() # to drop duplicate values and null values "
   ]
  },
  {
   "cell_type": "code",
   "execution_count": 5,
   "metadata": {},
   "outputs": [],
   "source": [
    "df1_copy = df1.dropna(how=\"all\").drop_duplicates().copy() # cretating a copy of the cleaned df\n",
    "\n",
    "# df1_copy"
   ]
  },
  {
   "cell_type": "code",
   "execution_count": 6,
   "metadata": {},
   "outputs": [
    {
     "data": {
      "text/html": [
       "<div>\n",
       "<style scoped>\n",
       "    .dataframe tbody tr th:only-of-type {\n",
       "        vertical-align: middle;\n",
       "    }\n",
       "\n",
       "    .dataframe tbody tr th {\n",
       "        vertical-align: top;\n",
       "    }\n",
       "\n",
       "    .dataframe thead th {\n",
       "        text-align: right;\n",
       "    }\n",
       "</style>\n",
       "<table border=\"1\" class=\"dataframe\">\n",
       "  <thead>\n",
       "    <tr style=\"text-align: right;\">\n",
       "      <th></th>\n",
       "      <th>Number of weeks</th>\n",
       "      <th>Description</th>\n",
       "      <th>All retailing</th>\n",
       "      <th>All retailing except automotive fuel</th>\n",
       "      <th>Predominantly food stores</th>\n",
       "      <th>Non-specialised stores (i.e supermarkets)</th>\n",
       "      <th>Specialist food stores (i.e butchers and bakers)</th>\n",
       "      <th>Alcoholic drink, beverages &amp; tobacco</th>\n",
       "      <th>Predominantly non-food stores</th>\n",
       "      <th>Non-specialised stores (i.e department stores)</th>\n",
       "      <th>...</th>\n",
       "      <th>Textiles</th>\n",
       "      <th>Clothing</th>\n",
       "      <th>Footwear and leather goods</th>\n",
       "      <th>Household goods stores</th>\n",
       "      <th>Furniture, lighting and household articles n.e.c</th>\n",
       "      <th>Electrical household aplliances</th>\n",
       "      <th>Hardware, paints and glass</th>\n",
       "      <th>Music and video recordings &amp; equiptment</th>\n",
       "      <th>Non-store retailing</th>\n",
       "      <th>Mail order</th>\n",
       "    </tr>\n",
       "  </thead>\n",
       "  <tbody>\n",
       "    <tr>\n",
       "      <th>37</th>\n",
       "      <td>4.0</td>\n",
       "      <td>2010JAN</td>\n",
       "      <td>1429675</td>\n",
       "      <td>1429675</td>\n",
       "      <td>255812</td>\n",
       "      <td>224738.0</td>\n",
       "      <td>3797</td>\n",
       "      <td>27277</td>\n",
       "      <td>575036</td>\n",
       "      <td>105934.0</td>\n",
       "      <td>...</td>\n",
       "      <td>4925.0</td>\n",
       "      <td>156514.0</td>\n",
       "      <td>17526.0</td>\n",
       "      <td>143684</td>\n",
       "      <td>40405.0</td>\n",
       "      <td>75648.0</td>\n",
       "      <td>21274.0</td>\n",
       "      <td>6357</td>\n",
       "      <td>598827</td>\n",
       "      <td>564272.0</td>\n",
       "    </tr>\n",
       "    <tr>\n",
       "      <th>38</th>\n",
       "      <td>4.0</td>\n",
       "      <td>2010FEB</td>\n",
       "      <td>1494178</td>\n",
       "      <td>1494178</td>\n",
       "      <td>294365</td>\n",
       "      <td>256209.0</td>\n",
       "      <td>6431</td>\n",
       "      <td>31725</td>\n",
       "      <td>589609</td>\n",
       "      <td>96556.0</td>\n",
       "      <td>...</td>\n",
       "      <td>5703.0</td>\n",
       "      <td>139836.0</td>\n",
       "      <td>13309.0</td>\n",
       "      <td>159687</td>\n",
       "      <td>42695.0</td>\n",
       "      <td>87528.0</td>\n",
       "      <td>24316.0</td>\n",
       "      <td>5148</td>\n",
       "      <td>610204</td>\n",
       "      <td>578414.0</td>\n",
       "    </tr>\n",
       "    <tr>\n",
       "      <th>39</th>\n",
       "      <td>5.0</td>\n",
       "      <td>2010MAR</td>\n",
       "      <td>1853402</td>\n",
       "      <td>1853402</td>\n",
       "      <td>352479</td>\n",
       "      <td>296739.0</td>\n",
       "      <td>10825</td>\n",
       "      <td>44915</td>\n",
       "      <td>720183</td>\n",
       "      <td>137415.0</td>\n",
       "      <td>...</td>\n",
       "      <td>5121.0</td>\n",
       "      <td>191913.0</td>\n",
       "      <td>16507.0</td>\n",
       "      <td>145991</td>\n",
       "      <td>54520.0</td>\n",
       "      <td>58439.0</td>\n",
       "      <td>26848.0</td>\n",
       "      <td>6184</td>\n",
       "      <td>780740</td>\n",
       "      <td>741368.0</td>\n",
       "    </tr>\n",
       "    <tr>\n",
       "      <th>40</th>\n",
       "      <td>4.0</td>\n",
       "      <td>2010APR</td>\n",
       "      <td>1541298</td>\n",
       "      <td>1541298</td>\n",
       "      <td>307444</td>\n",
       "      <td>263892.0</td>\n",
       "      <td>7713</td>\n",
       "      <td>35839</td>\n",
       "      <td>614334</td>\n",
       "      <td>109855.0</td>\n",
       "      <td>...</td>\n",
       "      <td>4024.0</td>\n",
       "      <td>162530.0</td>\n",
       "      <td>16053.0</td>\n",
       "      <td>118837</td>\n",
       "      <td>44818.0</td>\n",
       "      <td>49319.0</td>\n",
       "      <td>18897.0</td>\n",
       "      <td>5803</td>\n",
       "      <td>619520</td>\n",
       "      <td>582323.0</td>\n",
       "    </tr>\n",
       "    <tr>\n",
       "      <th>41</th>\n",
       "      <td>4.0</td>\n",
       "      <td>2010MAY</td>\n",
       "      <td>1562931</td>\n",
       "      <td>1562931</td>\n",
       "      <td>280318</td>\n",
       "      <td>240383.0</td>\n",
       "      <td>7875</td>\n",
       "      <td>32060</td>\n",
       "      <td>637260</td>\n",
       "      <td>120285.0</td>\n",
       "      <td>...</td>\n",
       "      <td>4077.0</td>\n",
       "      <td>159267.0</td>\n",
       "      <td>18438.0</td>\n",
       "      <td>121748</td>\n",
       "      <td>45525.0</td>\n",
       "      <td>51752.0</td>\n",
       "      <td>18866.0</td>\n",
       "      <td>5605</td>\n",
       "      <td>645353</td>\n",
       "      <td>608073.0</td>\n",
       "    </tr>\n",
       "    <tr>\n",
       "      <th>...</th>\n",
       "      <td>...</td>\n",
       "      <td>...</td>\n",
       "      <td>...</td>\n",
       "      <td>...</td>\n",
       "      <td>...</td>\n",
       "      <td>...</td>\n",
       "      <td>...</td>\n",
       "      <td>...</td>\n",
       "      <td>...</td>\n",
       "      <td>...</td>\n",
       "      <td>...</td>\n",
       "      <td>...</td>\n",
       "      <td>...</td>\n",
       "      <td>...</td>\n",
       "      <td>...</td>\n",
       "      <td>...</td>\n",
       "      <td>...</td>\n",
       "      <td>...</td>\n",
       "      <td>...</td>\n",
       "      <td>...</td>\n",
       "      <td>...</td>\n",
       "    </tr>\n",
       "    <tr>\n",
       "      <th>178</th>\n",
       "      <td>4.0</td>\n",
       "      <td>2021OCT</td>\n",
       "      <td>9566557</td>\n",
       "      <td>9566557</td>\n",
       "      <td>1401036</td>\n",
       "      <td>1226441.0</td>\n",
       "      <td>57156</td>\n",
       "      <td>117439</td>\n",
       "      <td>3273196</td>\n",
       "      <td>670733.0</td>\n",
       "      <td>...</td>\n",
       "      <td>23215.0</td>\n",
       "      <td>930754.0</td>\n",
       "      <td>91276.0</td>\n",
       "      <td>640401</td>\n",
       "      <td>216843.0</td>\n",
       "      <td>255155.0</td>\n",
       "      <td>150837.0</td>\n",
       "      <td>17566</td>\n",
       "      <td>4892325</td>\n",
       "      <td>4848106.0</td>\n",
       "    </tr>\n",
       "    <tr>\n",
       "      <th>179</th>\n",
       "      <td>4.0</td>\n",
       "      <td>2021NOV</td>\n",
       "      <td>9481485</td>\n",
       "      <td>9481485</td>\n",
       "      <td>1354782</td>\n",
       "      <td>1200369.0</td>\n",
       "      <td>51131</td>\n",
       "      <td>103282</td>\n",
       "      <td>3214688</td>\n",
       "      <td>659784.0</td>\n",
       "      <td>...</td>\n",
       "      <td>24737.0</td>\n",
       "      <td>888602.0</td>\n",
       "      <td>91766.0</td>\n",
       "      <td>646295</td>\n",
       "      <td>201246.0</td>\n",
       "      <td>267733.0</td>\n",
       "      <td>159375.0</td>\n",
       "      <td>17941</td>\n",
       "      <td>4912015</td>\n",
       "      <td>4869211.0</td>\n",
       "    </tr>\n",
       "    <tr>\n",
       "      <th>180</th>\n",
       "      <td>5.0</td>\n",
       "      <td>2021DEC</td>\n",
       "      <td>11813749</td>\n",
       "      <td>11813749</td>\n",
       "      <td>1873787</td>\n",
       "      <td>1683077.0</td>\n",
       "      <td>65917</td>\n",
       "      <td>124793</td>\n",
       "      <td>3995813</td>\n",
       "      <td>743741.0</td>\n",
       "      <td>...</td>\n",
       "      <td>33521.0</td>\n",
       "      <td>1110102.0</td>\n",
       "      <td>115372.0</td>\n",
       "      <td>786799</td>\n",
       "      <td>245356.0</td>\n",
       "      <td>250902.0</td>\n",
       "      <td>266399.0</td>\n",
       "      <td>24142</td>\n",
       "      <td>5944149</td>\n",
       "      <td>5881725.0</td>\n",
       "    </tr>\n",
       "    <tr>\n",
       "      <th>181</th>\n",
       "      <td>4.0</td>\n",
       "      <td>2022JAN</td>\n",
       "      <td>9279541</td>\n",
       "      <td>9279541</td>\n",
       "      <td>1245360</td>\n",
       "      <td>1166016.0</td>\n",
       "      <td>46378</td>\n",
       "      <td>32966</td>\n",
       "      <td>3065025</td>\n",
       "      <td>593922.0</td>\n",
       "      <td>...</td>\n",
       "      <td>26049.0</td>\n",
       "      <td>843525.0</td>\n",
       "      <td>76181.0</td>\n",
       "      <td>603528</td>\n",
       "      <td>235378.0</td>\n",
       "      <td>212386.0</td>\n",
       "      <td>138076.0</td>\n",
       "      <td>17688</td>\n",
       "      <td>4969156</td>\n",
       "      <td>4918595.0</td>\n",
       "    </tr>\n",
       "    <tr>\n",
       "      <th>182</th>\n",
       "      <td>4.0</td>\n",
       "      <td>2022FEB</td>\n",
       "      <td>9216920</td>\n",
       "      <td>9216920</td>\n",
       "      <td>1213413</td>\n",
       "      <td>1144109.0</td>\n",
       "      <td>44913</td>\n",
       "      <td>24391</td>\n",
       "      <td>3038396</td>\n",
       "      <td>590885.0</td>\n",
       "      <td>...</td>\n",
       "      <td>23349.0</td>\n",
       "      <td>841686.0</td>\n",
       "      <td>87202.0</td>\n",
       "      <td>589728</td>\n",
       "      <td>207618.0</td>\n",
       "      <td>224600.0</td>\n",
       "      <td>138172.0</td>\n",
       "      <td>19338</td>\n",
       "      <td>4965111</td>\n",
       "      <td>4920188.0</td>\n",
       "    </tr>\n",
       "  </tbody>\n",
       "</table>\n",
       "<p>146 rows × 33 columns</p>\n",
       "</div>"
      ],
      "text/plain": [
       "     Number of weeks Description All retailing  \\\n",
       "37               4.0     2010JAN       1429675   \n",
       "38               4.0     2010FEB       1494178   \n",
       "39               5.0     2010MAR       1853402   \n",
       "40               4.0     2010APR       1541298   \n",
       "41               4.0     2010MAY       1562931   \n",
       "..               ...         ...           ...   \n",
       "178              4.0     2021OCT       9566557   \n",
       "179              4.0     2021NOV       9481485   \n",
       "180              5.0     2021DEC      11813749   \n",
       "181              4.0     2022JAN       9279541   \n",
       "182              4.0     2022FEB       9216920   \n",
       "\n",
       "    All retailing except automotive fuel Predominantly food stores  \\\n",
       "37                               1429675                    255812   \n",
       "38                               1494178                    294365   \n",
       "39                               1853402                    352479   \n",
       "40                               1541298                    307444   \n",
       "41                               1562931                    280318   \n",
       "..                                   ...                       ...   \n",
       "178                              9566557                   1401036   \n",
       "179                              9481485                   1354782   \n",
       "180                             11813749                   1873787   \n",
       "181                              9279541                   1245360   \n",
       "182                              9216920                   1213413   \n",
       "\n",
       "     Non-specialised stores (i.e supermarkets)  \\\n",
       "37                                    224738.0   \n",
       "38                                    256209.0   \n",
       "39                                    296739.0   \n",
       "40                                    263892.0   \n",
       "41                                    240383.0   \n",
       "..                                         ...   \n",
       "178                                  1226441.0   \n",
       "179                                  1200369.0   \n",
       "180                                  1683077.0   \n",
       "181                                  1166016.0   \n",
       "182                                  1144109.0   \n",
       "\n",
       "    Specialist food stores (i.e butchers and bakers)  \\\n",
       "37                                              3797   \n",
       "38                                              6431   \n",
       "39                                             10825   \n",
       "40                                              7713   \n",
       "41                                              7875   \n",
       "..                                               ...   \n",
       "178                                            57156   \n",
       "179                                            51131   \n",
       "180                                            65917   \n",
       "181                                            46378   \n",
       "182                                            44913   \n",
       "\n",
       "    Alcoholic drink, beverages & tobacco Predominantly non-food stores  \\\n",
       "37                                 27277                        575036   \n",
       "38                                 31725                        589609   \n",
       "39                                 44915                        720183   \n",
       "40                                 35839                        614334   \n",
       "41                                 32060                        637260   \n",
       "..                                   ...                           ...   \n",
       "178                               117439                       3273196   \n",
       "179                               103282                       3214688   \n",
       "180                               124793                       3995813   \n",
       "181                                32966                       3065025   \n",
       "182                                24391                       3038396   \n",
       "\n",
       "     Non-specialised stores (i.e department stores)  ... Textiles   Clothing  \\\n",
       "37                                         105934.0  ...   4925.0   156514.0   \n",
       "38                                          96556.0  ...   5703.0   139836.0   \n",
       "39                                         137415.0  ...   5121.0   191913.0   \n",
       "40                                         109855.0  ...   4024.0   162530.0   \n",
       "41                                         120285.0  ...   4077.0   159267.0   \n",
       "..                                              ...  ...      ...        ...   \n",
       "178                                        670733.0  ...  23215.0   930754.0   \n",
       "179                                        659784.0  ...  24737.0   888602.0   \n",
       "180                                        743741.0  ...  33521.0  1110102.0   \n",
       "181                                        593922.0  ...  26049.0   843525.0   \n",
       "182                                        590885.0  ...  23349.0   841686.0   \n",
       "\n",
       "     Footwear and leather goods  Household goods stores  \\\n",
       "37                      17526.0                  143684   \n",
       "38                      13309.0                  159687   \n",
       "39                      16507.0                  145991   \n",
       "40                      16053.0                  118837   \n",
       "41                      18438.0                  121748   \n",
       "..                          ...                     ...   \n",
       "178                     91276.0                  640401   \n",
       "179                     91766.0                  646295   \n",
       "180                    115372.0                  786799   \n",
       "181                     76181.0                  603528   \n",
       "182                     87202.0                  589728   \n",
       "\n",
       "    Furniture, lighting and household articles n.e.c  \\\n",
       "37                                           40405.0   \n",
       "38                                           42695.0   \n",
       "39                                           54520.0   \n",
       "40                                           44818.0   \n",
       "41                                           45525.0   \n",
       "..                                               ...   \n",
       "178                                         216843.0   \n",
       "179                                         201246.0   \n",
       "180                                         245356.0   \n",
       "181                                         235378.0   \n",
       "182                                         207618.0   \n",
       "\n",
       "     Electrical household aplliances Hardware, paints and glass  \\\n",
       "37                           75648.0                    21274.0   \n",
       "38                           87528.0                    24316.0   \n",
       "39                           58439.0                    26848.0   \n",
       "40                           49319.0                    18897.0   \n",
       "41                           51752.0                    18866.0   \n",
       "..                               ...                        ...   \n",
       "178                         255155.0                   150837.0   \n",
       "179                         267733.0                   159375.0   \n",
       "180                         250902.0                   266399.0   \n",
       "181                         212386.0                   138076.0   \n",
       "182                         224600.0                   138172.0   \n",
       "\n",
       "    Music and video recordings & equiptment  Non-store retailing  Mail order  \n",
       "37                                     6357               598827    564272.0  \n",
       "38                                     5148               610204    578414.0  \n",
       "39                                     6184               780740    741368.0  \n",
       "40                                     5803               619520    582323.0  \n",
       "41                                     5605               645353    608073.0  \n",
       "..                                      ...                  ...         ...  \n",
       "178                                   17566              4892325   4848106.0  \n",
       "179                                   17941              4912015   4869211.0  \n",
       "180                                   24142              5944149   5881725.0  \n",
       "181                                   17688              4969156   4918595.0  \n",
       "182                                   19338              4965111   4920188.0  \n",
       "\n",
       "[146 rows x 33 columns]"
      ]
     },
     "execution_count": 6,
     "metadata": {},
     "output_type": "execute_result"
    }
   ],
   "source": [
    "# selecting required timeline for further analysis and exploration\n",
    "df1_subset = df1_copy.drop(df1_copy.index[0:37]).copy() # .set_index('Description') \n",
    "\n",
    "df1_subset # covers a decade before COVID, COVID, and post COVID"
   ]
  },
  {
   "cell_type": "code",
   "execution_count": 7,
   "metadata": {},
   "outputs": [
    {
     "data": {
      "text/html": [
       "<div>\n",
       "<style scoped>\n",
       "    .dataframe tbody tr th:only-of-type {\n",
       "        vertical-align: middle;\n",
       "    }\n",
       "\n",
       "    .dataframe tbody tr th {\n",
       "        vertical-align: top;\n",
       "    }\n",
       "\n",
       "    .dataframe thead th {\n",
       "        text-align: right;\n",
       "    }\n",
       "</style>\n",
       "<table border=\"1\" class=\"dataframe\">\n",
       "  <thead>\n",
       "    <tr style=\"text-align: right;\">\n",
       "      <th></th>\n",
       "      <th>Number of weeks</th>\n",
       "      <th>Description</th>\n",
       "      <th>All retailing</th>\n",
       "      <th>All retailing except automotive fuel</th>\n",
       "      <th>Predominantly food stores</th>\n",
       "      <th>Non-specialised stores (i.e supermarkets)</th>\n",
       "      <th>Specialist food stores (i.e butchers and bakers)</th>\n",
       "      <th>Alcoholic drink, beverages &amp; tobacco</th>\n",
       "      <th>Predominantly non-food stores</th>\n",
       "      <th>Non-specialised stores (i.e department stores)</th>\n",
       "      <th>...</th>\n",
       "      <th>Textiles</th>\n",
       "      <th>Clothing</th>\n",
       "      <th>Footwear and leather goods</th>\n",
       "      <th>Household goods stores</th>\n",
       "      <th>Furniture, lighting and household articles n.e.c</th>\n",
       "      <th>Electrical household aplliances</th>\n",
       "      <th>Hardware, paints and glass</th>\n",
       "      <th>Music and video recordings &amp; equiptment</th>\n",
       "      <th>Non-store retailing</th>\n",
       "      <th>Mail order</th>\n",
       "    </tr>\n",
       "  </thead>\n",
       "  <tbody>\n",
       "    <tr>\n",
       "      <th>37</th>\n",
       "      <td>4.0</td>\n",
       "      <td>2010JAN</td>\n",
       "      <td>1429675</td>\n",
       "      <td>1429675</td>\n",
       "      <td>255812</td>\n",
       "      <td>224738.0</td>\n",
       "      <td>3797</td>\n",
       "      <td>27277</td>\n",
       "      <td>575036</td>\n",
       "      <td>105934.0</td>\n",
       "      <td>...</td>\n",
       "      <td>4925.0</td>\n",
       "      <td>156514.0</td>\n",
       "      <td>17526.0</td>\n",
       "      <td>143684</td>\n",
       "      <td>40405.0</td>\n",
       "      <td>75648.0</td>\n",
       "      <td>21274.0</td>\n",
       "      <td>6357</td>\n",
       "      <td>598827</td>\n",
       "      <td>564272.0</td>\n",
       "    </tr>\n",
       "    <tr>\n",
       "      <th>38</th>\n",
       "      <td>4.0</td>\n",
       "      <td>2010FEB</td>\n",
       "      <td>1494178</td>\n",
       "      <td>1494178</td>\n",
       "      <td>294365</td>\n",
       "      <td>256209.0</td>\n",
       "      <td>6431</td>\n",
       "      <td>31725</td>\n",
       "      <td>589609</td>\n",
       "      <td>96556.0</td>\n",
       "      <td>...</td>\n",
       "      <td>5703.0</td>\n",
       "      <td>139836.0</td>\n",
       "      <td>13309.0</td>\n",
       "      <td>159687</td>\n",
       "      <td>42695.0</td>\n",
       "      <td>87528.0</td>\n",
       "      <td>24316.0</td>\n",
       "      <td>5148</td>\n",
       "      <td>610204</td>\n",
       "      <td>578414.0</td>\n",
       "    </tr>\n",
       "    <tr>\n",
       "      <th>39</th>\n",
       "      <td>5.0</td>\n",
       "      <td>2010MAR</td>\n",
       "      <td>1853402</td>\n",
       "      <td>1853402</td>\n",
       "      <td>352479</td>\n",
       "      <td>296739.0</td>\n",
       "      <td>10825</td>\n",
       "      <td>44915</td>\n",
       "      <td>720183</td>\n",
       "      <td>137415.0</td>\n",
       "      <td>...</td>\n",
       "      <td>5121.0</td>\n",
       "      <td>191913.0</td>\n",
       "      <td>16507.0</td>\n",
       "      <td>145991</td>\n",
       "      <td>54520.0</td>\n",
       "      <td>58439.0</td>\n",
       "      <td>26848.0</td>\n",
       "      <td>6184</td>\n",
       "      <td>780740</td>\n",
       "      <td>741368.0</td>\n",
       "    </tr>\n",
       "    <tr>\n",
       "      <th>40</th>\n",
       "      <td>4.0</td>\n",
       "      <td>2010APR</td>\n",
       "      <td>1541298</td>\n",
       "      <td>1541298</td>\n",
       "      <td>307444</td>\n",
       "      <td>263892.0</td>\n",
       "      <td>7713</td>\n",
       "      <td>35839</td>\n",
       "      <td>614334</td>\n",
       "      <td>109855.0</td>\n",
       "      <td>...</td>\n",
       "      <td>4024.0</td>\n",
       "      <td>162530.0</td>\n",
       "      <td>16053.0</td>\n",
       "      <td>118837</td>\n",
       "      <td>44818.0</td>\n",
       "      <td>49319.0</td>\n",
       "      <td>18897.0</td>\n",
       "      <td>5803</td>\n",
       "      <td>619520</td>\n",
       "      <td>582323.0</td>\n",
       "    </tr>\n",
       "    <tr>\n",
       "      <th>41</th>\n",
       "      <td>4.0</td>\n",
       "      <td>2010MAY</td>\n",
       "      <td>1562931</td>\n",
       "      <td>1562931</td>\n",
       "      <td>280318</td>\n",
       "      <td>240383.0</td>\n",
       "      <td>7875</td>\n",
       "      <td>32060</td>\n",
       "      <td>637260</td>\n",
       "      <td>120285.0</td>\n",
       "      <td>...</td>\n",
       "      <td>4077.0</td>\n",
       "      <td>159267.0</td>\n",
       "      <td>18438.0</td>\n",
       "      <td>121748</td>\n",
       "      <td>45525.0</td>\n",
       "      <td>51752.0</td>\n",
       "      <td>18866.0</td>\n",
       "      <td>5605</td>\n",
       "      <td>645353</td>\n",
       "      <td>608073.0</td>\n",
       "    </tr>\n",
       "    <tr>\n",
       "      <th>...</th>\n",
       "      <td>...</td>\n",
       "      <td>...</td>\n",
       "      <td>...</td>\n",
       "      <td>...</td>\n",
       "      <td>...</td>\n",
       "      <td>...</td>\n",
       "      <td>...</td>\n",
       "      <td>...</td>\n",
       "      <td>...</td>\n",
       "      <td>...</td>\n",
       "      <td>...</td>\n",
       "      <td>...</td>\n",
       "      <td>...</td>\n",
       "      <td>...</td>\n",
       "      <td>...</td>\n",
       "      <td>...</td>\n",
       "      <td>...</td>\n",
       "      <td>...</td>\n",
       "      <td>...</td>\n",
       "      <td>...</td>\n",
       "      <td>...</td>\n",
       "    </tr>\n",
       "    <tr>\n",
       "      <th>152</th>\n",
       "      <td>4.0</td>\n",
       "      <td>2019AUG</td>\n",
       "      <td>5997269</td>\n",
       "      <td>5997269</td>\n",
       "      <td>755761</td>\n",
       "      <td>717539.0</td>\n",
       "      <td>17717</td>\n",
       "      <td>20505</td>\n",
       "      <td>2053725</td>\n",
       "      <td>471128.0</td>\n",
       "      <td>...</td>\n",
       "      <td>19567.0</td>\n",
       "      <td>623476.0</td>\n",
       "      <td>73381.0</td>\n",
       "      <td>376688</td>\n",
       "      <td>143326.0</td>\n",
       "      <td>129888.0</td>\n",
       "      <td>87582.0</td>\n",
       "      <td>15892</td>\n",
       "      <td>3187783</td>\n",
       "      <td>3151644.0</td>\n",
       "    </tr>\n",
       "    <tr>\n",
       "      <th>153</th>\n",
       "      <td>5.0</td>\n",
       "      <td>2019SEP</td>\n",
       "      <td>7338805</td>\n",
       "      <td>7338805</td>\n",
       "      <td>919358</td>\n",
       "      <td>868954.0</td>\n",
       "      <td>30134</td>\n",
       "      <td>20270</td>\n",
       "      <td>2530973</td>\n",
       "      <td>534911.0</td>\n",
       "      <td>...</td>\n",
       "      <td>24741.0</td>\n",
       "      <td>813445.0</td>\n",
       "      <td>84217.0</td>\n",
       "      <td>515698</td>\n",
       "      <td>215341.0</td>\n",
       "      <td>179744.0</td>\n",
       "      <td>107655.0</td>\n",
       "      <td>12958</td>\n",
       "      <td>3888474</td>\n",
       "      <td>3843822.0</td>\n",
       "    </tr>\n",
       "    <tr>\n",
       "      <th>154</th>\n",
       "      <td>4.0</td>\n",
       "      <td>2019OCT</td>\n",
       "      <td>5899943</td>\n",
       "      <td>5899943</td>\n",
       "      <td>709560</td>\n",
       "      <td>683324.0</td>\n",
       "      <td>18161</td>\n",
       "      <td>8075</td>\n",
       "      <td>2061159</td>\n",
       "      <td>436563.0</td>\n",
       "      <td>...</td>\n",
       "      <td>18409.0</td>\n",
       "      <td>626337.0</td>\n",
       "      <td>69005.0</td>\n",
       "      <td>431265</td>\n",
       "      <td>173660.0</td>\n",
       "      <td>158330.0</td>\n",
       "      <td>88808.0</td>\n",
       "      <td>10467</td>\n",
       "      <td>3129224</td>\n",
       "      <td>3097531.0</td>\n",
       "    </tr>\n",
       "    <tr>\n",
       "      <th>155</th>\n",
       "      <td>4.0</td>\n",
       "      <td>2019NOV</td>\n",
       "      <td>5718776</td>\n",
       "      <td>5718776</td>\n",
       "      <td>691457</td>\n",
       "      <td>664073.0</td>\n",
       "      <td>18213</td>\n",
       "      <td>9171</td>\n",
       "      <td>1950123</td>\n",
       "      <td>382023.0</td>\n",
       "      <td>...</td>\n",
       "      <td>14413.0</td>\n",
       "      <td>620346.0</td>\n",
       "      <td>51417.0</td>\n",
       "      <td>389392</td>\n",
       "      <td>169073.0</td>\n",
       "      <td>131027.0</td>\n",
       "      <td>80914.0</td>\n",
       "      <td>8378</td>\n",
       "      <td>3077196</td>\n",
       "      <td>3041451.0</td>\n",
       "    </tr>\n",
       "    <tr>\n",
       "      <th>156</th>\n",
       "      <td>5.0</td>\n",
       "      <td>2019DEC</td>\n",
       "      <td>7366505</td>\n",
       "      <td>7366505</td>\n",
       "      <td>807231</td>\n",
       "      <td>772211.0</td>\n",
       "      <td>20868</td>\n",
       "      <td>14152</td>\n",
       "      <td>2641750</td>\n",
       "      <td>558399.0</td>\n",
       "      <td>...</td>\n",
       "      <td>24319.0</td>\n",
       "      <td>768651.0</td>\n",
       "      <td>73006.0</td>\n",
       "      <td>544929</td>\n",
       "      <td>213338.0</td>\n",
       "      <td>195739.0</td>\n",
       "      <td>127476.0</td>\n",
       "      <td>8376</td>\n",
       "      <td>3917524</td>\n",
       "      <td>3870944.0</td>\n",
       "    </tr>\n",
       "  </tbody>\n",
       "</table>\n",
       "<p>120 rows × 33 columns</p>\n",
       "</div>"
      ],
      "text/plain": [
       "     Number of weeks Description All retailing  \\\n",
       "37               4.0     2010JAN       1429675   \n",
       "38               4.0     2010FEB       1494178   \n",
       "39               5.0     2010MAR       1853402   \n",
       "40               4.0     2010APR       1541298   \n",
       "41               4.0     2010MAY       1562931   \n",
       "..               ...         ...           ...   \n",
       "152              4.0     2019AUG       5997269   \n",
       "153              5.0     2019SEP       7338805   \n",
       "154              4.0     2019OCT       5899943   \n",
       "155              4.0     2019NOV       5718776   \n",
       "156              5.0     2019DEC       7366505   \n",
       "\n",
       "    All retailing except automotive fuel Predominantly food stores  \\\n",
       "37                               1429675                    255812   \n",
       "38                               1494178                    294365   \n",
       "39                               1853402                    352479   \n",
       "40                               1541298                    307444   \n",
       "41                               1562931                    280318   \n",
       "..                                   ...                       ...   \n",
       "152                              5997269                    755761   \n",
       "153                              7338805                    919358   \n",
       "154                              5899943                    709560   \n",
       "155                              5718776                    691457   \n",
       "156                              7366505                    807231   \n",
       "\n",
       "     Non-specialised stores (i.e supermarkets)  \\\n",
       "37                                    224738.0   \n",
       "38                                    256209.0   \n",
       "39                                    296739.0   \n",
       "40                                    263892.0   \n",
       "41                                    240383.0   \n",
       "..                                         ...   \n",
       "152                                   717539.0   \n",
       "153                                   868954.0   \n",
       "154                                   683324.0   \n",
       "155                                   664073.0   \n",
       "156                                   772211.0   \n",
       "\n",
       "    Specialist food stores (i.e butchers and bakers)  \\\n",
       "37                                              3797   \n",
       "38                                              6431   \n",
       "39                                             10825   \n",
       "40                                              7713   \n",
       "41                                              7875   \n",
       "..                                               ...   \n",
       "152                                            17717   \n",
       "153                                            30134   \n",
       "154                                            18161   \n",
       "155                                            18213   \n",
       "156                                            20868   \n",
       "\n",
       "    Alcoholic drink, beverages & tobacco Predominantly non-food stores  \\\n",
       "37                                 27277                        575036   \n",
       "38                                 31725                        589609   \n",
       "39                                 44915                        720183   \n",
       "40                                 35839                        614334   \n",
       "41                                 32060                        637260   \n",
       "..                                   ...                           ...   \n",
       "152                                20505                       2053725   \n",
       "153                                20270                       2530973   \n",
       "154                                 8075                       2061159   \n",
       "155                                 9171                       1950123   \n",
       "156                                14152                       2641750   \n",
       "\n",
       "     Non-specialised stores (i.e department stores)  ... Textiles  Clothing  \\\n",
       "37                                         105934.0  ...   4925.0  156514.0   \n",
       "38                                          96556.0  ...   5703.0  139836.0   \n",
       "39                                         137415.0  ...   5121.0  191913.0   \n",
       "40                                         109855.0  ...   4024.0  162530.0   \n",
       "41                                         120285.0  ...   4077.0  159267.0   \n",
       "..                                              ...  ...      ...       ...   \n",
       "152                                        471128.0  ...  19567.0  623476.0   \n",
       "153                                        534911.0  ...  24741.0  813445.0   \n",
       "154                                        436563.0  ...  18409.0  626337.0   \n",
       "155                                        382023.0  ...  14413.0  620346.0   \n",
       "156                                        558399.0  ...  24319.0  768651.0   \n",
       "\n",
       "     Footwear and leather goods  Household goods stores  \\\n",
       "37                      17526.0                  143684   \n",
       "38                      13309.0                  159687   \n",
       "39                      16507.0                  145991   \n",
       "40                      16053.0                  118837   \n",
       "41                      18438.0                  121748   \n",
       "..                          ...                     ...   \n",
       "152                     73381.0                  376688   \n",
       "153                     84217.0                  515698   \n",
       "154                     69005.0                  431265   \n",
       "155                     51417.0                  389392   \n",
       "156                     73006.0                  544929   \n",
       "\n",
       "    Furniture, lighting and household articles n.e.c  \\\n",
       "37                                           40405.0   \n",
       "38                                           42695.0   \n",
       "39                                           54520.0   \n",
       "40                                           44818.0   \n",
       "41                                           45525.0   \n",
       "..                                               ...   \n",
       "152                                         143326.0   \n",
       "153                                         215341.0   \n",
       "154                                         173660.0   \n",
       "155                                         169073.0   \n",
       "156                                         213338.0   \n",
       "\n",
       "     Electrical household aplliances Hardware, paints and glass  \\\n",
       "37                           75648.0                    21274.0   \n",
       "38                           87528.0                    24316.0   \n",
       "39                           58439.0                    26848.0   \n",
       "40                           49319.0                    18897.0   \n",
       "41                           51752.0                    18866.0   \n",
       "..                               ...                        ...   \n",
       "152                         129888.0                    87582.0   \n",
       "153                         179744.0                   107655.0   \n",
       "154                         158330.0                    88808.0   \n",
       "155                         131027.0                    80914.0   \n",
       "156                         195739.0                   127476.0   \n",
       "\n",
       "    Music and video recordings & equiptment  Non-store retailing  Mail order  \n",
       "37                                     6357               598827    564272.0  \n",
       "38                                     5148               610204    578414.0  \n",
       "39                                     6184               780740    741368.0  \n",
       "40                                     5803               619520    582323.0  \n",
       "41                                     5605               645353    608073.0  \n",
       "..                                      ...                  ...         ...  \n",
       "152                                   15892              3187783   3151644.0  \n",
       "153                                   12958              3888474   3843822.0  \n",
       "154                                   10467              3129224   3097531.0  \n",
       "155                                    8378              3077196   3041451.0  \n",
       "156                                    8376              3917524   3870944.0  \n",
       "\n",
       "[120 rows x 33 columns]"
      ]
     },
     "execution_count": 7,
     "metadata": {},
     "output_type": "execute_result"
    }
   ],
   "source": [
    "# creating a df subset for pre_COVID times \n",
    "df_preCOVID = df1_subset.loc[37:156] \n",
    "df_preCOVID"
   ]
  },
  {
   "cell_type": "code",
   "execution_count": 8,
   "metadata": {},
   "outputs": [
    {
     "data": {
      "text/html": [
       "<div>\n",
       "<style scoped>\n",
       "    .dataframe tbody tr th:only-of-type {\n",
       "        vertical-align: middle;\n",
       "    }\n",
       "\n",
       "    .dataframe tbody tr th {\n",
       "        vertical-align: top;\n",
       "    }\n",
       "\n",
       "    .dataframe thead th {\n",
       "        text-align: right;\n",
       "    }\n",
       "</style>\n",
       "<table border=\"1\" class=\"dataframe\">\n",
       "  <thead>\n",
       "    <tr style=\"text-align: right;\">\n",
       "      <th></th>\n",
       "      <th>Number of weeks</th>\n",
       "      <th>Description</th>\n",
       "      <th>All retailing</th>\n",
       "      <th>All retailing except automotive fuel</th>\n",
       "      <th>Predominantly food stores</th>\n",
       "      <th>Non-specialised stores (i.e supermarkets)</th>\n",
       "      <th>Specialist food stores (i.e butchers and bakers)</th>\n",
       "      <th>Alcoholic drink, beverages &amp; tobacco</th>\n",
       "      <th>Predominantly non-food stores</th>\n",
       "      <th>Non-specialised stores (i.e department stores)</th>\n",
       "      <th>...</th>\n",
       "      <th>Textiles</th>\n",
       "      <th>Clothing</th>\n",
       "      <th>Footwear and leather goods</th>\n",
       "      <th>Household goods stores</th>\n",
       "      <th>Furniture, lighting and household articles n.e.c</th>\n",
       "      <th>Electrical household aplliances</th>\n",
       "      <th>Hardware, paints and glass</th>\n",
       "      <th>Music and video recordings &amp; equiptment</th>\n",
       "      <th>Non-store retailing</th>\n",
       "      <th>Mail order</th>\n",
       "    </tr>\n",
       "  </thead>\n",
       "  <tbody>\n",
       "    <tr>\n",
       "      <th>157</th>\n",
       "      <td>5.0</td>\n",
       "      <td>2020JAN</td>\n",
       "      <td>7405682</td>\n",
       "      <td>7405682</td>\n",
       "      <td>834812</td>\n",
       "      <td>805539.0</td>\n",
       "      <td>21029</td>\n",
       "      <td>8244</td>\n",
       "      <td>2563821</td>\n",
       "      <td>539656.0</td>\n",
       "      <td>...</td>\n",
       "      <td>19221.0</td>\n",
       "      <td>787032.0</td>\n",
       "      <td>77275.0</td>\n",
       "      <td>464108</td>\n",
       "      <td>188139.0</td>\n",
       "      <td>164937.0</td>\n",
       "      <td>99523.0</td>\n",
       "      <td>11509</td>\n",
       "      <td>4007049</td>\n",
       "      <td>3960141.0</td>\n",
       "    </tr>\n",
       "    <tr>\n",
       "      <th>158</th>\n",
       "      <td>4.0</td>\n",
       "      <td>2020FEB</td>\n",
       "      <td>6034975</td>\n",
       "      <td>6034975</td>\n",
       "      <td>669982</td>\n",
       "      <td>641322.0</td>\n",
       "      <td>18754</td>\n",
       "      <td>9906</td>\n",
       "      <td>2167151</td>\n",
       "      <td>444667.0</td>\n",
       "      <td>...</td>\n",
       "      <td>17073.0</td>\n",
       "      <td>703653.0</td>\n",
       "      <td>62869.0</td>\n",
       "      <td>382834</td>\n",
       "      <td>167400.0</td>\n",
       "      <td>120709.0</td>\n",
       "      <td>87968.0</td>\n",
       "      <td>6757</td>\n",
       "      <td>3197842</td>\n",
       "      <td>3140444.0</td>\n",
       "    </tr>\n",
       "    <tr>\n",
       "      <th>159</th>\n",
       "      <td>5.0</td>\n",
       "      <td>2020MAR</td>\n",
       "      <td>8167377</td>\n",
       "      <td>8167377</td>\n",
       "      <td>986452</td>\n",
       "      <td>925491.0</td>\n",
       "      <td>34673</td>\n",
       "      <td>26288</td>\n",
       "      <td>3034576</td>\n",
       "      <td>811161.0</td>\n",
       "      <td>...</td>\n",
       "      <td>22138.0</td>\n",
       "      <td>737565.0</td>\n",
       "      <td>82236.0</td>\n",
       "      <td>658820</td>\n",
       "      <td>213844.0</td>\n",
       "      <td>279150.0</td>\n",
       "      <td>153067.0</td>\n",
       "      <td>12759</td>\n",
       "      <td>4146349</td>\n",
       "      <td>4090616.0</td>\n",
       "    </tr>\n",
       "    <tr>\n",
       "      <th>160</th>\n",
       "      <td>4.0</td>\n",
       "      <td>2020APR</td>\n",
       "      <td>7806532</td>\n",
       "      <td>7806532</td>\n",
       "      <td>1292805</td>\n",
       "      <td>1153032.0</td>\n",
       "      <td>74598</td>\n",
       "      <td>65175</td>\n",
       "      <td>2922930</td>\n",
       "      <td>784894.0</td>\n",
       "      <td>...</td>\n",
       "      <td>21161.0</td>\n",
       "      <td>529000.0</td>\n",
       "      <td>62852.0</td>\n",
       "      <td>749539</td>\n",
       "      <td>197075.0</td>\n",
       "      <td>337860.0</td>\n",
       "      <td>200070.0</td>\n",
       "      <td>14534</td>\n",
       "      <td>3590797</td>\n",
       "      <td>3546721.0</td>\n",
       "    </tr>\n",
       "    <tr>\n",
       "      <th>161</th>\n",
       "      <td>4.0</td>\n",
       "      <td>2020MAY</td>\n",
       "      <td>9376638</td>\n",
       "      <td>9376638</td>\n",
       "      <td>1552790</td>\n",
       "      <td>1411535.0</td>\n",
       "      <td>78343</td>\n",
       "      <td>62912</td>\n",
       "      <td>3398078</td>\n",
       "      <td>765806.0</td>\n",
       "      <td>...</td>\n",
       "      <td>34156.0</td>\n",
       "      <td>609672.0</td>\n",
       "      <td>92429.0</td>\n",
       "      <td>842787</td>\n",
       "      <td>251784.0</td>\n",
       "      <td>403445.0</td>\n",
       "      <td>167128.0</td>\n",
       "      <td>20430</td>\n",
       "      <td>4425770</td>\n",
       "      <td>4366119.0</td>\n",
       "    </tr>\n",
       "    <tr>\n",
       "      <th>162</th>\n",
       "      <td>5.0</td>\n",
       "      <td>2020JUN</td>\n",
       "      <td>12548487</td>\n",
       "      <td>12548487</td>\n",
       "      <td>1917827</td>\n",
       "      <td>1782788.0</td>\n",
       "      <td>60754</td>\n",
       "      <td>74285</td>\n",
       "      <td>4905048</td>\n",
       "      <td>1223721.0</td>\n",
       "      <td>...</td>\n",
       "      <td>45514.0</td>\n",
       "      <td>1152388.0</td>\n",
       "      <td>96570.0</td>\n",
       "      <td>1064940</td>\n",
       "      <td>353224.0</td>\n",
       "      <td>498407.0</td>\n",
       "      <td>186248.0</td>\n",
       "      <td>27061</td>\n",
       "      <td>5725612</td>\n",
       "      <td>5616050.0</td>\n",
       "    </tr>\n",
       "    <tr>\n",
       "      <th>163</th>\n",
       "      <td>4.0</td>\n",
       "      <td>2020JUL</td>\n",
       "      <td>9549576</td>\n",
       "      <td>9549576</td>\n",
       "      <td>1461252</td>\n",
       "      <td>1371253.0</td>\n",
       "      <td>30332</td>\n",
       "      <td>59667</td>\n",
       "      <td>3567981</td>\n",
       "      <td>803387.0</td>\n",
       "      <td>...</td>\n",
       "      <td>33970.0</td>\n",
       "      <td>845534.0</td>\n",
       "      <td>74342.0</td>\n",
       "      <td>701182</td>\n",
       "      <td>278946.0</td>\n",
       "      <td>274431.0</td>\n",
       "      <td>130424.0</td>\n",
       "      <td>17381</td>\n",
       "      <td>4520343</td>\n",
       "      <td>4429853.0</td>\n",
       "    </tr>\n",
       "    <tr>\n",
       "      <th>164</th>\n",
       "      <td>4.0</td>\n",
       "      <td>2020AUG</td>\n",
       "      <td>9344042</td>\n",
       "      <td>9344042</td>\n",
       "      <td>1441285</td>\n",
       "      <td>1363286.0</td>\n",
       "      <td>31484</td>\n",
       "      <td>46515</td>\n",
       "      <td>3495912</td>\n",
       "      <td>798850.0</td>\n",
       "      <td>...</td>\n",
       "      <td>29143.0</td>\n",
       "      <td>860214.0</td>\n",
       "      <td>92483.0</td>\n",
       "      <td>736934</td>\n",
       "      <td>308233.0</td>\n",
       "      <td>281969.0</td>\n",
       "      <td>130220.0</td>\n",
       "      <td>16512</td>\n",
       "      <td>4406845</td>\n",
       "      <td>4329879.0</td>\n",
       "    </tr>\n",
       "    <tr>\n",
       "      <th>165</th>\n",
       "      <td>5.0</td>\n",
       "      <td>2020SEP</td>\n",
       "      <td>11511586</td>\n",
       "      <td>11511586</td>\n",
       "      <td>1759297</td>\n",
       "      <td>1665658.0</td>\n",
       "      <td>40816</td>\n",
       "      <td>52823</td>\n",
       "      <td>4288537</td>\n",
       "      <td>1054879.0</td>\n",
       "      <td>...</td>\n",
       "      <td>36530.0</td>\n",
       "      <td>1049799.0</td>\n",
       "      <td>124478.0</td>\n",
       "      <td>861242</td>\n",
       "      <td>337570.0</td>\n",
       "      <td>336495.0</td>\n",
       "      <td>165032.0</td>\n",
       "      <td>22145</td>\n",
       "      <td>5463752</td>\n",
       "      <td>5375991.0</td>\n",
       "    </tr>\n",
       "    <tr>\n",
       "      <th>166</th>\n",
       "      <td>4.0</td>\n",
       "      <td>2020OCT</td>\n",
       "      <td>9777552</td>\n",
       "      <td>9777552</td>\n",
       "      <td>1429029</td>\n",
       "      <td>1347815.0</td>\n",
       "      <td>31290</td>\n",
       "      <td>49924</td>\n",
       "      <td>3600530</td>\n",
       "      <td>847298.0</td>\n",
       "      <td>...</td>\n",
       "      <td>31460.0</td>\n",
       "      <td>873346.0</td>\n",
       "      <td>97489.0</td>\n",
       "      <td>761073</td>\n",
       "      <td>315843.0</td>\n",
       "      <td>274352.0</td>\n",
       "      <td>146224.0</td>\n",
       "      <td>24654</td>\n",
       "      <td>4747993</td>\n",
       "      <td>4668059.0</td>\n",
       "    </tr>\n",
       "    <tr>\n",
       "      <th>167</th>\n",
       "      <td>4.0</td>\n",
       "      <td>2020NOV</td>\n",
       "      <td>10204375</td>\n",
       "      <td>10204375</td>\n",
       "      <td>1458303</td>\n",
       "      <td>1365451.0</td>\n",
       "      <td>40320</td>\n",
       "      <td>52532</td>\n",
       "      <td>4107569</td>\n",
       "      <td>949561.0</td>\n",
       "      <td>...</td>\n",
       "      <td>31792.0</td>\n",
       "      <td>944809.0</td>\n",
       "      <td>110156.0</td>\n",
       "      <td>904039</td>\n",
       "      <td>354292.0</td>\n",
       "      <td>352591.0</td>\n",
       "      <td>169266.0</td>\n",
       "      <td>27890</td>\n",
       "      <td>4638503</td>\n",
       "      <td>4567385.0</td>\n",
       "    </tr>\n",
       "    <tr>\n",
       "      <th>168</th>\n",
       "      <td>5.0</td>\n",
       "      <td>2020DEC</td>\n",
       "      <td>11867521</td>\n",
       "      <td>11867521</td>\n",
       "      <td>1881265</td>\n",
       "      <td>1783668.0</td>\n",
       "      <td>54580</td>\n",
       "      <td>43017</td>\n",
       "      <td>4476698</td>\n",
       "      <td>1115263.0</td>\n",
       "      <td>...</td>\n",
       "      <td>35844.0</td>\n",
       "      <td>1160753.0</td>\n",
       "      <td>125236.0</td>\n",
       "      <td>828828</td>\n",
       "      <td>398147.0</td>\n",
       "      <td>192759.0</td>\n",
       "      <td>211211.0</td>\n",
       "      <td>26711</td>\n",
       "      <td>5509558</td>\n",
       "      <td>5415521.0</td>\n",
       "    </tr>\n",
       "    <tr>\n",
       "      <th>169</th>\n",
       "      <td>4.0</td>\n",
       "      <td>2021JAN</td>\n",
       "      <td>10530710</td>\n",
       "      <td>10530710</td>\n",
       "      <td>1631905</td>\n",
       "      <td>1528794.0</td>\n",
       "      <td>58031</td>\n",
       "      <td>45080</td>\n",
       "      <td>3972779</td>\n",
       "      <td>775043.0</td>\n",
       "      <td>...</td>\n",
       "      <td>32787.0</td>\n",
       "      <td>877879.0</td>\n",
       "      <td>102494.0</td>\n",
       "      <td>920312</td>\n",
       "      <td>358063.0</td>\n",
       "      <td>338596.0</td>\n",
       "      <td>202675.0</td>\n",
       "      <td>20978</td>\n",
       "      <td>4926026</td>\n",
       "      <td>4844382.0</td>\n",
       "    </tr>\n",
       "    <tr>\n",
       "      <th>170</th>\n",
       "      <td>4.0</td>\n",
       "      <td>2021FEB</td>\n",
       "      <td>11258708</td>\n",
       "      <td>11258708</td>\n",
       "      <td>1598938</td>\n",
       "      <td>1486841.0</td>\n",
       "      <td>71587</td>\n",
       "      <td>40510</td>\n",
       "      <td>4470488</td>\n",
       "      <td>912731.0</td>\n",
       "      <td>...</td>\n",
       "      <td>38436.0</td>\n",
       "      <td>1068351.0</td>\n",
       "      <td>110127.0</td>\n",
       "      <td>1084450</td>\n",
       "      <td>399583.0</td>\n",
       "      <td>469859.0</td>\n",
       "      <td>195458.0</td>\n",
       "      <td>19550</td>\n",
       "      <td>5189282</td>\n",
       "      <td>5098241.0</td>\n",
       "    </tr>\n",
       "    <tr>\n",
       "      <th>171</th>\n",
       "      <td>5.0</td>\n",
       "      <td>2021MAR</td>\n",
       "      <td>13591034</td>\n",
       "      <td>13591034</td>\n",
       "      <td>1984093</td>\n",
       "      <td>1845303.0</td>\n",
       "      <td>87716</td>\n",
       "      <td>51074</td>\n",
       "      <td>5420548</td>\n",
       "      <td>1116108.0</td>\n",
       "      <td>...</td>\n",
       "      <td>42561.0</td>\n",
       "      <td>1270272.0</td>\n",
       "      <td>155362.0</td>\n",
       "      <td>1299929</td>\n",
       "      <td>500969.0</td>\n",
       "      <td>514961.0</td>\n",
       "      <td>260478.0</td>\n",
       "      <td>23521</td>\n",
       "      <td>6186393</td>\n",
       "      <td>6060356.0</td>\n",
       "    </tr>\n",
       "    <tr>\n",
       "      <th>172</th>\n",
       "      <td>4.0</td>\n",
       "      <td>2021APR</td>\n",
       "      <td>10217527</td>\n",
       "      <td>10217527</td>\n",
       "      <td>1490321</td>\n",
       "      <td>1384860.0</td>\n",
       "      <td>65748</td>\n",
       "      <td>39713</td>\n",
       "      <td>3914387</td>\n",
       "      <td>752395.0</td>\n",
       "      <td>...</td>\n",
       "      <td>29568.0</td>\n",
       "      <td>977971.0</td>\n",
       "      <td>102996.0</td>\n",
       "      <td>911870</td>\n",
       "      <td>360364.0</td>\n",
       "      <td>324982.0</td>\n",
       "      <td>204738.0</td>\n",
       "      <td>21786</td>\n",
       "      <td>4812819</td>\n",
       "      <td>4731099.0</td>\n",
       "    </tr>\n",
       "    <tr>\n",
       "      <th>173</th>\n",
       "      <td>4.0</td>\n",
       "      <td>2021MAY</td>\n",
       "      <td>9664194</td>\n",
       "      <td>9664194</td>\n",
       "      <td>1438505</td>\n",
       "      <td>1335613.0</td>\n",
       "      <td>66391</td>\n",
       "      <td>36501</td>\n",
       "      <td>3554912</td>\n",
       "      <td>716554.0</td>\n",
       "      <td>...</td>\n",
       "      <td>25818.0</td>\n",
       "      <td>874861.0</td>\n",
       "      <td>93947.0</td>\n",
       "      <td>839519</td>\n",
       "      <td>350720.0</td>\n",
       "      <td>300037.0</td>\n",
       "      <td>166463.0</td>\n",
       "      <td>22299</td>\n",
       "      <td>4670777</td>\n",
       "      <td>4581445.0</td>\n",
       "    </tr>\n",
       "    <tr>\n",
       "      <th>174</th>\n",
       "      <td>5.0</td>\n",
       "      <td>2021JUN</td>\n",
       "      <td>11928822</td>\n",
       "      <td>11928822</td>\n",
       "      <td>1821238</td>\n",
       "      <td>1629599.0</td>\n",
       "      <td>78679</td>\n",
       "      <td>112960</td>\n",
       "      <td>4253489</td>\n",
       "      <td>858733.0</td>\n",
       "      <td>...</td>\n",
       "      <td>31262.0</td>\n",
       "      <td>1147783.0</td>\n",
       "      <td>115011.0</td>\n",
       "      <td>976036</td>\n",
       "      <td>387006.0</td>\n",
       "      <td>351834.0</td>\n",
       "      <td>212146.0</td>\n",
       "      <td>25050</td>\n",
       "      <td>5854095</td>\n",
       "      <td>5750950.0</td>\n",
       "    </tr>\n",
       "    <tr>\n",
       "      <th>175</th>\n",
       "      <td>4.0</td>\n",
       "      <td>2021JUL</td>\n",
       "      <td>9403366</td>\n",
       "      <td>9403366</td>\n",
       "      <td>1461553</td>\n",
       "      <td>1303854.0</td>\n",
       "      <td>54050</td>\n",
       "      <td>103649</td>\n",
       "      <td>3264292</td>\n",
       "      <td>664656.0</td>\n",
       "      <td>...</td>\n",
       "      <td>22310.0</td>\n",
       "      <td>923428.0</td>\n",
       "      <td>90529.0</td>\n",
       "      <td>705323</td>\n",
       "      <td>272766.0</td>\n",
       "      <td>253029.0</td>\n",
       "      <td>162187.0</td>\n",
       "      <td>17341</td>\n",
       "      <td>4677521</td>\n",
       "      <td>4595271.0</td>\n",
       "    </tr>\n",
       "    <tr>\n",
       "      <th>176</th>\n",
       "      <td>4.0</td>\n",
       "      <td>2021AUG</td>\n",
       "      <td>9557216</td>\n",
       "      <td>9557216</td>\n",
       "      <td>1447709</td>\n",
       "      <td>1272354.0</td>\n",
       "      <td>56657</td>\n",
       "      <td>118698</td>\n",
       "      <td>3298074</td>\n",
       "      <td>654767.0</td>\n",
       "      <td>...</td>\n",
       "      <td>22836.0</td>\n",
       "      <td>939149.0</td>\n",
       "      <td>88231.0</td>\n",
       "      <td>692406</td>\n",
       "      <td>255149.0</td>\n",
       "      <td>256874.0</td>\n",
       "      <td>164911.0</td>\n",
       "      <td>15472</td>\n",
       "      <td>4811433</td>\n",
       "      <td>4741973.0</td>\n",
       "    </tr>\n",
       "    <tr>\n",
       "      <th>177</th>\n",
       "      <td>5.0</td>\n",
       "      <td>2021SEP</td>\n",
       "      <td>12023737</td>\n",
       "      <td>12023737</td>\n",
       "      <td>1791318</td>\n",
       "      <td>1578167.0</td>\n",
       "      <td>71381</td>\n",
       "      <td>141770</td>\n",
       "      <td>4078939</td>\n",
       "      <td>850104.0</td>\n",
       "      <td>...</td>\n",
       "      <td>30294.0</td>\n",
       "      <td>1141160.0</td>\n",
       "      <td>111983.0</td>\n",
       "      <td>822560</td>\n",
       "      <td>289455.0</td>\n",
       "      <td>315516.0</td>\n",
       "      <td>197296.0</td>\n",
       "      <td>20293</td>\n",
       "      <td>6153480</td>\n",
       "      <td>6105941.0</td>\n",
       "    </tr>\n",
       "    <tr>\n",
       "      <th>178</th>\n",
       "      <td>4.0</td>\n",
       "      <td>2021OCT</td>\n",
       "      <td>9566557</td>\n",
       "      <td>9566557</td>\n",
       "      <td>1401036</td>\n",
       "      <td>1226441.0</td>\n",
       "      <td>57156</td>\n",
       "      <td>117439</td>\n",
       "      <td>3273196</td>\n",
       "      <td>670733.0</td>\n",
       "      <td>...</td>\n",
       "      <td>23215.0</td>\n",
       "      <td>930754.0</td>\n",
       "      <td>91276.0</td>\n",
       "      <td>640401</td>\n",
       "      <td>216843.0</td>\n",
       "      <td>255155.0</td>\n",
       "      <td>150837.0</td>\n",
       "      <td>17566</td>\n",
       "      <td>4892325</td>\n",
       "      <td>4848106.0</td>\n",
       "    </tr>\n",
       "    <tr>\n",
       "      <th>179</th>\n",
       "      <td>4.0</td>\n",
       "      <td>2021NOV</td>\n",
       "      <td>9481485</td>\n",
       "      <td>9481485</td>\n",
       "      <td>1354782</td>\n",
       "      <td>1200369.0</td>\n",
       "      <td>51131</td>\n",
       "      <td>103282</td>\n",
       "      <td>3214688</td>\n",
       "      <td>659784.0</td>\n",
       "      <td>...</td>\n",
       "      <td>24737.0</td>\n",
       "      <td>888602.0</td>\n",
       "      <td>91766.0</td>\n",
       "      <td>646295</td>\n",
       "      <td>201246.0</td>\n",
       "      <td>267733.0</td>\n",
       "      <td>159375.0</td>\n",
       "      <td>17941</td>\n",
       "      <td>4912015</td>\n",
       "      <td>4869211.0</td>\n",
       "    </tr>\n",
       "    <tr>\n",
       "      <th>180</th>\n",
       "      <td>5.0</td>\n",
       "      <td>2021DEC</td>\n",
       "      <td>11813749</td>\n",
       "      <td>11813749</td>\n",
       "      <td>1873787</td>\n",
       "      <td>1683077.0</td>\n",
       "      <td>65917</td>\n",
       "      <td>124793</td>\n",
       "      <td>3995813</td>\n",
       "      <td>743741.0</td>\n",
       "      <td>...</td>\n",
       "      <td>33521.0</td>\n",
       "      <td>1110102.0</td>\n",
       "      <td>115372.0</td>\n",
       "      <td>786799</td>\n",
       "      <td>245356.0</td>\n",
       "      <td>250902.0</td>\n",
       "      <td>266399.0</td>\n",
       "      <td>24142</td>\n",
       "      <td>5944149</td>\n",
       "      <td>5881725.0</td>\n",
       "    </tr>\n",
       "  </tbody>\n",
       "</table>\n",
       "<p>24 rows × 33 columns</p>\n",
       "</div>"
      ],
      "text/plain": [
       "     Number of weeks Description All retailing  \\\n",
       "157              5.0     2020JAN       7405682   \n",
       "158              4.0     2020FEB       6034975   \n",
       "159              5.0     2020MAR       8167377   \n",
       "160              4.0     2020APR       7806532   \n",
       "161              4.0     2020MAY       9376638   \n",
       "162              5.0     2020JUN      12548487   \n",
       "163              4.0     2020JUL       9549576   \n",
       "164              4.0     2020AUG       9344042   \n",
       "165              5.0     2020SEP      11511586   \n",
       "166              4.0     2020OCT       9777552   \n",
       "167              4.0     2020NOV      10204375   \n",
       "168              5.0     2020DEC      11867521   \n",
       "169              4.0     2021JAN      10530710   \n",
       "170              4.0     2021FEB      11258708   \n",
       "171              5.0     2021MAR      13591034   \n",
       "172              4.0     2021APR      10217527   \n",
       "173              4.0     2021MAY       9664194   \n",
       "174              5.0     2021JUN      11928822   \n",
       "175              4.0     2021JUL       9403366   \n",
       "176              4.0     2021AUG       9557216   \n",
       "177              5.0     2021SEP      12023737   \n",
       "178              4.0     2021OCT       9566557   \n",
       "179              4.0     2021NOV       9481485   \n",
       "180              5.0     2021DEC      11813749   \n",
       "\n",
       "    All retailing except automotive fuel Predominantly food stores  \\\n",
       "157                              7405682                    834812   \n",
       "158                              6034975                    669982   \n",
       "159                              8167377                    986452   \n",
       "160                              7806532                   1292805   \n",
       "161                              9376638                   1552790   \n",
       "162                             12548487                   1917827   \n",
       "163                              9549576                   1461252   \n",
       "164                              9344042                   1441285   \n",
       "165                             11511586                   1759297   \n",
       "166                              9777552                   1429029   \n",
       "167                             10204375                   1458303   \n",
       "168                             11867521                   1881265   \n",
       "169                             10530710                   1631905   \n",
       "170                             11258708                   1598938   \n",
       "171                             13591034                   1984093   \n",
       "172                             10217527                   1490321   \n",
       "173                              9664194                   1438505   \n",
       "174                             11928822                   1821238   \n",
       "175                              9403366                   1461553   \n",
       "176                              9557216                   1447709   \n",
       "177                             12023737                   1791318   \n",
       "178                              9566557                   1401036   \n",
       "179                              9481485                   1354782   \n",
       "180                             11813749                   1873787   \n",
       "\n",
       "     Non-specialised stores (i.e supermarkets)  \\\n",
       "157                                   805539.0   \n",
       "158                                   641322.0   \n",
       "159                                   925491.0   \n",
       "160                                  1153032.0   \n",
       "161                                  1411535.0   \n",
       "162                                  1782788.0   \n",
       "163                                  1371253.0   \n",
       "164                                  1363286.0   \n",
       "165                                  1665658.0   \n",
       "166                                  1347815.0   \n",
       "167                                  1365451.0   \n",
       "168                                  1783668.0   \n",
       "169                                  1528794.0   \n",
       "170                                  1486841.0   \n",
       "171                                  1845303.0   \n",
       "172                                  1384860.0   \n",
       "173                                  1335613.0   \n",
       "174                                  1629599.0   \n",
       "175                                  1303854.0   \n",
       "176                                  1272354.0   \n",
       "177                                  1578167.0   \n",
       "178                                  1226441.0   \n",
       "179                                  1200369.0   \n",
       "180                                  1683077.0   \n",
       "\n",
       "    Specialist food stores (i.e butchers and bakers)  \\\n",
       "157                                            21029   \n",
       "158                                            18754   \n",
       "159                                            34673   \n",
       "160                                            74598   \n",
       "161                                            78343   \n",
       "162                                            60754   \n",
       "163                                            30332   \n",
       "164                                            31484   \n",
       "165                                            40816   \n",
       "166                                            31290   \n",
       "167                                            40320   \n",
       "168                                            54580   \n",
       "169                                            58031   \n",
       "170                                            71587   \n",
       "171                                            87716   \n",
       "172                                            65748   \n",
       "173                                            66391   \n",
       "174                                            78679   \n",
       "175                                            54050   \n",
       "176                                            56657   \n",
       "177                                            71381   \n",
       "178                                            57156   \n",
       "179                                            51131   \n",
       "180                                            65917   \n",
       "\n",
       "    Alcoholic drink, beverages & tobacco Predominantly non-food stores  \\\n",
       "157                                 8244                       2563821   \n",
       "158                                 9906                       2167151   \n",
       "159                                26288                       3034576   \n",
       "160                                65175                       2922930   \n",
       "161                                62912                       3398078   \n",
       "162                                74285                       4905048   \n",
       "163                                59667                       3567981   \n",
       "164                                46515                       3495912   \n",
       "165                                52823                       4288537   \n",
       "166                                49924                       3600530   \n",
       "167                                52532                       4107569   \n",
       "168                                43017                       4476698   \n",
       "169                                45080                       3972779   \n",
       "170                                40510                       4470488   \n",
       "171                                51074                       5420548   \n",
       "172                                39713                       3914387   \n",
       "173                                36501                       3554912   \n",
       "174                               112960                       4253489   \n",
       "175                               103649                       3264292   \n",
       "176                               118698                       3298074   \n",
       "177                               141770                       4078939   \n",
       "178                               117439                       3273196   \n",
       "179                               103282                       3214688   \n",
       "180                               124793                       3995813   \n",
       "\n",
       "     Non-specialised stores (i.e department stores)  ... Textiles   Clothing  \\\n",
       "157                                        539656.0  ...  19221.0   787032.0   \n",
       "158                                        444667.0  ...  17073.0   703653.0   \n",
       "159                                        811161.0  ...  22138.0   737565.0   \n",
       "160                                        784894.0  ...  21161.0   529000.0   \n",
       "161                                        765806.0  ...  34156.0   609672.0   \n",
       "162                                       1223721.0  ...  45514.0  1152388.0   \n",
       "163                                        803387.0  ...  33970.0   845534.0   \n",
       "164                                        798850.0  ...  29143.0   860214.0   \n",
       "165                                       1054879.0  ...  36530.0  1049799.0   \n",
       "166                                        847298.0  ...  31460.0   873346.0   \n",
       "167                                        949561.0  ...  31792.0   944809.0   \n",
       "168                                       1115263.0  ...  35844.0  1160753.0   \n",
       "169                                        775043.0  ...  32787.0   877879.0   \n",
       "170                                        912731.0  ...  38436.0  1068351.0   \n",
       "171                                       1116108.0  ...  42561.0  1270272.0   \n",
       "172                                        752395.0  ...  29568.0   977971.0   \n",
       "173                                        716554.0  ...  25818.0   874861.0   \n",
       "174                                        858733.0  ...  31262.0  1147783.0   \n",
       "175                                        664656.0  ...  22310.0   923428.0   \n",
       "176                                        654767.0  ...  22836.0   939149.0   \n",
       "177                                        850104.0  ...  30294.0  1141160.0   \n",
       "178                                        670733.0  ...  23215.0   930754.0   \n",
       "179                                        659784.0  ...  24737.0   888602.0   \n",
       "180                                        743741.0  ...  33521.0  1110102.0   \n",
       "\n",
       "     Footwear and leather goods  Household goods stores  \\\n",
       "157                     77275.0                  464108   \n",
       "158                     62869.0                  382834   \n",
       "159                     82236.0                  658820   \n",
       "160                     62852.0                  749539   \n",
       "161                     92429.0                  842787   \n",
       "162                     96570.0                 1064940   \n",
       "163                     74342.0                  701182   \n",
       "164                     92483.0                  736934   \n",
       "165                    124478.0                  861242   \n",
       "166                     97489.0                  761073   \n",
       "167                    110156.0                  904039   \n",
       "168                    125236.0                  828828   \n",
       "169                    102494.0                  920312   \n",
       "170                    110127.0                 1084450   \n",
       "171                    155362.0                 1299929   \n",
       "172                    102996.0                  911870   \n",
       "173                     93947.0                  839519   \n",
       "174                    115011.0                  976036   \n",
       "175                     90529.0                  705323   \n",
       "176                     88231.0                  692406   \n",
       "177                    111983.0                  822560   \n",
       "178                     91276.0                  640401   \n",
       "179                     91766.0                  646295   \n",
       "180                    115372.0                  786799   \n",
       "\n",
       "    Furniture, lighting and household articles n.e.c  \\\n",
       "157                                         188139.0   \n",
       "158                                         167400.0   \n",
       "159                                         213844.0   \n",
       "160                                         197075.0   \n",
       "161                                         251784.0   \n",
       "162                                         353224.0   \n",
       "163                                         278946.0   \n",
       "164                                         308233.0   \n",
       "165                                         337570.0   \n",
       "166                                         315843.0   \n",
       "167                                         354292.0   \n",
       "168                                         398147.0   \n",
       "169                                         358063.0   \n",
       "170                                         399583.0   \n",
       "171                                         500969.0   \n",
       "172                                         360364.0   \n",
       "173                                         350720.0   \n",
       "174                                         387006.0   \n",
       "175                                         272766.0   \n",
       "176                                         255149.0   \n",
       "177                                         289455.0   \n",
       "178                                         216843.0   \n",
       "179                                         201246.0   \n",
       "180                                         245356.0   \n",
       "\n",
       "     Electrical household aplliances Hardware, paints and glass  \\\n",
       "157                         164937.0                    99523.0   \n",
       "158                         120709.0                    87968.0   \n",
       "159                         279150.0                   153067.0   \n",
       "160                         337860.0                   200070.0   \n",
       "161                         403445.0                   167128.0   \n",
       "162                         498407.0                   186248.0   \n",
       "163                         274431.0                   130424.0   \n",
       "164                         281969.0                   130220.0   \n",
       "165                         336495.0                   165032.0   \n",
       "166                         274352.0                   146224.0   \n",
       "167                         352591.0                   169266.0   \n",
       "168                         192759.0                   211211.0   \n",
       "169                         338596.0                   202675.0   \n",
       "170                         469859.0                   195458.0   \n",
       "171                         514961.0                   260478.0   \n",
       "172                         324982.0                   204738.0   \n",
       "173                         300037.0                   166463.0   \n",
       "174                         351834.0                   212146.0   \n",
       "175                         253029.0                   162187.0   \n",
       "176                         256874.0                   164911.0   \n",
       "177                         315516.0                   197296.0   \n",
       "178                         255155.0                   150837.0   \n",
       "179                         267733.0                   159375.0   \n",
       "180                         250902.0                   266399.0   \n",
       "\n",
       "    Music and video recordings & equiptment  Non-store retailing  Mail order  \n",
       "157                                   11509              4007049   3960141.0  \n",
       "158                                    6757              3197842   3140444.0  \n",
       "159                                   12759              4146349   4090616.0  \n",
       "160                                   14534              3590797   3546721.0  \n",
       "161                                   20430              4425770   4366119.0  \n",
       "162                                   27061              5725612   5616050.0  \n",
       "163                                   17381              4520343   4429853.0  \n",
       "164                                   16512              4406845   4329879.0  \n",
       "165                                   22145              5463752   5375991.0  \n",
       "166                                   24654              4747993   4668059.0  \n",
       "167                                   27890              4638503   4567385.0  \n",
       "168                                   26711              5509558   5415521.0  \n",
       "169                                   20978              4926026   4844382.0  \n",
       "170                                   19550              5189282   5098241.0  \n",
       "171                                   23521              6186393   6060356.0  \n",
       "172                                   21786              4812819   4731099.0  \n",
       "173                                   22299              4670777   4581445.0  \n",
       "174                                   25050              5854095   5750950.0  \n",
       "175                                   17341              4677521   4595271.0  \n",
       "176                                   15472              4811433   4741973.0  \n",
       "177                                   20293              6153480   6105941.0  \n",
       "178                                   17566              4892325   4848106.0  \n",
       "179                                   17941              4912015   4869211.0  \n",
       "180                                   24142              5944149   5881725.0  \n",
       "\n",
       "[24 rows x 33 columns]"
      ]
     },
     "execution_count": 8,
     "metadata": {},
     "output_type": "execute_result"
    }
   ],
   "source": [
    "# creating a df subset for COVID times \n",
    "df_COVID = df1_subset.loc[157:180]  \n",
    "df_COVID "
   ]
  },
  {
   "cell_type": "code",
   "execution_count": 9,
   "metadata": {},
   "outputs": [
    {
     "data": {
      "text/html": [
       "<div>\n",
       "<style scoped>\n",
       "    .dataframe tbody tr th:only-of-type {\n",
       "        vertical-align: middle;\n",
       "    }\n",
       "\n",
       "    .dataframe tbody tr th {\n",
       "        vertical-align: top;\n",
       "    }\n",
       "\n",
       "    .dataframe thead th {\n",
       "        text-align: right;\n",
       "    }\n",
       "</style>\n",
       "<table border=\"1\" class=\"dataframe\">\n",
       "  <thead>\n",
       "    <tr style=\"text-align: right;\">\n",
       "      <th></th>\n",
       "      <th>Number of weeks</th>\n",
       "      <th>Description</th>\n",
       "      <th>All retailing</th>\n",
       "      <th>All retailing except automotive fuel</th>\n",
       "      <th>Predominantly food stores</th>\n",
       "      <th>Non-specialised stores (i.e supermarkets)</th>\n",
       "      <th>Specialist food stores (i.e butchers and bakers)</th>\n",
       "      <th>Alcoholic drink, beverages &amp; tobacco</th>\n",
       "      <th>Predominantly non-food stores</th>\n",
       "      <th>Non-specialised stores (i.e department stores)</th>\n",
       "      <th>...</th>\n",
       "      <th>Textiles</th>\n",
       "      <th>Clothing</th>\n",
       "      <th>Footwear and leather goods</th>\n",
       "      <th>Household goods stores</th>\n",
       "      <th>Furniture, lighting and household articles n.e.c</th>\n",
       "      <th>Electrical household aplliances</th>\n",
       "      <th>Hardware, paints and glass</th>\n",
       "      <th>Music and video recordings &amp; equiptment</th>\n",
       "      <th>Non-store retailing</th>\n",
       "      <th>Mail order</th>\n",
       "    </tr>\n",
       "  </thead>\n",
       "  <tbody>\n",
       "    <tr>\n",
       "      <th>180</th>\n",
       "      <td>5.0</td>\n",
       "      <td>2021DEC</td>\n",
       "      <td>11813749</td>\n",
       "      <td>11813749</td>\n",
       "      <td>1873787</td>\n",
       "      <td>1683077.0</td>\n",
       "      <td>65917</td>\n",
       "      <td>124793</td>\n",
       "      <td>3995813</td>\n",
       "      <td>743741.0</td>\n",
       "      <td>...</td>\n",
       "      <td>33521.0</td>\n",
       "      <td>1110102.0</td>\n",
       "      <td>115372.0</td>\n",
       "      <td>786799</td>\n",
       "      <td>245356.0</td>\n",
       "      <td>250902.0</td>\n",
       "      <td>266399.0</td>\n",
       "      <td>24142</td>\n",
       "      <td>5944149</td>\n",
       "      <td>5881725.0</td>\n",
       "    </tr>\n",
       "    <tr>\n",
       "      <th>181</th>\n",
       "      <td>4.0</td>\n",
       "      <td>2022JAN</td>\n",
       "      <td>9279541</td>\n",
       "      <td>9279541</td>\n",
       "      <td>1245360</td>\n",
       "      <td>1166016.0</td>\n",
       "      <td>46378</td>\n",
       "      <td>32966</td>\n",
       "      <td>3065025</td>\n",
       "      <td>593922.0</td>\n",
       "      <td>...</td>\n",
       "      <td>26049.0</td>\n",
       "      <td>843525.0</td>\n",
       "      <td>76181.0</td>\n",
       "      <td>603528</td>\n",
       "      <td>235378.0</td>\n",
       "      <td>212386.0</td>\n",
       "      <td>138076.0</td>\n",
       "      <td>17688</td>\n",
       "      <td>4969156</td>\n",
       "      <td>4918595.0</td>\n",
       "    </tr>\n",
       "    <tr>\n",
       "      <th>182</th>\n",
       "      <td>4.0</td>\n",
       "      <td>2022FEB</td>\n",
       "      <td>9216920</td>\n",
       "      <td>9216920</td>\n",
       "      <td>1213413</td>\n",
       "      <td>1144109.0</td>\n",
       "      <td>44913</td>\n",
       "      <td>24391</td>\n",
       "      <td>3038396</td>\n",
       "      <td>590885.0</td>\n",
       "      <td>...</td>\n",
       "      <td>23349.0</td>\n",
       "      <td>841686.0</td>\n",
       "      <td>87202.0</td>\n",
       "      <td>589728</td>\n",
       "      <td>207618.0</td>\n",
       "      <td>224600.0</td>\n",
       "      <td>138172.0</td>\n",
       "      <td>19338</td>\n",
       "      <td>4965111</td>\n",
       "      <td>4920188.0</td>\n",
       "    </tr>\n",
       "  </tbody>\n",
       "</table>\n",
       "<p>3 rows × 33 columns</p>\n",
       "</div>"
      ],
      "text/plain": [
       "     Number of weeks Description All retailing  \\\n",
       "180              5.0     2021DEC      11813749   \n",
       "181              4.0     2022JAN       9279541   \n",
       "182              4.0     2022FEB       9216920   \n",
       "\n",
       "    All retailing except automotive fuel Predominantly food stores  \\\n",
       "180                             11813749                   1873787   \n",
       "181                              9279541                   1245360   \n",
       "182                              9216920                   1213413   \n",
       "\n",
       "     Non-specialised stores (i.e supermarkets)  \\\n",
       "180                                  1683077.0   \n",
       "181                                  1166016.0   \n",
       "182                                  1144109.0   \n",
       "\n",
       "    Specialist food stores (i.e butchers and bakers)  \\\n",
       "180                                            65917   \n",
       "181                                            46378   \n",
       "182                                            44913   \n",
       "\n",
       "    Alcoholic drink, beverages & tobacco Predominantly non-food stores  \\\n",
       "180                               124793                       3995813   \n",
       "181                                32966                       3065025   \n",
       "182                                24391                       3038396   \n",
       "\n",
       "     Non-specialised stores (i.e department stores)  ... Textiles   Clothing  \\\n",
       "180                                        743741.0  ...  33521.0  1110102.0   \n",
       "181                                        593922.0  ...  26049.0   843525.0   \n",
       "182                                        590885.0  ...  23349.0   841686.0   \n",
       "\n",
       "     Footwear and leather goods  Household goods stores  \\\n",
       "180                    115372.0                  786799   \n",
       "181                     76181.0                  603528   \n",
       "182                     87202.0                  589728   \n",
       "\n",
       "    Furniture, lighting and household articles n.e.c  \\\n",
       "180                                         245356.0   \n",
       "181                                         235378.0   \n",
       "182                                         207618.0   \n",
       "\n",
       "     Electrical household aplliances Hardware, paints and glass  \\\n",
       "180                         250902.0                   266399.0   \n",
       "181                         212386.0                   138076.0   \n",
       "182                         224600.0                   138172.0   \n",
       "\n",
       "    Music and video recordings & equiptment  Non-store retailing  Mail order  \n",
       "180                                   24142              5944149   5881725.0  \n",
       "181                                   17688              4969156   4918595.0  \n",
       "182                                   19338              4965111   4920188.0  \n",
       "\n",
       "[3 rows x 33 columns]"
      ]
     },
     "execution_count": 9,
     "metadata": {},
     "output_type": "execute_result"
    }
   ],
   "source": [
    "# creating a df subset for post-COVID times \n",
    "df_post_COVID = df1_subset.loc[180:]\n",
    "df_post_COVID"
   ]
  },
  {
   "cell_type": "code",
   "execution_count": 10,
   "metadata": {},
   "outputs": [
    {
     "data": {
      "application/vnd.plotly.v1+json": {
       "config": {
        "plotlyServerURL": "https://plot.ly"
       },
       "data": [
        {
         "alignmentgroup": "True",
         "hovertemplate": "Description=%{x}<br>All retailing=%{y}<extra></extra>",
         "legendgroup": "",
         "marker": {
          "color": "#636efa",
          "pattern": {
           "shape": ""
          }
         },
         "name": "",
         "offsetgroup": "",
         "orientation": "v",
         "showlegend": false,
         "textposition": "auto",
         "type": "bar",
         "x": [
          "2010JAN",
          "2010FEB",
          "2010MAR",
          "2010APR",
          "2010MAY",
          "2010JUN",
          "2010JUL",
          "2010AUG",
          "2010SEP",
          "2010OCT",
          "2010NOV",
          "2010DEC",
          "2011JAN",
          "2011FEB",
          "2011MAR",
          "2011APR",
          "2011MAY",
          "2011JUN",
          "2011JUL",
          "2011AUG",
          "2011SEP",
          "2011OCT",
          "2011NOV",
          "2011DEC",
          "2012JAN",
          "2012FEB",
          "2012MAR",
          "2012APR",
          "2012MAY",
          "2012JUN",
          "2012JUL",
          "2012AUG",
          "2012SEP",
          "2012OCT",
          "2012NOV",
          "2012DEC",
          "2013JAN",
          "2013FEB",
          "2013MAR",
          "2013APR",
          "2013MAY",
          "2013JUN",
          "2013JUL",
          "2013AUG",
          "2013SEP",
          "2013OCT",
          "2013NOV",
          "2013DEC",
          "2014JAN",
          "2014FEB",
          "2014MAR",
          "2014APR",
          "2014MAY",
          "2014JUN",
          "2014JUL",
          "2014AUG",
          "2014SEP",
          "2014OCT",
          "2014NOV",
          "2014DEC",
          "2015JAN",
          "2015FEB",
          "2015MAR",
          "2015APR",
          "2015MAY",
          "2015JUN",
          "2015JUL",
          "2015AUG",
          "2015SEP",
          "2015OCT",
          "2015NOV",
          "2015DEC",
          "2016JAN",
          "2016FEB",
          "2016MAR",
          "2016APR",
          "2016MAY",
          "2016JUN",
          "2016JUL",
          "2016AUG",
          "2016SEP",
          "2016OCT",
          "2016NOV",
          "2016DEC",
          "2017JAN",
          "2017FEB",
          "2017MAR",
          "2017APR",
          "2017MAY",
          "2017JUN",
          "2017JUL",
          "2017AUG",
          "2017SEP",
          "2017OCT",
          "2017NOV",
          "2017DEC",
          "2018JAN",
          "2018FEB",
          "2018MAR",
          "2018APR",
          "2018MAY",
          "2018JUN",
          "2018JUL",
          "2018AUG",
          "2018SEP",
          "2018OCT",
          "2018NOV",
          "2018DEC",
          "2019JAN",
          "2019FEB",
          "2019MAR",
          "2019APR",
          "2019MAY",
          "2019JUN",
          "2019JUL",
          "2019AUG",
          "2019SEP",
          "2019OCT",
          "2019NOV",
          "2019DEC",
          "2020JAN",
          "2020FEB",
          "2020MAR",
          "2020APR",
          "2020MAY",
          "2020JUN",
          "2020JUL",
          "2020AUG",
          "2020SEP",
          "2020OCT",
          "2020NOV",
          "2020DEC",
          "2021JAN",
          "2021FEB",
          "2021MAR",
          "2021APR",
          "2021MAY",
          "2021JUN",
          "2021JUL",
          "2021AUG",
          "2021SEP",
          "2021OCT",
          "2021NOV",
          "2021DEC",
          "2022JAN",
          "2022FEB"
         ],
         "xaxis": "x",
         "y": [
          1429675,
          1494178,
          1853402,
          1541298,
          1562931,
          1946540,
          1643955,
          1735105,
          2153926,
          1794605,
          1825268,
          2304639,
          1880244,
          1807304,
          2264697,
          1813973,
          1833598,
          2381299,
          1949247,
          1962614,
          2526450,
          2009595,
          2113841,
          2590154,
          2107837,
          2171458,
          2688862,
          2200900,
          2280143,
          2721155,
          2322085,
          2142246,
          2812117,
          2237273,
          2246125,
          3049560,
          2425241,
          2470559,
          3204812,
          2508558,
          2523595,
          3200709,
          2564515,
          2619690,
          3316726,
          2656346,
          2650555,
          3294105,
          3321976,
          2790547,
          3508538,
          2875104,
          2936227,
          3657758,
          2945717,
          2986694,
          3654210,
          2985734,
          3025985,
          3883692,
          3120171,
          3117593,
          3944714,
          3260720,
          3180609,
          4125882,
          3318613,
          3237653,
          4187344,
          3348561,
          3458143,
          4374672,
          3625237,
          3562427,
          4463437,
          3728021,
          3835469,
          4860248,
          3937760,
          4029259,
          5314150,
          4387754,
          4453600,
          5479942,
          4279280,
          4341230,
          5470926,
          4500924,
          4416776,
          5729663,
          4644912,
          4731242,
          5992658,
          4772641,
          4863611,
          6197666,
          4870265,
          4987991,
          6337732,
          5091436,
          5360377,
          6611377,
          5381861,
          5394877,
          6739607,
          5408373,
          5506854,
          6892598,
          5558356,
          5656326,
          7174287,
          5790753,
          5804254,
          7124100,
          6114114,
          5997269,
          7338805,
          5899943,
          5718776,
          7366505,
          7405682,
          6034975,
          8167377,
          7806532,
          9376638,
          12548487,
          9549576,
          9344042,
          11511586,
          9777552,
          10204375,
          11867521,
          10530710,
          11258708,
          13591034,
          10217527,
          9664194,
          11928822,
          9403366,
          9557216,
          12023737,
          9566557,
          9481485,
          11813749,
          9279541,
          9216920
         ],
         "yaxis": "y"
        }
       ],
       "layout": {
        "barmode": "relative",
        "legend": {
         "tracegroupgap": 0
        },
        "margin": {
         "t": 60
        },
        "template": {
         "data": {
          "bar": [
           {
            "error_x": {
             "color": "#2a3f5f"
            },
            "error_y": {
             "color": "#2a3f5f"
            },
            "marker": {
             "line": {
              "color": "#E5ECF6",
              "width": 0.5
             },
             "pattern": {
              "fillmode": "overlay",
              "size": 10,
              "solidity": 0.2
             }
            },
            "type": "bar"
           }
          ],
          "barpolar": [
           {
            "marker": {
             "line": {
              "color": "#E5ECF6",
              "width": 0.5
             },
             "pattern": {
              "fillmode": "overlay",
              "size": 10,
              "solidity": 0.2
             }
            },
            "type": "barpolar"
           }
          ],
          "carpet": [
           {
            "aaxis": {
             "endlinecolor": "#2a3f5f",
             "gridcolor": "white",
             "linecolor": "white",
             "minorgridcolor": "white",
             "startlinecolor": "#2a3f5f"
            },
            "baxis": {
             "endlinecolor": "#2a3f5f",
             "gridcolor": "white",
             "linecolor": "white",
             "minorgridcolor": "white",
             "startlinecolor": "#2a3f5f"
            },
            "type": "carpet"
           }
          ],
          "choropleth": [
           {
            "colorbar": {
             "outlinewidth": 0,
             "ticks": ""
            },
            "type": "choropleth"
           }
          ],
          "contour": [
           {
            "colorbar": {
             "outlinewidth": 0,
             "ticks": ""
            },
            "colorscale": [
             [
              0,
              "#0d0887"
             ],
             [
              0.1111111111111111,
              "#46039f"
             ],
             [
              0.2222222222222222,
              "#7201a8"
             ],
             [
              0.3333333333333333,
              "#9c179e"
             ],
             [
              0.4444444444444444,
              "#bd3786"
             ],
             [
              0.5555555555555556,
              "#d8576b"
             ],
             [
              0.6666666666666666,
              "#ed7953"
             ],
             [
              0.7777777777777778,
              "#fb9f3a"
             ],
             [
              0.8888888888888888,
              "#fdca26"
             ],
             [
              1,
              "#f0f921"
             ]
            ],
            "type": "contour"
           }
          ],
          "contourcarpet": [
           {
            "colorbar": {
             "outlinewidth": 0,
             "ticks": ""
            },
            "type": "contourcarpet"
           }
          ],
          "heatmap": [
           {
            "colorbar": {
             "outlinewidth": 0,
             "ticks": ""
            },
            "colorscale": [
             [
              0,
              "#0d0887"
             ],
             [
              0.1111111111111111,
              "#46039f"
             ],
             [
              0.2222222222222222,
              "#7201a8"
             ],
             [
              0.3333333333333333,
              "#9c179e"
             ],
             [
              0.4444444444444444,
              "#bd3786"
             ],
             [
              0.5555555555555556,
              "#d8576b"
             ],
             [
              0.6666666666666666,
              "#ed7953"
             ],
             [
              0.7777777777777778,
              "#fb9f3a"
             ],
             [
              0.8888888888888888,
              "#fdca26"
             ],
             [
              1,
              "#f0f921"
             ]
            ],
            "type": "heatmap"
           }
          ],
          "heatmapgl": [
           {
            "colorbar": {
             "outlinewidth": 0,
             "ticks": ""
            },
            "colorscale": [
             [
              0,
              "#0d0887"
             ],
             [
              0.1111111111111111,
              "#46039f"
             ],
             [
              0.2222222222222222,
              "#7201a8"
             ],
             [
              0.3333333333333333,
              "#9c179e"
             ],
             [
              0.4444444444444444,
              "#bd3786"
             ],
             [
              0.5555555555555556,
              "#d8576b"
             ],
             [
              0.6666666666666666,
              "#ed7953"
             ],
             [
              0.7777777777777778,
              "#fb9f3a"
             ],
             [
              0.8888888888888888,
              "#fdca26"
             ],
             [
              1,
              "#f0f921"
             ]
            ],
            "type": "heatmapgl"
           }
          ],
          "histogram": [
           {
            "marker": {
             "pattern": {
              "fillmode": "overlay",
              "size": 10,
              "solidity": 0.2
             }
            },
            "type": "histogram"
           }
          ],
          "histogram2d": [
           {
            "colorbar": {
             "outlinewidth": 0,
             "ticks": ""
            },
            "colorscale": [
             [
              0,
              "#0d0887"
             ],
             [
              0.1111111111111111,
              "#46039f"
             ],
             [
              0.2222222222222222,
              "#7201a8"
             ],
             [
              0.3333333333333333,
              "#9c179e"
             ],
             [
              0.4444444444444444,
              "#bd3786"
             ],
             [
              0.5555555555555556,
              "#d8576b"
             ],
             [
              0.6666666666666666,
              "#ed7953"
             ],
             [
              0.7777777777777778,
              "#fb9f3a"
             ],
             [
              0.8888888888888888,
              "#fdca26"
             ],
             [
              1,
              "#f0f921"
             ]
            ],
            "type": "histogram2d"
           }
          ],
          "histogram2dcontour": [
           {
            "colorbar": {
             "outlinewidth": 0,
             "ticks": ""
            },
            "colorscale": [
             [
              0,
              "#0d0887"
             ],
             [
              0.1111111111111111,
              "#46039f"
             ],
             [
              0.2222222222222222,
              "#7201a8"
             ],
             [
              0.3333333333333333,
              "#9c179e"
             ],
             [
              0.4444444444444444,
              "#bd3786"
             ],
             [
              0.5555555555555556,
              "#d8576b"
             ],
             [
              0.6666666666666666,
              "#ed7953"
             ],
             [
              0.7777777777777778,
              "#fb9f3a"
             ],
             [
              0.8888888888888888,
              "#fdca26"
             ],
             [
              1,
              "#f0f921"
             ]
            ],
            "type": "histogram2dcontour"
           }
          ],
          "mesh3d": [
           {
            "colorbar": {
             "outlinewidth": 0,
             "ticks": ""
            },
            "type": "mesh3d"
           }
          ],
          "parcoords": [
           {
            "line": {
             "colorbar": {
              "outlinewidth": 0,
              "ticks": ""
             }
            },
            "type": "parcoords"
           }
          ],
          "pie": [
           {
            "automargin": true,
            "type": "pie"
           }
          ],
          "scatter": [
           {
            "fillpattern": {
             "fillmode": "overlay",
             "size": 10,
             "solidity": 0.2
            },
            "type": "scatter"
           }
          ],
          "scatter3d": [
           {
            "line": {
             "colorbar": {
              "outlinewidth": 0,
              "ticks": ""
             }
            },
            "marker": {
             "colorbar": {
              "outlinewidth": 0,
              "ticks": ""
             }
            },
            "type": "scatter3d"
           }
          ],
          "scattercarpet": [
           {
            "marker": {
             "colorbar": {
              "outlinewidth": 0,
              "ticks": ""
             }
            },
            "type": "scattercarpet"
           }
          ],
          "scattergeo": [
           {
            "marker": {
             "colorbar": {
              "outlinewidth": 0,
              "ticks": ""
             }
            },
            "type": "scattergeo"
           }
          ],
          "scattergl": [
           {
            "marker": {
             "colorbar": {
              "outlinewidth": 0,
              "ticks": ""
             }
            },
            "type": "scattergl"
           }
          ],
          "scattermapbox": [
           {
            "marker": {
             "colorbar": {
              "outlinewidth": 0,
              "ticks": ""
             }
            },
            "type": "scattermapbox"
           }
          ],
          "scatterpolar": [
           {
            "marker": {
             "colorbar": {
              "outlinewidth": 0,
              "ticks": ""
             }
            },
            "type": "scatterpolar"
           }
          ],
          "scatterpolargl": [
           {
            "marker": {
             "colorbar": {
              "outlinewidth": 0,
              "ticks": ""
             }
            },
            "type": "scatterpolargl"
           }
          ],
          "scatterternary": [
           {
            "marker": {
             "colorbar": {
              "outlinewidth": 0,
              "ticks": ""
             }
            },
            "type": "scatterternary"
           }
          ],
          "surface": [
           {
            "colorbar": {
             "outlinewidth": 0,
             "ticks": ""
            },
            "colorscale": [
             [
              0,
              "#0d0887"
             ],
             [
              0.1111111111111111,
              "#46039f"
             ],
             [
              0.2222222222222222,
              "#7201a8"
             ],
             [
              0.3333333333333333,
              "#9c179e"
             ],
             [
              0.4444444444444444,
              "#bd3786"
             ],
             [
              0.5555555555555556,
              "#d8576b"
             ],
             [
              0.6666666666666666,
              "#ed7953"
             ],
             [
              0.7777777777777778,
              "#fb9f3a"
             ],
             [
              0.8888888888888888,
              "#fdca26"
             ],
             [
              1,
              "#f0f921"
             ]
            ],
            "type": "surface"
           }
          ],
          "table": [
           {
            "cells": {
             "fill": {
              "color": "#EBF0F8"
             },
             "line": {
              "color": "white"
             }
            },
            "header": {
             "fill": {
              "color": "#C8D4E3"
             },
             "line": {
              "color": "white"
             }
            },
            "type": "table"
           }
          ]
         },
         "layout": {
          "annotationdefaults": {
           "arrowcolor": "#2a3f5f",
           "arrowhead": 0,
           "arrowwidth": 1
          },
          "autotypenumbers": "strict",
          "coloraxis": {
           "colorbar": {
            "outlinewidth": 0,
            "ticks": ""
           }
          },
          "colorscale": {
           "diverging": [
            [
             0,
             "#8e0152"
            ],
            [
             0.1,
             "#c51b7d"
            ],
            [
             0.2,
             "#de77ae"
            ],
            [
             0.3,
             "#f1b6da"
            ],
            [
             0.4,
             "#fde0ef"
            ],
            [
             0.5,
             "#f7f7f7"
            ],
            [
             0.6,
             "#e6f5d0"
            ],
            [
             0.7,
             "#b8e186"
            ],
            [
             0.8,
             "#7fbc41"
            ],
            [
             0.9,
             "#4d9221"
            ],
            [
             1,
             "#276419"
            ]
           ],
           "sequential": [
            [
             0,
             "#0d0887"
            ],
            [
             0.1111111111111111,
             "#46039f"
            ],
            [
             0.2222222222222222,
             "#7201a8"
            ],
            [
             0.3333333333333333,
             "#9c179e"
            ],
            [
             0.4444444444444444,
             "#bd3786"
            ],
            [
             0.5555555555555556,
             "#d8576b"
            ],
            [
             0.6666666666666666,
             "#ed7953"
            ],
            [
             0.7777777777777778,
             "#fb9f3a"
            ],
            [
             0.8888888888888888,
             "#fdca26"
            ],
            [
             1,
             "#f0f921"
            ]
           ],
           "sequentialminus": [
            [
             0,
             "#0d0887"
            ],
            [
             0.1111111111111111,
             "#46039f"
            ],
            [
             0.2222222222222222,
             "#7201a8"
            ],
            [
             0.3333333333333333,
             "#9c179e"
            ],
            [
             0.4444444444444444,
             "#bd3786"
            ],
            [
             0.5555555555555556,
             "#d8576b"
            ],
            [
             0.6666666666666666,
             "#ed7953"
            ],
            [
             0.7777777777777778,
             "#fb9f3a"
            ],
            [
             0.8888888888888888,
             "#fdca26"
            ],
            [
             1,
             "#f0f921"
            ]
           ]
          },
          "colorway": [
           "#636efa",
           "#EF553B",
           "#00cc96",
           "#ab63fa",
           "#FFA15A",
           "#19d3f3",
           "#FF6692",
           "#B6E880",
           "#FF97FF",
           "#FECB52"
          ],
          "font": {
           "color": "#2a3f5f"
          },
          "geo": {
           "bgcolor": "white",
           "lakecolor": "white",
           "landcolor": "#E5ECF6",
           "showlakes": true,
           "showland": true,
           "subunitcolor": "white"
          },
          "hoverlabel": {
           "align": "left"
          },
          "hovermode": "closest",
          "mapbox": {
           "style": "light"
          },
          "paper_bgcolor": "white",
          "plot_bgcolor": "#E5ECF6",
          "polar": {
           "angularaxis": {
            "gridcolor": "white",
            "linecolor": "white",
            "ticks": ""
           },
           "bgcolor": "#E5ECF6",
           "radialaxis": {
            "gridcolor": "white",
            "linecolor": "white",
            "ticks": ""
           }
          },
          "scene": {
           "xaxis": {
            "backgroundcolor": "#E5ECF6",
            "gridcolor": "white",
            "gridwidth": 2,
            "linecolor": "white",
            "showbackground": true,
            "ticks": "",
            "zerolinecolor": "white"
           },
           "yaxis": {
            "backgroundcolor": "#E5ECF6",
            "gridcolor": "white",
            "gridwidth": 2,
            "linecolor": "white",
            "showbackground": true,
            "ticks": "",
            "zerolinecolor": "white"
           },
           "zaxis": {
            "backgroundcolor": "#E5ECF6",
            "gridcolor": "white",
            "gridwidth": 2,
            "linecolor": "white",
            "showbackground": true,
            "ticks": "",
            "zerolinecolor": "white"
           }
          },
          "shapedefaults": {
           "line": {
            "color": "#2a3f5f"
           }
          },
          "ternary": {
           "aaxis": {
            "gridcolor": "white",
            "linecolor": "white",
            "ticks": ""
           },
           "baxis": {
            "gridcolor": "white",
            "linecolor": "white",
            "ticks": ""
           },
           "bgcolor": "#E5ECF6",
           "caxis": {
            "gridcolor": "white",
            "linecolor": "white",
            "ticks": ""
           }
          },
          "title": {
           "x": 0.05
          },
          "xaxis": {
           "automargin": true,
           "gridcolor": "white",
           "linecolor": "white",
           "ticks": "",
           "title": {
            "standoff": 15
           },
           "zerolinecolor": "white",
           "zerolinewidth": 2
          },
          "yaxis": {
           "automargin": true,
           "gridcolor": "white",
           "linecolor": "white",
           "ticks": "",
           "title": {
            "standoff": 15
           },
           "zerolinecolor": "white",
           "zerolinewidth": 2
          }
         }
        },
        "xaxis": {
         "anchor": "y",
         "domain": [
          0,
          1
         ],
         "title": {
          "text": "Description"
         }
        },
        "yaxis": {
         "anchor": "x",
         "domain": [
          0,
          1
         ],
         "title": {
          "text": "All retailing"
         }
        }
       }
      }
     },
     "metadata": {},
     "output_type": "display_data"
    }
   ],
   "source": [
    "import plotly.express as px # barhcart to show value of sales across selected timeline\n",
    "# across all sub-sectors of retail\n",
    "dfb = df1_subset \n",
    "df = px.data.tips()\n",
    "fig = px.bar(dfb, x='Description', y='All retailing')\n",
    "fig.show() "
   ]
  },
  {
   "cell_type": "code",
   "execution_count": null,
   "metadata": {},
   "outputs": [],
   "source": []
  },
  {
   "cell_type": "code",
   "execution_count": 11,
   "metadata": {},
   "outputs": [
    {
     "data": {
      "application/vnd.plotly.v1+json": {
       "config": {
        "plotlyServerURL": "https://plot.ly"
       },
       "data": [
        {
         "hovertemplate": "Description=%{x}<br>All retailing=%{y}<extra></extra>",
         "legendgroup": "",
         "line": {
          "color": "#636efa",
          "dash": "solid"
         },
         "marker": {
          "symbol": "circle"
         },
         "mode": "lines",
         "name": "",
         "orientation": "v",
         "showlegend": false,
         "type": "scatter",
         "x": [
          "2010JAN",
          "2010FEB",
          "2010MAR",
          "2010APR",
          "2010MAY",
          "2010JUN",
          "2010JUL",
          "2010AUG",
          "2010SEP",
          "2010OCT",
          "2010NOV",
          "2010DEC",
          "2011JAN",
          "2011FEB",
          "2011MAR",
          "2011APR",
          "2011MAY",
          "2011JUN",
          "2011JUL",
          "2011AUG",
          "2011SEP",
          "2011OCT",
          "2011NOV",
          "2011DEC",
          "2012JAN",
          "2012FEB",
          "2012MAR",
          "2012APR",
          "2012MAY",
          "2012JUN",
          "2012JUL",
          "2012AUG",
          "2012SEP",
          "2012OCT",
          "2012NOV",
          "2012DEC",
          "2013JAN",
          "2013FEB",
          "2013MAR",
          "2013APR",
          "2013MAY",
          "2013JUN",
          "2013JUL",
          "2013AUG",
          "2013SEP",
          "2013OCT",
          "2013NOV",
          "2013DEC",
          "2014JAN",
          "2014FEB",
          "2014MAR",
          "2014APR",
          "2014MAY",
          "2014JUN",
          "2014JUL",
          "2014AUG",
          "2014SEP",
          "2014OCT",
          "2014NOV",
          "2014DEC",
          "2015JAN",
          "2015FEB",
          "2015MAR",
          "2015APR",
          "2015MAY",
          "2015JUN",
          "2015JUL",
          "2015AUG",
          "2015SEP",
          "2015OCT",
          "2015NOV",
          "2015DEC",
          "2016JAN",
          "2016FEB",
          "2016MAR",
          "2016APR",
          "2016MAY",
          "2016JUN",
          "2016JUL",
          "2016AUG",
          "2016SEP",
          "2016OCT",
          "2016NOV",
          "2016DEC",
          "2017JAN",
          "2017FEB",
          "2017MAR",
          "2017APR",
          "2017MAY",
          "2017JUN",
          "2017JUL",
          "2017AUG",
          "2017SEP",
          "2017OCT",
          "2017NOV",
          "2017DEC",
          "2018JAN",
          "2018FEB",
          "2018MAR",
          "2018APR",
          "2018MAY",
          "2018JUN",
          "2018JUL",
          "2018AUG",
          "2018SEP",
          "2018OCT",
          "2018NOV",
          "2018DEC",
          "2019JAN",
          "2019FEB",
          "2019MAR",
          "2019APR",
          "2019MAY",
          "2019JUN",
          "2019JUL",
          "2019AUG",
          "2019SEP",
          "2019OCT",
          "2019NOV",
          "2019DEC",
          "2020JAN",
          "2020FEB",
          "2020MAR",
          "2020APR",
          "2020MAY",
          "2020JUN",
          "2020JUL",
          "2020AUG",
          "2020SEP",
          "2020OCT",
          "2020NOV",
          "2020DEC",
          "2021JAN",
          "2021FEB",
          "2021MAR",
          "2021APR",
          "2021MAY",
          "2021JUN",
          "2021JUL",
          "2021AUG",
          "2021SEP",
          "2021OCT",
          "2021NOV",
          "2021DEC",
          "2022JAN",
          "2022FEB"
         ],
         "xaxis": "x",
         "y": [
          1429675,
          1494178,
          1853402,
          1541298,
          1562931,
          1946540,
          1643955,
          1735105,
          2153926,
          1794605,
          1825268,
          2304639,
          1880244,
          1807304,
          2264697,
          1813973,
          1833598,
          2381299,
          1949247,
          1962614,
          2526450,
          2009595,
          2113841,
          2590154,
          2107837,
          2171458,
          2688862,
          2200900,
          2280143,
          2721155,
          2322085,
          2142246,
          2812117,
          2237273,
          2246125,
          3049560,
          2425241,
          2470559,
          3204812,
          2508558,
          2523595,
          3200709,
          2564515,
          2619690,
          3316726,
          2656346,
          2650555,
          3294105,
          3321976,
          2790547,
          3508538,
          2875104,
          2936227,
          3657758,
          2945717,
          2986694,
          3654210,
          2985734,
          3025985,
          3883692,
          3120171,
          3117593,
          3944714,
          3260720,
          3180609,
          4125882,
          3318613,
          3237653,
          4187344,
          3348561,
          3458143,
          4374672,
          3625237,
          3562427,
          4463437,
          3728021,
          3835469,
          4860248,
          3937760,
          4029259,
          5314150,
          4387754,
          4453600,
          5479942,
          4279280,
          4341230,
          5470926,
          4500924,
          4416776,
          5729663,
          4644912,
          4731242,
          5992658,
          4772641,
          4863611,
          6197666,
          4870265,
          4987991,
          6337732,
          5091436,
          5360377,
          6611377,
          5381861,
          5394877,
          6739607,
          5408373,
          5506854,
          6892598,
          5558356,
          5656326,
          7174287,
          5790753,
          5804254,
          7124100,
          6114114,
          5997269,
          7338805,
          5899943,
          5718776,
          7366505,
          7405682,
          6034975,
          8167377,
          7806532,
          9376638,
          12548487,
          9549576,
          9344042,
          11511586,
          9777552,
          10204375,
          11867521,
          10530710,
          11258708,
          13591034,
          10217527,
          9664194,
          11928822,
          9403366,
          9557216,
          12023737,
          9566557,
          9481485,
          11813749,
          9279541,
          9216920
         ],
         "yaxis": "y"
        }
       ],
       "layout": {
        "legend": {
         "tracegroupgap": 0
        },
        "margin": {
         "t": 60
        },
        "template": {
         "data": {
          "bar": [
           {
            "error_x": {
             "color": "#2a3f5f"
            },
            "error_y": {
             "color": "#2a3f5f"
            },
            "marker": {
             "line": {
              "color": "#E5ECF6",
              "width": 0.5
             },
             "pattern": {
              "fillmode": "overlay",
              "size": 10,
              "solidity": 0.2
             }
            },
            "type": "bar"
           }
          ],
          "barpolar": [
           {
            "marker": {
             "line": {
              "color": "#E5ECF6",
              "width": 0.5
             },
             "pattern": {
              "fillmode": "overlay",
              "size": 10,
              "solidity": 0.2
             }
            },
            "type": "barpolar"
           }
          ],
          "carpet": [
           {
            "aaxis": {
             "endlinecolor": "#2a3f5f",
             "gridcolor": "white",
             "linecolor": "white",
             "minorgridcolor": "white",
             "startlinecolor": "#2a3f5f"
            },
            "baxis": {
             "endlinecolor": "#2a3f5f",
             "gridcolor": "white",
             "linecolor": "white",
             "minorgridcolor": "white",
             "startlinecolor": "#2a3f5f"
            },
            "type": "carpet"
           }
          ],
          "choropleth": [
           {
            "colorbar": {
             "outlinewidth": 0,
             "ticks": ""
            },
            "type": "choropleth"
           }
          ],
          "contour": [
           {
            "colorbar": {
             "outlinewidth": 0,
             "ticks": ""
            },
            "colorscale": [
             [
              0,
              "#0d0887"
             ],
             [
              0.1111111111111111,
              "#46039f"
             ],
             [
              0.2222222222222222,
              "#7201a8"
             ],
             [
              0.3333333333333333,
              "#9c179e"
             ],
             [
              0.4444444444444444,
              "#bd3786"
             ],
             [
              0.5555555555555556,
              "#d8576b"
             ],
             [
              0.6666666666666666,
              "#ed7953"
             ],
             [
              0.7777777777777778,
              "#fb9f3a"
             ],
             [
              0.8888888888888888,
              "#fdca26"
             ],
             [
              1,
              "#f0f921"
             ]
            ],
            "type": "contour"
           }
          ],
          "contourcarpet": [
           {
            "colorbar": {
             "outlinewidth": 0,
             "ticks": ""
            },
            "type": "contourcarpet"
           }
          ],
          "heatmap": [
           {
            "colorbar": {
             "outlinewidth": 0,
             "ticks": ""
            },
            "colorscale": [
             [
              0,
              "#0d0887"
             ],
             [
              0.1111111111111111,
              "#46039f"
             ],
             [
              0.2222222222222222,
              "#7201a8"
             ],
             [
              0.3333333333333333,
              "#9c179e"
             ],
             [
              0.4444444444444444,
              "#bd3786"
             ],
             [
              0.5555555555555556,
              "#d8576b"
             ],
             [
              0.6666666666666666,
              "#ed7953"
             ],
             [
              0.7777777777777778,
              "#fb9f3a"
             ],
             [
              0.8888888888888888,
              "#fdca26"
             ],
             [
              1,
              "#f0f921"
             ]
            ],
            "type": "heatmap"
           }
          ],
          "heatmapgl": [
           {
            "colorbar": {
             "outlinewidth": 0,
             "ticks": ""
            },
            "colorscale": [
             [
              0,
              "#0d0887"
             ],
             [
              0.1111111111111111,
              "#46039f"
             ],
             [
              0.2222222222222222,
              "#7201a8"
             ],
             [
              0.3333333333333333,
              "#9c179e"
             ],
             [
              0.4444444444444444,
              "#bd3786"
             ],
             [
              0.5555555555555556,
              "#d8576b"
             ],
             [
              0.6666666666666666,
              "#ed7953"
             ],
             [
              0.7777777777777778,
              "#fb9f3a"
             ],
             [
              0.8888888888888888,
              "#fdca26"
             ],
             [
              1,
              "#f0f921"
             ]
            ],
            "type": "heatmapgl"
           }
          ],
          "histogram": [
           {
            "marker": {
             "pattern": {
              "fillmode": "overlay",
              "size": 10,
              "solidity": 0.2
             }
            },
            "type": "histogram"
           }
          ],
          "histogram2d": [
           {
            "colorbar": {
             "outlinewidth": 0,
             "ticks": ""
            },
            "colorscale": [
             [
              0,
              "#0d0887"
             ],
             [
              0.1111111111111111,
              "#46039f"
             ],
             [
              0.2222222222222222,
              "#7201a8"
             ],
             [
              0.3333333333333333,
              "#9c179e"
             ],
             [
              0.4444444444444444,
              "#bd3786"
             ],
             [
              0.5555555555555556,
              "#d8576b"
             ],
             [
              0.6666666666666666,
              "#ed7953"
             ],
             [
              0.7777777777777778,
              "#fb9f3a"
             ],
             [
              0.8888888888888888,
              "#fdca26"
             ],
             [
              1,
              "#f0f921"
             ]
            ],
            "type": "histogram2d"
           }
          ],
          "histogram2dcontour": [
           {
            "colorbar": {
             "outlinewidth": 0,
             "ticks": ""
            },
            "colorscale": [
             [
              0,
              "#0d0887"
             ],
             [
              0.1111111111111111,
              "#46039f"
             ],
             [
              0.2222222222222222,
              "#7201a8"
             ],
             [
              0.3333333333333333,
              "#9c179e"
             ],
             [
              0.4444444444444444,
              "#bd3786"
             ],
             [
              0.5555555555555556,
              "#d8576b"
             ],
             [
              0.6666666666666666,
              "#ed7953"
             ],
             [
              0.7777777777777778,
              "#fb9f3a"
             ],
             [
              0.8888888888888888,
              "#fdca26"
             ],
             [
              1,
              "#f0f921"
             ]
            ],
            "type": "histogram2dcontour"
           }
          ],
          "mesh3d": [
           {
            "colorbar": {
             "outlinewidth": 0,
             "ticks": ""
            },
            "type": "mesh3d"
           }
          ],
          "parcoords": [
           {
            "line": {
             "colorbar": {
              "outlinewidth": 0,
              "ticks": ""
             }
            },
            "type": "parcoords"
           }
          ],
          "pie": [
           {
            "automargin": true,
            "type": "pie"
           }
          ],
          "scatter": [
           {
            "fillpattern": {
             "fillmode": "overlay",
             "size": 10,
             "solidity": 0.2
            },
            "type": "scatter"
           }
          ],
          "scatter3d": [
           {
            "line": {
             "colorbar": {
              "outlinewidth": 0,
              "ticks": ""
             }
            },
            "marker": {
             "colorbar": {
              "outlinewidth": 0,
              "ticks": ""
             }
            },
            "type": "scatter3d"
           }
          ],
          "scattercarpet": [
           {
            "marker": {
             "colorbar": {
              "outlinewidth": 0,
              "ticks": ""
             }
            },
            "type": "scattercarpet"
           }
          ],
          "scattergeo": [
           {
            "marker": {
             "colorbar": {
              "outlinewidth": 0,
              "ticks": ""
             }
            },
            "type": "scattergeo"
           }
          ],
          "scattergl": [
           {
            "marker": {
             "colorbar": {
              "outlinewidth": 0,
              "ticks": ""
             }
            },
            "type": "scattergl"
           }
          ],
          "scattermapbox": [
           {
            "marker": {
             "colorbar": {
              "outlinewidth": 0,
              "ticks": ""
             }
            },
            "type": "scattermapbox"
           }
          ],
          "scatterpolar": [
           {
            "marker": {
             "colorbar": {
              "outlinewidth": 0,
              "ticks": ""
             }
            },
            "type": "scatterpolar"
           }
          ],
          "scatterpolargl": [
           {
            "marker": {
             "colorbar": {
              "outlinewidth": 0,
              "ticks": ""
             }
            },
            "type": "scatterpolargl"
           }
          ],
          "scatterternary": [
           {
            "marker": {
             "colorbar": {
              "outlinewidth": 0,
              "ticks": ""
             }
            },
            "type": "scatterternary"
           }
          ],
          "surface": [
           {
            "colorbar": {
             "outlinewidth": 0,
             "ticks": ""
            },
            "colorscale": [
             [
              0,
              "#0d0887"
             ],
             [
              0.1111111111111111,
              "#46039f"
             ],
             [
              0.2222222222222222,
              "#7201a8"
             ],
             [
              0.3333333333333333,
              "#9c179e"
             ],
             [
              0.4444444444444444,
              "#bd3786"
             ],
             [
              0.5555555555555556,
              "#d8576b"
             ],
             [
              0.6666666666666666,
              "#ed7953"
             ],
             [
              0.7777777777777778,
              "#fb9f3a"
             ],
             [
              0.8888888888888888,
              "#fdca26"
             ],
             [
              1,
              "#f0f921"
             ]
            ],
            "type": "surface"
           }
          ],
          "table": [
           {
            "cells": {
             "fill": {
              "color": "#EBF0F8"
             },
             "line": {
              "color": "white"
             }
            },
            "header": {
             "fill": {
              "color": "#C8D4E3"
             },
             "line": {
              "color": "white"
             }
            },
            "type": "table"
           }
          ]
         },
         "layout": {
          "annotationdefaults": {
           "arrowcolor": "#2a3f5f",
           "arrowhead": 0,
           "arrowwidth": 1
          },
          "autotypenumbers": "strict",
          "coloraxis": {
           "colorbar": {
            "outlinewidth": 0,
            "ticks": ""
           }
          },
          "colorscale": {
           "diverging": [
            [
             0,
             "#8e0152"
            ],
            [
             0.1,
             "#c51b7d"
            ],
            [
             0.2,
             "#de77ae"
            ],
            [
             0.3,
             "#f1b6da"
            ],
            [
             0.4,
             "#fde0ef"
            ],
            [
             0.5,
             "#f7f7f7"
            ],
            [
             0.6,
             "#e6f5d0"
            ],
            [
             0.7,
             "#b8e186"
            ],
            [
             0.8,
             "#7fbc41"
            ],
            [
             0.9,
             "#4d9221"
            ],
            [
             1,
             "#276419"
            ]
           ],
           "sequential": [
            [
             0,
             "#0d0887"
            ],
            [
             0.1111111111111111,
             "#46039f"
            ],
            [
             0.2222222222222222,
             "#7201a8"
            ],
            [
             0.3333333333333333,
             "#9c179e"
            ],
            [
             0.4444444444444444,
             "#bd3786"
            ],
            [
             0.5555555555555556,
             "#d8576b"
            ],
            [
             0.6666666666666666,
             "#ed7953"
            ],
            [
             0.7777777777777778,
             "#fb9f3a"
            ],
            [
             0.8888888888888888,
             "#fdca26"
            ],
            [
             1,
             "#f0f921"
            ]
           ],
           "sequentialminus": [
            [
             0,
             "#0d0887"
            ],
            [
             0.1111111111111111,
             "#46039f"
            ],
            [
             0.2222222222222222,
             "#7201a8"
            ],
            [
             0.3333333333333333,
             "#9c179e"
            ],
            [
             0.4444444444444444,
             "#bd3786"
            ],
            [
             0.5555555555555556,
             "#d8576b"
            ],
            [
             0.6666666666666666,
             "#ed7953"
            ],
            [
             0.7777777777777778,
             "#fb9f3a"
            ],
            [
             0.8888888888888888,
             "#fdca26"
            ],
            [
             1,
             "#f0f921"
            ]
           ]
          },
          "colorway": [
           "#636efa",
           "#EF553B",
           "#00cc96",
           "#ab63fa",
           "#FFA15A",
           "#19d3f3",
           "#FF6692",
           "#B6E880",
           "#FF97FF",
           "#FECB52"
          ],
          "font": {
           "color": "#2a3f5f"
          },
          "geo": {
           "bgcolor": "white",
           "lakecolor": "white",
           "landcolor": "#E5ECF6",
           "showlakes": true,
           "showland": true,
           "subunitcolor": "white"
          },
          "hoverlabel": {
           "align": "left"
          },
          "hovermode": "closest",
          "mapbox": {
           "style": "light"
          },
          "paper_bgcolor": "white",
          "plot_bgcolor": "#E5ECF6",
          "polar": {
           "angularaxis": {
            "gridcolor": "white",
            "linecolor": "white",
            "ticks": ""
           },
           "bgcolor": "#E5ECF6",
           "radialaxis": {
            "gridcolor": "white",
            "linecolor": "white",
            "ticks": ""
           }
          },
          "scene": {
           "xaxis": {
            "backgroundcolor": "#E5ECF6",
            "gridcolor": "white",
            "gridwidth": 2,
            "linecolor": "white",
            "showbackground": true,
            "ticks": "",
            "zerolinecolor": "white"
           },
           "yaxis": {
            "backgroundcolor": "#E5ECF6",
            "gridcolor": "white",
            "gridwidth": 2,
            "linecolor": "white",
            "showbackground": true,
            "ticks": "",
            "zerolinecolor": "white"
           },
           "zaxis": {
            "backgroundcolor": "#E5ECF6",
            "gridcolor": "white",
            "gridwidth": 2,
            "linecolor": "white",
            "showbackground": true,
            "ticks": "",
            "zerolinecolor": "white"
           }
          },
          "shapedefaults": {
           "line": {
            "color": "#2a3f5f"
           }
          },
          "ternary": {
           "aaxis": {
            "gridcolor": "white",
            "linecolor": "white",
            "ticks": ""
           },
           "baxis": {
            "gridcolor": "white",
            "linecolor": "white",
            "ticks": ""
           },
           "bgcolor": "#E5ECF6",
           "caxis": {
            "gridcolor": "white",
            "linecolor": "white",
            "ticks": ""
           }
          },
          "title": {
           "x": 0.05
          },
          "xaxis": {
           "automargin": true,
           "gridcolor": "white",
           "linecolor": "white",
           "ticks": "",
           "title": {
            "standoff": 15
           },
           "zerolinecolor": "white",
           "zerolinewidth": 2
          },
          "yaxis": {
           "automargin": true,
           "gridcolor": "white",
           "linecolor": "white",
           "ticks": "",
           "title": {
            "standoff": 15
           },
           "zerolinecolor": "white",
           "zerolinewidth": 2
          }
         }
        },
        "xaxis": {
         "anchor": "y",
         "domain": [
          0,
          1
         ],
         "title": {
          "text": "Description"
         }
        },
        "yaxis": {
         "anchor": "x",
         "domain": [
          0,
          1
         ],
         "title": {
          "text": "All retailing"
         }
        }
       }
      }
     },
     "metadata": {},
     "output_type": "display_data"
    }
   ],
   "source": [
    "import plotly.express as px # linechart to show value of sales across selected timeline\n",
    "dfb = df1_subset\n",
    "df = px.data.tips()\n",
    "fig = px.line(dfb, x='Description', y='All retailing')  \n",
    "fig.show() "
   ]
  },
  {
   "cell_type": "code",
   "execution_count": 12,
   "metadata": {},
   "outputs": [
    {
     "data": {
      "application/vnd.plotly.v1+json": {
       "config": {
        "plotlyServerURL": "https://plot.ly"
       },
       "data": [
        {
         "hovertemplate": "Description=%{x}<br>All retailing=%{y}<extra></extra>",
         "legendgroup": "",
         "line": {
          "color": "#636efa",
          "dash": "solid"
         },
         "marker": {
          "symbol": "circle"
         },
         "mode": "lines",
         "name": "",
         "orientation": "v",
         "showlegend": false,
         "type": "scatter",
         "x": [
          "2010JAN",
          "2010FEB",
          "2010MAR",
          "2010APR",
          "2010MAY",
          "2010JUN",
          "2010JUL",
          "2010AUG",
          "2010SEP",
          "2010OCT",
          "2010NOV",
          "2010DEC",
          "2011JAN",
          "2011FEB",
          "2011MAR",
          "2011APR",
          "2011MAY",
          "2011JUN",
          "2011JUL",
          "2011AUG",
          "2011SEP",
          "2011OCT",
          "2011NOV",
          "2011DEC",
          "2012JAN",
          "2012FEB",
          "2012MAR",
          "2012APR",
          "2012MAY",
          "2012JUN",
          "2012JUL",
          "2012AUG",
          "2012SEP",
          "2012OCT",
          "2012NOV",
          "2012DEC",
          "2013JAN",
          "2013FEB",
          "2013MAR",
          "2013APR",
          "2013MAY",
          "2013JUN",
          "2013JUL",
          "2013AUG",
          "2013SEP",
          "2013OCT",
          "2013NOV",
          "2013DEC",
          "2014JAN",
          "2014FEB",
          "2014MAR",
          "2014APR",
          "2014MAY",
          "2014JUN",
          "2014JUL",
          "2014AUG",
          "2014SEP",
          "2014OCT",
          "2014NOV",
          "2014DEC",
          "2015JAN",
          "2015FEB",
          "2015MAR",
          "2015APR",
          "2015MAY",
          "2015JUN",
          "2015JUL",
          "2015AUG",
          "2015SEP",
          "2015OCT",
          "2015NOV",
          "2015DEC",
          "2016JAN",
          "2016FEB",
          "2016MAR",
          "2016APR",
          "2016MAY",
          "2016JUN",
          "2016JUL",
          "2016AUG",
          "2016SEP",
          "2016OCT",
          "2016NOV",
          "2016DEC",
          "2017JAN",
          "2017FEB",
          "2017MAR",
          "2017APR",
          "2017MAY",
          "2017JUN",
          "2017JUL",
          "2017AUG",
          "2017SEP",
          "2017OCT",
          "2017NOV",
          "2017DEC",
          "2018JAN",
          "2018FEB",
          "2018MAR",
          "2018APR",
          "2018MAY",
          "2018JUN",
          "2018JUL",
          "2018AUG",
          "2018SEP",
          "2018OCT",
          "2018NOV",
          "2018DEC",
          "2019JAN",
          "2019FEB",
          "2019MAR",
          "2019APR",
          "2019MAY",
          "2019JUN",
          "2019JUL",
          "2019AUG",
          "2019SEP",
          "2019OCT",
          "2019NOV",
          "2019DEC",
          "2020JAN",
          "2020FEB",
          "2020MAR",
          "2020APR",
          "2020MAY",
          "2020JUN",
          "2020JUL",
          "2020AUG",
          "2020SEP",
          "2020OCT",
          "2020NOV",
          "2020DEC",
          "2021JAN",
          "2021FEB",
          "2021MAR",
          "2021APR",
          "2021MAY",
          "2021JUN",
          "2021JUL",
          "2021AUG",
          "2021SEP",
          "2021OCT",
          "2021NOV",
          "2021DEC",
          "2022JAN",
          "2022FEB"
         ],
         "xaxis": "x",
         "y": [
          1429675,
          1494178,
          1853402,
          1541298,
          1562931,
          1946540,
          1643955,
          1735105,
          2153926,
          1794605,
          1825268,
          2304639,
          1880244,
          1807304,
          2264697,
          1813973,
          1833598,
          2381299,
          1949247,
          1962614,
          2526450,
          2009595,
          2113841,
          2590154,
          2107837,
          2171458,
          2688862,
          2200900,
          2280143,
          2721155,
          2322085,
          2142246,
          2812117,
          2237273,
          2246125,
          3049560,
          2425241,
          2470559,
          3204812,
          2508558,
          2523595,
          3200709,
          2564515,
          2619690,
          3316726,
          2656346,
          2650555,
          3294105,
          3321976,
          2790547,
          3508538,
          2875104,
          2936227,
          3657758,
          2945717,
          2986694,
          3654210,
          2985734,
          3025985,
          3883692,
          3120171,
          3117593,
          3944714,
          3260720,
          3180609,
          4125882,
          3318613,
          3237653,
          4187344,
          3348561,
          3458143,
          4374672,
          3625237,
          3562427,
          4463437,
          3728021,
          3835469,
          4860248,
          3937760,
          4029259,
          5314150,
          4387754,
          4453600,
          5479942,
          4279280,
          4341230,
          5470926,
          4500924,
          4416776,
          5729663,
          4644912,
          4731242,
          5992658,
          4772641,
          4863611,
          6197666,
          4870265,
          4987991,
          6337732,
          5091436,
          5360377,
          6611377,
          5381861,
          5394877,
          6739607,
          5408373,
          5506854,
          6892598,
          5558356,
          5656326,
          7174287,
          5790753,
          5804254,
          7124100,
          6114114,
          5997269,
          7338805,
          5899943,
          5718776,
          7366505,
          7405682,
          6034975,
          8167377,
          7806532,
          9376638,
          12548487,
          9549576,
          9344042,
          11511586,
          9777552,
          10204375,
          11867521,
          10530710,
          11258708,
          13591034,
          10217527,
          9664194,
          11928822,
          9403366,
          9557216,
          12023737,
          9566557,
          9481485,
          11813749,
          9279541,
          9216920
         ],
         "yaxis": "y"
        }
       ],
       "layout": {
        "legend": {
         "tracegroupgap": 0
        },
        "margin": {
         "t": 60
        },
        "template": {
         "data": {
          "bar": [
           {
            "error_x": {
             "color": "#2a3f5f"
            },
            "error_y": {
             "color": "#2a3f5f"
            },
            "marker": {
             "line": {
              "color": "#E5ECF6",
              "width": 0.5
             },
             "pattern": {
              "fillmode": "overlay",
              "size": 10,
              "solidity": 0.2
             }
            },
            "type": "bar"
           }
          ],
          "barpolar": [
           {
            "marker": {
             "line": {
              "color": "#E5ECF6",
              "width": 0.5
             },
             "pattern": {
              "fillmode": "overlay",
              "size": 10,
              "solidity": 0.2
             }
            },
            "type": "barpolar"
           }
          ],
          "carpet": [
           {
            "aaxis": {
             "endlinecolor": "#2a3f5f",
             "gridcolor": "white",
             "linecolor": "white",
             "minorgridcolor": "white",
             "startlinecolor": "#2a3f5f"
            },
            "baxis": {
             "endlinecolor": "#2a3f5f",
             "gridcolor": "white",
             "linecolor": "white",
             "minorgridcolor": "white",
             "startlinecolor": "#2a3f5f"
            },
            "type": "carpet"
           }
          ],
          "choropleth": [
           {
            "colorbar": {
             "outlinewidth": 0,
             "ticks": ""
            },
            "type": "choropleth"
           }
          ],
          "contour": [
           {
            "colorbar": {
             "outlinewidth": 0,
             "ticks": ""
            },
            "colorscale": [
             [
              0,
              "#0d0887"
             ],
             [
              0.1111111111111111,
              "#46039f"
             ],
             [
              0.2222222222222222,
              "#7201a8"
             ],
             [
              0.3333333333333333,
              "#9c179e"
             ],
             [
              0.4444444444444444,
              "#bd3786"
             ],
             [
              0.5555555555555556,
              "#d8576b"
             ],
             [
              0.6666666666666666,
              "#ed7953"
             ],
             [
              0.7777777777777778,
              "#fb9f3a"
             ],
             [
              0.8888888888888888,
              "#fdca26"
             ],
             [
              1,
              "#f0f921"
             ]
            ],
            "type": "contour"
           }
          ],
          "contourcarpet": [
           {
            "colorbar": {
             "outlinewidth": 0,
             "ticks": ""
            },
            "type": "contourcarpet"
           }
          ],
          "heatmap": [
           {
            "colorbar": {
             "outlinewidth": 0,
             "ticks": ""
            },
            "colorscale": [
             [
              0,
              "#0d0887"
             ],
             [
              0.1111111111111111,
              "#46039f"
             ],
             [
              0.2222222222222222,
              "#7201a8"
             ],
             [
              0.3333333333333333,
              "#9c179e"
             ],
             [
              0.4444444444444444,
              "#bd3786"
             ],
             [
              0.5555555555555556,
              "#d8576b"
             ],
             [
              0.6666666666666666,
              "#ed7953"
             ],
             [
              0.7777777777777778,
              "#fb9f3a"
             ],
             [
              0.8888888888888888,
              "#fdca26"
             ],
             [
              1,
              "#f0f921"
             ]
            ],
            "type": "heatmap"
           }
          ],
          "heatmapgl": [
           {
            "colorbar": {
             "outlinewidth": 0,
             "ticks": ""
            },
            "colorscale": [
             [
              0,
              "#0d0887"
             ],
             [
              0.1111111111111111,
              "#46039f"
             ],
             [
              0.2222222222222222,
              "#7201a8"
             ],
             [
              0.3333333333333333,
              "#9c179e"
             ],
             [
              0.4444444444444444,
              "#bd3786"
             ],
             [
              0.5555555555555556,
              "#d8576b"
             ],
             [
              0.6666666666666666,
              "#ed7953"
             ],
             [
              0.7777777777777778,
              "#fb9f3a"
             ],
             [
              0.8888888888888888,
              "#fdca26"
             ],
             [
              1,
              "#f0f921"
             ]
            ],
            "type": "heatmapgl"
           }
          ],
          "histogram": [
           {
            "marker": {
             "pattern": {
              "fillmode": "overlay",
              "size": 10,
              "solidity": 0.2
             }
            },
            "type": "histogram"
           }
          ],
          "histogram2d": [
           {
            "colorbar": {
             "outlinewidth": 0,
             "ticks": ""
            },
            "colorscale": [
             [
              0,
              "#0d0887"
             ],
             [
              0.1111111111111111,
              "#46039f"
             ],
             [
              0.2222222222222222,
              "#7201a8"
             ],
             [
              0.3333333333333333,
              "#9c179e"
             ],
             [
              0.4444444444444444,
              "#bd3786"
             ],
             [
              0.5555555555555556,
              "#d8576b"
             ],
             [
              0.6666666666666666,
              "#ed7953"
             ],
             [
              0.7777777777777778,
              "#fb9f3a"
             ],
             [
              0.8888888888888888,
              "#fdca26"
             ],
             [
              1,
              "#f0f921"
             ]
            ],
            "type": "histogram2d"
           }
          ],
          "histogram2dcontour": [
           {
            "colorbar": {
             "outlinewidth": 0,
             "ticks": ""
            },
            "colorscale": [
             [
              0,
              "#0d0887"
             ],
             [
              0.1111111111111111,
              "#46039f"
             ],
             [
              0.2222222222222222,
              "#7201a8"
             ],
             [
              0.3333333333333333,
              "#9c179e"
             ],
             [
              0.4444444444444444,
              "#bd3786"
             ],
             [
              0.5555555555555556,
              "#d8576b"
             ],
             [
              0.6666666666666666,
              "#ed7953"
             ],
             [
              0.7777777777777778,
              "#fb9f3a"
             ],
             [
              0.8888888888888888,
              "#fdca26"
             ],
             [
              1,
              "#f0f921"
             ]
            ],
            "type": "histogram2dcontour"
           }
          ],
          "mesh3d": [
           {
            "colorbar": {
             "outlinewidth": 0,
             "ticks": ""
            },
            "type": "mesh3d"
           }
          ],
          "parcoords": [
           {
            "line": {
             "colorbar": {
              "outlinewidth": 0,
              "ticks": ""
             }
            },
            "type": "parcoords"
           }
          ],
          "pie": [
           {
            "automargin": true,
            "type": "pie"
           }
          ],
          "scatter": [
           {
            "fillpattern": {
             "fillmode": "overlay",
             "size": 10,
             "solidity": 0.2
            },
            "type": "scatter"
           }
          ],
          "scatter3d": [
           {
            "line": {
             "colorbar": {
              "outlinewidth": 0,
              "ticks": ""
             }
            },
            "marker": {
             "colorbar": {
              "outlinewidth": 0,
              "ticks": ""
             }
            },
            "type": "scatter3d"
           }
          ],
          "scattercarpet": [
           {
            "marker": {
             "colorbar": {
              "outlinewidth": 0,
              "ticks": ""
             }
            },
            "type": "scattercarpet"
           }
          ],
          "scattergeo": [
           {
            "marker": {
             "colorbar": {
              "outlinewidth": 0,
              "ticks": ""
             }
            },
            "type": "scattergeo"
           }
          ],
          "scattergl": [
           {
            "marker": {
             "colorbar": {
              "outlinewidth": 0,
              "ticks": ""
             }
            },
            "type": "scattergl"
           }
          ],
          "scattermapbox": [
           {
            "marker": {
             "colorbar": {
              "outlinewidth": 0,
              "ticks": ""
             }
            },
            "type": "scattermapbox"
           }
          ],
          "scatterpolar": [
           {
            "marker": {
             "colorbar": {
              "outlinewidth": 0,
              "ticks": ""
             }
            },
            "type": "scatterpolar"
           }
          ],
          "scatterpolargl": [
           {
            "marker": {
             "colorbar": {
              "outlinewidth": 0,
              "ticks": ""
             }
            },
            "type": "scatterpolargl"
           }
          ],
          "scatterternary": [
           {
            "marker": {
             "colorbar": {
              "outlinewidth": 0,
              "ticks": ""
             }
            },
            "type": "scatterternary"
           }
          ],
          "surface": [
           {
            "colorbar": {
             "outlinewidth": 0,
             "ticks": ""
            },
            "colorscale": [
             [
              0,
              "#0d0887"
             ],
             [
              0.1111111111111111,
              "#46039f"
             ],
             [
              0.2222222222222222,
              "#7201a8"
             ],
             [
              0.3333333333333333,
              "#9c179e"
             ],
             [
              0.4444444444444444,
              "#bd3786"
             ],
             [
              0.5555555555555556,
              "#d8576b"
             ],
             [
              0.6666666666666666,
              "#ed7953"
             ],
             [
              0.7777777777777778,
              "#fb9f3a"
             ],
             [
              0.8888888888888888,
              "#fdca26"
             ],
             [
              1,
              "#f0f921"
             ]
            ],
            "type": "surface"
           }
          ],
          "table": [
           {
            "cells": {
             "fill": {
              "color": "#EBF0F8"
             },
             "line": {
              "color": "white"
             }
            },
            "header": {
             "fill": {
              "color": "#C8D4E3"
             },
             "line": {
              "color": "white"
             }
            },
            "type": "table"
           }
          ]
         },
         "layout": {
          "annotationdefaults": {
           "arrowcolor": "#2a3f5f",
           "arrowhead": 0,
           "arrowwidth": 1
          },
          "autotypenumbers": "strict",
          "coloraxis": {
           "colorbar": {
            "outlinewidth": 0,
            "ticks": ""
           }
          },
          "colorscale": {
           "diverging": [
            [
             0,
             "#8e0152"
            ],
            [
             0.1,
             "#c51b7d"
            ],
            [
             0.2,
             "#de77ae"
            ],
            [
             0.3,
             "#f1b6da"
            ],
            [
             0.4,
             "#fde0ef"
            ],
            [
             0.5,
             "#f7f7f7"
            ],
            [
             0.6,
             "#e6f5d0"
            ],
            [
             0.7,
             "#b8e186"
            ],
            [
             0.8,
             "#7fbc41"
            ],
            [
             0.9,
             "#4d9221"
            ],
            [
             1,
             "#276419"
            ]
           ],
           "sequential": [
            [
             0,
             "#0d0887"
            ],
            [
             0.1111111111111111,
             "#46039f"
            ],
            [
             0.2222222222222222,
             "#7201a8"
            ],
            [
             0.3333333333333333,
             "#9c179e"
            ],
            [
             0.4444444444444444,
             "#bd3786"
            ],
            [
             0.5555555555555556,
             "#d8576b"
            ],
            [
             0.6666666666666666,
             "#ed7953"
            ],
            [
             0.7777777777777778,
             "#fb9f3a"
            ],
            [
             0.8888888888888888,
             "#fdca26"
            ],
            [
             1,
             "#f0f921"
            ]
           ],
           "sequentialminus": [
            [
             0,
             "#0d0887"
            ],
            [
             0.1111111111111111,
             "#46039f"
            ],
            [
             0.2222222222222222,
             "#7201a8"
            ],
            [
             0.3333333333333333,
             "#9c179e"
            ],
            [
             0.4444444444444444,
             "#bd3786"
            ],
            [
             0.5555555555555556,
             "#d8576b"
            ],
            [
             0.6666666666666666,
             "#ed7953"
            ],
            [
             0.7777777777777778,
             "#fb9f3a"
            ],
            [
             0.8888888888888888,
             "#fdca26"
            ],
            [
             1,
             "#f0f921"
            ]
           ]
          },
          "colorway": [
           "#636efa",
           "#EF553B",
           "#00cc96",
           "#ab63fa",
           "#FFA15A",
           "#19d3f3",
           "#FF6692",
           "#B6E880",
           "#FF97FF",
           "#FECB52"
          ],
          "font": {
           "color": "#2a3f5f"
          },
          "geo": {
           "bgcolor": "white",
           "lakecolor": "white",
           "landcolor": "#E5ECF6",
           "showlakes": true,
           "showland": true,
           "subunitcolor": "white"
          },
          "hoverlabel": {
           "align": "left"
          },
          "hovermode": "closest",
          "mapbox": {
           "style": "light"
          },
          "paper_bgcolor": "white",
          "plot_bgcolor": "#E5ECF6",
          "polar": {
           "angularaxis": {
            "gridcolor": "white",
            "linecolor": "white",
            "ticks": ""
           },
           "bgcolor": "#E5ECF6",
           "radialaxis": {
            "gridcolor": "white",
            "linecolor": "white",
            "ticks": ""
           }
          },
          "scene": {
           "xaxis": {
            "backgroundcolor": "#E5ECF6",
            "gridcolor": "white",
            "gridwidth": 2,
            "linecolor": "white",
            "showbackground": true,
            "ticks": "",
            "zerolinecolor": "white"
           },
           "yaxis": {
            "backgroundcolor": "#E5ECF6",
            "gridcolor": "white",
            "gridwidth": 2,
            "linecolor": "white",
            "showbackground": true,
            "ticks": "",
            "zerolinecolor": "white"
           },
           "zaxis": {
            "backgroundcolor": "#E5ECF6",
            "gridcolor": "white",
            "gridwidth": 2,
            "linecolor": "white",
            "showbackground": true,
            "ticks": "",
            "zerolinecolor": "white"
           }
          },
          "shapedefaults": {
           "line": {
            "color": "#2a3f5f"
           }
          },
          "ternary": {
           "aaxis": {
            "gridcolor": "white",
            "linecolor": "white",
            "ticks": ""
           },
           "baxis": {
            "gridcolor": "white",
            "linecolor": "white",
            "ticks": ""
           },
           "bgcolor": "#E5ECF6",
           "caxis": {
            "gridcolor": "white",
            "linecolor": "white",
            "ticks": ""
           }
          },
          "title": {
           "x": 0.05
          },
          "xaxis": {
           "automargin": true,
           "gridcolor": "white",
           "linecolor": "white",
           "ticks": "",
           "title": {
            "standoff": 15
           },
           "zerolinecolor": "white",
           "zerolinewidth": 2
          },
          "yaxis": {
           "automargin": true,
           "gridcolor": "white",
           "linecolor": "white",
           "ticks": "",
           "title": {
            "standoff": 15
           },
           "zerolinecolor": "white",
           "zerolinewidth": 2
          }
         }
        },
        "xaxis": {
         "anchor": "y",
         "domain": [
          0,
          1
         ],
         "title": {
          "text": "Description"
         }
        },
        "yaxis": {
         "anchor": "x",
         "domain": [
          0,
          1
         ],
         "title": {
          "text": "All retailing"
         }
        }
       }
      }
     },
     "metadata": {},
     "output_type": "display_data"
    }
   ],
   "source": [
    "import plotly.express as px # linechart to show value of sales across selected timeline\n",
    "dfb = df1_subset\n",
    "df = px.data.tips()\n",
    "fig = px.line(dfb, x='Description', y='All retailing')  \n",
    "fig.show() "
   ]
  },
  {
   "cell_type": "code",
   "execution_count": 13,
   "metadata": {},
   "outputs": [
    {
     "data": {
      "application/vnd.plotly.v1+json": {
       "config": {
        "plotlyServerURL": "https://plot.ly"
       },
       "data": [
        {
         "hovertemplate": "Description=%{x}<br>All retailing=%{y}<extra></extra>",
         "legendgroup": "",
         "line": {
          "color": "#636efa",
          "dash": "solid"
         },
         "marker": {
          "symbol": "circle"
         },
         "mode": "lines",
         "name": "",
         "orientation": "v",
         "showlegend": false,
         "type": "scatter",
         "x": [
          "2010JAN",
          "2010FEB",
          "2010MAR",
          "2010APR",
          "2010MAY",
          "2010JUN",
          "2010JUL",
          "2010AUG",
          "2010SEP",
          "2010OCT",
          "2010NOV",
          "2010DEC",
          "2011JAN",
          "2011FEB",
          "2011MAR",
          "2011APR",
          "2011MAY",
          "2011JUN",
          "2011JUL",
          "2011AUG",
          "2011SEP",
          "2011OCT",
          "2011NOV",
          "2011DEC",
          "2012JAN",
          "2012FEB",
          "2012MAR",
          "2012APR",
          "2012MAY",
          "2012JUN",
          "2012JUL",
          "2012AUG",
          "2012SEP",
          "2012OCT",
          "2012NOV",
          "2012DEC",
          "2013JAN",
          "2013FEB",
          "2013MAR",
          "2013APR",
          "2013MAY",
          "2013JUN",
          "2013JUL",
          "2013AUG",
          "2013SEP",
          "2013OCT",
          "2013NOV",
          "2013DEC",
          "2014JAN",
          "2014FEB",
          "2014MAR",
          "2014APR",
          "2014MAY",
          "2014JUN",
          "2014JUL",
          "2014AUG",
          "2014SEP",
          "2014OCT",
          "2014NOV",
          "2014DEC",
          "2015JAN",
          "2015FEB",
          "2015MAR",
          "2015APR",
          "2015MAY",
          "2015JUN",
          "2015JUL",
          "2015AUG",
          "2015SEP",
          "2015OCT",
          "2015NOV",
          "2015DEC",
          "2016JAN",
          "2016FEB",
          "2016MAR",
          "2016APR",
          "2016MAY",
          "2016JUN",
          "2016JUL",
          "2016AUG",
          "2016SEP",
          "2016OCT",
          "2016NOV",
          "2016DEC",
          "2017JAN",
          "2017FEB",
          "2017MAR",
          "2017APR",
          "2017MAY",
          "2017JUN",
          "2017JUL",
          "2017AUG",
          "2017SEP",
          "2017OCT",
          "2017NOV",
          "2017DEC",
          "2018JAN",
          "2018FEB",
          "2018MAR",
          "2018APR",
          "2018MAY",
          "2018JUN",
          "2018JUL",
          "2018AUG",
          "2018SEP",
          "2018OCT",
          "2018NOV",
          "2018DEC",
          "2019JAN",
          "2019FEB",
          "2019MAR",
          "2019APR",
          "2019MAY",
          "2019JUN",
          "2019JUL",
          "2019AUG",
          "2019SEP",
          "2019OCT",
          "2019NOV",
          "2019DEC"
         ],
         "xaxis": "x",
         "y": [
          1429675,
          1494178,
          1853402,
          1541298,
          1562931,
          1946540,
          1643955,
          1735105,
          2153926,
          1794605,
          1825268,
          2304639,
          1880244,
          1807304,
          2264697,
          1813973,
          1833598,
          2381299,
          1949247,
          1962614,
          2526450,
          2009595,
          2113841,
          2590154,
          2107837,
          2171458,
          2688862,
          2200900,
          2280143,
          2721155,
          2322085,
          2142246,
          2812117,
          2237273,
          2246125,
          3049560,
          2425241,
          2470559,
          3204812,
          2508558,
          2523595,
          3200709,
          2564515,
          2619690,
          3316726,
          2656346,
          2650555,
          3294105,
          3321976,
          2790547,
          3508538,
          2875104,
          2936227,
          3657758,
          2945717,
          2986694,
          3654210,
          2985734,
          3025985,
          3883692,
          3120171,
          3117593,
          3944714,
          3260720,
          3180609,
          4125882,
          3318613,
          3237653,
          4187344,
          3348561,
          3458143,
          4374672,
          3625237,
          3562427,
          4463437,
          3728021,
          3835469,
          4860248,
          3937760,
          4029259,
          5314150,
          4387754,
          4453600,
          5479942,
          4279280,
          4341230,
          5470926,
          4500924,
          4416776,
          5729663,
          4644912,
          4731242,
          5992658,
          4772641,
          4863611,
          6197666,
          4870265,
          4987991,
          6337732,
          5091436,
          5360377,
          6611377,
          5381861,
          5394877,
          6739607,
          5408373,
          5506854,
          6892598,
          5558356,
          5656326,
          7174287,
          5790753,
          5804254,
          7124100,
          6114114,
          5997269,
          7338805,
          5899943,
          5718776,
          7366505
         ],
         "yaxis": "y"
        }
       ],
       "layout": {
        "legend": {
         "tracegroupgap": 0
        },
        "margin": {
         "t": 60
        },
        "template": {
         "data": {
          "bar": [
           {
            "error_x": {
             "color": "#2a3f5f"
            },
            "error_y": {
             "color": "#2a3f5f"
            },
            "marker": {
             "line": {
              "color": "#E5ECF6",
              "width": 0.5
             },
             "pattern": {
              "fillmode": "overlay",
              "size": 10,
              "solidity": 0.2
             }
            },
            "type": "bar"
           }
          ],
          "barpolar": [
           {
            "marker": {
             "line": {
              "color": "#E5ECF6",
              "width": 0.5
             },
             "pattern": {
              "fillmode": "overlay",
              "size": 10,
              "solidity": 0.2
             }
            },
            "type": "barpolar"
           }
          ],
          "carpet": [
           {
            "aaxis": {
             "endlinecolor": "#2a3f5f",
             "gridcolor": "white",
             "linecolor": "white",
             "minorgridcolor": "white",
             "startlinecolor": "#2a3f5f"
            },
            "baxis": {
             "endlinecolor": "#2a3f5f",
             "gridcolor": "white",
             "linecolor": "white",
             "minorgridcolor": "white",
             "startlinecolor": "#2a3f5f"
            },
            "type": "carpet"
           }
          ],
          "choropleth": [
           {
            "colorbar": {
             "outlinewidth": 0,
             "ticks": ""
            },
            "type": "choropleth"
           }
          ],
          "contour": [
           {
            "colorbar": {
             "outlinewidth": 0,
             "ticks": ""
            },
            "colorscale": [
             [
              0,
              "#0d0887"
             ],
             [
              0.1111111111111111,
              "#46039f"
             ],
             [
              0.2222222222222222,
              "#7201a8"
             ],
             [
              0.3333333333333333,
              "#9c179e"
             ],
             [
              0.4444444444444444,
              "#bd3786"
             ],
             [
              0.5555555555555556,
              "#d8576b"
             ],
             [
              0.6666666666666666,
              "#ed7953"
             ],
             [
              0.7777777777777778,
              "#fb9f3a"
             ],
             [
              0.8888888888888888,
              "#fdca26"
             ],
             [
              1,
              "#f0f921"
             ]
            ],
            "type": "contour"
           }
          ],
          "contourcarpet": [
           {
            "colorbar": {
             "outlinewidth": 0,
             "ticks": ""
            },
            "type": "contourcarpet"
           }
          ],
          "heatmap": [
           {
            "colorbar": {
             "outlinewidth": 0,
             "ticks": ""
            },
            "colorscale": [
             [
              0,
              "#0d0887"
             ],
             [
              0.1111111111111111,
              "#46039f"
             ],
             [
              0.2222222222222222,
              "#7201a8"
             ],
             [
              0.3333333333333333,
              "#9c179e"
             ],
             [
              0.4444444444444444,
              "#bd3786"
             ],
             [
              0.5555555555555556,
              "#d8576b"
             ],
             [
              0.6666666666666666,
              "#ed7953"
             ],
             [
              0.7777777777777778,
              "#fb9f3a"
             ],
             [
              0.8888888888888888,
              "#fdca26"
             ],
             [
              1,
              "#f0f921"
             ]
            ],
            "type": "heatmap"
           }
          ],
          "heatmapgl": [
           {
            "colorbar": {
             "outlinewidth": 0,
             "ticks": ""
            },
            "colorscale": [
             [
              0,
              "#0d0887"
             ],
             [
              0.1111111111111111,
              "#46039f"
             ],
             [
              0.2222222222222222,
              "#7201a8"
             ],
             [
              0.3333333333333333,
              "#9c179e"
             ],
             [
              0.4444444444444444,
              "#bd3786"
             ],
             [
              0.5555555555555556,
              "#d8576b"
             ],
             [
              0.6666666666666666,
              "#ed7953"
             ],
             [
              0.7777777777777778,
              "#fb9f3a"
             ],
             [
              0.8888888888888888,
              "#fdca26"
             ],
             [
              1,
              "#f0f921"
             ]
            ],
            "type": "heatmapgl"
           }
          ],
          "histogram": [
           {
            "marker": {
             "pattern": {
              "fillmode": "overlay",
              "size": 10,
              "solidity": 0.2
             }
            },
            "type": "histogram"
           }
          ],
          "histogram2d": [
           {
            "colorbar": {
             "outlinewidth": 0,
             "ticks": ""
            },
            "colorscale": [
             [
              0,
              "#0d0887"
             ],
             [
              0.1111111111111111,
              "#46039f"
             ],
             [
              0.2222222222222222,
              "#7201a8"
             ],
             [
              0.3333333333333333,
              "#9c179e"
             ],
             [
              0.4444444444444444,
              "#bd3786"
             ],
             [
              0.5555555555555556,
              "#d8576b"
             ],
             [
              0.6666666666666666,
              "#ed7953"
             ],
             [
              0.7777777777777778,
              "#fb9f3a"
             ],
             [
              0.8888888888888888,
              "#fdca26"
             ],
             [
              1,
              "#f0f921"
             ]
            ],
            "type": "histogram2d"
           }
          ],
          "histogram2dcontour": [
           {
            "colorbar": {
             "outlinewidth": 0,
             "ticks": ""
            },
            "colorscale": [
             [
              0,
              "#0d0887"
             ],
             [
              0.1111111111111111,
              "#46039f"
             ],
             [
              0.2222222222222222,
              "#7201a8"
             ],
             [
              0.3333333333333333,
              "#9c179e"
             ],
             [
              0.4444444444444444,
              "#bd3786"
             ],
             [
              0.5555555555555556,
              "#d8576b"
             ],
             [
              0.6666666666666666,
              "#ed7953"
             ],
             [
              0.7777777777777778,
              "#fb9f3a"
             ],
             [
              0.8888888888888888,
              "#fdca26"
             ],
             [
              1,
              "#f0f921"
             ]
            ],
            "type": "histogram2dcontour"
           }
          ],
          "mesh3d": [
           {
            "colorbar": {
             "outlinewidth": 0,
             "ticks": ""
            },
            "type": "mesh3d"
           }
          ],
          "parcoords": [
           {
            "line": {
             "colorbar": {
              "outlinewidth": 0,
              "ticks": ""
             }
            },
            "type": "parcoords"
           }
          ],
          "pie": [
           {
            "automargin": true,
            "type": "pie"
           }
          ],
          "scatter": [
           {
            "fillpattern": {
             "fillmode": "overlay",
             "size": 10,
             "solidity": 0.2
            },
            "type": "scatter"
           }
          ],
          "scatter3d": [
           {
            "line": {
             "colorbar": {
              "outlinewidth": 0,
              "ticks": ""
             }
            },
            "marker": {
             "colorbar": {
              "outlinewidth": 0,
              "ticks": ""
             }
            },
            "type": "scatter3d"
           }
          ],
          "scattercarpet": [
           {
            "marker": {
             "colorbar": {
              "outlinewidth": 0,
              "ticks": ""
             }
            },
            "type": "scattercarpet"
           }
          ],
          "scattergeo": [
           {
            "marker": {
             "colorbar": {
              "outlinewidth": 0,
              "ticks": ""
             }
            },
            "type": "scattergeo"
           }
          ],
          "scattergl": [
           {
            "marker": {
             "colorbar": {
              "outlinewidth": 0,
              "ticks": ""
             }
            },
            "type": "scattergl"
           }
          ],
          "scattermapbox": [
           {
            "marker": {
             "colorbar": {
              "outlinewidth": 0,
              "ticks": ""
             }
            },
            "type": "scattermapbox"
           }
          ],
          "scatterpolar": [
           {
            "marker": {
             "colorbar": {
              "outlinewidth": 0,
              "ticks": ""
             }
            },
            "type": "scatterpolar"
           }
          ],
          "scatterpolargl": [
           {
            "marker": {
             "colorbar": {
              "outlinewidth": 0,
              "ticks": ""
             }
            },
            "type": "scatterpolargl"
           }
          ],
          "scatterternary": [
           {
            "marker": {
             "colorbar": {
              "outlinewidth": 0,
              "ticks": ""
             }
            },
            "type": "scatterternary"
           }
          ],
          "surface": [
           {
            "colorbar": {
             "outlinewidth": 0,
             "ticks": ""
            },
            "colorscale": [
             [
              0,
              "#0d0887"
             ],
             [
              0.1111111111111111,
              "#46039f"
             ],
             [
              0.2222222222222222,
              "#7201a8"
             ],
             [
              0.3333333333333333,
              "#9c179e"
             ],
             [
              0.4444444444444444,
              "#bd3786"
             ],
             [
              0.5555555555555556,
              "#d8576b"
             ],
             [
              0.6666666666666666,
              "#ed7953"
             ],
             [
              0.7777777777777778,
              "#fb9f3a"
             ],
             [
              0.8888888888888888,
              "#fdca26"
             ],
             [
              1,
              "#f0f921"
             ]
            ],
            "type": "surface"
           }
          ],
          "table": [
           {
            "cells": {
             "fill": {
              "color": "#EBF0F8"
             },
             "line": {
              "color": "white"
             }
            },
            "header": {
             "fill": {
              "color": "#C8D4E3"
             },
             "line": {
              "color": "white"
             }
            },
            "type": "table"
           }
          ]
         },
         "layout": {
          "annotationdefaults": {
           "arrowcolor": "#2a3f5f",
           "arrowhead": 0,
           "arrowwidth": 1
          },
          "autotypenumbers": "strict",
          "coloraxis": {
           "colorbar": {
            "outlinewidth": 0,
            "ticks": ""
           }
          },
          "colorscale": {
           "diverging": [
            [
             0,
             "#8e0152"
            ],
            [
             0.1,
             "#c51b7d"
            ],
            [
             0.2,
             "#de77ae"
            ],
            [
             0.3,
             "#f1b6da"
            ],
            [
             0.4,
             "#fde0ef"
            ],
            [
             0.5,
             "#f7f7f7"
            ],
            [
             0.6,
             "#e6f5d0"
            ],
            [
             0.7,
             "#b8e186"
            ],
            [
             0.8,
             "#7fbc41"
            ],
            [
             0.9,
             "#4d9221"
            ],
            [
             1,
             "#276419"
            ]
           ],
           "sequential": [
            [
             0,
             "#0d0887"
            ],
            [
             0.1111111111111111,
             "#46039f"
            ],
            [
             0.2222222222222222,
             "#7201a8"
            ],
            [
             0.3333333333333333,
             "#9c179e"
            ],
            [
             0.4444444444444444,
             "#bd3786"
            ],
            [
             0.5555555555555556,
             "#d8576b"
            ],
            [
             0.6666666666666666,
             "#ed7953"
            ],
            [
             0.7777777777777778,
             "#fb9f3a"
            ],
            [
             0.8888888888888888,
             "#fdca26"
            ],
            [
             1,
             "#f0f921"
            ]
           ],
           "sequentialminus": [
            [
             0,
             "#0d0887"
            ],
            [
             0.1111111111111111,
             "#46039f"
            ],
            [
             0.2222222222222222,
             "#7201a8"
            ],
            [
             0.3333333333333333,
             "#9c179e"
            ],
            [
             0.4444444444444444,
             "#bd3786"
            ],
            [
             0.5555555555555556,
             "#d8576b"
            ],
            [
             0.6666666666666666,
             "#ed7953"
            ],
            [
             0.7777777777777778,
             "#fb9f3a"
            ],
            [
             0.8888888888888888,
             "#fdca26"
            ],
            [
             1,
             "#f0f921"
            ]
           ]
          },
          "colorway": [
           "#636efa",
           "#EF553B",
           "#00cc96",
           "#ab63fa",
           "#FFA15A",
           "#19d3f3",
           "#FF6692",
           "#B6E880",
           "#FF97FF",
           "#FECB52"
          ],
          "font": {
           "color": "#2a3f5f"
          },
          "geo": {
           "bgcolor": "white",
           "lakecolor": "white",
           "landcolor": "#E5ECF6",
           "showlakes": true,
           "showland": true,
           "subunitcolor": "white"
          },
          "hoverlabel": {
           "align": "left"
          },
          "hovermode": "closest",
          "mapbox": {
           "style": "light"
          },
          "paper_bgcolor": "white",
          "plot_bgcolor": "#E5ECF6",
          "polar": {
           "angularaxis": {
            "gridcolor": "white",
            "linecolor": "white",
            "ticks": ""
           },
           "bgcolor": "#E5ECF6",
           "radialaxis": {
            "gridcolor": "white",
            "linecolor": "white",
            "ticks": ""
           }
          },
          "scene": {
           "xaxis": {
            "backgroundcolor": "#E5ECF6",
            "gridcolor": "white",
            "gridwidth": 2,
            "linecolor": "white",
            "showbackground": true,
            "ticks": "",
            "zerolinecolor": "white"
           },
           "yaxis": {
            "backgroundcolor": "#E5ECF6",
            "gridcolor": "white",
            "gridwidth": 2,
            "linecolor": "white",
            "showbackground": true,
            "ticks": "",
            "zerolinecolor": "white"
           },
           "zaxis": {
            "backgroundcolor": "#E5ECF6",
            "gridcolor": "white",
            "gridwidth": 2,
            "linecolor": "white",
            "showbackground": true,
            "ticks": "",
            "zerolinecolor": "white"
           }
          },
          "shapedefaults": {
           "line": {
            "color": "#2a3f5f"
           }
          },
          "ternary": {
           "aaxis": {
            "gridcolor": "white",
            "linecolor": "white",
            "ticks": ""
           },
           "baxis": {
            "gridcolor": "white",
            "linecolor": "white",
            "ticks": ""
           },
           "bgcolor": "#E5ECF6",
           "caxis": {
            "gridcolor": "white",
            "linecolor": "white",
            "ticks": ""
           }
          },
          "title": {
           "x": 0.05
          },
          "xaxis": {
           "automargin": true,
           "gridcolor": "white",
           "linecolor": "white",
           "ticks": "",
           "title": {
            "standoff": 15
           },
           "zerolinecolor": "white",
           "zerolinewidth": 2
          },
          "yaxis": {
           "automargin": true,
           "gridcolor": "white",
           "linecolor": "white",
           "ticks": "",
           "title": {
            "standoff": 15
           },
           "zerolinecolor": "white",
           "zerolinewidth": 2
          }
         }
        },
        "xaxis": {
         "anchor": "y",
         "domain": [
          0,
          1
         ],
         "title": {
          "text": "Description"
         }
        },
        "yaxis": {
         "anchor": "x",
         "domain": [
          0,
          1
         ],
         "title": {
          "text": "All retailing"
         }
        }
       }
      }
     },
     "metadata": {},
     "output_type": "display_data"
    }
   ],
   "source": [
    "import plotly.express as px # linechart to show value of sales across selected timeline - before covid\n",
    "dfb = df_preCOVID\n",
    "df = px.data.tips()\n",
    "fig = px.line(dfb, x='Description', y='All retailing')  \n",
    "fig.show() "
   ]
  },
  {
   "cell_type": "code",
   "execution_count": 14,
   "metadata": {},
   "outputs": [
    {
     "data": {
      "application/vnd.plotly.v1+json": {
       "config": {
        "plotlyServerURL": "https://plot.ly"
       },
       "data": [
        {
         "hovertemplate": "variable=Predominantly food stores<br>Description=%{x}<br>value=%{y}<extra></extra>",
         "legendgroup": "Predominantly food stores",
         "line": {
          "color": "#636efa",
          "dash": "solid"
         },
         "marker": {
          "symbol": "circle"
         },
         "mode": "lines",
         "name": "Predominantly food stores",
         "orientation": "v",
         "showlegend": true,
         "type": "scatter",
         "x": [
          "2010JAN",
          "2010FEB",
          "2010MAR",
          "2010APR",
          "2010MAY",
          "2010JUN",
          "2010JUL",
          "2010AUG",
          "2010SEP",
          "2010OCT",
          "2010NOV",
          "2010DEC",
          "2011JAN",
          "2011FEB",
          "2011MAR",
          "2011APR",
          "2011MAY",
          "2011JUN",
          "2011JUL",
          "2011AUG",
          "2011SEP",
          "2011OCT",
          "2011NOV",
          "2011DEC",
          "2012JAN",
          "2012FEB",
          "2012MAR",
          "2012APR",
          "2012MAY",
          "2012JUN",
          "2012JUL",
          "2012AUG",
          "2012SEP",
          "2012OCT",
          "2012NOV",
          "2012DEC",
          "2013JAN",
          "2013FEB",
          "2013MAR",
          "2013APR",
          "2013MAY",
          "2013JUN",
          "2013JUL",
          "2013AUG",
          "2013SEP",
          "2013OCT",
          "2013NOV",
          "2013DEC",
          "2014JAN",
          "2014FEB",
          "2014MAR",
          "2014APR",
          "2014MAY",
          "2014JUN",
          "2014JUL",
          "2014AUG",
          "2014SEP",
          "2014OCT",
          "2014NOV",
          "2014DEC",
          "2015JAN",
          "2015FEB",
          "2015MAR",
          "2015APR",
          "2015MAY",
          "2015JUN",
          "2015JUL",
          "2015AUG",
          "2015SEP",
          "2015OCT",
          "2015NOV",
          "2015DEC",
          "2016JAN",
          "2016FEB",
          "2016MAR",
          "2016APR",
          "2016MAY",
          "2016JUN",
          "2016JUL",
          "2016AUG",
          "2016SEP",
          "2016OCT",
          "2016NOV",
          "2016DEC",
          "2017JAN",
          "2017FEB",
          "2017MAR",
          "2017APR",
          "2017MAY",
          "2017JUN",
          "2017JUL",
          "2017AUG",
          "2017SEP",
          "2017OCT",
          "2017NOV",
          "2017DEC",
          "2018JAN",
          "2018FEB",
          "2018MAR",
          "2018APR",
          "2018MAY",
          "2018JUN",
          "2018JUL",
          "2018AUG",
          "2018SEP",
          "2018OCT",
          "2018NOV",
          "2018DEC",
          "2019JAN",
          "2019FEB",
          "2019MAR",
          "2019APR",
          "2019MAY",
          "2019JUN",
          "2019JUL",
          "2019AUG",
          "2019SEP",
          "2019OCT",
          "2019NOV",
          "2019DEC"
         ],
         "xaxis": "x",
         "y": [
          255812,
          294365,
          352479,
          307444,
          280318,
          348522,
          274283,
          285589,
          357067,
          290919,
          286536,
          355428,
          308498,
          280975,
          353727,
          306450,
          275107,
          372899,
          290829,
          291680,
          377356,
          307501,
          322749,
          386413,
          309858,
          354097,
          415158,
          351107,
          360354,
          411407,
          357839,
          350445,
          437749,
          352183,
          364130,
          449845,
          385324,
          377441,
          480595,
          373151,
          384738,
          479509,
          397459,
          389371,
          498603,
          405384,
          405691,
          506632,
          509624,
          431875,
          539159,
          432860,
          435432,
          549728,
          441406,
          439520,
          567899,
          453636,
          451868,
          533002,
          468532,
          466450,
          601580,
          463594,
          477227,
          613117,
          491086,
          509458,
          633598,
          489072,
          495104,
          680752,
          524166,
          510611,
          642029,
          526356,
          568715,
          703741,
          564714,
          569205,
          738886,
          612999,
          632451,
          789399,
          617015,
          591641,
          775654,
          632119,
          614181,
          782514,
          645192,
          662845,
          828804,
          672028,
          680863,
          856036,
          657799,
          685557,
          859662,
          703864,
          724345,
          900531,
          711698,
          701175,
          857240,
          697845,
          706630,
          877944,
          678345,
          686090,
          846275,
          710460,
          694775,
          846976,
          711090,
          755761,
          919358,
          709560,
          691457,
          807231
         ],
         "yaxis": "y"
        },
        {
         "hovertemplate": "variable=Non-store retailing<br>Description=%{x}<br>value=%{y}<extra></extra>",
         "legendgroup": "Non-store retailing",
         "line": {
          "color": "#EF553B",
          "dash": "solid"
         },
         "marker": {
          "symbol": "circle"
         },
         "mode": "lines",
         "name": "Non-store retailing",
         "orientation": "v",
         "showlegend": true,
         "type": "scatter",
         "x": [
          "2010JAN",
          "2010FEB",
          "2010MAR",
          "2010APR",
          "2010MAY",
          "2010JUN",
          "2010JUL",
          "2010AUG",
          "2010SEP",
          "2010OCT",
          "2010NOV",
          "2010DEC",
          "2011JAN",
          "2011FEB",
          "2011MAR",
          "2011APR",
          "2011MAY",
          "2011JUN",
          "2011JUL",
          "2011AUG",
          "2011SEP",
          "2011OCT",
          "2011NOV",
          "2011DEC",
          "2012JAN",
          "2012FEB",
          "2012MAR",
          "2012APR",
          "2012MAY",
          "2012JUN",
          "2012JUL",
          "2012AUG",
          "2012SEP",
          "2012OCT",
          "2012NOV",
          "2012DEC",
          "2013JAN",
          "2013FEB",
          "2013MAR",
          "2013APR",
          "2013MAY",
          "2013JUN",
          "2013JUL",
          "2013AUG",
          "2013SEP",
          "2013OCT",
          "2013NOV",
          "2013DEC",
          "2014JAN",
          "2014FEB",
          "2014MAR",
          "2014APR",
          "2014MAY",
          "2014JUN",
          "2014JUL",
          "2014AUG",
          "2014SEP",
          "2014OCT",
          "2014NOV",
          "2014DEC",
          "2015JAN",
          "2015FEB",
          "2015MAR",
          "2015APR",
          "2015MAY",
          "2015JUN",
          "2015JUL",
          "2015AUG",
          "2015SEP",
          "2015OCT",
          "2015NOV",
          "2015DEC",
          "2016JAN",
          "2016FEB",
          "2016MAR",
          "2016APR",
          "2016MAY",
          "2016JUN",
          "2016JUL",
          "2016AUG",
          "2016SEP",
          "2016OCT",
          "2016NOV",
          "2016DEC",
          "2017JAN",
          "2017FEB",
          "2017MAR",
          "2017APR",
          "2017MAY",
          "2017JUN",
          "2017JUL",
          "2017AUG",
          "2017SEP",
          "2017OCT",
          "2017NOV",
          "2017DEC",
          "2018JAN",
          "2018FEB",
          "2018MAR",
          "2018APR",
          "2018MAY",
          "2018JUN",
          "2018JUL",
          "2018AUG",
          "2018SEP",
          "2018OCT",
          "2018NOV",
          "2018DEC",
          "2019JAN",
          "2019FEB",
          "2019MAR",
          "2019APR",
          "2019MAY",
          "2019JUN",
          "2019JUL",
          "2019AUG",
          "2019SEP",
          "2019OCT",
          "2019NOV",
          "2019DEC"
         ],
         "xaxis": "x",
         "y": [
          598827,
          610204,
          780740,
          619520,
          645353,
          811837,
          674183,
          711407,
          890522,
          743227,
          752986,
          957674,
          798671,
          790935,
          956284,
          768573,
          805942,
          1057928,
          888911,
          912574,
          1171799,
          924791,
          1039910,
          1234437,
          981954,
          993414,
          1249092,
          1004984,
          1013207,
          1257608,
          1071928,
          921630,
          1287669,
          1026825,
          1052782,
          1464808,
          1171019,
          1189585,
          1527742,
          1186216,
          1183503,
          1526712,
          1214381,
          1263329,
          1554365,
          1259886,
          1272597,
          1541490,
          1560249,
          1375130,
          1703988,
          1412265,
          1452693,
          1771216,
          1428049,
          1437939,
          1747084,
          1452703,
          1489914,
          1939524,
          1533922,
          1527389,
          1931055,
          1649447,
          1562371,
          2034002,
          1679139,
          1533078,
          2032714,
          1628014,
          1680638,
          2109167,
          1827149,
          1766934,
          2234267,
          1852905,
          1925126,
          2422977,
          1987305,
          2037702,
          2772033,
          2275161,
          2291224,
          2841537,
          2166873,
          2221136,
          2777375,
          2329801,
          2284219,
          2979687,
          2357965,
          2402922,
          3084059,
          2445867,
          2454535,
          3154646,
          2445355,
          2536845,
          3163978,
          2558880,
          2718556,
          3331499,
          2739166,
          2747496,
          3427907,
          2748439,
          2833004,
          3546994,
          2908585,
          2950848,
          3836753,
          2983473,
          3071817,
          3636519,
          3277772,
          3187783,
          3888474,
          3129224,
          3077196,
          3917524
         ],
         "yaxis": "y"
        },
        {
         "hovertemplate": "variable=Predominantly non-food stores<br>Description=%{x}<br>value=%{y}<extra></extra>",
         "legendgroup": "Predominantly non-food stores",
         "line": {
          "color": "#00cc96",
          "dash": "solid"
         },
         "marker": {
          "symbol": "circle"
         },
         "mode": "lines",
         "name": "Predominantly non-food stores",
         "orientation": "v",
         "showlegend": true,
         "type": "scatter",
         "x": [
          "2010JAN",
          "2010FEB",
          "2010MAR",
          "2010APR",
          "2010MAY",
          "2010JUN",
          "2010JUL",
          "2010AUG",
          "2010SEP",
          "2010OCT",
          "2010NOV",
          "2010DEC",
          "2011JAN",
          "2011FEB",
          "2011MAR",
          "2011APR",
          "2011MAY",
          "2011JUN",
          "2011JUL",
          "2011AUG",
          "2011SEP",
          "2011OCT",
          "2011NOV",
          "2011DEC",
          "2012JAN",
          "2012FEB",
          "2012MAR",
          "2012APR",
          "2012MAY",
          "2012JUN",
          "2012JUL",
          "2012AUG",
          "2012SEP",
          "2012OCT",
          "2012NOV",
          "2012DEC",
          "2013JAN",
          "2013FEB",
          "2013MAR",
          "2013APR",
          "2013MAY",
          "2013JUN",
          "2013JUL",
          "2013AUG",
          "2013SEP",
          "2013OCT",
          "2013NOV",
          "2013DEC",
          "2014JAN",
          "2014FEB",
          "2014MAR",
          "2014APR",
          "2014MAY",
          "2014JUN",
          "2014JUL",
          "2014AUG",
          "2014SEP",
          "2014OCT",
          "2014NOV",
          "2014DEC",
          "2015JAN",
          "2015FEB",
          "2015MAR",
          "2015APR",
          "2015MAY",
          "2015JUN",
          "2015JUL",
          "2015AUG",
          "2015SEP",
          "2015OCT",
          "2015NOV",
          "2015DEC",
          "2016JAN",
          "2016FEB",
          "2016MAR",
          "2016APR",
          "2016MAY",
          "2016JUN",
          "2016JUL",
          "2016AUG",
          "2016SEP",
          "2016OCT",
          "2016NOV",
          "2016DEC",
          "2017JAN",
          "2017FEB",
          "2017MAR",
          "2017APR",
          "2017MAY",
          "2017JUN",
          "2017JUL",
          "2017AUG",
          "2017SEP",
          "2017OCT",
          "2017NOV",
          "2017DEC",
          "2018JAN",
          "2018FEB",
          "2018MAR",
          "2018APR",
          "2018MAY",
          "2018JUN",
          "2018JUL",
          "2018AUG",
          "2018SEP",
          "2018OCT",
          "2018NOV",
          "2018DEC",
          "2019JAN",
          "2019FEB",
          "2019MAR",
          "2019APR",
          "2019MAY",
          "2019JUN",
          "2019JUL",
          "2019AUG",
          "2019SEP",
          "2019OCT",
          "2019NOV",
          "2019DEC"
         ],
         "xaxis": "x",
         "y": [
          575036,
          589609,
          720183,
          614334,
          637260,
          786181,
          695489,
          738109,
          906337,
          760459,
          785746,
          991537,
          773075,
          735394,
          954686,
          738950,
          752549,
          950472,
          769507,
          758360,
          977295,
          777303,
          751182,
          969304,
          816025,
          823947,
          1024612,
          844809,
          906582,
          1052140,
          892318,
          870171,
          1086699,
          858265,
          829213,
          1134907,
          868898,
          903533,
          1196475,
          949191,
          955354,
          1194488,
          952675,
          966990,
          1263758,
          991076,
          972267,
          1245983,
          1252103,
          983542,
          1265391,
          1029979,
          1048102,
          1336814,
          1076262,
          1109235,
          1339227,
          1079395,
          1084203,
          1411166,
          1117717,
          1123754,
          1412079,
          1147679,
          1141011,
          1478763,
          1148388,
          1195117,
          1521032,
          1231475,
          1282401,
          1584753,
          1273922,
          1284882,
          1587141,
          1348760,
          1341628,
          1733530,
          1385741,
          1422352,
          1803231,
          1499594,
          1529925,
          1849006,
          1495392,
          1528453,
          1917897,
          1539004,
          1518376,
          1967462,
          1641755,
          1665475,
          2079795,
          1654746,
          1728213,
          2186984,
          1767111,
          1765589,
          2314092,
          1828692,
          1917476,
          2379347,
          1930997,
          1946206,
          2454460,
          1962089,
          1967220,
          2467660,
          1971426,
          2019388,
          2491259,
          2096820,
          2037662,
          2640605,
          2125252,
          2053725,
          2530973,
          2061159,
          1950123,
          2641750
         ],
         "yaxis": "y"
        },
        {
         "hovertemplate": "variable=Household goods stores<br>Description=%{x}<br>value=%{y}<extra></extra>",
         "legendgroup": "Household goods stores",
         "line": {
          "color": "#ab63fa",
          "dash": "solid"
         },
         "marker": {
          "symbol": "circle"
         },
         "mode": "lines",
         "name": "Household goods stores",
         "orientation": "v",
         "showlegend": true,
         "type": "scatter",
         "x": [
          "2010JAN",
          "2010FEB",
          "2010MAR",
          "2010APR",
          "2010MAY",
          "2010JUN",
          "2010JUL",
          "2010AUG",
          "2010SEP",
          "2010OCT",
          "2010NOV",
          "2010DEC",
          "2011JAN",
          "2011FEB",
          "2011MAR",
          "2011APR",
          "2011MAY",
          "2011JUN",
          "2011JUL",
          "2011AUG",
          "2011SEP",
          "2011OCT",
          "2011NOV",
          "2011DEC",
          "2012JAN",
          "2012FEB",
          "2012MAR",
          "2012APR",
          "2012MAY",
          "2012JUN",
          "2012JUL",
          "2012AUG",
          "2012SEP",
          "2012OCT",
          "2012NOV",
          "2012DEC",
          "2013JAN",
          "2013FEB",
          "2013MAR",
          "2013APR",
          "2013MAY",
          "2013JUN",
          "2013JUL",
          "2013AUG",
          "2013SEP",
          "2013OCT",
          "2013NOV",
          "2013DEC",
          "2014JAN",
          "2014FEB",
          "2014MAR",
          "2014APR",
          "2014MAY",
          "2014JUN",
          "2014JUL",
          "2014AUG",
          "2014SEP",
          "2014OCT",
          "2014NOV",
          "2014DEC",
          "2015JAN",
          "2015FEB",
          "2015MAR",
          "2015APR",
          "2015MAY",
          "2015JUN",
          "2015JUL",
          "2015AUG",
          "2015SEP",
          "2015OCT",
          "2015NOV",
          "2015DEC",
          "2016JAN",
          "2016FEB",
          "2016MAR",
          "2016APR",
          "2016MAY",
          "2016JUN",
          "2016JUL",
          "2016AUG",
          "2016SEP",
          "2016OCT",
          "2016NOV",
          "2016DEC",
          "2017JAN",
          "2017FEB",
          "2017MAR",
          "2017APR",
          "2017MAY",
          "2017JUN",
          "2017JUL",
          "2017AUG",
          "2017SEP",
          "2017OCT",
          "2017NOV",
          "2017DEC",
          "2018JAN",
          "2018FEB",
          "2018MAR",
          "2018APR",
          "2018MAY",
          "2018JUN",
          "2018JUL",
          "2018AUG",
          "2018SEP",
          "2018OCT",
          "2018NOV",
          "2018DEC",
          "2019JAN",
          "2019FEB",
          "2019MAR",
          "2019APR",
          "2019MAY",
          "2019JUN",
          "2019JUL",
          "2019AUG",
          "2019SEP",
          "2019OCT",
          "2019NOV",
          "2019DEC"
         ],
         "xaxis": "x",
         "y": [
          143684,
          159687,
          145991,
          118837,
          121748,
          152312,
          129874,
          135869,
          172091,
          149417,
          136952,
          170678,
          142663,
          125884,
          153261,
          117106,
          107270,
          144799,
          121567,
          115152,
          143940,
          109962,
          108806,
          147988,
          142513,
          148961,
          179387,
          149402,
          149090,
          169276,
          133987,
          126630,
          169163,
          130707,
          134191,
          150767,
          117481,
          120911,
          174304,
          131337,
          129445,
          164202,
          121294,
          130256,
          159897,
          122874,
          126274,
          155894,
          173895,
          98567,
          160377,
          134532,
          137976,
          177015,
          145739,
          152307,
          180483,
          160528,
          138203,
          196953,
          163407,
          160053,
          205330,
          164466,
          169129,
          213417,
          178360,
          172504,
          232086,
          188819,
          202834,
          272917,
          223594,
          219592,
          289548,
          241355,
          245472,
          312759,
          251882,
          270118,
          330239,
          274128,
          272894,
          334346,
          259652,
          274018,
          353772,
          285200,
          280574,
          362096,
          293730,
          291245,
          373177,
          293811,
          319682,
          377135,
          318864,
          330580,
          440349,
          317741,
          325696,
          420127,
          340592,
          378867,
          468789,
          387420,
          377234,
          474074,
          360132,
          363712,
          426771,
          356160,
          365576,
          477030,
          368149,
          376688,
          515698,
          431265,
          389392,
          544929
         ],
         "yaxis": "y"
        },
        {
         "hovertemplate": "variable=Specialist food stores (i.e butchers and bakers)<br>Description=%{x}<br>value=%{y}<extra></extra>",
         "legendgroup": "Specialist food stores (i.e butchers and bakers)",
         "line": {
          "color": "#FFA15A",
          "dash": "solid"
         },
         "marker": {
          "symbol": "circle"
         },
         "mode": "lines",
         "name": "Specialist food stores (i.e butchers and bakers)",
         "orientation": "v",
         "showlegend": true,
         "type": "scatter",
         "x": [
          "2010JAN",
          "2010FEB",
          "2010MAR",
          "2010APR",
          "2010MAY",
          "2010JUN",
          "2010JUL",
          "2010AUG",
          "2010SEP",
          "2010OCT",
          "2010NOV",
          "2010DEC",
          "2011JAN",
          "2011FEB",
          "2011MAR",
          "2011APR",
          "2011MAY",
          "2011JUN",
          "2011JUL",
          "2011AUG",
          "2011SEP",
          "2011OCT",
          "2011NOV",
          "2011DEC",
          "2012JAN",
          "2012FEB",
          "2012MAR",
          "2012APR",
          "2012MAY",
          "2012JUN",
          "2012JUL",
          "2012AUG",
          "2012SEP",
          "2012OCT",
          "2012NOV",
          "2012DEC",
          "2013JAN",
          "2013FEB",
          "2013MAR",
          "2013APR",
          "2013MAY",
          "2013JUN",
          "2013JUL",
          "2013AUG",
          "2013SEP",
          "2013OCT",
          "2013NOV",
          "2013DEC",
          "2014JAN",
          "2014FEB",
          "2014MAR",
          "2014APR",
          "2014MAY",
          "2014JUN",
          "2014JUL",
          "2014AUG",
          "2014SEP",
          "2014OCT",
          "2014NOV",
          "2014DEC",
          "2015JAN",
          "2015FEB",
          "2015MAR",
          "2015APR",
          "2015MAY",
          "2015JUN",
          "2015JUL",
          "2015AUG",
          "2015SEP",
          "2015OCT",
          "2015NOV",
          "2015DEC",
          "2016JAN",
          "2016FEB",
          "2016MAR",
          "2016APR",
          "2016MAY",
          "2016JUN",
          "2016JUL",
          "2016AUG",
          "2016SEP",
          "2016OCT",
          "2016NOV",
          "2016DEC",
          "2017JAN",
          "2017FEB",
          "2017MAR",
          "2017APR",
          "2017MAY",
          "2017JUN",
          "2017JUL",
          "2017AUG",
          "2017SEP",
          "2017OCT",
          "2017NOV",
          "2017DEC",
          "2018JAN",
          "2018FEB",
          "2018MAR",
          "2018APR",
          "2018MAY",
          "2018JUN",
          "2018JUL",
          "2018AUG",
          "2018SEP",
          "2018OCT",
          "2018NOV",
          "2018DEC",
          "2019JAN",
          "2019FEB",
          "2019MAR",
          "2019APR",
          "2019MAY",
          "2019JUN",
          "2019JUL",
          "2019AUG",
          "2019SEP",
          "2019OCT",
          "2019NOV",
          "2019DEC"
         ],
         "xaxis": "x",
         "y": [
          3797,
          6431,
          10825,
          7713,
          7875,
          10272,
          9405,
          6198,
          8934,
          6338,
          5418,
          6590,
          4321,
          3807,
          4334,
          4686,
          3567,
          4181,
          3219,
          5367,
          3558,
          3982,
          4891,
          6546,
          7770,
          8216,
          11236,
          8044,
          9007,
          11467,
          7785,
          8297,
          10327,
          4256,
          10276,
          12611,
          7856,
          7393,
          8614,
          7956,
          7730,
          7633,
          11573,
          8658,
          10126,
          9077,
          7725,
          6793,
          8686,
          8180,
          10204,
          7185,
          6026,
          8190,
          6168,
          5333,
          6132,
          4873,
          4409,
          5586,
          11844,
          6037,
          8250,
          9096,
          10015,
          16974,
          10917,
          9651,
          12652,
          8366,
          7434,
          8616,
          7097,
          6521,
          7635,
          4059,
          6492,
          6794,
          5115,
          6043,
          8341,
          7145,
          8011,
          11166,
          9049,
          9398,
          12711,
          8330,
          8606,
          9945,
          7640,
          9756,
          12234,
          10407,
          10533,
          14624,
          11252,
          9989,
          13345,
          15150,
          11231,
          13541,
          15633,
          10589,
          15480,
          18123,
          15282,
          17383,
          13572,
          12020,
          13593,
          12357,
          14102,
          19464,
          18208,
          17717,
          30134,
          18161,
          18213,
          20868
         ],
         "yaxis": "y"
        },
        {
         "hovertemplate": "variable=Alcoholic drink, beverages & tobacco<br>Description=%{x}<br>value=%{y}<extra></extra>",
         "legendgroup": "Alcoholic drink, beverages & tobacco",
         "line": {
          "color": "#19d3f3",
          "dash": "solid"
         },
         "marker": {
          "symbol": "circle"
         },
         "mode": "lines",
         "name": "Alcoholic drink, beverages & tobacco",
         "orientation": "v",
         "showlegend": true,
         "type": "scatter",
         "x": [
          "2010JAN",
          "2010FEB",
          "2010MAR",
          "2010APR",
          "2010MAY",
          "2010JUN",
          "2010JUL",
          "2010AUG",
          "2010SEP",
          "2010OCT",
          "2010NOV",
          "2010DEC",
          "2011JAN",
          "2011FEB",
          "2011MAR",
          "2011APR",
          "2011MAY",
          "2011JUN",
          "2011JUL",
          "2011AUG",
          "2011SEP",
          "2011OCT",
          "2011NOV",
          "2011DEC",
          "2012JAN",
          "2012FEB",
          "2012MAR",
          "2012APR",
          "2012MAY",
          "2012JUN",
          "2012JUL",
          "2012AUG",
          "2012SEP",
          "2012OCT",
          "2012NOV",
          "2012DEC",
          "2013JAN",
          "2013FEB",
          "2013MAR",
          "2013APR",
          "2013MAY",
          "2013JUN",
          "2013JUL",
          "2013AUG",
          "2013SEP",
          "2013OCT",
          "2013NOV",
          "2013DEC",
          "2014JAN",
          "2014FEB",
          "2014MAR",
          "2014APR",
          "2014MAY",
          "2014JUN",
          "2014JUL",
          "2014AUG",
          "2014SEP",
          "2014OCT",
          "2014NOV",
          "2014DEC",
          "2015JAN",
          "2015FEB",
          "2015MAR",
          "2015APR",
          "2015MAY",
          "2015JUN",
          "2015JUL",
          "2015AUG",
          "2015SEP",
          "2015OCT",
          "2015NOV",
          "2015DEC",
          "2016JAN",
          "2016FEB",
          "2016MAR",
          "2016APR",
          "2016MAY",
          "2016JUN",
          "2016JUL",
          "2016AUG",
          "2016SEP",
          "2016OCT",
          "2016NOV",
          "2016DEC",
          "2017JAN",
          "2017FEB",
          "2017MAR",
          "2017APR",
          "2017MAY",
          "2017JUN",
          "2017JUL",
          "2017AUG",
          "2017SEP",
          "2017OCT",
          "2017NOV",
          "2017DEC",
          "2018JAN",
          "2018FEB",
          "2018MAR",
          "2018APR",
          "2018MAY",
          "2018JUN",
          "2018JUL",
          "2018AUG",
          "2018SEP",
          "2018OCT",
          "2018NOV",
          "2018DEC",
          "2019JAN",
          "2019FEB",
          "2019MAR",
          "2019APR",
          "2019MAY",
          "2019JUN",
          "2019JUL",
          "2019AUG",
          "2019SEP",
          "2019OCT",
          "2019NOV",
          "2019DEC"
         ],
         "xaxis": "x",
         "y": [
          27277,
          31725,
          44915,
          35839,
          32060,
          35347,
          24294,
          24225,
          30318,
          30639,
          26595,
          16847,
          25109,
          1981,
          2405,
          1991,
          2381,
          6941,
          7176,
          3309,
          3555,
          2922,
          21636,
          5935,
          3957,
          11994,
          12182,
          10024,
          10413,
          11734,
          11158,
          3741,
          4374,
          3956,
          4083,
          6313,
          3687,
          3384,
          4353,
          2659,
          4260,
          5526,
          5683,
          5420,
          7944,
          8082,
          7848,
          10239,
          6824,
          5486,
          6282,
          5230,
          4992,
          7404,
          5371,
          5474,
          7662,
          6326,
          5347,
          6864,
          5525,
          5715,
          4435,
          6063,
          5293,
          7266,
          7227,
          7034,
          10491,
          6804,
          8198,
          11692,
          9170,
          9826,
          8983,
          1936,
          8917,
          12842,
          10298,
          12099,
          13089,
          5662,
          13788,
          18153,
          16617,
          14550,
          28950,
          22199,
          18340,
          22578,
          14660,
          24351,
          30062,
          24827,
          24587,
          23563,
          9403,
          12902,
          19051,
          14829,
          18101,
          25150,
          6555,
          7402,
          8335,
          7152,
          8326,
          11727,
          15255,
          16496,
          17706,
          12362,
          13176,
          18306,
          14524,
          20505,
          20270,
          8075,
          9171,
          14152
         ],
         "yaxis": "y"
        }
       ],
       "layout": {
        "legend": {
         "title": {
          "text": "variable"
         },
         "tracegroupgap": 0
        },
        "margin": {
         "t": 60
        },
        "template": {
         "data": {
          "bar": [
           {
            "error_x": {
             "color": "#2a3f5f"
            },
            "error_y": {
             "color": "#2a3f5f"
            },
            "marker": {
             "line": {
              "color": "#E5ECF6",
              "width": 0.5
             },
             "pattern": {
              "fillmode": "overlay",
              "size": 10,
              "solidity": 0.2
             }
            },
            "type": "bar"
           }
          ],
          "barpolar": [
           {
            "marker": {
             "line": {
              "color": "#E5ECF6",
              "width": 0.5
             },
             "pattern": {
              "fillmode": "overlay",
              "size": 10,
              "solidity": 0.2
             }
            },
            "type": "barpolar"
           }
          ],
          "carpet": [
           {
            "aaxis": {
             "endlinecolor": "#2a3f5f",
             "gridcolor": "white",
             "linecolor": "white",
             "minorgridcolor": "white",
             "startlinecolor": "#2a3f5f"
            },
            "baxis": {
             "endlinecolor": "#2a3f5f",
             "gridcolor": "white",
             "linecolor": "white",
             "minorgridcolor": "white",
             "startlinecolor": "#2a3f5f"
            },
            "type": "carpet"
           }
          ],
          "choropleth": [
           {
            "colorbar": {
             "outlinewidth": 0,
             "ticks": ""
            },
            "type": "choropleth"
           }
          ],
          "contour": [
           {
            "colorbar": {
             "outlinewidth": 0,
             "ticks": ""
            },
            "colorscale": [
             [
              0,
              "#0d0887"
             ],
             [
              0.1111111111111111,
              "#46039f"
             ],
             [
              0.2222222222222222,
              "#7201a8"
             ],
             [
              0.3333333333333333,
              "#9c179e"
             ],
             [
              0.4444444444444444,
              "#bd3786"
             ],
             [
              0.5555555555555556,
              "#d8576b"
             ],
             [
              0.6666666666666666,
              "#ed7953"
             ],
             [
              0.7777777777777778,
              "#fb9f3a"
             ],
             [
              0.8888888888888888,
              "#fdca26"
             ],
             [
              1,
              "#f0f921"
             ]
            ],
            "type": "contour"
           }
          ],
          "contourcarpet": [
           {
            "colorbar": {
             "outlinewidth": 0,
             "ticks": ""
            },
            "type": "contourcarpet"
           }
          ],
          "heatmap": [
           {
            "colorbar": {
             "outlinewidth": 0,
             "ticks": ""
            },
            "colorscale": [
             [
              0,
              "#0d0887"
             ],
             [
              0.1111111111111111,
              "#46039f"
             ],
             [
              0.2222222222222222,
              "#7201a8"
             ],
             [
              0.3333333333333333,
              "#9c179e"
             ],
             [
              0.4444444444444444,
              "#bd3786"
             ],
             [
              0.5555555555555556,
              "#d8576b"
             ],
             [
              0.6666666666666666,
              "#ed7953"
             ],
             [
              0.7777777777777778,
              "#fb9f3a"
             ],
             [
              0.8888888888888888,
              "#fdca26"
             ],
             [
              1,
              "#f0f921"
             ]
            ],
            "type": "heatmap"
           }
          ],
          "heatmapgl": [
           {
            "colorbar": {
             "outlinewidth": 0,
             "ticks": ""
            },
            "colorscale": [
             [
              0,
              "#0d0887"
             ],
             [
              0.1111111111111111,
              "#46039f"
             ],
             [
              0.2222222222222222,
              "#7201a8"
             ],
             [
              0.3333333333333333,
              "#9c179e"
             ],
             [
              0.4444444444444444,
              "#bd3786"
             ],
             [
              0.5555555555555556,
              "#d8576b"
             ],
             [
              0.6666666666666666,
              "#ed7953"
             ],
             [
              0.7777777777777778,
              "#fb9f3a"
             ],
             [
              0.8888888888888888,
              "#fdca26"
             ],
             [
              1,
              "#f0f921"
             ]
            ],
            "type": "heatmapgl"
           }
          ],
          "histogram": [
           {
            "marker": {
             "pattern": {
              "fillmode": "overlay",
              "size": 10,
              "solidity": 0.2
             }
            },
            "type": "histogram"
           }
          ],
          "histogram2d": [
           {
            "colorbar": {
             "outlinewidth": 0,
             "ticks": ""
            },
            "colorscale": [
             [
              0,
              "#0d0887"
             ],
             [
              0.1111111111111111,
              "#46039f"
             ],
             [
              0.2222222222222222,
              "#7201a8"
             ],
             [
              0.3333333333333333,
              "#9c179e"
             ],
             [
              0.4444444444444444,
              "#bd3786"
             ],
             [
              0.5555555555555556,
              "#d8576b"
             ],
             [
              0.6666666666666666,
              "#ed7953"
             ],
             [
              0.7777777777777778,
              "#fb9f3a"
             ],
             [
              0.8888888888888888,
              "#fdca26"
             ],
             [
              1,
              "#f0f921"
             ]
            ],
            "type": "histogram2d"
           }
          ],
          "histogram2dcontour": [
           {
            "colorbar": {
             "outlinewidth": 0,
             "ticks": ""
            },
            "colorscale": [
             [
              0,
              "#0d0887"
             ],
             [
              0.1111111111111111,
              "#46039f"
             ],
             [
              0.2222222222222222,
              "#7201a8"
             ],
             [
              0.3333333333333333,
              "#9c179e"
             ],
             [
              0.4444444444444444,
              "#bd3786"
             ],
             [
              0.5555555555555556,
              "#d8576b"
             ],
             [
              0.6666666666666666,
              "#ed7953"
             ],
             [
              0.7777777777777778,
              "#fb9f3a"
             ],
             [
              0.8888888888888888,
              "#fdca26"
             ],
             [
              1,
              "#f0f921"
             ]
            ],
            "type": "histogram2dcontour"
           }
          ],
          "mesh3d": [
           {
            "colorbar": {
             "outlinewidth": 0,
             "ticks": ""
            },
            "type": "mesh3d"
           }
          ],
          "parcoords": [
           {
            "line": {
             "colorbar": {
              "outlinewidth": 0,
              "ticks": ""
             }
            },
            "type": "parcoords"
           }
          ],
          "pie": [
           {
            "automargin": true,
            "type": "pie"
           }
          ],
          "scatter": [
           {
            "fillpattern": {
             "fillmode": "overlay",
             "size": 10,
             "solidity": 0.2
            },
            "type": "scatter"
           }
          ],
          "scatter3d": [
           {
            "line": {
             "colorbar": {
              "outlinewidth": 0,
              "ticks": ""
             }
            },
            "marker": {
             "colorbar": {
              "outlinewidth": 0,
              "ticks": ""
             }
            },
            "type": "scatter3d"
           }
          ],
          "scattercarpet": [
           {
            "marker": {
             "colorbar": {
              "outlinewidth": 0,
              "ticks": ""
             }
            },
            "type": "scattercarpet"
           }
          ],
          "scattergeo": [
           {
            "marker": {
             "colorbar": {
              "outlinewidth": 0,
              "ticks": ""
             }
            },
            "type": "scattergeo"
           }
          ],
          "scattergl": [
           {
            "marker": {
             "colorbar": {
              "outlinewidth": 0,
              "ticks": ""
             }
            },
            "type": "scattergl"
           }
          ],
          "scattermapbox": [
           {
            "marker": {
             "colorbar": {
              "outlinewidth": 0,
              "ticks": ""
             }
            },
            "type": "scattermapbox"
           }
          ],
          "scatterpolar": [
           {
            "marker": {
             "colorbar": {
              "outlinewidth": 0,
              "ticks": ""
             }
            },
            "type": "scatterpolar"
           }
          ],
          "scatterpolargl": [
           {
            "marker": {
             "colorbar": {
              "outlinewidth": 0,
              "ticks": ""
             }
            },
            "type": "scatterpolargl"
           }
          ],
          "scatterternary": [
           {
            "marker": {
             "colorbar": {
              "outlinewidth": 0,
              "ticks": ""
             }
            },
            "type": "scatterternary"
           }
          ],
          "surface": [
           {
            "colorbar": {
             "outlinewidth": 0,
             "ticks": ""
            },
            "colorscale": [
             [
              0,
              "#0d0887"
             ],
             [
              0.1111111111111111,
              "#46039f"
             ],
             [
              0.2222222222222222,
              "#7201a8"
             ],
             [
              0.3333333333333333,
              "#9c179e"
             ],
             [
              0.4444444444444444,
              "#bd3786"
             ],
             [
              0.5555555555555556,
              "#d8576b"
             ],
             [
              0.6666666666666666,
              "#ed7953"
             ],
             [
              0.7777777777777778,
              "#fb9f3a"
             ],
             [
              0.8888888888888888,
              "#fdca26"
             ],
             [
              1,
              "#f0f921"
             ]
            ],
            "type": "surface"
           }
          ],
          "table": [
           {
            "cells": {
             "fill": {
              "color": "#EBF0F8"
             },
             "line": {
              "color": "white"
             }
            },
            "header": {
             "fill": {
              "color": "#C8D4E3"
             },
             "line": {
              "color": "white"
             }
            },
            "type": "table"
           }
          ]
         },
         "layout": {
          "annotationdefaults": {
           "arrowcolor": "#2a3f5f",
           "arrowhead": 0,
           "arrowwidth": 1
          },
          "autotypenumbers": "strict",
          "coloraxis": {
           "colorbar": {
            "outlinewidth": 0,
            "ticks": ""
           }
          },
          "colorscale": {
           "diverging": [
            [
             0,
             "#8e0152"
            ],
            [
             0.1,
             "#c51b7d"
            ],
            [
             0.2,
             "#de77ae"
            ],
            [
             0.3,
             "#f1b6da"
            ],
            [
             0.4,
             "#fde0ef"
            ],
            [
             0.5,
             "#f7f7f7"
            ],
            [
             0.6,
             "#e6f5d0"
            ],
            [
             0.7,
             "#b8e186"
            ],
            [
             0.8,
             "#7fbc41"
            ],
            [
             0.9,
             "#4d9221"
            ],
            [
             1,
             "#276419"
            ]
           ],
           "sequential": [
            [
             0,
             "#0d0887"
            ],
            [
             0.1111111111111111,
             "#46039f"
            ],
            [
             0.2222222222222222,
             "#7201a8"
            ],
            [
             0.3333333333333333,
             "#9c179e"
            ],
            [
             0.4444444444444444,
             "#bd3786"
            ],
            [
             0.5555555555555556,
             "#d8576b"
            ],
            [
             0.6666666666666666,
             "#ed7953"
            ],
            [
             0.7777777777777778,
             "#fb9f3a"
            ],
            [
             0.8888888888888888,
             "#fdca26"
            ],
            [
             1,
             "#f0f921"
            ]
           ],
           "sequentialminus": [
            [
             0,
             "#0d0887"
            ],
            [
             0.1111111111111111,
             "#46039f"
            ],
            [
             0.2222222222222222,
             "#7201a8"
            ],
            [
             0.3333333333333333,
             "#9c179e"
            ],
            [
             0.4444444444444444,
             "#bd3786"
            ],
            [
             0.5555555555555556,
             "#d8576b"
            ],
            [
             0.6666666666666666,
             "#ed7953"
            ],
            [
             0.7777777777777778,
             "#fb9f3a"
            ],
            [
             0.8888888888888888,
             "#fdca26"
            ],
            [
             1,
             "#f0f921"
            ]
           ]
          },
          "colorway": [
           "#636efa",
           "#EF553B",
           "#00cc96",
           "#ab63fa",
           "#FFA15A",
           "#19d3f3",
           "#FF6692",
           "#B6E880",
           "#FF97FF",
           "#FECB52"
          ],
          "font": {
           "color": "#2a3f5f"
          },
          "geo": {
           "bgcolor": "white",
           "lakecolor": "white",
           "landcolor": "#E5ECF6",
           "showlakes": true,
           "showland": true,
           "subunitcolor": "white"
          },
          "hoverlabel": {
           "align": "left"
          },
          "hovermode": "closest",
          "mapbox": {
           "style": "light"
          },
          "paper_bgcolor": "white",
          "plot_bgcolor": "#E5ECF6",
          "polar": {
           "angularaxis": {
            "gridcolor": "white",
            "linecolor": "white",
            "ticks": ""
           },
           "bgcolor": "#E5ECF6",
           "radialaxis": {
            "gridcolor": "white",
            "linecolor": "white",
            "ticks": ""
           }
          },
          "scene": {
           "xaxis": {
            "backgroundcolor": "#E5ECF6",
            "gridcolor": "white",
            "gridwidth": 2,
            "linecolor": "white",
            "showbackground": true,
            "ticks": "",
            "zerolinecolor": "white"
           },
           "yaxis": {
            "backgroundcolor": "#E5ECF6",
            "gridcolor": "white",
            "gridwidth": 2,
            "linecolor": "white",
            "showbackground": true,
            "ticks": "",
            "zerolinecolor": "white"
           },
           "zaxis": {
            "backgroundcolor": "#E5ECF6",
            "gridcolor": "white",
            "gridwidth": 2,
            "linecolor": "white",
            "showbackground": true,
            "ticks": "",
            "zerolinecolor": "white"
           }
          },
          "shapedefaults": {
           "line": {
            "color": "#2a3f5f"
           }
          },
          "ternary": {
           "aaxis": {
            "gridcolor": "white",
            "linecolor": "white",
            "ticks": ""
           },
           "baxis": {
            "gridcolor": "white",
            "linecolor": "white",
            "ticks": ""
           },
           "bgcolor": "#E5ECF6",
           "caxis": {
            "gridcolor": "white",
            "linecolor": "white",
            "ticks": ""
           }
          },
          "title": {
           "x": 0.05
          },
          "xaxis": {
           "automargin": true,
           "gridcolor": "white",
           "linecolor": "white",
           "ticks": "",
           "title": {
            "standoff": 15
           },
           "zerolinecolor": "white",
           "zerolinewidth": 2
          },
          "yaxis": {
           "automargin": true,
           "gridcolor": "white",
           "linecolor": "white",
           "ticks": "",
           "title": {
            "standoff": 15
           },
           "zerolinecolor": "white",
           "zerolinewidth": 2
          }
         }
        },
        "xaxis": {
         "anchor": "y",
         "domain": [
          0,
          1
         ],
         "title": {
          "text": "Description"
         }
        },
        "yaxis": {
         "anchor": "x",
         "domain": [
          0,
          1
         ],
         "title": {
          "text": "value"
         }
        }
       }
      }
     },
     "metadata": {},
     "output_type": "display_data"
    }
   ],
   "source": [
    "import plotly.express as px # linechart to show value of sales across selected timeline - during covid\n",
    "dfb = df_preCOVID\n",
    "df = px.data.tips()\n",
    "fig = px.line(dfb, x='Description', y=['Predominantly food stores', 'Non-store retailing', 'Predominantly non-food stores', 'Household goods stores', 'Specialist food stores (i.e butchers and bakers)', 'Alcoholic drink, beverages & tobacco', 'Household goods stores'])\n",
    "fig.show() "
   ]
  },
  {
   "cell_type": "code",
   "execution_count": 33,
   "metadata": {},
   "outputs": [
    {
     "data": {
      "application/vnd.plotly.v1+json": {
       "config": {
        "plotlyServerURL": "https://plot.ly"
       },
       "data": [
        {
         "hovertemplate": "variable=Non-specialised stores (i.e supermarkets)<br>Description=%{x}<br>value=%{y}<extra></extra>",
         "legendgroup": "Non-specialised stores (i.e supermarkets)",
         "line": {
          "color": "#636efa",
          "dash": "solid"
         },
         "marker": {
          "symbol": "circle"
         },
         "mode": "lines",
         "name": "Non-specialised stores (i.e supermarkets)",
         "orientation": "v",
         "showlegend": true,
         "type": "scatter",
         "x": [
          "2010JAN",
          "2010FEB",
          "2010MAR",
          "2010APR",
          "2010MAY",
          "2010JUN",
          "2010JUL",
          "2010AUG",
          "2010SEP",
          "2010OCT",
          "2010NOV",
          "2010DEC",
          "2011JAN",
          "2011FEB",
          "2011MAR",
          "2011APR",
          "2011MAY",
          "2011JUN",
          "2011JUL",
          "2011AUG",
          "2011SEP",
          "2011OCT",
          "2011NOV",
          "2011DEC",
          "2012JAN",
          "2012FEB",
          "2012MAR",
          "2012APR",
          "2012MAY",
          "2012JUN",
          "2012JUL",
          "2012AUG",
          "2012SEP",
          "2012OCT",
          "2012NOV",
          "2012DEC",
          "2013JAN",
          "2013FEB",
          "2013MAR",
          "2013APR",
          "2013MAY",
          "2013JUN",
          "2013JUL",
          "2013AUG",
          "2013SEP",
          "2013OCT",
          "2013NOV",
          "2013DEC",
          "2014JAN",
          "2014FEB",
          "2014MAR",
          "2014APR",
          "2014MAY",
          "2014JUN",
          "2014JUL",
          "2014AUG",
          "2014SEP",
          "2014OCT",
          "2014NOV",
          "2014DEC",
          "2015JAN",
          "2015FEB",
          "2015MAR",
          "2015APR",
          "2015MAY",
          "2015JUN",
          "2015JUL",
          "2015AUG",
          "2015SEP",
          "2015OCT",
          "2015NOV",
          "2015DEC",
          "2016JAN",
          "2016FEB",
          "2016MAR",
          "2016APR",
          "2016MAY",
          "2016JUN",
          "2016JUL",
          "2016AUG",
          "2016SEP",
          "2016OCT",
          "2016NOV",
          "2016DEC",
          "2017JAN",
          "2017FEB",
          "2017MAR",
          "2017APR",
          "2017MAY",
          "2017JUN",
          "2017JUL",
          "2017AUG",
          "2017SEP",
          "2017OCT",
          "2017NOV",
          "2017DEC",
          "2018JAN",
          "2018FEB",
          "2018MAR",
          "2018APR",
          "2018MAY",
          "2018JUN",
          "2018JUL",
          "2018AUG",
          "2018SEP",
          "2018OCT",
          "2018NOV",
          "2018DEC",
          "2019JAN",
          "2019FEB",
          "2019MAR",
          "2019APR",
          "2019MAY",
          "2019JUN",
          "2019JUL",
          "2019AUG",
          "2019SEP",
          "2019OCT",
          "2019NOV",
          "2019DEC"
         ],
         "xaxis": "x",
         "y": [
          224738,
          256209,
          296739,
          263892,
          240383,
          302903,
          240584,
          255166,
          317815,
          253942,
          254523,
          331991,
          279068,
          275187,
          346988,
          299773,
          269159,
          361777,
          280434,
          283004,
          370243,
          300597,
          296222,
          373932,
          298131,
          333887,
          391740,
          333039,
          340934,
          388206,
          338896,
          338407,
          423048,
          343971,
          349771,
          430921,
          373781,
          366664,
          467628,
          362536,
          372748,
          466350,
          380203,
          375293,
          480533,
          388225,
          390118,
          489600,
          494114,
          418209,
          522673,
          420445,
          424414,
          534134,
          429867,
          428713,
          554105,
          442437,
          442112,
          520552,
          451163,
          454698,
          588895,
          448435,
          461919,
          588877,
          472942,
          492773,
          610455,
          473902,
          479472,
          660444,
          507899,
          494264,
          625411,
          520361,
          553306,
          684105,
          549301,
          551063,
          717456,
          600192,
          610652,
          760080,
          591349,
          567693,
          733993,
          601590,
          587235,
          749991,
          622892,
          628738,
          786508,
          636794,
          645743,
          817849,
          637144,
          662666,
          827266,
          673885,
          695013,
          861840,
          689510,
          683184,
          833425,
          672570,
          683022,
          848834,
          649518,
          657574,
          814976,
          685741,
          667497,
          809206,
          678358,
          717539,
          868954,
          683324,
          664073,
          772211
         ],
         "yaxis": "y"
        },
        {
         "hovertemplate": "variable=Non-specialised stores (i.e department stores)<br>Description=%{x}<br>value=%{y}<extra></extra>",
         "legendgroup": "Non-specialised stores (i.e department stores)",
         "line": {
          "color": "#EF553B",
          "dash": "solid"
         },
         "marker": {
          "symbol": "circle"
         },
         "mode": "lines",
         "name": "Non-specialised stores (i.e department stores)",
         "orientation": "v",
         "showlegend": true,
         "type": "scatter",
         "x": [
          "2010JAN",
          "2010FEB",
          "2010MAR",
          "2010APR",
          "2010MAY",
          "2010JUN",
          "2010JUL",
          "2010AUG",
          "2010SEP",
          "2010OCT",
          "2010NOV",
          "2010DEC",
          "2011JAN",
          "2011FEB",
          "2011MAR",
          "2011APR",
          "2011MAY",
          "2011JUN",
          "2011JUL",
          "2011AUG",
          "2011SEP",
          "2011OCT",
          "2011NOV",
          "2011DEC",
          "2012JAN",
          "2012FEB",
          "2012MAR",
          "2012APR",
          "2012MAY",
          "2012JUN",
          "2012JUL",
          "2012AUG",
          "2012SEP",
          "2012OCT",
          "2012NOV",
          "2012DEC",
          "2013JAN",
          "2013FEB",
          "2013MAR",
          "2013APR",
          "2013MAY",
          "2013JUN",
          "2013JUL",
          "2013AUG",
          "2013SEP",
          "2013OCT",
          "2013NOV",
          "2013DEC",
          "2014JAN",
          "2014FEB",
          "2014MAR",
          "2014APR",
          "2014MAY",
          "2014JUN",
          "2014JUL",
          "2014AUG",
          "2014SEP",
          "2014OCT",
          "2014NOV",
          "2014DEC",
          "2015JAN",
          "2015FEB",
          "2015MAR",
          "2015APR",
          "2015MAY",
          "2015JUN",
          "2015JUL",
          "2015AUG",
          "2015SEP",
          "2015OCT",
          "2015NOV",
          "2015DEC",
          "2016JAN",
          "2016FEB",
          "2016MAR",
          "2016APR",
          "2016MAY",
          "2016JUN",
          "2016JUL",
          "2016AUG",
          "2016SEP",
          "2016OCT",
          "2016NOV",
          "2016DEC",
          "2017JAN",
          "2017FEB",
          "2017MAR",
          "2017APR",
          "2017MAY",
          "2017JUN",
          "2017JUL",
          "2017AUG",
          "2017SEP",
          "2017OCT",
          "2017NOV",
          "2017DEC",
          "2018JAN",
          "2018FEB",
          "2018MAR",
          "2018APR",
          "2018MAY",
          "2018JUN",
          "2018JUL",
          "2018AUG",
          "2018SEP",
          "2018OCT",
          "2018NOV",
          "2018DEC",
          "2019JAN",
          "2019FEB",
          "2019MAR",
          "2019APR",
          "2019MAY",
          "2019JUN",
          "2019JUL",
          "2019AUG",
          "2019SEP",
          "2019OCT",
          "2019NOV",
          "2019DEC"
         ],
         "xaxis": "x",
         "y": [
          105934,
          96556,
          137415,
          109855,
          120285,
          141637,
          112857,
          111417,
          145841,
          119748,
          129129,
          159027,
          133293,
          115708,
          163490,
          124348,
          136803,
          177570,
          138700,
          139486,
          179851,
          142067,
          139605,
          182362,
          150867,
          144162,
          192175,
          160965,
          163457,
          207586,
          172168,
          170537,
          219757,
          173643,
          175918,
          233582,
          205314,
          191466,
          238723,
          192852,
          195428,
          281147,
          216698,
          221844,
          289932,
          244082,
          224541,
          307518,
          277212,
          228572,
          285821,
          246774,
          236267,
          295723,
          244886,
          256324,
          299783,
          246632,
          259367,
          319041,
          247902,
          252236,
          326718,
          261373,
          268122,
          348259,
          278138,
          275335,
          369637,
          305947,
          327042,
          410746,
          313474,
          314351,
          392918,
          322511,
          338545,
          407133,
          333598,
          317907,
          445096,
          365008,
          384992,
          457291,
          370023,
          364278,
          440316,
          357322,
          348855,
          468417,
          365355,
          390614,
          503356,
          378088,
          390035,
          499076,
          434781,
          440927,
          583775,
          449892,
          475480,
          574770,
          490169,
          483603,
          564344,
          421143,
          454495,
          560786,
          481103,
          470929,
          587351,
          496824,
          485947,
          615845,
          479956,
          471128,
          534911,
          436563,
          382023,
          558399
         ],
         "yaxis": "y"
        }
       ],
       "layout": {
        "legend": {
         "title": {
          "text": "variable"
         },
         "tracegroupgap": 0
        },
        "margin": {
         "t": 60
        },
        "template": {
         "data": {
          "bar": [
           {
            "error_x": {
             "color": "#2a3f5f"
            },
            "error_y": {
             "color": "#2a3f5f"
            },
            "marker": {
             "line": {
              "color": "#E5ECF6",
              "width": 0.5
             },
             "pattern": {
              "fillmode": "overlay",
              "size": 10,
              "solidity": 0.2
             }
            },
            "type": "bar"
           }
          ],
          "barpolar": [
           {
            "marker": {
             "line": {
              "color": "#E5ECF6",
              "width": 0.5
             },
             "pattern": {
              "fillmode": "overlay",
              "size": 10,
              "solidity": 0.2
             }
            },
            "type": "barpolar"
           }
          ],
          "carpet": [
           {
            "aaxis": {
             "endlinecolor": "#2a3f5f",
             "gridcolor": "white",
             "linecolor": "white",
             "minorgridcolor": "white",
             "startlinecolor": "#2a3f5f"
            },
            "baxis": {
             "endlinecolor": "#2a3f5f",
             "gridcolor": "white",
             "linecolor": "white",
             "minorgridcolor": "white",
             "startlinecolor": "#2a3f5f"
            },
            "type": "carpet"
           }
          ],
          "choropleth": [
           {
            "colorbar": {
             "outlinewidth": 0,
             "ticks": ""
            },
            "type": "choropleth"
           }
          ],
          "contour": [
           {
            "colorbar": {
             "outlinewidth": 0,
             "ticks": ""
            },
            "colorscale": [
             [
              0,
              "#0d0887"
             ],
             [
              0.1111111111111111,
              "#46039f"
             ],
             [
              0.2222222222222222,
              "#7201a8"
             ],
             [
              0.3333333333333333,
              "#9c179e"
             ],
             [
              0.4444444444444444,
              "#bd3786"
             ],
             [
              0.5555555555555556,
              "#d8576b"
             ],
             [
              0.6666666666666666,
              "#ed7953"
             ],
             [
              0.7777777777777778,
              "#fb9f3a"
             ],
             [
              0.8888888888888888,
              "#fdca26"
             ],
             [
              1,
              "#f0f921"
             ]
            ],
            "type": "contour"
           }
          ],
          "contourcarpet": [
           {
            "colorbar": {
             "outlinewidth": 0,
             "ticks": ""
            },
            "type": "contourcarpet"
           }
          ],
          "heatmap": [
           {
            "colorbar": {
             "outlinewidth": 0,
             "ticks": ""
            },
            "colorscale": [
             [
              0,
              "#0d0887"
             ],
             [
              0.1111111111111111,
              "#46039f"
             ],
             [
              0.2222222222222222,
              "#7201a8"
             ],
             [
              0.3333333333333333,
              "#9c179e"
             ],
             [
              0.4444444444444444,
              "#bd3786"
             ],
             [
              0.5555555555555556,
              "#d8576b"
             ],
             [
              0.6666666666666666,
              "#ed7953"
             ],
             [
              0.7777777777777778,
              "#fb9f3a"
             ],
             [
              0.8888888888888888,
              "#fdca26"
             ],
             [
              1,
              "#f0f921"
             ]
            ],
            "type": "heatmap"
           }
          ],
          "heatmapgl": [
           {
            "colorbar": {
             "outlinewidth": 0,
             "ticks": ""
            },
            "colorscale": [
             [
              0,
              "#0d0887"
             ],
             [
              0.1111111111111111,
              "#46039f"
             ],
             [
              0.2222222222222222,
              "#7201a8"
             ],
             [
              0.3333333333333333,
              "#9c179e"
             ],
             [
              0.4444444444444444,
              "#bd3786"
             ],
             [
              0.5555555555555556,
              "#d8576b"
             ],
             [
              0.6666666666666666,
              "#ed7953"
             ],
             [
              0.7777777777777778,
              "#fb9f3a"
             ],
             [
              0.8888888888888888,
              "#fdca26"
             ],
             [
              1,
              "#f0f921"
             ]
            ],
            "type": "heatmapgl"
           }
          ],
          "histogram": [
           {
            "marker": {
             "pattern": {
              "fillmode": "overlay",
              "size": 10,
              "solidity": 0.2
             }
            },
            "type": "histogram"
           }
          ],
          "histogram2d": [
           {
            "colorbar": {
             "outlinewidth": 0,
             "ticks": ""
            },
            "colorscale": [
             [
              0,
              "#0d0887"
             ],
             [
              0.1111111111111111,
              "#46039f"
             ],
             [
              0.2222222222222222,
              "#7201a8"
             ],
             [
              0.3333333333333333,
              "#9c179e"
             ],
             [
              0.4444444444444444,
              "#bd3786"
             ],
             [
              0.5555555555555556,
              "#d8576b"
             ],
             [
              0.6666666666666666,
              "#ed7953"
             ],
             [
              0.7777777777777778,
              "#fb9f3a"
             ],
             [
              0.8888888888888888,
              "#fdca26"
             ],
             [
              1,
              "#f0f921"
             ]
            ],
            "type": "histogram2d"
           }
          ],
          "histogram2dcontour": [
           {
            "colorbar": {
             "outlinewidth": 0,
             "ticks": ""
            },
            "colorscale": [
             [
              0,
              "#0d0887"
             ],
             [
              0.1111111111111111,
              "#46039f"
             ],
             [
              0.2222222222222222,
              "#7201a8"
             ],
             [
              0.3333333333333333,
              "#9c179e"
             ],
             [
              0.4444444444444444,
              "#bd3786"
             ],
             [
              0.5555555555555556,
              "#d8576b"
             ],
             [
              0.6666666666666666,
              "#ed7953"
             ],
             [
              0.7777777777777778,
              "#fb9f3a"
             ],
             [
              0.8888888888888888,
              "#fdca26"
             ],
             [
              1,
              "#f0f921"
             ]
            ],
            "type": "histogram2dcontour"
           }
          ],
          "mesh3d": [
           {
            "colorbar": {
             "outlinewidth": 0,
             "ticks": ""
            },
            "type": "mesh3d"
           }
          ],
          "parcoords": [
           {
            "line": {
             "colorbar": {
              "outlinewidth": 0,
              "ticks": ""
             }
            },
            "type": "parcoords"
           }
          ],
          "pie": [
           {
            "automargin": true,
            "type": "pie"
           }
          ],
          "scatter": [
           {
            "fillpattern": {
             "fillmode": "overlay",
             "size": 10,
             "solidity": 0.2
            },
            "type": "scatter"
           }
          ],
          "scatter3d": [
           {
            "line": {
             "colorbar": {
              "outlinewidth": 0,
              "ticks": ""
             }
            },
            "marker": {
             "colorbar": {
              "outlinewidth": 0,
              "ticks": ""
             }
            },
            "type": "scatter3d"
           }
          ],
          "scattercarpet": [
           {
            "marker": {
             "colorbar": {
              "outlinewidth": 0,
              "ticks": ""
             }
            },
            "type": "scattercarpet"
           }
          ],
          "scattergeo": [
           {
            "marker": {
             "colorbar": {
              "outlinewidth": 0,
              "ticks": ""
             }
            },
            "type": "scattergeo"
           }
          ],
          "scattergl": [
           {
            "marker": {
             "colorbar": {
              "outlinewidth": 0,
              "ticks": ""
             }
            },
            "type": "scattergl"
           }
          ],
          "scattermapbox": [
           {
            "marker": {
             "colorbar": {
              "outlinewidth": 0,
              "ticks": ""
             }
            },
            "type": "scattermapbox"
           }
          ],
          "scatterpolar": [
           {
            "marker": {
             "colorbar": {
              "outlinewidth": 0,
              "ticks": ""
             }
            },
            "type": "scatterpolar"
           }
          ],
          "scatterpolargl": [
           {
            "marker": {
             "colorbar": {
              "outlinewidth": 0,
              "ticks": ""
             }
            },
            "type": "scatterpolargl"
           }
          ],
          "scatterternary": [
           {
            "marker": {
             "colorbar": {
              "outlinewidth": 0,
              "ticks": ""
             }
            },
            "type": "scatterternary"
           }
          ],
          "surface": [
           {
            "colorbar": {
             "outlinewidth": 0,
             "ticks": ""
            },
            "colorscale": [
             [
              0,
              "#0d0887"
             ],
             [
              0.1111111111111111,
              "#46039f"
             ],
             [
              0.2222222222222222,
              "#7201a8"
             ],
             [
              0.3333333333333333,
              "#9c179e"
             ],
             [
              0.4444444444444444,
              "#bd3786"
             ],
             [
              0.5555555555555556,
              "#d8576b"
             ],
             [
              0.6666666666666666,
              "#ed7953"
             ],
             [
              0.7777777777777778,
              "#fb9f3a"
             ],
             [
              0.8888888888888888,
              "#fdca26"
             ],
             [
              1,
              "#f0f921"
             ]
            ],
            "type": "surface"
           }
          ],
          "table": [
           {
            "cells": {
             "fill": {
              "color": "#EBF0F8"
             },
             "line": {
              "color": "white"
             }
            },
            "header": {
             "fill": {
              "color": "#C8D4E3"
             },
             "line": {
              "color": "white"
             }
            },
            "type": "table"
           }
          ]
         },
         "layout": {
          "annotationdefaults": {
           "arrowcolor": "#2a3f5f",
           "arrowhead": 0,
           "arrowwidth": 1
          },
          "autotypenumbers": "strict",
          "coloraxis": {
           "colorbar": {
            "outlinewidth": 0,
            "ticks": ""
           }
          },
          "colorscale": {
           "diverging": [
            [
             0,
             "#8e0152"
            ],
            [
             0.1,
             "#c51b7d"
            ],
            [
             0.2,
             "#de77ae"
            ],
            [
             0.3,
             "#f1b6da"
            ],
            [
             0.4,
             "#fde0ef"
            ],
            [
             0.5,
             "#f7f7f7"
            ],
            [
             0.6,
             "#e6f5d0"
            ],
            [
             0.7,
             "#b8e186"
            ],
            [
             0.8,
             "#7fbc41"
            ],
            [
             0.9,
             "#4d9221"
            ],
            [
             1,
             "#276419"
            ]
           ],
           "sequential": [
            [
             0,
             "#0d0887"
            ],
            [
             0.1111111111111111,
             "#46039f"
            ],
            [
             0.2222222222222222,
             "#7201a8"
            ],
            [
             0.3333333333333333,
             "#9c179e"
            ],
            [
             0.4444444444444444,
             "#bd3786"
            ],
            [
             0.5555555555555556,
             "#d8576b"
            ],
            [
             0.6666666666666666,
             "#ed7953"
            ],
            [
             0.7777777777777778,
             "#fb9f3a"
            ],
            [
             0.8888888888888888,
             "#fdca26"
            ],
            [
             1,
             "#f0f921"
            ]
           ],
           "sequentialminus": [
            [
             0,
             "#0d0887"
            ],
            [
             0.1111111111111111,
             "#46039f"
            ],
            [
             0.2222222222222222,
             "#7201a8"
            ],
            [
             0.3333333333333333,
             "#9c179e"
            ],
            [
             0.4444444444444444,
             "#bd3786"
            ],
            [
             0.5555555555555556,
             "#d8576b"
            ],
            [
             0.6666666666666666,
             "#ed7953"
            ],
            [
             0.7777777777777778,
             "#fb9f3a"
            ],
            [
             0.8888888888888888,
             "#fdca26"
            ],
            [
             1,
             "#f0f921"
            ]
           ]
          },
          "colorway": [
           "#636efa",
           "#EF553B",
           "#00cc96",
           "#ab63fa",
           "#FFA15A",
           "#19d3f3",
           "#FF6692",
           "#B6E880",
           "#FF97FF",
           "#FECB52"
          ],
          "font": {
           "color": "#2a3f5f"
          },
          "geo": {
           "bgcolor": "white",
           "lakecolor": "white",
           "landcolor": "#E5ECF6",
           "showlakes": true,
           "showland": true,
           "subunitcolor": "white"
          },
          "hoverlabel": {
           "align": "left"
          },
          "hovermode": "closest",
          "mapbox": {
           "style": "light"
          },
          "paper_bgcolor": "white",
          "plot_bgcolor": "#E5ECF6",
          "polar": {
           "angularaxis": {
            "gridcolor": "white",
            "linecolor": "white",
            "ticks": ""
           },
           "bgcolor": "#E5ECF6",
           "radialaxis": {
            "gridcolor": "white",
            "linecolor": "white",
            "ticks": ""
           }
          },
          "scene": {
           "xaxis": {
            "backgroundcolor": "#E5ECF6",
            "gridcolor": "white",
            "gridwidth": 2,
            "linecolor": "white",
            "showbackground": true,
            "ticks": "",
            "zerolinecolor": "white"
           },
           "yaxis": {
            "backgroundcolor": "#E5ECF6",
            "gridcolor": "white",
            "gridwidth": 2,
            "linecolor": "white",
            "showbackground": true,
            "ticks": "",
            "zerolinecolor": "white"
           },
           "zaxis": {
            "backgroundcolor": "#E5ECF6",
            "gridcolor": "white",
            "gridwidth": 2,
            "linecolor": "white",
            "showbackground": true,
            "ticks": "",
            "zerolinecolor": "white"
           }
          },
          "shapedefaults": {
           "line": {
            "color": "#2a3f5f"
           }
          },
          "ternary": {
           "aaxis": {
            "gridcolor": "white",
            "linecolor": "white",
            "ticks": ""
           },
           "baxis": {
            "gridcolor": "white",
            "linecolor": "white",
            "ticks": ""
           },
           "bgcolor": "#E5ECF6",
           "caxis": {
            "gridcolor": "white",
            "linecolor": "white",
            "ticks": ""
           }
          },
          "title": {
           "x": 0.05
          },
          "xaxis": {
           "automargin": true,
           "gridcolor": "white",
           "linecolor": "white",
           "ticks": "",
           "title": {
            "standoff": 15
           },
           "zerolinecolor": "white",
           "zerolinewidth": 2
          },
          "yaxis": {
           "automargin": true,
           "gridcolor": "white",
           "linecolor": "white",
           "ticks": "",
           "title": {
            "standoff": 15
           },
           "zerolinecolor": "white",
           "zerolinewidth": 2
          }
         }
        },
        "xaxis": {
         "anchor": "y",
         "domain": [
          0,
          1
         ],
         "title": {
          "text": "Description"
         }
        },
        "yaxis": {
         "anchor": "x",
         "domain": [
          0,
          1
         ],
         "title": {
          "text": "value"
         }
        }
       }
      }
     },
     "metadata": {},
     "output_type": "display_data"
    }
   ],
   "source": [
    "import plotly.express as px # linechart to show value of sales across selected timeline - during covid\n",
    "dfb = df_preCOVID\n",
    "df = px.data.tips()\n",
    "fig = px.line(dfb, x='Description', y=['Non-specialised stores (i.e supermarkets)', 'Non-specialised stores (i.e department stores)'])\n",
    "fig.show() "
   ]
  },
  {
   "cell_type": "code",
   "execution_count": 15,
   "metadata": {},
   "outputs": [
    {
     "data": {
      "application/vnd.plotly.v1+json": {
       "config": {
        "plotlyServerURL": "https://plot.ly"
       },
       "data": [
        {
         "hovertemplate": "variable=Predominantly food stores<br>Description=%{x}<br>value=%{y}<extra></extra>",
         "legendgroup": "Predominantly food stores",
         "line": {
          "color": "#636efa",
          "dash": "solid"
         },
         "marker": {
          "symbol": "circle"
         },
         "mode": "lines",
         "name": "Predominantly food stores",
         "orientation": "v",
         "showlegend": true,
         "type": "scatter",
         "x": [
          "2020JAN",
          "2020FEB",
          "2020MAR",
          "2020APR",
          "2020MAY",
          "2020JUN",
          "2020JUL",
          "2020AUG",
          "2020SEP",
          "2020OCT",
          "2020NOV",
          "2020DEC",
          "2021JAN",
          "2021FEB",
          "2021MAR",
          "2021APR",
          "2021MAY",
          "2021JUN",
          "2021JUL",
          "2021AUG",
          "2021SEP",
          "2021OCT",
          "2021NOV",
          "2021DEC"
         ],
         "xaxis": "x",
         "y": [
          834812,
          669982,
          986452,
          1292805,
          1552790,
          1917827,
          1461252,
          1441285,
          1759297,
          1429029,
          1458303,
          1881265,
          1631905,
          1598938,
          1984093,
          1490321,
          1438505,
          1821238,
          1461553,
          1447709,
          1791318,
          1401036,
          1354782,
          1873787
         ],
         "yaxis": "y"
        },
        {
         "hovertemplate": "variable=Non-store retailing<br>Description=%{x}<br>value=%{y}<extra></extra>",
         "legendgroup": "Non-store retailing",
         "line": {
          "color": "#EF553B",
          "dash": "solid"
         },
         "marker": {
          "symbol": "circle"
         },
         "mode": "lines",
         "name": "Non-store retailing",
         "orientation": "v",
         "showlegend": true,
         "type": "scatter",
         "x": [
          "2020JAN",
          "2020FEB",
          "2020MAR",
          "2020APR",
          "2020MAY",
          "2020JUN",
          "2020JUL",
          "2020AUG",
          "2020SEP",
          "2020OCT",
          "2020NOV",
          "2020DEC",
          "2021JAN",
          "2021FEB",
          "2021MAR",
          "2021APR",
          "2021MAY",
          "2021JUN",
          "2021JUL",
          "2021AUG",
          "2021SEP",
          "2021OCT",
          "2021NOV",
          "2021DEC"
         ],
         "xaxis": "x",
         "y": [
          4007049,
          3197842,
          4146349,
          3590797,
          4425770,
          5725612,
          4520343,
          4406845,
          5463752,
          4747993,
          4638503,
          5509558,
          4926026,
          5189282,
          6186393,
          4812819,
          4670777,
          5854095,
          4677521,
          4811433,
          6153480,
          4892325,
          4912015,
          5944149
         ],
         "yaxis": "y"
        },
        {
         "hovertemplate": "variable=Predominantly non-food stores<br>Description=%{x}<br>value=%{y}<extra></extra>",
         "legendgroup": "Predominantly non-food stores",
         "line": {
          "color": "#00cc96",
          "dash": "solid"
         },
         "marker": {
          "symbol": "circle"
         },
         "mode": "lines",
         "name": "Predominantly non-food stores",
         "orientation": "v",
         "showlegend": true,
         "type": "scatter",
         "x": [
          "2020JAN",
          "2020FEB",
          "2020MAR",
          "2020APR",
          "2020MAY",
          "2020JUN",
          "2020JUL",
          "2020AUG",
          "2020SEP",
          "2020OCT",
          "2020NOV",
          "2020DEC",
          "2021JAN",
          "2021FEB",
          "2021MAR",
          "2021APR",
          "2021MAY",
          "2021JUN",
          "2021JUL",
          "2021AUG",
          "2021SEP",
          "2021OCT",
          "2021NOV",
          "2021DEC"
         ],
         "xaxis": "x",
         "y": [
          2563821,
          2167151,
          3034576,
          2922930,
          3398078,
          4905048,
          3567981,
          3495912,
          4288537,
          3600530,
          4107569,
          4476698,
          3972779,
          4470488,
          5420548,
          3914387,
          3554912,
          4253489,
          3264292,
          3298074,
          4078939,
          3273196,
          3214688,
          3995813
         ],
         "yaxis": "y"
        },
        {
         "hovertemplate": "variable=Household goods stores<br>Description=%{x}<br>value=%{y}<extra></extra>",
         "legendgroup": "Household goods stores",
         "line": {
          "color": "#ab63fa",
          "dash": "solid"
         },
         "marker": {
          "symbol": "circle"
         },
         "mode": "lines",
         "name": "Household goods stores",
         "orientation": "v",
         "showlegend": true,
         "type": "scatter",
         "x": [
          "2020JAN",
          "2020FEB",
          "2020MAR",
          "2020APR",
          "2020MAY",
          "2020JUN",
          "2020JUL",
          "2020AUG",
          "2020SEP",
          "2020OCT",
          "2020NOV",
          "2020DEC",
          "2021JAN",
          "2021FEB",
          "2021MAR",
          "2021APR",
          "2021MAY",
          "2021JUN",
          "2021JUL",
          "2021AUG",
          "2021SEP",
          "2021OCT",
          "2021NOV",
          "2021DEC"
         ],
         "xaxis": "x",
         "y": [
          464108,
          382834,
          658820,
          749539,
          842787,
          1064940,
          701182,
          736934,
          861242,
          761073,
          904039,
          828828,
          920312,
          1084450,
          1299929,
          911870,
          839519,
          976036,
          705323,
          692406,
          822560,
          640401,
          646295,
          786799
         ],
         "yaxis": "y"
        },
        {
         "hovertemplate": "variable=Specialist food stores (i.e butchers and bakers)<br>Description=%{x}<br>value=%{y}<extra></extra>",
         "legendgroup": "Specialist food stores (i.e butchers and bakers)",
         "line": {
          "color": "#FFA15A",
          "dash": "solid"
         },
         "marker": {
          "symbol": "circle"
         },
         "mode": "lines",
         "name": "Specialist food stores (i.e butchers and bakers)",
         "orientation": "v",
         "showlegend": true,
         "type": "scatter",
         "x": [
          "2020JAN",
          "2020FEB",
          "2020MAR",
          "2020APR",
          "2020MAY",
          "2020JUN",
          "2020JUL",
          "2020AUG",
          "2020SEP",
          "2020OCT",
          "2020NOV",
          "2020DEC",
          "2021JAN",
          "2021FEB",
          "2021MAR",
          "2021APR",
          "2021MAY",
          "2021JUN",
          "2021JUL",
          "2021AUG",
          "2021SEP",
          "2021OCT",
          "2021NOV",
          "2021DEC"
         ],
         "xaxis": "x",
         "y": [
          21029,
          18754,
          34673,
          74598,
          78343,
          60754,
          30332,
          31484,
          40816,
          31290,
          40320,
          54580,
          58031,
          71587,
          87716,
          65748,
          66391,
          78679,
          54050,
          56657,
          71381,
          57156,
          51131,
          65917
         ],
         "yaxis": "y"
        },
        {
         "hovertemplate": "variable=Alcoholic drink, beverages & tobacco<br>Description=%{x}<br>value=%{y}<extra></extra>",
         "legendgroup": "Alcoholic drink, beverages & tobacco",
         "line": {
          "color": "#19d3f3",
          "dash": "solid"
         },
         "marker": {
          "symbol": "circle"
         },
         "mode": "lines",
         "name": "Alcoholic drink, beverages & tobacco",
         "orientation": "v",
         "showlegend": true,
         "type": "scatter",
         "x": [
          "2020JAN",
          "2020FEB",
          "2020MAR",
          "2020APR",
          "2020MAY",
          "2020JUN",
          "2020JUL",
          "2020AUG",
          "2020SEP",
          "2020OCT",
          "2020NOV",
          "2020DEC",
          "2021JAN",
          "2021FEB",
          "2021MAR",
          "2021APR",
          "2021MAY",
          "2021JUN",
          "2021JUL",
          "2021AUG",
          "2021SEP",
          "2021OCT",
          "2021NOV",
          "2021DEC"
         ],
         "xaxis": "x",
         "y": [
          8244,
          9906,
          26288,
          65175,
          62912,
          74285,
          59667,
          46515,
          52823,
          49924,
          52532,
          43017,
          45080,
          40510,
          51074,
          39713,
          36501,
          112960,
          103649,
          118698,
          141770,
          117439,
          103282,
          124793
         ],
         "yaxis": "y"
        }
       ],
       "layout": {
        "legend": {
         "title": {
          "text": "variable"
         },
         "tracegroupgap": 0
        },
        "margin": {
         "t": 60
        },
        "template": {
         "data": {
          "bar": [
           {
            "error_x": {
             "color": "#2a3f5f"
            },
            "error_y": {
             "color": "#2a3f5f"
            },
            "marker": {
             "line": {
              "color": "#E5ECF6",
              "width": 0.5
             },
             "pattern": {
              "fillmode": "overlay",
              "size": 10,
              "solidity": 0.2
             }
            },
            "type": "bar"
           }
          ],
          "barpolar": [
           {
            "marker": {
             "line": {
              "color": "#E5ECF6",
              "width": 0.5
             },
             "pattern": {
              "fillmode": "overlay",
              "size": 10,
              "solidity": 0.2
             }
            },
            "type": "barpolar"
           }
          ],
          "carpet": [
           {
            "aaxis": {
             "endlinecolor": "#2a3f5f",
             "gridcolor": "white",
             "linecolor": "white",
             "minorgridcolor": "white",
             "startlinecolor": "#2a3f5f"
            },
            "baxis": {
             "endlinecolor": "#2a3f5f",
             "gridcolor": "white",
             "linecolor": "white",
             "minorgridcolor": "white",
             "startlinecolor": "#2a3f5f"
            },
            "type": "carpet"
           }
          ],
          "choropleth": [
           {
            "colorbar": {
             "outlinewidth": 0,
             "ticks": ""
            },
            "type": "choropleth"
           }
          ],
          "contour": [
           {
            "colorbar": {
             "outlinewidth": 0,
             "ticks": ""
            },
            "colorscale": [
             [
              0,
              "#0d0887"
             ],
             [
              0.1111111111111111,
              "#46039f"
             ],
             [
              0.2222222222222222,
              "#7201a8"
             ],
             [
              0.3333333333333333,
              "#9c179e"
             ],
             [
              0.4444444444444444,
              "#bd3786"
             ],
             [
              0.5555555555555556,
              "#d8576b"
             ],
             [
              0.6666666666666666,
              "#ed7953"
             ],
             [
              0.7777777777777778,
              "#fb9f3a"
             ],
             [
              0.8888888888888888,
              "#fdca26"
             ],
             [
              1,
              "#f0f921"
             ]
            ],
            "type": "contour"
           }
          ],
          "contourcarpet": [
           {
            "colorbar": {
             "outlinewidth": 0,
             "ticks": ""
            },
            "type": "contourcarpet"
           }
          ],
          "heatmap": [
           {
            "colorbar": {
             "outlinewidth": 0,
             "ticks": ""
            },
            "colorscale": [
             [
              0,
              "#0d0887"
             ],
             [
              0.1111111111111111,
              "#46039f"
             ],
             [
              0.2222222222222222,
              "#7201a8"
             ],
             [
              0.3333333333333333,
              "#9c179e"
             ],
             [
              0.4444444444444444,
              "#bd3786"
             ],
             [
              0.5555555555555556,
              "#d8576b"
             ],
             [
              0.6666666666666666,
              "#ed7953"
             ],
             [
              0.7777777777777778,
              "#fb9f3a"
             ],
             [
              0.8888888888888888,
              "#fdca26"
             ],
             [
              1,
              "#f0f921"
             ]
            ],
            "type": "heatmap"
           }
          ],
          "heatmapgl": [
           {
            "colorbar": {
             "outlinewidth": 0,
             "ticks": ""
            },
            "colorscale": [
             [
              0,
              "#0d0887"
             ],
             [
              0.1111111111111111,
              "#46039f"
             ],
             [
              0.2222222222222222,
              "#7201a8"
             ],
             [
              0.3333333333333333,
              "#9c179e"
             ],
             [
              0.4444444444444444,
              "#bd3786"
             ],
             [
              0.5555555555555556,
              "#d8576b"
             ],
             [
              0.6666666666666666,
              "#ed7953"
             ],
             [
              0.7777777777777778,
              "#fb9f3a"
             ],
             [
              0.8888888888888888,
              "#fdca26"
             ],
             [
              1,
              "#f0f921"
             ]
            ],
            "type": "heatmapgl"
           }
          ],
          "histogram": [
           {
            "marker": {
             "pattern": {
              "fillmode": "overlay",
              "size": 10,
              "solidity": 0.2
             }
            },
            "type": "histogram"
           }
          ],
          "histogram2d": [
           {
            "colorbar": {
             "outlinewidth": 0,
             "ticks": ""
            },
            "colorscale": [
             [
              0,
              "#0d0887"
             ],
             [
              0.1111111111111111,
              "#46039f"
             ],
             [
              0.2222222222222222,
              "#7201a8"
             ],
             [
              0.3333333333333333,
              "#9c179e"
             ],
             [
              0.4444444444444444,
              "#bd3786"
             ],
             [
              0.5555555555555556,
              "#d8576b"
             ],
             [
              0.6666666666666666,
              "#ed7953"
             ],
             [
              0.7777777777777778,
              "#fb9f3a"
             ],
             [
              0.8888888888888888,
              "#fdca26"
             ],
             [
              1,
              "#f0f921"
             ]
            ],
            "type": "histogram2d"
           }
          ],
          "histogram2dcontour": [
           {
            "colorbar": {
             "outlinewidth": 0,
             "ticks": ""
            },
            "colorscale": [
             [
              0,
              "#0d0887"
             ],
             [
              0.1111111111111111,
              "#46039f"
             ],
             [
              0.2222222222222222,
              "#7201a8"
             ],
             [
              0.3333333333333333,
              "#9c179e"
             ],
             [
              0.4444444444444444,
              "#bd3786"
             ],
             [
              0.5555555555555556,
              "#d8576b"
             ],
             [
              0.6666666666666666,
              "#ed7953"
             ],
             [
              0.7777777777777778,
              "#fb9f3a"
             ],
             [
              0.8888888888888888,
              "#fdca26"
             ],
             [
              1,
              "#f0f921"
             ]
            ],
            "type": "histogram2dcontour"
           }
          ],
          "mesh3d": [
           {
            "colorbar": {
             "outlinewidth": 0,
             "ticks": ""
            },
            "type": "mesh3d"
           }
          ],
          "parcoords": [
           {
            "line": {
             "colorbar": {
              "outlinewidth": 0,
              "ticks": ""
             }
            },
            "type": "parcoords"
           }
          ],
          "pie": [
           {
            "automargin": true,
            "type": "pie"
           }
          ],
          "scatter": [
           {
            "fillpattern": {
             "fillmode": "overlay",
             "size": 10,
             "solidity": 0.2
            },
            "type": "scatter"
           }
          ],
          "scatter3d": [
           {
            "line": {
             "colorbar": {
              "outlinewidth": 0,
              "ticks": ""
             }
            },
            "marker": {
             "colorbar": {
              "outlinewidth": 0,
              "ticks": ""
             }
            },
            "type": "scatter3d"
           }
          ],
          "scattercarpet": [
           {
            "marker": {
             "colorbar": {
              "outlinewidth": 0,
              "ticks": ""
             }
            },
            "type": "scattercarpet"
           }
          ],
          "scattergeo": [
           {
            "marker": {
             "colorbar": {
              "outlinewidth": 0,
              "ticks": ""
             }
            },
            "type": "scattergeo"
           }
          ],
          "scattergl": [
           {
            "marker": {
             "colorbar": {
              "outlinewidth": 0,
              "ticks": ""
             }
            },
            "type": "scattergl"
           }
          ],
          "scattermapbox": [
           {
            "marker": {
             "colorbar": {
              "outlinewidth": 0,
              "ticks": ""
             }
            },
            "type": "scattermapbox"
           }
          ],
          "scatterpolar": [
           {
            "marker": {
             "colorbar": {
              "outlinewidth": 0,
              "ticks": ""
             }
            },
            "type": "scatterpolar"
           }
          ],
          "scatterpolargl": [
           {
            "marker": {
             "colorbar": {
              "outlinewidth": 0,
              "ticks": ""
             }
            },
            "type": "scatterpolargl"
           }
          ],
          "scatterternary": [
           {
            "marker": {
             "colorbar": {
              "outlinewidth": 0,
              "ticks": ""
             }
            },
            "type": "scatterternary"
           }
          ],
          "surface": [
           {
            "colorbar": {
             "outlinewidth": 0,
             "ticks": ""
            },
            "colorscale": [
             [
              0,
              "#0d0887"
             ],
             [
              0.1111111111111111,
              "#46039f"
             ],
             [
              0.2222222222222222,
              "#7201a8"
             ],
             [
              0.3333333333333333,
              "#9c179e"
             ],
             [
              0.4444444444444444,
              "#bd3786"
             ],
             [
              0.5555555555555556,
              "#d8576b"
             ],
             [
              0.6666666666666666,
              "#ed7953"
             ],
             [
              0.7777777777777778,
              "#fb9f3a"
             ],
             [
              0.8888888888888888,
              "#fdca26"
             ],
             [
              1,
              "#f0f921"
             ]
            ],
            "type": "surface"
           }
          ],
          "table": [
           {
            "cells": {
             "fill": {
              "color": "#EBF0F8"
             },
             "line": {
              "color": "white"
             }
            },
            "header": {
             "fill": {
              "color": "#C8D4E3"
             },
             "line": {
              "color": "white"
             }
            },
            "type": "table"
           }
          ]
         },
         "layout": {
          "annotationdefaults": {
           "arrowcolor": "#2a3f5f",
           "arrowhead": 0,
           "arrowwidth": 1
          },
          "autotypenumbers": "strict",
          "coloraxis": {
           "colorbar": {
            "outlinewidth": 0,
            "ticks": ""
           }
          },
          "colorscale": {
           "diverging": [
            [
             0,
             "#8e0152"
            ],
            [
             0.1,
             "#c51b7d"
            ],
            [
             0.2,
             "#de77ae"
            ],
            [
             0.3,
             "#f1b6da"
            ],
            [
             0.4,
             "#fde0ef"
            ],
            [
             0.5,
             "#f7f7f7"
            ],
            [
             0.6,
             "#e6f5d0"
            ],
            [
             0.7,
             "#b8e186"
            ],
            [
             0.8,
             "#7fbc41"
            ],
            [
             0.9,
             "#4d9221"
            ],
            [
             1,
             "#276419"
            ]
           ],
           "sequential": [
            [
             0,
             "#0d0887"
            ],
            [
             0.1111111111111111,
             "#46039f"
            ],
            [
             0.2222222222222222,
             "#7201a8"
            ],
            [
             0.3333333333333333,
             "#9c179e"
            ],
            [
             0.4444444444444444,
             "#bd3786"
            ],
            [
             0.5555555555555556,
             "#d8576b"
            ],
            [
             0.6666666666666666,
             "#ed7953"
            ],
            [
             0.7777777777777778,
             "#fb9f3a"
            ],
            [
             0.8888888888888888,
             "#fdca26"
            ],
            [
             1,
             "#f0f921"
            ]
           ],
           "sequentialminus": [
            [
             0,
             "#0d0887"
            ],
            [
             0.1111111111111111,
             "#46039f"
            ],
            [
             0.2222222222222222,
             "#7201a8"
            ],
            [
             0.3333333333333333,
             "#9c179e"
            ],
            [
             0.4444444444444444,
             "#bd3786"
            ],
            [
             0.5555555555555556,
             "#d8576b"
            ],
            [
             0.6666666666666666,
             "#ed7953"
            ],
            [
             0.7777777777777778,
             "#fb9f3a"
            ],
            [
             0.8888888888888888,
             "#fdca26"
            ],
            [
             1,
             "#f0f921"
            ]
           ]
          },
          "colorway": [
           "#636efa",
           "#EF553B",
           "#00cc96",
           "#ab63fa",
           "#FFA15A",
           "#19d3f3",
           "#FF6692",
           "#B6E880",
           "#FF97FF",
           "#FECB52"
          ],
          "font": {
           "color": "#2a3f5f"
          },
          "geo": {
           "bgcolor": "white",
           "lakecolor": "white",
           "landcolor": "#E5ECF6",
           "showlakes": true,
           "showland": true,
           "subunitcolor": "white"
          },
          "hoverlabel": {
           "align": "left"
          },
          "hovermode": "closest",
          "mapbox": {
           "style": "light"
          },
          "paper_bgcolor": "white",
          "plot_bgcolor": "#E5ECF6",
          "polar": {
           "angularaxis": {
            "gridcolor": "white",
            "linecolor": "white",
            "ticks": ""
           },
           "bgcolor": "#E5ECF6",
           "radialaxis": {
            "gridcolor": "white",
            "linecolor": "white",
            "ticks": ""
           }
          },
          "scene": {
           "xaxis": {
            "backgroundcolor": "#E5ECF6",
            "gridcolor": "white",
            "gridwidth": 2,
            "linecolor": "white",
            "showbackground": true,
            "ticks": "",
            "zerolinecolor": "white"
           },
           "yaxis": {
            "backgroundcolor": "#E5ECF6",
            "gridcolor": "white",
            "gridwidth": 2,
            "linecolor": "white",
            "showbackground": true,
            "ticks": "",
            "zerolinecolor": "white"
           },
           "zaxis": {
            "backgroundcolor": "#E5ECF6",
            "gridcolor": "white",
            "gridwidth": 2,
            "linecolor": "white",
            "showbackground": true,
            "ticks": "",
            "zerolinecolor": "white"
           }
          },
          "shapedefaults": {
           "line": {
            "color": "#2a3f5f"
           }
          },
          "ternary": {
           "aaxis": {
            "gridcolor": "white",
            "linecolor": "white",
            "ticks": ""
           },
           "baxis": {
            "gridcolor": "white",
            "linecolor": "white",
            "ticks": ""
           },
           "bgcolor": "#E5ECF6",
           "caxis": {
            "gridcolor": "white",
            "linecolor": "white",
            "ticks": ""
           }
          },
          "title": {
           "x": 0.05
          },
          "xaxis": {
           "automargin": true,
           "gridcolor": "white",
           "linecolor": "white",
           "ticks": "",
           "title": {
            "standoff": 15
           },
           "zerolinecolor": "white",
           "zerolinewidth": 2
          },
          "yaxis": {
           "automargin": true,
           "gridcolor": "white",
           "linecolor": "white",
           "ticks": "",
           "title": {
            "standoff": 15
           },
           "zerolinecolor": "white",
           "zerolinewidth": 2
          }
         }
        },
        "xaxis": {
         "anchor": "y",
         "domain": [
          0,
          1
         ],
         "title": {
          "text": "Description"
         }
        },
        "yaxis": {
         "anchor": "x",
         "domain": [
          0,
          1
         ],
         "title": {
          "text": "value"
         }
        }
       }
      }
     },
     "metadata": {},
     "output_type": "display_data"
    }
   ],
   "source": [
    "import plotly.express as px # linechart to show value of sales across selected timeline - during covid\n",
    "dfb = df_COVID\n",
    "df = px.data.tips()\n",
    "fig = px.line(dfb, x='Description', y=['Predominantly food stores', 'Non-store retailing', 'Predominantly non-food stores', 'Household goods stores', 'Specialist food stores (i.e butchers and bakers)', 'Alcoholic drink, beverages & tobacco', 'Household goods stores'])\n",
    "fig.show() "
   ]
  },
  {
   "cell_type": "code",
   "execution_count": 32,
   "metadata": {},
   "outputs": [
    {
     "data": {
      "application/vnd.plotly.v1+json": {
       "config": {
        "plotlyServerURL": "https://plot.ly"
       },
       "data": [
        {
         "hovertemplate": "variable=Non-specialised stores (i.e supermarkets)<br>Description=%{x}<br>value=%{y}<extra></extra>",
         "legendgroup": "Non-specialised stores (i.e supermarkets)",
         "line": {
          "color": "#636efa",
          "dash": "solid"
         },
         "marker": {
          "symbol": "circle"
         },
         "mode": "lines",
         "name": "Non-specialised stores (i.e supermarkets)",
         "orientation": "v",
         "showlegend": true,
         "type": "scatter",
         "x": [
          "2020JAN",
          "2020FEB",
          "2020MAR",
          "2020APR",
          "2020MAY",
          "2020JUN",
          "2020JUL",
          "2020AUG",
          "2020SEP",
          "2020OCT",
          "2020NOV",
          "2020DEC",
          "2021JAN",
          "2021FEB",
          "2021MAR",
          "2021APR",
          "2021MAY",
          "2021JUN",
          "2021JUL",
          "2021AUG",
          "2021SEP",
          "2021OCT",
          "2021NOV",
          "2021DEC"
         ],
         "xaxis": "x",
         "y": [
          805539,
          641322,
          925491,
          1153032,
          1411535,
          1782788,
          1371253,
          1363286,
          1665658,
          1347815,
          1365451,
          1783668,
          1528794,
          1486841,
          1845303,
          1384860,
          1335613,
          1629599,
          1303854,
          1272354,
          1578167,
          1226441,
          1200369,
          1683077
         ],
         "yaxis": "y"
        },
        {
         "hovertemplate": "variable=Non-specialised stores (i.e department stores)<br>Description=%{x}<br>value=%{y}<extra></extra>",
         "legendgroup": "Non-specialised stores (i.e department stores)",
         "line": {
          "color": "#EF553B",
          "dash": "solid"
         },
         "marker": {
          "symbol": "circle"
         },
         "mode": "lines",
         "name": "Non-specialised stores (i.e department stores)",
         "orientation": "v",
         "showlegend": true,
         "type": "scatter",
         "x": [
          "2020JAN",
          "2020FEB",
          "2020MAR",
          "2020APR",
          "2020MAY",
          "2020JUN",
          "2020JUL",
          "2020AUG",
          "2020SEP",
          "2020OCT",
          "2020NOV",
          "2020DEC",
          "2021JAN",
          "2021FEB",
          "2021MAR",
          "2021APR",
          "2021MAY",
          "2021JUN",
          "2021JUL",
          "2021AUG",
          "2021SEP",
          "2021OCT",
          "2021NOV",
          "2021DEC"
         ],
         "xaxis": "x",
         "y": [
          539656,
          444667,
          811161,
          784894,
          765806,
          1223721,
          803387,
          798850,
          1054879,
          847298,
          949561,
          1115263,
          775043,
          912731,
          1116108,
          752395,
          716554,
          858733,
          664656,
          654767,
          850104,
          670733,
          659784,
          743741
         ],
         "yaxis": "y"
        }
       ],
       "layout": {
        "legend": {
         "title": {
          "text": "variable"
         },
         "tracegroupgap": 0
        },
        "margin": {
         "t": 60
        },
        "template": {
         "data": {
          "bar": [
           {
            "error_x": {
             "color": "#2a3f5f"
            },
            "error_y": {
             "color": "#2a3f5f"
            },
            "marker": {
             "line": {
              "color": "#E5ECF6",
              "width": 0.5
             },
             "pattern": {
              "fillmode": "overlay",
              "size": 10,
              "solidity": 0.2
             }
            },
            "type": "bar"
           }
          ],
          "barpolar": [
           {
            "marker": {
             "line": {
              "color": "#E5ECF6",
              "width": 0.5
             },
             "pattern": {
              "fillmode": "overlay",
              "size": 10,
              "solidity": 0.2
             }
            },
            "type": "barpolar"
           }
          ],
          "carpet": [
           {
            "aaxis": {
             "endlinecolor": "#2a3f5f",
             "gridcolor": "white",
             "linecolor": "white",
             "minorgridcolor": "white",
             "startlinecolor": "#2a3f5f"
            },
            "baxis": {
             "endlinecolor": "#2a3f5f",
             "gridcolor": "white",
             "linecolor": "white",
             "minorgridcolor": "white",
             "startlinecolor": "#2a3f5f"
            },
            "type": "carpet"
           }
          ],
          "choropleth": [
           {
            "colorbar": {
             "outlinewidth": 0,
             "ticks": ""
            },
            "type": "choropleth"
           }
          ],
          "contour": [
           {
            "colorbar": {
             "outlinewidth": 0,
             "ticks": ""
            },
            "colorscale": [
             [
              0,
              "#0d0887"
             ],
             [
              0.1111111111111111,
              "#46039f"
             ],
             [
              0.2222222222222222,
              "#7201a8"
             ],
             [
              0.3333333333333333,
              "#9c179e"
             ],
             [
              0.4444444444444444,
              "#bd3786"
             ],
             [
              0.5555555555555556,
              "#d8576b"
             ],
             [
              0.6666666666666666,
              "#ed7953"
             ],
             [
              0.7777777777777778,
              "#fb9f3a"
             ],
             [
              0.8888888888888888,
              "#fdca26"
             ],
             [
              1,
              "#f0f921"
             ]
            ],
            "type": "contour"
           }
          ],
          "contourcarpet": [
           {
            "colorbar": {
             "outlinewidth": 0,
             "ticks": ""
            },
            "type": "contourcarpet"
           }
          ],
          "heatmap": [
           {
            "colorbar": {
             "outlinewidth": 0,
             "ticks": ""
            },
            "colorscale": [
             [
              0,
              "#0d0887"
             ],
             [
              0.1111111111111111,
              "#46039f"
             ],
             [
              0.2222222222222222,
              "#7201a8"
             ],
             [
              0.3333333333333333,
              "#9c179e"
             ],
             [
              0.4444444444444444,
              "#bd3786"
             ],
             [
              0.5555555555555556,
              "#d8576b"
             ],
             [
              0.6666666666666666,
              "#ed7953"
             ],
             [
              0.7777777777777778,
              "#fb9f3a"
             ],
             [
              0.8888888888888888,
              "#fdca26"
             ],
             [
              1,
              "#f0f921"
             ]
            ],
            "type": "heatmap"
           }
          ],
          "heatmapgl": [
           {
            "colorbar": {
             "outlinewidth": 0,
             "ticks": ""
            },
            "colorscale": [
             [
              0,
              "#0d0887"
             ],
             [
              0.1111111111111111,
              "#46039f"
             ],
             [
              0.2222222222222222,
              "#7201a8"
             ],
             [
              0.3333333333333333,
              "#9c179e"
             ],
             [
              0.4444444444444444,
              "#bd3786"
             ],
             [
              0.5555555555555556,
              "#d8576b"
             ],
             [
              0.6666666666666666,
              "#ed7953"
             ],
             [
              0.7777777777777778,
              "#fb9f3a"
             ],
             [
              0.8888888888888888,
              "#fdca26"
             ],
             [
              1,
              "#f0f921"
             ]
            ],
            "type": "heatmapgl"
           }
          ],
          "histogram": [
           {
            "marker": {
             "pattern": {
              "fillmode": "overlay",
              "size": 10,
              "solidity": 0.2
             }
            },
            "type": "histogram"
           }
          ],
          "histogram2d": [
           {
            "colorbar": {
             "outlinewidth": 0,
             "ticks": ""
            },
            "colorscale": [
             [
              0,
              "#0d0887"
             ],
             [
              0.1111111111111111,
              "#46039f"
             ],
             [
              0.2222222222222222,
              "#7201a8"
             ],
             [
              0.3333333333333333,
              "#9c179e"
             ],
             [
              0.4444444444444444,
              "#bd3786"
             ],
             [
              0.5555555555555556,
              "#d8576b"
             ],
             [
              0.6666666666666666,
              "#ed7953"
             ],
             [
              0.7777777777777778,
              "#fb9f3a"
             ],
             [
              0.8888888888888888,
              "#fdca26"
             ],
             [
              1,
              "#f0f921"
             ]
            ],
            "type": "histogram2d"
           }
          ],
          "histogram2dcontour": [
           {
            "colorbar": {
             "outlinewidth": 0,
             "ticks": ""
            },
            "colorscale": [
             [
              0,
              "#0d0887"
             ],
             [
              0.1111111111111111,
              "#46039f"
             ],
             [
              0.2222222222222222,
              "#7201a8"
             ],
             [
              0.3333333333333333,
              "#9c179e"
             ],
             [
              0.4444444444444444,
              "#bd3786"
             ],
             [
              0.5555555555555556,
              "#d8576b"
             ],
             [
              0.6666666666666666,
              "#ed7953"
             ],
             [
              0.7777777777777778,
              "#fb9f3a"
             ],
             [
              0.8888888888888888,
              "#fdca26"
             ],
             [
              1,
              "#f0f921"
             ]
            ],
            "type": "histogram2dcontour"
           }
          ],
          "mesh3d": [
           {
            "colorbar": {
             "outlinewidth": 0,
             "ticks": ""
            },
            "type": "mesh3d"
           }
          ],
          "parcoords": [
           {
            "line": {
             "colorbar": {
              "outlinewidth": 0,
              "ticks": ""
             }
            },
            "type": "parcoords"
           }
          ],
          "pie": [
           {
            "automargin": true,
            "type": "pie"
           }
          ],
          "scatter": [
           {
            "fillpattern": {
             "fillmode": "overlay",
             "size": 10,
             "solidity": 0.2
            },
            "type": "scatter"
           }
          ],
          "scatter3d": [
           {
            "line": {
             "colorbar": {
              "outlinewidth": 0,
              "ticks": ""
             }
            },
            "marker": {
             "colorbar": {
              "outlinewidth": 0,
              "ticks": ""
             }
            },
            "type": "scatter3d"
           }
          ],
          "scattercarpet": [
           {
            "marker": {
             "colorbar": {
              "outlinewidth": 0,
              "ticks": ""
             }
            },
            "type": "scattercarpet"
           }
          ],
          "scattergeo": [
           {
            "marker": {
             "colorbar": {
              "outlinewidth": 0,
              "ticks": ""
             }
            },
            "type": "scattergeo"
           }
          ],
          "scattergl": [
           {
            "marker": {
             "colorbar": {
              "outlinewidth": 0,
              "ticks": ""
             }
            },
            "type": "scattergl"
           }
          ],
          "scattermapbox": [
           {
            "marker": {
             "colorbar": {
              "outlinewidth": 0,
              "ticks": ""
             }
            },
            "type": "scattermapbox"
           }
          ],
          "scatterpolar": [
           {
            "marker": {
             "colorbar": {
              "outlinewidth": 0,
              "ticks": ""
             }
            },
            "type": "scatterpolar"
           }
          ],
          "scatterpolargl": [
           {
            "marker": {
             "colorbar": {
              "outlinewidth": 0,
              "ticks": ""
             }
            },
            "type": "scatterpolargl"
           }
          ],
          "scatterternary": [
           {
            "marker": {
             "colorbar": {
              "outlinewidth": 0,
              "ticks": ""
             }
            },
            "type": "scatterternary"
           }
          ],
          "surface": [
           {
            "colorbar": {
             "outlinewidth": 0,
             "ticks": ""
            },
            "colorscale": [
             [
              0,
              "#0d0887"
             ],
             [
              0.1111111111111111,
              "#46039f"
             ],
             [
              0.2222222222222222,
              "#7201a8"
             ],
             [
              0.3333333333333333,
              "#9c179e"
             ],
             [
              0.4444444444444444,
              "#bd3786"
             ],
             [
              0.5555555555555556,
              "#d8576b"
             ],
             [
              0.6666666666666666,
              "#ed7953"
             ],
             [
              0.7777777777777778,
              "#fb9f3a"
             ],
             [
              0.8888888888888888,
              "#fdca26"
             ],
             [
              1,
              "#f0f921"
             ]
            ],
            "type": "surface"
           }
          ],
          "table": [
           {
            "cells": {
             "fill": {
              "color": "#EBF0F8"
             },
             "line": {
              "color": "white"
             }
            },
            "header": {
             "fill": {
              "color": "#C8D4E3"
             },
             "line": {
              "color": "white"
             }
            },
            "type": "table"
           }
          ]
         },
         "layout": {
          "annotationdefaults": {
           "arrowcolor": "#2a3f5f",
           "arrowhead": 0,
           "arrowwidth": 1
          },
          "autotypenumbers": "strict",
          "coloraxis": {
           "colorbar": {
            "outlinewidth": 0,
            "ticks": ""
           }
          },
          "colorscale": {
           "diverging": [
            [
             0,
             "#8e0152"
            ],
            [
             0.1,
             "#c51b7d"
            ],
            [
             0.2,
             "#de77ae"
            ],
            [
             0.3,
             "#f1b6da"
            ],
            [
             0.4,
             "#fde0ef"
            ],
            [
             0.5,
             "#f7f7f7"
            ],
            [
             0.6,
             "#e6f5d0"
            ],
            [
             0.7,
             "#b8e186"
            ],
            [
             0.8,
             "#7fbc41"
            ],
            [
             0.9,
             "#4d9221"
            ],
            [
             1,
             "#276419"
            ]
           ],
           "sequential": [
            [
             0,
             "#0d0887"
            ],
            [
             0.1111111111111111,
             "#46039f"
            ],
            [
             0.2222222222222222,
             "#7201a8"
            ],
            [
             0.3333333333333333,
             "#9c179e"
            ],
            [
             0.4444444444444444,
             "#bd3786"
            ],
            [
             0.5555555555555556,
             "#d8576b"
            ],
            [
             0.6666666666666666,
             "#ed7953"
            ],
            [
             0.7777777777777778,
             "#fb9f3a"
            ],
            [
             0.8888888888888888,
             "#fdca26"
            ],
            [
             1,
             "#f0f921"
            ]
           ],
           "sequentialminus": [
            [
             0,
             "#0d0887"
            ],
            [
             0.1111111111111111,
             "#46039f"
            ],
            [
             0.2222222222222222,
             "#7201a8"
            ],
            [
             0.3333333333333333,
             "#9c179e"
            ],
            [
             0.4444444444444444,
             "#bd3786"
            ],
            [
             0.5555555555555556,
             "#d8576b"
            ],
            [
             0.6666666666666666,
             "#ed7953"
            ],
            [
             0.7777777777777778,
             "#fb9f3a"
            ],
            [
             0.8888888888888888,
             "#fdca26"
            ],
            [
             1,
             "#f0f921"
            ]
           ]
          },
          "colorway": [
           "#636efa",
           "#EF553B",
           "#00cc96",
           "#ab63fa",
           "#FFA15A",
           "#19d3f3",
           "#FF6692",
           "#B6E880",
           "#FF97FF",
           "#FECB52"
          ],
          "font": {
           "color": "#2a3f5f"
          },
          "geo": {
           "bgcolor": "white",
           "lakecolor": "white",
           "landcolor": "#E5ECF6",
           "showlakes": true,
           "showland": true,
           "subunitcolor": "white"
          },
          "hoverlabel": {
           "align": "left"
          },
          "hovermode": "closest",
          "mapbox": {
           "style": "light"
          },
          "paper_bgcolor": "white",
          "plot_bgcolor": "#E5ECF6",
          "polar": {
           "angularaxis": {
            "gridcolor": "white",
            "linecolor": "white",
            "ticks": ""
           },
           "bgcolor": "#E5ECF6",
           "radialaxis": {
            "gridcolor": "white",
            "linecolor": "white",
            "ticks": ""
           }
          },
          "scene": {
           "xaxis": {
            "backgroundcolor": "#E5ECF6",
            "gridcolor": "white",
            "gridwidth": 2,
            "linecolor": "white",
            "showbackground": true,
            "ticks": "",
            "zerolinecolor": "white"
           },
           "yaxis": {
            "backgroundcolor": "#E5ECF6",
            "gridcolor": "white",
            "gridwidth": 2,
            "linecolor": "white",
            "showbackground": true,
            "ticks": "",
            "zerolinecolor": "white"
           },
           "zaxis": {
            "backgroundcolor": "#E5ECF6",
            "gridcolor": "white",
            "gridwidth": 2,
            "linecolor": "white",
            "showbackground": true,
            "ticks": "",
            "zerolinecolor": "white"
           }
          },
          "shapedefaults": {
           "line": {
            "color": "#2a3f5f"
           }
          },
          "ternary": {
           "aaxis": {
            "gridcolor": "white",
            "linecolor": "white",
            "ticks": ""
           },
           "baxis": {
            "gridcolor": "white",
            "linecolor": "white",
            "ticks": ""
           },
           "bgcolor": "#E5ECF6",
           "caxis": {
            "gridcolor": "white",
            "linecolor": "white",
            "ticks": ""
           }
          },
          "title": {
           "x": 0.05
          },
          "xaxis": {
           "automargin": true,
           "gridcolor": "white",
           "linecolor": "white",
           "ticks": "",
           "title": {
            "standoff": 15
           },
           "zerolinecolor": "white",
           "zerolinewidth": 2
          },
          "yaxis": {
           "automargin": true,
           "gridcolor": "white",
           "linecolor": "white",
           "ticks": "",
           "title": {
            "standoff": 15
           },
           "zerolinecolor": "white",
           "zerolinewidth": 2
          }
         }
        },
        "xaxis": {
         "anchor": "y",
         "domain": [
          0,
          1
         ],
         "title": {
          "text": "Description"
         }
        },
        "yaxis": {
         "anchor": "x",
         "domain": [
          0,
          1
         ],
         "title": {
          "text": "value"
         }
        }
       }
      }
     },
     "metadata": {},
     "output_type": "display_data"
    }
   ],
   "source": [
    "import plotly.express as px # linechart to show value of sales across selected timeline - during covid\n",
    "dfb = df_COVID\n",
    "df = px.data.tips()\n",
    "fig = px.line(dfb, x='Description', y=['Non-specialised stores (i.e supermarkets)', 'Non-specialised stores (i.e department stores)'])\n",
    "fig.show() "
   ]
  },
  {
   "cell_type": "code",
   "execution_count": 16,
   "metadata": {},
   "outputs": [
    {
     "data": {
      "application/vnd.plotly.v1+json": {
       "config": {
        "plotlyServerURL": "https://plot.ly"
       },
       "data": [
        {
         "hovertemplate": "variable=All retailing<br>Description=%{x}<br>value=%{y}<extra></extra>",
         "legendgroup": "All retailing",
         "line": {
          "color": "#636efa",
          "dash": "solid"
         },
         "marker": {
          "symbol": "circle"
         },
         "mode": "lines",
         "name": "All retailing",
         "orientation": "v",
         "showlegend": true,
         "type": "scatter",
         "x": [
          "2020JAN",
          "2020FEB",
          "2020MAR",
          "2020APR",
          "2020MAY",
          "2020JUN",
          "2020JUL",
          "2020AUG",
          "2020SEP",
          "2020OCT",
          "2020NOV",
          "2020DEC",
          "2021JAN",
          "2021FEB",
          "2021MAR",
          "2021APR",
          "2021MAY",
          "2021JUN",
          "2021JUL",
          "2021AUG",
          "2021SEP",
          "2021OCT",
          "2021NOV",
          "2021DEC"
         ],
         "xaxis": "x",
         "y": [
          7405682,
          6034975,
          8167377,
          7806532,
          9376638,
          12548487,
          9549576,
          9344042,
          11511586,
          9777552,
          10204375,
          11867521,
          10530710,
          11258708,
          13591034,
          10217527,
          9664194,
          11928822,
          9403366,
          9557216,
          12023737,
          9566557,
          9481485,
          11813749
         ],
         "yaxis": "y"
        }
       ],
       "layout": {
        "legend": {
         "title": {
          "text": "variable"
         },
         "tracegroupgap": 0
        },
        "margin": {
         "t": 60
        },
        "template": {
         "data": {
          "bar": [
           {
            "error_x": {
             "color": "#2a3f5f"
            },
            "error_y": {
             "color": "#2a3f5f"
            },
            "marker": {
             "line": {
              "color": "#E5ECF6",
              "width": 0.5
             },
             "pattern": {
              "fillmode": "overlay",
              "size": 10,
              "solidity": 0.2
             }
            },
            "type": "bar"
           }
          ],
          "barpolar": [
           {
            "marker": {
             "line": {
              "color": "#E5ECF6",
              "width": 0.5
             },
             "pattern": {
              "fillmode": "overlay",
              "size": 10,
              "solidity": 0.2
             }
            },
            "type": "barpolar"
           }
          ],
          "carpet": [
           {
            "aaxis": {
             "endlinecolor": "#2a3f5f",
             "gridcolor": "white",
             "linecolor": "white",
             "minorgridcolor": "white",
             "startlinecolor": "#2a3f5f"
            },
            "baxis": {
             "endlinecolor": "#2a3f5f",
             "gridcolor": "white",
             "linecolor": "white",
             "minorgridcolor": "white",
             "startlinecolor": "#2a3f5f"
            },
            "type": "carpet"
           }
          ],
          "choropleth": [
           {
            "colorbar": {
             "outlinewidth": 0,
             "ticks": ""
            },
            "type": "choropleth"
           }
          ],
          "contour": [
           {
            "colorbar": {
             "outlinewidth": 0,
             "ticks": ""
            },
            "colorscale": [
             [
              0,
              "#0d0887"
             ],
             [
              0.1111111111111111,
              "#46039f"
             ],
             [
              0.2222222222222222,
              "#7201a8"
             ],
             [
              0.3333333333333333,
              "#9c179e"
             ],
             [
              0.4444444444444444,
              "#bd3786"
             ],
             [
              0.5555555555555556,
              "#d8576b"
             ],
             [
              0.6666666666666666,
              "#ed7953"
             ],
             [
              0.7777777777777778,
              "#fb9f3a"
             ],
             [
              0.8888888888888888,
              "#fdca26"
             ],
             [
              1,
              "#f0f921"
             ]
            ],
            "type": "contour"
           }
          ],
          "contourcarpet": [
           {
            "colorbar": {
             "outlinewidth": 0,
             "ticks": ""
            },
            "type": "contourcarpet"
           }
          ],
          "heatmap": [
           {
            "colorbar": {
             "outlinewidth": 0,
             "ticks": ""
            },
            "colorscale": [
             [
              0,
              "#0d0887"
             ],
             [
              0.1111111111111111,
              "#46039f"
             ],
             [
              0.2222222222222222,
              "#7201a8"
             ],
             [
              0.3333333333333333,
              "#9c179e"
             ],
             [
              0.4444444444444444,
              "#bd3786"
             ],
             [
              0.5555555555555556,
              "#d8576b"
             ],
             [
              0.6666666666666666,
              "#ed7953"
             ],
             [
              0.7777777777777778,
              "#fb9f3a"
             ],
             [
              0.8888888888888888,
              "#fdca26"
             ],
             [
              1,
              "#f0f921"
             ]
            ],
            "type": "heatmap"
           }
          ],
          "heatmapgl": [
           {
            "colorbar": {
             "outlinewidth": 0,
             "ticks": ""
            },
            "colorscale": [
             [
              0,
              "#0d0887"
             ],
             [
              0.1111111111111111,
              "#46039f"
             ],
             [
              0.2222222222222222,
              "#7201a8"
             ],
             [
              0.3333333333333333,
              "#9c179e"
             ],
             [
              0.4444444444444444,
              "#bd3786"
             ],
             [
              0.5555555555555556,
              "#d8576b"
             ],
             [
              0.6666666666666666,
              "#ed7953"
             ],
             [
              0.7777777777777778,
              "#fb9f3a"
             ],
             [
              0.8888888888888888,
              "#fdca26"
             ],
             [
              1,
              "#f0f921"
             ]
            ],
            "type": "heatmapgl"
           }
          ],
          "histogram": [
           {
            "marker": {
             "pattern": {
              "fillmode": "overlay",
              "size": 10,
              "solidity": 0.2
             }
            },
            "type": "histogram"
           }
          ],
          "histogram2d": [
           {
            "colorbar": {
             "outlinewidth": 0,
             "ticks": ""
            },
            "colorscale": [
             [
              0,
              "#0d0887"
             ],
             [
              0.1111111111111111,
              "#46039f"
             ],
             [
              0.2222222222222222,
              "#7201a8"
             ],
             [
              0.3333333333333333,
              "#9c179e"
             ],
             [
              0.4444444444444444,
              "#bd3786"
             ],
             [
              0.5555555555555556,
              "#d8576b"
             ],
             [
              0.6666666666666666,
              "#ed7953"
             ],
             [
              0.7777777777777778,
              "#fb9f3a"
             ],
             [
              0.8888888888888888,
              "#fdca26"
             ],
             [
              1,
              "#f0f921"
             ]
            ],
            "type": "histogram2d"
           }
          ],
          "histogram2dcontour": [
           {
            "colorbar": {
             "outlinewidth": 0,
             "ticks": ""
            },
            "colorscale": [
             [
              0,
              "#0d0887"
             ],
             [
              0.1111111111111111,
              "#46039f"
             ],
             [
              0.2222222222222222,
              "#7201a8"
             ],
             [
              0.3333333333333333,
              "#9c179e"
             ],
             [
              0.4444444444444444,
              "#bd3786"
             ],
             [
              0.5555555555555556,
              "#d8576b"
             ],
             [
              0.6666666666666666,
              "#ed7953"
             ],
             [
              0.7777777777777778,
              "#fb9f3a"
             ],
             [
              0.8888888888888888,
              "#fdca26"
             ],
             [
              1,
              "#f0f921"
             ]
            ],
            "type": "histogram2dcontour"
           }
          ],
          "mesh3d": [
           {
            "colorbar": {
             "outlinewidth": 0,
             "ticks": ""
            },
            "type": "mesh3d"
           }
          ],
          "parcoords": [
           {
            "line": {
             "colorbar": {
              "outlinewidth": 0,
              "ticks": ""
             }
            },
            "type": "parcoords"
           }
          ],
          "pie": [
           {
            "automargin": true,
            "type": "pie"
           }
          ],
          "scatter": [
           {
            "fillpattern": {
             "fillmode": "overlay",
             "size": 10,
             "solidity": 0.2
            },
            "type": "scatter"
           }
          ],
          "scatter3d": [
           {
            "line": {
             "colorbar": {
              "outlinewidth": 0,
              "ticks": ""
             }
            },
            "marker": {
             "colorbar": {
              "outlinewidth": 0,
              "ticks": ""
             }
            },
            "type": "scatter3d"
           }
          ],
          "scattercarpet": [
           {
            "marker": {
             "colorbar": {
              "outlinewidth": 0,
              "ticks": ""
             }
            },
            "type": "scattercarpet"
           }
          ],
          "scattergeo": [
           {
            "marker": {
             "colorbar": {
              "outlinewidth": 0,
              "ticks": ""
             }
            },
            "type": "scattergeo"
           }
          ],
          "scattergl": [
           {
            "marker": {
             "colorbar": {
              "outlinewidth": 0,
              "ticks": ""
             }
            },
            "type": "scattergl"
           }
          ],
          "scattermapbox": [
           {
            "marker": {
             "colorbar": {
              "outlinewidth": 0,
              "ticks": ""
             }
            },
            "type": "scattermapbox"
           }
          ],
          "scatterpolar": [
           {
            "marker": {
             "colorbar": {
              "outlinewidth": 0,
              "ticks": ""
             }
            },
            "type": "scatterpolar"
           }
          ],
          "scatterpolargl": [
           {
            "marker": {
             "colorbar": {
              "outlinewidth": 0,
              "ticks": ""
             }
            },
            "type": "scatterpolargl"
           }
          ],
          "scatterternary": [
           {
            "marker": {
             "colorbar": {
              "outlinewidth": 0,
              "ticks": ""
             }
            },
            "type": "scatterternary"
           }
          ],
          "surface": [
           {
            "colorbar": {
             "outlinewidth": 0,
             "ticks": ""
            },
            "colorscale": [
             [
              0,
              "#0d0887"
             ],
             [
              0.1111111111111111,
              "#46039f"
             ],
             [
              0.2222222222222222,
              "#7201a8"
             ],
             [
              0.3333333333333333,
              "#9c179e"
             ],
             [
              0.4444444444444444,
              "#bd3786"
             ],
             [
              0.5555555555555556,
              "#d8576b"
             ],
             [
              0.6666666666666666,
              "#ed7953"
             ],
             [
              0.7777777777777778,
              "#fb9f3a"
             ],
             [
              0.8888888888888888,
              "#fdca26"
             ],
             [
              1,
              "#f0f921"
             ]
            ],
            "type": "surface"
           }
          ],
          "table": [
           {
            "cells": {
             "fill": {
              "color": "#EBF0F8"
             },
             "line": {
              "color": "white"
             }
            },
            "header": {
             "fill": {
              "color": "#C8D4E3"
             },
             "line": {
              "color": "white"
             }
            },
            "type": "table"
           }
          ]
         },
         "layout": {
          "annotationdefaults": {
           "arrowcolor": "#2a3f5f",
           "arrowhead": 0,
           "arrowwidth": 1
          },
          "autotypenumbers": "strict",
          "coloraxis": {
           "colorbar": {
            "outlinewidth": 0,
            "ticks": ""
           }
          },
          "colorscale": {
           "diverging": [
            [
             0,
             "#8e0152"
            ],
            [
             0.1,
             "#c51b7d"
            ],
            [
             0.2,
             "#de77ae"
            ],
            [
             0.3,
             "#f1b6da"
            ],
            [
             0.4,
             "#fde0ef"
            ],
            [
             0.5,
             "#f7f7f7"
            ],
            [
             0.6,
             "#e6f5d0"
            ],
            [
             0.7,
             "#b8e186"
            ],
            [
             0.8,
             "#7fbc41"
            ],
            [
             0.9,
             "#4d9221"
            ],
            [
             1,
             "#276419"
            ]
           ],
           "sequential": [
            [
             0,
             "#0d0887"
            ],
            [
             0.1111111111111111,
             "#46039f"
            ],
            [
             0.2222222222222222,
             "#7201a8"
            ],
            [
             0.3333333333333333,
             "#9c179e"
            ],
            [
             0.4444444444444444,
             "#bd3786"
            ],
            [
             0.5555555555555556,
             "#d8576b"
            ],
            [
             0.6666666666666666,
             "#ed7953"
            ],
            [
             0.7777777777777778,
             "#fb9f3a"
            ],
            [
             0.8888888888888888,
             "#fdca26"
            ],
            [
             1,
             "#f0f921"
            ]
           ],
           "sequentialminus": [
            [
             0,
             "#0d0887"
            ],
            [
             0.1111111111111111,
             "#46039f"
            ],
            [
             0.2222222222222222,
             "#7201a8"
            ],
            [
             0.3333333333333333,
             "#9c179e"
            ],
            [
             0.4444444444444444,
             "#bd3786"
            ],
            [
             0.5555555555555556,
             "#d8576b"
            ],
            [
             0.6666666666666666,
             "#ed7953"
            ],
            [
             0.7777777777777778,
             "#fb9f3a"
            ],
            [
             0.8888888888888888,
             "#fdca26"
            ],
            [
             1,
             "#f0f921"
            ]
           ]
          },
          "colorway": [
           "#636efa",
           "#EF553B",
           "#00cc96",
           "#ab63fa",
           "#FFA15A",
           "#19d3f3",
           "#FF6692",
           "#B6E880",
           "#FF97FF",
           "#FECB52"
          ],
          "font": {
           "color": "#2a3f5f"
          },
          "geo": {
           "bgcolor": "white",
           "lakecolor": "white",
           "landcolor": "#E5ECF6",
           "showlakes": true,
           "showland": true,
           "subunitcolor": "white"
          },
          "hoverlabel": {
           "align": "left"
          },
          "hovermode": "closest",
          "mapbox": {
           "style": "light"
          },
          "paper_bgcolor": "white",
          "plot_bgcolor": "#E5ECF6",
          "polar": {
           "angularaxis": {
            "gridcolor": "white",
            "linecolor": "white",
            "ticks": ""
           },
           "bgcolor": "#E5ECF6",
           "radialaxis": {
            "gridcolor": "white",
            "linecolor": "white",
            "ticks": ""
           }
          },
          "scene": {
           "xaxis": {
            "backgroundcolor": "#E5ECF6",
            "gridcolor": "white",
            "gridwidth": 2,
            "linecolor": "white",
            "showbackground": true,
            "ticks": "",
            "zerolinecolor": "white"
           },
           "yaxis": {
            "backgroundcolor": "#E5ECF6",
            "gridcolor": "white",
            "gridwidth": 2,
            "linecolor": "white",
            "showbackground": true,
            "ticks": "",
            "zerolinecolor": "white"
           },
           "zaxis": {
            "backgroundcolor": "#E5ECF6",
            "gridcolor": "white",
            "gridwidth": 2,
            "linecolor": "white",
            "showbackground": true,
            "ticks": "",
            "zerolinecolor": "white"
           }
          },
          "shapedefaults": {
           "line": {
            "color": "#2a3f5f"
           }
          },
          "ternary": {
           "aaxis": {
            "gridcolor": "white",
            "linecolor": "white",
            "ticks": ""
           },
           "baxis": {
            "gridcolor": "white",
            "linecolor": "white",
            "ticks": ""
           },
           "bgcolor": "#E5ECF6",
           "caxis": {
            "gridcolor": "white",
            "linecolor": "white",
            "ticks": ""
           }
          },
          "title": {
           "x": 0.05
          },
          "xaxis": {
           "automargin": true,
           "gridcolor": "white",
           "linecolor": "white",
           "ticks": "",
           "title": {
            "standoff": 15
           },
           "zerolinecolor": "white",
           "zerolinewidth": 2
          },
          "yaxis": {
           "automargin": true,
           "gridcolor": "white",
           "linecolor": "white",
           "ticks": "",
           "title": {
            "standoff": 15
           },
           "zerolinecolor": "white",
           "zerolinewidth": 2
          }
         }
        },
        "xaxis": {
         "anchor": "y",
         "domain": [
          0,
          1
         ],
         "title": {
          "text": "Description"
         }
        },
        "yaxis": {
         "anchor": "x",
         "domain": [
          0,
          1
         ],
         "title": {
          "text": "value"
         }
        }
       }
      }
     },
     "metadata": {},
     "output_type": "display_data"
    }
   ],
   "source": [
    "import plotly.express as px # linechart to show value of sales across selected timeline - during covid\n",
    "dfb = df_COVID\n",
    "df = px.data.tips()\n",
    "fig = px.line(dfb, x='Description', y=['All retailing'])\n",
    "fig.show() "
   ]
  },
  {
   "cell_type": "code",
   "execution_count": 17,
   "metadata": {},
   "outputs": [
    {
     "data": {
      "application/vnd.plotly.v1+json": {
       "config": {
        "plotlyServerURL": "https://plot.ly"
       },
       "data": [
        {
         "hovertemplate": "Description=%{x}<br>All retailing=%{y}<extra></extra>",
         "legendgroup": "",
         "line": {
          "color": "#636efa",
          "dash": "solid"
         },
         "marker": {
          "symbol": "circle"
         },
         "mode": "lines",
         "name": "",
         "orientation": "v",
         "showlegend": false,
         "type": "scatter",
         "x": [
          "2021DEC",
          "2022JAN",
          "2022FEB"
         ],
         "xaxis": "x",
         "y": [
          11813749,
          9279541,
          9216920
         ],
         "yaxis": "y"
        }
       ],
       "layout": {
        "legend": {
         "tracegroupgap": 0
        },
        "margin": {
         "t": 60
        },
        "template": {
         "data": {
          "bar": [
           {
            "error_x": {
             "color": "#2a3f5f"
            },
            "error_y": {
             "color": "#2a3f5f"
            },
            "marker": {
             "line": {
              "color": "#E5ECF6",
              "width": 0.5
             },
             "pattern": {
              "fillmode": "overlay",
              "size": 10,
              "solidity": 0.2
             }
            },
            "type": "bar"
           }
          ],
          "barpolar": [
           {
            "marker": {
             "line": {
              "color": "#E5ECF6",
              "width": 0.5
             },
             "pattern": {
              "fillmode": "overlay",
              "size": 10,
              "solidity": 0.2
             }
            },
            "type": "barpolar"
           }
          ],
          "carpet": [
           {
            "aaxis": {
             "endlinecolor": "#2a3f5f",
             "gridcolor": "white",
             "linecolor": "white",
             "minorgridcolor": "white",
             "startlinecolor": "#2a3f5f"
            },
            "baxis": {
             "endlinecolor": "#2a3f5f",
             "gridcolor": "white",
             "linecolor": "white",
             "minorgridcolor": "white",
             "startlinecolor": "#2a3f5f"
            },
            "type": "carpet"
           }
          ],
          "choropleth": [
           {
            "colorbar": {
             "outlinewidth": 0,
             "ticks": ""
            },
            "type": "choropleth"
           }
          ],
          "contour": [
           {
            "colorbar": {
             "outlinewidth": 0,
             "ticks": ""
            },
            "colorscale": [
             [
              0,
              "#0d0887"
             ],
             [
              0.1111111111111111,
              "#46039f"
             ],
             [
              0.2222222222222222,
              "#7201a8"
             ],
             [
              0.3333333333333333,
              "#9c179e"
             ],
             [
              0.4444444444444444,
              "#bd3786"
             ],
             [
              0.5555555555555556,
              "#d8576b"
             ],
             [
              0.6666666666666666,
              "#ed7953"
             ],
             [
              0.7777777777777778,
              "#fb9f3a"
             ],
             [
              0.8888888888888888,
              "#fdca26"
             ],
             [
              1,
              "#f0f921"
             ]
            ],
            "type": "contour"
           }
          ],
          "contourcarpet": [
           {
            "colorbar": {
             "outlinewidth": 0,
             "ticks": ""
            },
            "type": "contourcarpet"
           }
          ],
          "heatmap": [
           {
            "colorbar": {
             "outlinewidth": 0,
             "ticks": ""
            },
            "colorscale": [
             [
              0,
              "#0d0887"
             ],
             [
              0.1111111111111111,
              "#46039f"
             ],
             [
              0.2222222222222222,
              "#7201a8"
             ],
             [
              0.3333333333333333,
              "#9c179e"
             ],
             [
              0.4444444444444444,
              "#bd3786"
             ],
             [
              0.5555555555555556,
              "#d8576b"
             ],
             [
              0.6666666666666666,
              "#ed7953"
             ],
             [
              0.7777777777777778,
              "#fb9f3a"
             ],
             [
              0.8888888888888888,
              "#fdca26"
             ],
             [
              1,
              "#f0f921"
             ]
            ],
            "type": "heatmap"
           }
          ],
          "heatmapgl": [
           {
            "colorbar": {
             "outlinewidth": 0,
             "ticks": ""
            },
            "colorscale": [
             [
              0,
              "#0d0887"
             ],
             [
              0.1111111111111111,
              "#46039f"
             ],
             [
              0.2222222222222222,
              "#7201a8"
             ],
             [
              0.3333333333333333,
              "#9c179e"
             ],
             [
              0.4444444444444444,
              "#bd3786"
             ],
             [
              0.5555555555555556,
              "#d8576b"
             ],
             [
              0.6666666666666666,
              "#ed7953"
             ],
             [
              0.7777777777777778,
              "#fb9f3a"
             ],
             [
              0.8888888888888888,
              "#fdca26"
             ],
             [
              1,
              "#f0f921"
             ]
            ],
            "type": "heatmapgl"
           }
          ],
          "histogram": [
           {
            "marker": {
             "pattern": {
              "fillmode": "overlay",
              "size": 10,
              "solidity": 0.2
             }
            },
            "type": "histogram"
           }
          ],
          "histogram2d": [
           {
            "colorbar": {
             "outlinewidth": 0,
             "ticks": ""
            },
            "colorscale": [
             [
              0,
              "#0d0887"
             ],
             [
              0.1111111111111111,
              "#46039f"
             ],
             [
              0.2222222222222222,
              "#7201a8"
             ],
             [
              0.3333333333333333,
              "#9c179e"
             ],
             [
              0.4444444444444444,
              "#bd3786"
             ],
             [
              0.5555555555555556,
              "#d8576b"
             ],
             [
              0.6666666666666666,
              "#ed7953"
             ],
             [
              0.7777777777777778,
              "#fb9f3a"
             ],
             [
              0.8888888888888888,
              "#fdca26"
             ],
             [
              1,
              "#f0f921"
             ]
            ],
            "type": "histogram2d"
           }
          ],
          "histogram2dcontour": [
           {
            "colorbar": {
             "outlinewidth": 0,
             "ticks": ""
            },
            "colorscale": [
             [
              0,
              "#0d0887"
             ],
             [
              0.1111111111111111,
              "#46039f"
             ],
             [
              0.2222222222222222,
              "#7201a8"
             ],
             [
              0.3333333333333333,
              "#9c179e"
             ],
             [
              0.4444444444444444,
              "#bd3786"
             ],
             [
              0.5555555555555556,
              "#d8576b"
             ],
             [
              0.6666666666666666,
              "#ed7953"
             ],
             [
              0.7777777777777778,
              "#fb9f3a"
             ],
             [
              0.8888888888888888,
              "#fdca26"
             ],
             [
              1,
              "#f0f921"
             ]
            ],
            "type": "histogram2dcontour"
           }
          ],
          "mesh3d": [
           {
            "colorbar": {
             "outlinewidth": 0,
             "ticks": ""
            },
            "type": "mesh3d"
           }
          ],
          "parcoords": [
           {
            "line": {
             "colorbar": {
              "outlinewidth": 0,
              "ticks": ""
             }
            },
            "type": "parcoords"
           }
          ],
          "pie": [
           {
            "automargin": true,
            "type": "pie"
           }
          ],
          "scatter": [
           {
            "fillpattern": {
             "fillmode": "overlay",
             "size": 10,
             "solidity": 0.2
            },
            "type": "scatter"
           }
          ],
          "scatter3d": [
           {
            "line": {
             "colorbar": {
              "outlinewidth": 0,
              "ticks": ""
             }
            },
            "marker": {
             "colorbar": {
              "outlinewidth": 0,
              "ticks": ""
             }
            },
            "type": "scatter3d"
           }
          ],
          "scattercarpet": [
           {
            "marker": {
             "colorbar": {
              "outlinewidth": 0,
              "ticks": ""
             }
            },
            "type": "scattercarpet"
           }
          ],
          "scattergeo": [
           {
            "marker": {
             "colorbar": {
              "outlinewidth": 0,
              "ticks": ""
             }
            },
            "type": "scattergeo"
           }
          ],
          "scattergl": [
           {
            "marker": {
             "colorbar": {
              "outlinewidth": 0,
              "ticks": ""
             }
            },
            "type": "scattergl"
           }
          ],
          "scattermapbox": [
           {
            "marker": {
             "colorbar": {
              "outlinewidth": 0,
              "ticks": ""
             }
            },
            "type": "scattermapbox"
           }
          ],
          "scatterpolar": [
           {
            "marker": {
             "colorbar": {
              "outlinewidth": 0,
              "ticks": ""
             }
            },
            "type": "scatterpolar"
           }
          ],
          "scatterpolargl": [
           {
            "marker": {
             "colorbar": {
              "outlinewidth": 0,
              "ticks": ""
             }
            },
            "type": "scatterpolargl"
           }
          ],
          "scatterternary": [
           {
            "marker": {
             "colorbar": {
              "outlinewidth": 0,
              "ticks": ""
             }
            },
            "type": "scatterternary"
           }
          ],
          "surface": [
           {
            "colorbar": {
             "outlinewidth": 0,
             "ticks": ""
            },
            "colorscale": [
             [
              0,
              "#0d0887"
             ],
             [
              0.1111111111111111,
              "#46039f"
             ],
             [
              0.2222222222222222,
              "#7201a8"
             ],
             [
              0.3333333333333333,
              "#9c179e"
             ],
             [
              0.4444444444444444,
              "#bd3786"
             ],
             [
              0.5555555555555556,
              "#d8576b"
             ],
             [
              0.6666666666666666,
              "#ed7953"
             ],
             [
              0.7777777777777778,
              "#fb9f3a"
             ],
             [
              0.8888888888888888,
              "#fdca26"
             ],
             [
              1,
              "#f0f921"
             ]
            ],
            "type": "surface"
           }
          ],
          "table": [
           {
            "cells": {
             "fill": {
              "color": "#EBF0F8"
             },
             "line": {
              "color": "white"
             }
            },
            "header": {
             "fill": {
              "color": "#C8D4E3"
             },
             "line": {
              "color": "white"
             }
            },
            "type": "table"
           }
          ]
         },
         "layout": {
          "annotationdefaults": {
           "arrowcolor": "#2a3f5f",
           "arrowhead": 0,
           "arrowwidth": 1
          },
          "autotypenumbers": "strict",
          "coloraxis": {
           "colorbar": {
            "outlinewidth": 0,
            "ticks": ""
           }
          },
          "colorscale": {
           "diverging": [
            [
             0,
             "#8e0152"
            ],
            [
             0.1,
             "#c51b7d"
            ],
            [
             0.2,
             "#de77ae"
            ],
            [
             0.3,
             "#f1b6da"
            ],
            [
             0.4,
             "#fde0ef"
            ],
            [
             0.5,
             "#f7f7f7"
            ],
            [
             0.6,
             "#e6f5d0"
            ],
            [
             0.7,
             "#b8e186"
            ],
            [
             0.8,
             "#7fbc41"
            ],
            [
             0.9,
             "#4d9221"
            ],
            [
             1,
             "#276419"
            ]
           ],
           "sequential": [
            [
             0,
             "#0d0887"
            ],
            [
             0.1111111111111111,
             "#46039f"
            ],
            [
             0.2222222222222222,
             "#7201a8"
            ],
            [
             0.3333333333333333,
             "#9c179e"
            ],
            [
             0.4444444444444444,
             "#bd3786"
            ],
            [
             0.5555555555555556,
             "#d8576b"
            ],
            [
             0.6666666666666666,
             "#ed7953"
            ],
            [
             0.7777777777777778,
             "#fb9f3a"
            ],
            [
             0.8888888888888888,
             "#fdca26"
            ],
            [
             1,
             "#f0f921"
            ]
           ],
           "sequentialminus": [
            [
             0,
             "#0d0887"
            ],
            [
             0.1111111111111111,
             "#46039f"
            ],
            [
             0.2222222222222222,
             "#7201a8"
            ],
            [
             0.3333333333333333,
             "#9c179e"
            ],
            [
             0.4444444444444444,
             "#bd3786"
            ],
            [
             0.5555555555555556,
             "#d8576b"
            ],
            [
             0.6666666666666666,
             "#ed7953"
            ],
            [
             0.7777777777777778,
             "#fb9f3a"
            ],
            [
             0.8888888888888888,
             "#fdca26"
            ],
            [
             1,
             "#f0f921"
            ]
           ]
          },
          "colorway": [
           "#636efa",
           "#EF553B",
           "#00cc96",
           "#ab63fa",
           "#FFA15A",
           "#19d3f3",
           "#FF6692",
           "#B6E880",
           "#FF97FF",
           "#FECB52"
          ],
          "font": {
           "color": "#2a3f5f"
          },
          "geo": {
           "bgcolor": "white",
           "lakecolor": "white",
           "landcolor": "#E5ECF6",
           "showlakes": true,
           "showland": true,
           "subunitcolor": "white"
          },
          "hoverlabel": {
           "align": "left"
          },
          "hovermode": "closest",
          "mapbox": {
           "style": "light"
          },
          "paper_bgcolor": "white",
          "plot_bgcolor": "#E5ECF6",
          "polar": {
           "angularaxis": {
            "gridcolor": "white",
            "linecolor": "white",
            "ticks": ""
           },
           "bgcolor": "#E5ECF6",
           "radialaxis": {
            "gridcolor": "white",
            "linecolor": "white",
            "ticks": ""
           }
          },
          "scene": {
           "xaxis": {
            "backgroundcolor": "#E5ECF6",
            "gridcolor": "white",
            "gridwidth": 2,
            "linecolor": "white",
            "showbackground": true,
            "ticks": "",
            "zerolinecolor": "white"
           },
           "yaxis": {
            "backgroundcolor": "#E5ECF6",
            "gridcolor": "white",
            "gridwidth": 2,
            "linecolor": "white",
            "showbackground": true,
            "ticks": "",
            "zerolinecolor": "white"
           },
           "zaxis": {
            "backgroundcolor": "#E5ECF6",
            "gridcolor": "white",
            "gridwidth": 2,
            "linecolor": "white",
            "showbackground": true,
            "ticks": "",
            "zerolinecolor": "white"
           }
          },
          "shapedefaults": {
           "line": {
            "color": "#2a3f5f"
           }
          },
          "ternary": {
           "aaxis": {
            "gridcolor": "white",
            "linecolor": "white",
            "ticks": ""
           },
           "baxis": {
            "gridcolor": "white",
            "linecolor": "white",
            "ticks": ""
           },
           "bgcolor": "#E5ECF6",
           "caxis": {
            "gridcolor": "white",
            "linecolor": "white",
            "ticks": ""
           }
          },
          "title": {
           "x": 0.05
          },
          "xaxis": {
           "automargin": true,
           "gridcolor": "white",
           "linecolor": "white",
           "ticks": "",
           "title": {
            "standoff": 15
           },
           "zerolinecolor": "white",
           "zerolinewidth": 2
          },
          "yaxis": {
           "automargin": true,
           "gridcolor": "white",
           "linecolor": "white",
           "ticks": "",
           "title": {
            "standoff": 15
           },
           "zerolinecolor": "white",
           "zerolinewidth": 2
          }
         }
        },
        "xaxis": {
         "anchor": "y",
         "domain": [
          0,
          1
         ],
         "title": {
          "text": "Description"
         }
        },
        "yaxis": {
         "anchor": "x",
         "domain": [
          0,
          1
         ],
         "title": {
          "text": "All retailing"
         }
        }
       }
      }
     },
     "metadata": {},
     "output_type": "display_data"
    }
   ],
   "source": [
    "import plotly.express as px # linechart to show value of sales across selected timeline - post covid\n",
    "dfb = df_post_COVID\n",
    "df = px.data.tips()\n",
    "fig = px.line(dfb, x='Description', y='All retailing')  \n",
    "fig.show() "
   ]
  },
  {
   "cell_type": "code",
   "execution_count": 18,
   "metadata": {},
   "outputs": [
    {
     "data": {
      "application/vnd.plotly.v1+json": {
       "config": {
        "plotlyServerURL": "https://plot.ly"
       },
       "data": [
        {
         "hovertemplate": "variable=Predominantly food stores<br>Description=%{x}<br>value=%{y}<extra></extra>",
         "legendgroup": "Predominantly food stores",
         "line": {
          "color": "#636efa",
          "dash": "solid"
         },
         "marker": {
          "symbol": "circle"
         },
         "mode": "lines",
         "name": "Predominantly food stores",
         "orientation": "v",
         "showlegend": true,
         "type": "scatter",
         "x": [
          "2021DEC",
          "2022JAN",
          "2022FEB"
         ],
         "xaxis": "x",
         "y": [
          1873787,
          1245360,
          1213413
         ],
         "yaxis": "y"
        },
        {
         "hovertemplate": "variable=Non-store retailing<br>Description=%{x}<br>value=%{y}<extra></extra>",
         "legendgroup": "Non-store retailing",
         "line": {
          "color": "#EF553B",
          "dash": "solid"
         },
         "marker": {
          "symbol": "circle"
         },
         "mode": "lines",
         "name": "Non-store retailing",
         "orientation": "v",
         "showlegend": true,
         "type": "scatter",
         "x": [
          "2021DEC",
          "2022JAN",
          "2022FEB"
         ],
         "xaxis": "x",
         "y": [
          5944149,
          4969156,
          4965111
         ],
         "yaxis": "y"
        },
        {
         "hovertemplate": "variable=Predominantly non-food stores<br>Description=%{x}<br>value=%{y}<extra></extra>",
         "legendgroup": "Predominantly non-food stores",
         "line": {
          "color": "#00cc96",
          "dash": "solid"
         },
         "marker": {
          "symbol": "circle"
         },
         "mode": "lines",
         "name": "Predominantly non-food stores",
         "orientation": "v",
         "showlegend": true,
         "type": "scatter",
         "x": [
          "2021DEC",
          "2022JAN",
          "2022FEB"
         ],
         "xaxis": "x",
         "y": [
          3995813,
          3065025,
          3038396
         ],
         "yaxis": "y"
        },
        {
         "hovertemplate": "variable=Household goods stores<br>Description=%{x}<br>value=%{y}<extra></extra>",
         "legendgroup": "Household goods stores",
         "line": {
          "color": "#ab63fa",
          "dash": "solid"
         },
         "marker": {
          "symbol": "circle"
         },
         "mode": "lines",
         "name": "Household goods stores",
         "orientation": "v",
         "showlegend": true,
         "type": "scatter",
         "x": [
          "2021DEC",
          "2022JAN",
          "2022FEB"
         ],
         "xaxis": "x",
         "y": [
          786799,
          603528,
          589728
         ],
         "yaxis": "y"
        },
        {
         "hovertemplate": "variable=Specialist food stores (i.e butchers and bakers)<br>Description=%{x}<br>value=%{y}<extra></extra>",
         "legendgroup": "Specialist food stores (i.e butchers and bakers)",
         "line": {
          "color": "#FFA15A",
          "dash": "solid"
         },
         "marker": {
          "symbol": "circle"
         },
         "mode": "lines",
         "name": "Specialist food stores (i.e butchers and bakers)",
         "orientation": "v",
         "showlegend": true,
         "type": "scatter",
         "x": [
          "2021DEC",
          "2022JAN",
          "2022FEB"
         ],
         "xaxis": "x",
         "y": [
          65917,
          46378,
          44913
         ],
         "yaxis": "y"
        },
        {
         "hovertemplate": "variable=Alcoholic drink, beverages & tobacco<br>Description=%{x}<br>value=%{y}<extra></extra>",
         "legendgroup": "Alcoholic drink, beverages & tobacco",
         "line": {
          "color": "#19d3f3",
          "dash": "solid"
         },
         "marker": {
          "symbol": "circle"
         },
         "mode": "lines",
         "name": "Alcoholic drink, beverages & tobacco",
         "orientation": "v",
         "showlegend": true,
         "type": "scatter",
         "x": [
          "2021DEC",
          "2022JAN",
          "2022FEB"
         ],
         "xaxis": "x",
         "y": [
          124793,
          32966,
          24391
         ],
         "yaxis": "y"
        }
       ],
       "layout": {
        "legend": {
         "title": {
          "text": "variable"
         },
         "tracegroupgap": 0
        },
        "margin": {
         "t": 60
        },
        "template": {
         "data": {
          "bar": [
           {
            "error_x": {
             "color": "#2a3f5f"
            },
            "error_y": {
             "color": "#2a3f5f"
            },
            "marker": {
             "line": {
              "color": "#E5ECF6",
              "width": 0.5
             },
             "pattern": {
              "fillmode": "overlay",
              "size": 10,
              "solidity": 0.2
             }
            },
            "type": "bar"
           }
          ],
          "barpolar": [
           {
            "marker": {
             "line": {
              "color": "#E5ECF6",
              "width": 0.5
             },
             "pattern": {
              "fillmode": "overlay",
              "size": 10,
              "solidity": 0.2
             }
            },
            "type": "barpolar"
           }
          ],
          "carpet": [
           {
            "aaxis": {
             "endlinecolor": "#2a3f5f",
             "gridcolor": "white",
             "linecolor": "white",
             "minorgridcolor": "white",
             "startlinecolor": "#2a3f5f"
            },
            "baxis": {
             "endlinecolor": "#2a3f5f",
             "gridcolor": "white",
             "linecolor": "white",
             "minorgridcolor": "white",
             "startlinecolor": "#2a3f5f"
            },
            "type": "carpet"
           }
          ],
          "choropleth": [
           {
            "colorbar": {
             "outlinewidth": 0,
             "ticks": ""
            },
            "type": "choropleth"
           }
          ],
          "contour": [
           {
            "colorbar": {
             "outlinewidth": 0,
             "ticks": ""
            },
            "colorscale": [
             [
              0,
              "#0d0887"
             ],
             [
              0.1111111111111111,
              "#46039f"
             ],
             [
              0.2222222222222222,
              "#7201a8"
             ],
             [
              0.3333333333333333,
              "#9c179e"
             ],
             [
              0.4444444444444444,
              "#bd3786"
             ],
             [
              0.5555555555555556,
              "#d8576b"
             ],
             [
              0.6666666666666666,
              "#ed7953"
             ],
             [
              0.7777777777777778,
              "#fb9f3a"
             ],
             [
              0.8888888888888888,
              "#fdca26"
             ],
             [
              1,
              "#f0f921"
             ]
            ],
            "type": "contour"
           }
          ],
          "contourcarpet": [
           {
            "colorbar": {
             "outlinewidth": 0,
             "ticks": ""
            },
            "type": "contourcarpet"
           }
          ],
          "heatmap": [
           {
            "colorbar": {
             "outlinewidth": 0,
             "ticks": ""
            },
            "colorscale": [
             [
              0,
              "#0d0887"
             ],
             [
              0.1111111111111111,
              "#46039f"
             ],
             [
              0.2222222222222222,
              "#7201a8"
             ],
             [
              0.3333333333333333,
              "#9c179e"
             ],
             [
              0.4444444444444444,
              "#bd3786"
             ],
             [
              0.5555555555555556,
              "#d8576b"
             ],
             [
              0.6666666666666666,
              "#ed7953"
             ],
             [
              0.7777777777777778,
              "#fb9f3a"
             ],
             [
              0.8888888888888888,
              "#fdca26"
             ],
             [
              1,
              "#f0f921"
             ]
            ],
            "type": "heatmap"
           }
          ],
          "heatmapgl": [
           {
            "colorbar": {
             "outlinewidth": 0,
             "ticks": ""
            },
            "colorscale": [
             [
              0,
              "#0d0887"
             ],
             [
              0.1111111111111111,
              "#46039f"
             ],
             [
              0.2222222222222222,
              "#7201a8"
             ],
             [
              0.3333333333333333,
              "#9c179e"
             ],
             [
              0.4444444444444444,
              "#bd3786"
             ],
             [
              0.5555555555555556,
              "#d8576b"
             ],
             [
              0.6666666666666666,
              "#ed7953"
             ],
             [
              0.7777777777777778,
              "#fb9f3a"
             ],
             [
              0.8888888888888888,
              "#fdca26"
             ],
             [
              1,
              "#f0f921"
             ]
            ],
            "type": "heatmapgl"
           }
          ],
          "histogram": [
           {
            "marker": {
             "pattern": {
              "fillmode": "overlay",
              "size": 10,
              "solidity": 0.2
             }
            },
            "type": "histogram"
           }
          ],
          "histogram2d": [
           {
            "colorbar": {
             "outlinewidth": 0,
             "ticks": ""
            },
            "colorscale": [
             [
              0,
              "#0d0887"
             ],
             [
              0.1111111111111111,
              "#46039f"
             ],
             [
              0.2222222222222222,
              "#7201a8"
             ],
             [
              0.3333333333333333,
              "#9c179e"
             ],
             [
              0.4444444444444444,
              "#bd3786"
             ],
             [
              0.5555555555555556,
              "#d8576b"
             ],
             [
              0.6666666666666666,
              "#ed7953"
             ],
             [
              0.7777777777777778,
              "#fb9f3a"
             ],
             [
              0.8888888888888888,
              "#fdca26"
             ],
             [
              1,
              "#f0f921"
             ]
            ],
            "type": "histogram2d"
           }
          ],
          "histogram2dcontour": [
           {
            "colorbar": {
             "outlinewidth": 0,
             "ticks": ""
            },
            "colorscale": [
             [
              0,
              "#0d0887"
             ],
             [
              0.1111111111111111,
              "#46039f"
             ],
             [
              0.2222222222222222,
              "#7201a8"
             ],
             [
              0.3333333333333333,
              "#9c179e"
             ],
             [
              0.4444444444444444,
              "#bd3786"
             ],
             [
              0.5555555555555556,
              "#d8576b"
             ],
             [
              0.6666666666666666,
              "#ed7953"
             ],
             [
              0.7777777777777778,
              "#fb9f3a"
             ],
             [
              0.8888888888888888,
              "#fdca26"
             ],
             [
              1,
              "#f0f921"
             ]
            ],
            "type": "histogram2dcontour"
           }
          ],
          "mesh3d": [
           {
            "colorbar": {
             "outlinewidth": 0,
             "ticks": ""
            },
            "type": "mesh3d"
           }
          ],
          "parcoords": [
           {
            "line": {
             "colorbar": {
              "outlinewidth": 0,
              "ticks": ""
             }
            },
            "type": "parcoords"
           }
          ],
          "pie": [
           {
            "automargin": true,
            "type": "pie"
           }
          ],
          "scatter": [
           {
            "fillpattern": {
             "fillmode": "overlay",
             "size": 10,
             "solidity": 0.2
            },
            "type": "scatter"
           }
          ],
          "scatter3d": [
           {
            "line": {
             "colorbar": {
              "outlinewidth": 0,
              "ticks": ""
             }
            },
            "marker": {
             "colorbar": {
              "outlinewidth": 0,
              "ticks": ""
             }
            },
            "type": "scatter3d"
           }
          ],
          "scattercarpet": [
           {
            "marker": {
             "colorbar": {
              "outlinewidth": 0,
              "ticks": ""
             }
            },
            "type": "scattercarpet"
           }
          ],
          "scattergeo": [
           {
            "marker": {
             "colorbar": {
              "outlinewidth": 0,
              "ticks": ""
             }
            },
            "type": "scattergeo"
           }
          ],
          "scattergl": [
           {
            "marker": {
             "colorbar": {
              "outlinewidth": 0,
              "ticks": ""
             }
            },
            "type": "scattergl"
           }
          ],
          "scattermapbox": [
           {
            "marker": {
             "colorbar": {
              "outlinewidth": 0,
              "ticks": ""
             }
            },
            "type": "scattermapbox"
           }
          ],
          "scatterpolar": [
           {
            "marker": {
             "colorbar": {
              "outlinewidth": 0,
              "ticks": ""
             }
            },
            "type": "scatterpolar"
           }
          ],
          "scatterpolargl": [
           {
            "marker": {
             "colorbar": {
              "outlinewidth": 0,
              "ticks": ""
             }
            },
            "type": "scatterpolargl"
           }
          ],
          "scatterternary": [
           {
            "marker": {
             "colorbar": {
              "outlinewidth": 0,
              "ticks": ""
             }
            },
            "type": "scatterternary"
           }
          ],
          "surface": [
           {
            "colorbar": {
             "outlinewidth": 0,
             "ticks": ""
            },
            "colorscale": [
             [
              0,
              "#0d0887"
             ],
             [
              0.1111111111111111,
              "#46039f"
             ],
             [
              0.2222222222222222,
              "#7201a8"
             ],
             [
              0.3333333333333333,
              "#9c179e"
             ],
             [
              0.4444444444444444,
              "#bd3786"
             ],
             [
              0.5555555555555556,
              "#d8576b"
             ],
             [
              0.6666666666666666,
              "#ed7953"
             ],
             [
              0.7777777777777778,
              "#fb9f3a"
             ],
             [
              0.8888888888888888,
              "#fdca26"
             ],
             [
              1,
              "#f0f921"
             ]
            ],
            "type": "surface"
           }
          ],
          "table": [
           {
            "cells": {
             "fill": {
              "color": "#EBF0F8"
             },
             "line": {
              "color": "white"
             }
            },
            "header": {
             "fill": {
              "color": "#C8D4E3"
             },
             "line": {
              "color": "white"
             }
            },
            "type": "table"
           }
          ]
         },
         "layout": {
          "annotationdefaults": {
           "arrowcolor": "#2a3f5f",
           "arrowhead": 0,
           "arrowwidth": 1
          },
          "autotypenumbers": "strict",
          "coloraxis": {
           "colorbar": {
            "outlinewidth": 0,
            "ticks": ""
           }
          },
          "colorscale": {
           "diverging": [
            [
             0,
             "#8e0152"
            ],
            [
             0.1,
             "#c51b7d"
            ],
            [
             0.2,
             "#de77ae"
            ],
            [
             0.3,
             "#f1b6da"
            ],
            [
             0.4,
             "#fde0ef"
            ],
            [
             0.5,
             "#f7f7f7"
            ],
            [
             0.6,
             "#e6f5d0"
            ],
            [
             0.7,
             "#b8e186"
            ],
            [
             0.8,
             "#7fbc41"
            ],
            [
             0.9,
             "#4d9221"
            ],
            [
             1,
             "#276419"
            ]
           ],
           "sequential": [
            [
             0,
             "#0d0887"
            ],
            [
             0.1111111111111111,
             "#46039f"
            ],
            [
             0.2222222222222222,
             "#7201a8"
            ],
            [
             0.3333333333333333,
             "#9c179e"
            ],
            [
             0.4444444444444444,
             "#bd3786"
            ],
            [
             0.5555555555555556,
             "#d8576b"
            ],
            [
             0.6666666666666666,
             "#ed7953"
            ],
            [
             0.7777777777777778,
             "#fb9f3a"
            ],
            [
             0.8888888888888888,
             "#fdca26"
            ],
            [
             1,
             "#f0f921"
            ]
           ],
           "sequentialminus": [
            [
             0,
             "#0d0887"
            ],
            [
             0.1111111111111111,
             "#46039f"
            ],
            [
             0.2222222222222222,
             "#7201a8"
            ],
            [
             0.3333333333333333,
             "#9c179e"
            ],
            [
             0.4444444444444444,
             "#bd3786"
            ],
            [
             0.5555555555555556,
             "#d8576b"
            ],
            [
             0.6666666666666666,
             "#ed7953"
            ],
            [
             0.7777777777777778,
             "#fb9f3a"
            ],
            [
             0.8888888888888888,
             "#fdca26"
            ],
            [
             1,
             "#f0f921"
            ]
           ]
          },
          "colorway": [
           "#636efa",
           "#EF553B",
           "#00cc96",
           "#ab63fa",
           "#FFA15A",
           "#19d3f3",
           "#FF6692",
           "#B6E880",
           "#FF97FF",
           "#FECB52"
          ],
          "font": {
           "color": "#2a3f5f"
          },
          "geo": {
           "bgcolor": "white",
           "lakecolor": "white",
           "landcolor": "#E5ECF6",
           "showlakes": true,
           "showland": true,
           "subunitcolor": "white"
          },
          "hoverlabel": {
           "align": "left"
          },
          "hovermode": "closest",
          "mapbox": {
           "style": "light"
          },
          "paper_bgcolor": "white",
          "plot_bgcolor": "#E5ECF6",
          "polar": {
           "angularaxis": {
            "gridcolor": "white",
            "linecolor": "white",
            "ticks": ""
           },
           "bgcolor": "#E5ECF6",
           "radialaxis": {
            "gridcolor": "white",
            "linecolor": "white",
            "ticks": ""
           }
          },
          "scene": {
           "xaxis": {
            "backgroundcolor": "#E5ECF6",
            "gridcolor": "white",
            "gridwidth": 2,
            "linecolor": "white",
            "showbackground": true,
            "ticks": "",
            "zerolinecolor": "white"
           },
           "yaxis": {
            "backgroundcolor": "#E5ECF6",
            "gridcolor": "white",
            "gridwidth": 2,
            "linecolor": "white",
            "showbackground": true,
            "ticks": "",
            "zerolinecolor": "white"
           },
           "zaxis": {
            "backgroundcolor": "#E5ECF6",
            "gridcolor": "white",
            "gridwidth": 2,
            "linecolor": "white",
            "showbackground": true,
            "ticks": "",
            "zerolinecolor": "white"
           }
          },
          "shapedefaults": {
           "line": {
            "color": "#2a3f5f"
           }
          },
          "ternary": {
           "aaxis": {
            "gridcolor": "white",
            "linecolor": "white",
            "ticks": ""
           },
           "baxis": {
            "gridcolor": "white",
            "linecolor": "white",
            "ticks": ""
           },
           "bgcolor": "#E5ECF6",
           "caxis": {
            "gridcolor": "white",
            "linecolor": "white",
            "ticks": ""
           }
          },
          "title": {
           "x": 0.05
          },
          "xaxis": {
           "automargin": true,
           "gridcolor": "white",
           "linecolor": "white",
           "ticks": "",
           "title": {
            "standoff": 15
           },
           "zerolinecolor": "white",
           "zerolinewidth": 2
          },
          "yaxis": {
           "automargin": true,
           "gridcolor": "white",
           "linecolor": "white",
           "ticks": "",
           "title": {
            "standoff": 15
           },
           "zerolinecolor": "white",
           "zerolinewidth": 2
          }
         }
        },
        "xaxis": {
         "anchor": "y",
         "domain": [
          0,
          1
         ],
         "title": {
          "text": "Description"
         }
        },
        "yaxis": {
         "anchor": "x",
         "domain": [
          0,
          1
         ],
         "title": {
          "text": "value"
         }
        }
       }
      }
     },
     "metadata": {},
     "output_type": "display_data"
    }
   ],
   "source": [
    "from ctypes import sizeof\n",
    "import plotly.graph_objects as go # linechart to show value of sales across selected timeline - post covid\n",
    "import numpy as np\n",
    "dfb = df_post_COVID\n",
    "# df = px.data.tips()\n",
    "px.line(dfb, x='Description', y=['Predominantly food stores', 'Non-store retailing', 'Predominantly non-food stores', 'Household goods stores', 'Specialist food stores (i.e butchers and bakers)', 'Alcoholic drink, beverages & tobacco', 'Household goods stores'])\n"
   ]
  },
  {
   "cell_type": "code",
   "execution_count": 19,
   "metadata": {},
   "outputs": [
    {
     "data": {
      "application/vnd.plotly.v1+json": {
       "config": {
        "plotlyServerURL": "https://plot.ly"
       },
       "data": [
        {
         "alignmentgroup": "True",
         "bingroup": "x",
         "histfunc": "sum",
         "hovertemplate": "variable=Predominantly food stores<br>Description=%{x}<br>sum of value=%{y}<extra></extra>",
         "legendgroup": "Predominantly food stores",
         "marker": {
          "color": "#636efa",
          "pattern": {
           "shape": ""
          }
         },
         "name": "Predominantly food stores",
         "offsetgroup": "Predominantly food stores",
         "orientation": "v",
         "showlegend": true,
         "type": "histogram",
         "x": [
          "2021DEC",
          "2022JAN",
          "2022FEB"
         ],
         "xaxis": "x",
         "y": [
          1873787,
          1245360,
          1213413
         ],
         "yaxis": "y"
        },
        {
         "alignmentgroup": "True",
         "bingroup": "x",
         "histfunc": "sum",
         "hovertemplate": "variable=Non-store retailing<br>Description=%{x}<br>sum of value=%{y}<extra></extra>",
         "legendgroup": "Non-store retailing",
         "marker": {
          "color": "#EF553B",
          "pattern": {
           "shape": ""
          }
         },
         "name": "Non-store retailing",
         "offsetgroup": "Non-store retailing",
         "orientation": "v",
         "showlegend": true,
         "type": "histogram",
         "x": [
          "2021DEC",
          "2022JAN",
          "2022FEB"
         ],
         "xaxis": "x",
         "y": [
          5944149,
          4969156,
          4965111
         ],
         "yaxis": "y"
        },
        {
         "alignmentgroup": "True",
         "bingroup": "x",
         "histfunc": "sum",
         "hovertemplate": "variable=Predominantly non-food stores<br>Description=%{x}<br>sum of value=%{y}<extra></extra>",
         "legendgroup": "Predominantly non-food stores",
         "marker": {
          "color": "#00cc96",
          "pattern": {
           "shape": ""
          }
         },
         "name": "Predominantly non-food stores",
         "offsetgroup": "Predominantly non-food stores",
         "orientation": "v",
         "showlegend": true,
         "type": "histogram",
         "x": [
          "2021DEC",
          "2022JAN",
          "2022FEB"
         ],
         "xaxis": "x",
         "y": [
          3995813,
          3065025,
          3038396
         ],
         "yaxis": "y"
        },
        {
         "alignmentgroup": "True",
         "bingroup": "x",
         "histfunc": "sum",
         "hovertemplate": "variable=Household goods stores<br>Description=%{x}<br>sum of value=%{y}<extra></extra>",
         "legendgroup": "Household goods stores",
         "marker": {
          "color": "#ab63fa",
          "pattern": {
           "shape": ""
          }
         },
         "name": "Household goods stores",
         "offsetgroup": "Household goods stores",
         "orientation": "v",
         "showlegend": true,
         "type": "histogram",
         "x": [
          "2021DEC",
          "2022JAN",
          "2022FEB"
         ],
         "xaxis": "x",
         "y": [
          786799,
          603528,
          589728
         ],
         "yaxis": "y"
        },
        {
         "alignmentgroup": "True",
         "bingroup": "x",
         "histfunc": "sum",
         "hovertemplate": "variable=Specialist food stores (i.e butchers and bakers)<br>Description=%{x}<br>sum of value=%{y}<extra></extra>",
         "legendgroup": "Specialist food stores (i.e butchers and bakers)",
         "marker": {
          "color": "#FFA15A",
          "pattern": {
           "shape": ""
          }
         },
         "name": "Specialist food stores (i.e butchers and bakers)",
         "offsetgroup": "Specialist food stores (i.e butchers and bakers)",
         "orientation": "v",
         "showlegend": true,
         "type": "histogram",
         "x": [
          "2021DEC",
          "2022JAN",
          "2022FEB"
         ],
         "xaxis": "x",
         "y": [
          65917,
          46378,
          44913
         ],
         "yaxis": "y"
        },
        {
         "alignmentgroup": "True",
         "bingroup": "x",
         "histfunc": "sum",
         "hovertemplate": "variable=Alcoholic drink, beverages & tobacco<br>Description=%{x}<br>sum of value=%{y}<extra></extra>",
         "legendgroup": "Alcoholic drink, beverages & tobacco",
         "marker": {
          "color": "#19d3f3",
          "pattern": {
           "shape": ""
          }
         },
         "name": "Alcoholic drink, beverages & tobacco",
         "offsetgroup": "Alcoholic drink, beverages & tobacco",
         "orientation": "v",
         "showlegend": true,
         "type": "histogram",
         "x": [
          "2021DEC",
          "2022JAN",
          "2022FEB"
         ],
         "xaxis": "x",
         "y": [
          124793,
          32966,
          24391
         ],
         "yaxis": "y"
        }
       ],
       "layout": {
        "barmode": "group",
        "legend": {
         "title": {
          "text": "variable"
         },
         "tracegroupgap": 0
        },
        "margin": {
         "t": 60
        },
        "template": {
         "data": {
          "bar": [
           {
            "error_x": {
             "color": "#2a3f5f"
            },
            "error_y": {
             "color": "#2a3f5f"
            },
            "marker": {
             "line": {
              "color": "#E5ECF6",
              "width": 0.5
             },
             "pattern": {
              "fillmode": "overlay",
              "size": 10,
              "solidity": 0.2
             }
            },
            "type": "bar"
           }
          ],
          "barpolar": [
           {
            "marker": {
             "line": {
              "color": "#E5ECF6",
              "width": 0.5
             },
             "pattern": {
              "fillmode": "overlay",
              "size": 10,
              "solidity": 0.2
             }
            },
            "type": "barpolar"
           }
          ],
          "carpet": [
           {
            "aaxis": {
             "endlinecolor": "#2a3f5f",
             "gridcolor": "white",
             "linecolor": "white",
             "minorgridcolor": "white",
             "startlinecolor": "#2a3f5f"
            },
            "baxis": {
             "endlinecolor": "#2a3f5f",
             "gridcolor": "white",
             "linecolor": "white",
             "minorgridcolor": "white",
             "startlinecolor": "#2a3f5f"
            },
            "type": "carpet"
           }
          ],
          "choropleth": [
           {
            "colorbar": {
             "outlinewidth": 0,
             "ticks": ""
            },
            "type": "choropleth"
           }
          ],
          "contour": [
           {
            "colorbar": {
             "outlinewidth": 0,
             "ticks": ""
            },
            "colorscale": [
             [
              0,
              "#0d0887"
             ],
             [
              0.1111111111111111,
              "#46039f"
             ],
             [
              0.2222222222222222,
              "#7201a8"
             ],
             [
              0.3333333333333333,
              "#9c179e"
             ],
             [
              0.4444444444444444,
              "#bd3786"
             ],
             [
              0.5555555555555556,
              "#d8576b"
             ],
             [
              0.6666666666666666,
              "#ed7953"
             ],
             [
              0.7777777777777778,
              "#fb9f3a"
             ],
             [
              0.8888888888888888,
              "#fdca26"
             ],
             [
              1,
              "#f0f921"
             ]
            ],
            "type": "contour"
           }
          ],
          "contourcarpet": [
           {
            "colorbar": {
             "outlinewidth": 0,
             "ticks": ""
            },
            "type": "contourcarpet"
           }
          ],
          "heatmap": [
           {
            "colorbar": {
             "outlinewidth": 0,
             "ticks": ""
            },
            "colorscale": [
             [
              0,
              "#0d0887"
             ],
             [
              0.1111111111111111,
              "#46039f"
             ],
             [
              0.2222222222222222,
              "#7201a8"
             ],
             [
              0.3333333333333333,
              "#9c179e"
             ],
             [
              0.4444444444444444,
              "#bd3786"
             ],
             [
              0.5555555555555556,
              "#d8576b"
             ],
             [
              0.6666666666666666,
              "#ed7953"
             ],
             [
              0.7777777777777778,
              "#fb9f3a"
             ],
             [
              0.8888888888888888,
              "#fdca26"
             ],
             [
              1,
              "#f0f921"
             ]
            ],
            "type": "heatmap"
           }
          ],
          "heatmapgl": [
           {
            "colorbar": {
             "outlinewidth": 0,
             "ticks": ""
            },
            "colorscale": [
             [
              0,
              "#0d0887"
             ],
             [
              0.1111111111111111,
              "#46039f"
             ],
             [
              0.2222222222222222,
              "#7201a8"
             ],
             [
              0.3333333333333333,
              "#9c179e"
             ],
             [
              0.4444444444444444,
              "#bd3786"
             ],
             [
              0.5555555555555556,
              "#d8576b"
             ],
             [
              0.6666666666666666,
              "#ed7953"
             ],
             [
              0.7777777777777778,
              "#fb9f3a"
             ],
             [
              0.8888888888888888,
              "#fdca26"
             ],
             [
              1,
              "#f0f921"
             ]
            ],
            "type": "heatmapgl"
           }
          ],
          "histogram": [
           {
            "marker": {
             "pattern": {
              "fillmode": "overlay",
              "size": 10,
              "solidity": 0.2
             }
            },
            "type": "histogram"
           }
          ],
          "histogram2d": [
           {
            "colorbar": {
             "outlinewidth": 0,
             "ticks": ""
            },
            "colorscale": [
             [
              0,
              "#0d0887"
             ],
             [
              0.1111111111111111,
              "#46039f"
             ],
             [
              0.2222222222222222,
              "#7201a8"
             ],
             [
              0.3333333333333333,
              "#9c179e"
             ],
             [
              0.4444444444444444,
              "#bd3786"
             ],
             [
              0.5555555555555556,
              "#d8576b"
             ],
             [
              0.6666666666666666,
              "#ed7953"
             ],
             [
              0.7777777777777778,
              "#fb9f3a"
             ],
             [
              0.8888888888888888,
              "#fdca26"
             ],
             [
              1,
              "#f0f921"
             ]
            ],
            "type": "histogram2d"
           }
          ],
          "histogram2dcontour": [
           {
            "colorbar": {
             "outlinewidth": 0,
             "ticks": ""
            },
            "colorscale": [
             [
              0,
              "#0d0887"
             ],
             [
              0.1111111111111111,
              "#46039f"
             ],
             [
              0.2222222222222222,
              "#7201a8"
             ],
             [
              0.3333333333333333,
              "#9c179e"
             ],
             [
              0.4444444444444444,
              "#bd3786"
             ],
             [
              0.5555555555555556,
              "#d8576b"
             ],
             [
              0.6666666666666666,
              "#ed7953"
             ],
             [
              0.7777777777777778,
              "#fb9f3a"
             ],
             [
              0.8888888888888888,
              "#fdca26"
             ],
             [
              1,
              "#f0f921"
             ]
            ],
            "type": "histogram2dcontour"
           }
          ],
          "mesh3d": [
           {
            "colorbar": {
             "outlinewidth": 0,
             "ticks": ""
            },
            "type": "mesh3d"
           }
          ],
          "parcoords": [
           {
            "line": {
             "colorbar": {
              "outlinewidth": 0,
              "ticks": ""
             }
            },
            "type": "parcoords"
           }
          ],
          "pie": [
           {
            "automargin": true,
            "type": "pie"
           }
          ],
          "scatter": [
           {
            "fillpattern": {
             "fillmode": "overlay",
             "size": 10,
             "solidity": 0.2
            },
            "type": "scatter"
           }
          ],
          "scatter3d": [
           {
            "line": {
             "colorbar": {
              "outlinewidth": 0,
              "ticks": ""
             }
            },
            "marker": {
             "colorbar": {
              "outlinewidth": 0,
              "ticks": ""
             }
            },
            "type": "scatter3d"
           }
          ],
          "scattercarpet": [
           {
            "marker": {
             "colorbar": {
              "outlinewidth": 0,
              "ticks": ""
             }
            },
            "type": "scattercarpet"
           }
          ],
          "scattergeo": [
           {
            "marker": {
             "colorbar": {
              "outlinewidth": 0,
              "ticks": ""
             }
            },
            "type": "scattergeo"
           }
          ],
          "scattergl": [
           {
            "marker": {
             "colorbar": {
              "outlinewidth": 0,
              "ticks": ""
             }
            },
            "type": "scattergl"
           }
          ],
          "scattermapbox": [
           {
            "marker": {
             "colorbar": {
              "outlinewidth": 0,
              "ticks": ""
             }
            },
            "type": "scattermapbox"
           }
          ],
          "scatterpolar": [
           {
            "marker": {
             "colorbar": {
              "outlinewidth": 0,
              "ticks": ""
             }
            },
            "type": "scatterpolar"
           }
          ],
          "scatterpolargl": [
           {
            "marker": {
             "colorbar": {
              "outlinewidth": 0,
              "ticks": ""
             }
            },
            "type": "scatterpolargl"
           }
          ],
          "scatterternary": [
           {
            "marker": {
             "colorbar": {
              "outlinewidth": 0,
              "ticks": ""
             }
            },
            "type": "scatterternary"
           }
          ],
          "surface": [
           {
            "colorbar": {
             "outlinewidth": 0,
             "ticks": ""
            },
            "colorscale": [
             [
              0,
              "#0d0887"
             ],
             [
              0.1111111111111111,
              "#46039f"
             ],
             [
              0.2222222222222222,
              "#7201a8"
             ],
             [
              0.3333333333333333,
              "#9c179e"
             ],
             [
              0.4444444444444444,
              "#bd3786"
             ],
             [
              0.5555555555555556,
              "#d8576b"
             ],
             [
              0.6666666666666666,
              "#ed7953"
             ],
             [
              0.7777777777777778,
              "#fb9f3a"
             ],
             [
              0.8888888888888888,
              "#fdca26"
             ],
             [
              1,
              "#f0f921"
             ]
            ],
            "type": "surface"
           }
          ],
          "table": [
           {
            "cells": {
             "fill": {
              "color": "#EBF0F8"
             },
             "line": {
              "color": "white"
             }
            },
            "header": {
             "fill": {
              "color": "#C8D4E3"
             },
             "line": {
              "color": "white"
             }
            },
            "type": "table"
           }
          ]
         },
         "layout": {
          "annotationdefaults": {
           "arrowcolor": "#2a3f5f",
           "arrowhead": 0,
           "arrowwidth": 1
          },
          "autotypenumbers": "strict",
          "coloraxis": {
           "colorbar": {
            "outlinewidth": 0,
            "ticks": ""
           }
          },
          "colorscale": {
           "diverging": [
            [
             0,
             "#8e0152"
            ],
            [
             0.1,
             "#c51b7d"
            ],
            [
             0.2,
             "#de77ae"
            ],
            [
             0.3,
             "#f1b6da"
            ],
            [
             0.4,
             "#fde0ef"
            ],
            [
             0.5,
             "#f7f7f7"
            ],
            [
             0.6,
             "#e6f5d0"
            ],
            [
             0.7,
             "#b8e186"
            ],
            [
             0.8,
             "#7fbc41"
            ],
            [
             0.9,
             "#4d9221"
            ],
            [
             1,
             "#276419"
            ]
           ],
           "sequential": [
            [
             0,
             "#0d0887"
            ],
            [
             0.1111111111111111,
             "#46039f"
            ],
            [
             0.2222222222222222,
             "#7201a8"
            ],
            [
             0.3333333333333333,
             "#9c179e"
            ],
            [
             0.4444444444444444,
             "#bd3786"
            ],
            [
             0.5555555555555556,
             "#d8576b"
            ],
            [
             0.6666666666666666,
             "#ed7953"
            ],
            [
             0.7777777777777778,
             "#fb9f3a"
            ],
            [
             0.8888888888888888,
             "#fdca26"
            ],
            [
             1,
             "#f0f921"
            ]
           ],
           "sequentialminus": [
            [
             0,
             "#0d0887"
            ],
            [
             0.1111111111111111,
             "#46039f"
            ],
            [
             0.2222222222222222,
             "#7201a8"
            ],
            [
             0.3333333333333333,
             "#9c179e"
            ],
            [
             0.4444444444444444,
             "#bd3786"
            ],
            [
             0.5555555555555556,
             "#d8576b"
            ],
            [
             0.6666666666666666,
             "#ed7953"
            ],
            [
             0.7777777777777778,
             "#fb9f3a"
            ],
            [
             0.8888888888888888,
             "#fdca26"
            ],
            [
             1,
             "#f0f921"
            ]
           ]
          },
          "colorway": [
           "#636efa",
           "#EF553B",
           "#00cc96",
           "#ab63fa",
           "#FFA15A",
           "#19d3f3",
           "#FF6692",
           "#B6E880",
           "#FF97FF",
           "#FECB52"
          ],
          "font": {
           "color": "#2a3f5f"
          },
          "geo": {
           "bgcolor": "white",
           "lakecolor": "white",
           "landcolor": "#E5ECF6",
           "showlakes": true,
           "showland": true,
           "subunitcolor": "white"
          },
          "hoverlabel": {
           "align": "left"
          },
          "hovermode": "closest",
          "mapbox": {
           "style": "light"
          },
          "paper_bgcolor": "white",
          "plot_bgcolor": "#E5ECF6",
          "polar": {
           "angularaxis": {
            "gridcolor": "white",
            "linecolor": "white",
            "ticks": ""
           },
           "bgcolor": "#E5ECF6",
           "radialaxis": {
            "gridcolor": "white",
            "linecolor": "white",
            "ticks": ""
           }
          },
          "scene": {
           "xaxis": {
            "backgroundcolor": "#E5ECF6",
            "gridcolor": "white",
            "gridwidth": 2,
            "linecolor": "white",
            "showbackground": true,
            "ticks": "",
            "zerolinecolor": "white"
           },
           "yaxis": {
            "backgroundcolor": "#E5ECF6",
            "gridcolor": "white",
            "gridwidth": 2,
            "linecolor": "white",
            "showbackground": true,
            "ticks": "",
            "zerolinecolor": "white"
           },
           "zaxis": {
            "backgroundcolor": "#E5ECF6",
            "gridcolor": "white",
            "gridwidth": 2,
            "linecolor": "white",
            "showbackground": true,
            "ticks": "",
            "zerolinecolor": "white"
           }
          },
          "shapedefaults": {
           "line": {
            "color": "#2a3f5f"
           }
          },
          "ternary": {
           "aaxis": {
            "gridcolor": "white",
            "linecolor": "white",
            "ticks": ""
           },
           "baxis": {
            "gridcolor": "white",
            "linecolor": "white",
            "ticks": ""
           },
           "bgcolor": "#E5ECF6",
           "caxis": {
            "gridcolor": "white",
            "linecolor": "white",
            "ticks": ""
           }
          },
          "title": {
           "x": 0.05
          },
          "xaxis": {
           "automargin": true,
           "gridcolor": "white",
           "linecolor": "white",
           "ticks": "",
           "title": {
            "standoff": 15
           },
           "zerolinecolor": "white",
           "zerolinewidth": 2
          },
          "yaxis": {
           "automargin": true,
           "gridcolor": "white",
           "linecolor": "white",
           "ticks": "",
           "title": {
            "standoff": 15
           },
           "zerolinecolor": "white",
           "zerolinewidth": 2
          }
         }
        },
        "xaxis": {
         "anchor": "y",
         "domain": [
          0,
          1
         ],
         "title": {
          "text": "Description"
         }
        },
        "yaxis": {
         "anchor": "x",
         "domain": [
          0,
          1
         ],
         "title": {
          "text": "sum of value"
         }
        }
       }
      }
     },
     "metadata": {},
     "output_type": "display_data"
    }
   ],
   "source": [
    "import plotly.express as px # linechart to show value of sales across selected timeline - post covid\n",
    "import numpy as np\n",
    "dfb = df_post_COVID\n",
    "px.histogram(dfb, x='Description', y=['Predominantly food stores', 'Non-store retailing', 'Predominantly non-food stores', 'Household goods stores', 'Specialist food stores (i.e butchers and bakers)', 'Alcoholic drink, beverages & tobacco', 'Household goods stores'], barmode='group')\n"
   ]
  },
  {
   "cell_type": "code",
   "execution_count": 20,
   "metadata": {},
   "outputs": [],
   "source": [
    "import pandas as pd\n",
    "online_updated = pd.read_excel(r'/Users/temilolu_trois/desktop/datasets_csv_format/detailedonlineandinstore202222.xlsx', sheet_name= 3) \n",
    "# online sales sheet covering 2021 to 2022 "
   ]
  },
  {
   "cell_type": "code",
   "execution_count": 21,
   "metadata": {},
   "outputs": [
    {
     "data": {
      "text/html": [
       "<div>\n",
       "<style scoped>\n",
       "    .dataframe tbody tr th:only-of-type {\n",
       "        vertical-align: middle;\n",
       "    }\n",
       "\n",
       "    .dataframe tbody tr th {\n",
       "        vertical-align: top;\n",
       "    }\n",
       "\n",
       "    .dataframe thead th {\n",
       "        text-align: right;\n",
       "    }\n",
       "</style>\n",
       "<table border=\"1\" class=\"dataframe\">\n",
       "  <thead>\n",
       "    <tr style=\"text-align: right;\">\n",
       "      <th></th>\n",
       "      <th>Number of weeks</th>\n",
       "      <th>Description</th>\n",
       "      <th>All retailing</th>\n",
       "      <th>All retailing except automotive fuel</th>\n",
       "      <th>Predominantly food stores</th>\n",
       "      <th>Non-specialised stores (i.e supermarkets)</th>\n",
       "      <th>Specialist food stores (i.e butchers and bakers)</th>\n",
       "      <th>Alcoholic drink, beverages &amp; tobacco</th>\n",
       "      <th>Predominantly non-food stores</th>\n",
       "      <th>Non-specialised stores (i.e department stores)</th>\n",
       "      <th>...</th>\n",
       "      <th>Textiles</th>\n",
       "      <th>Clothing</th>\n",
       "      <th>Footwear and leather goods</th>\n",
       "      <th>Household goods stores</th>\n",
       "      <th>Furniture, lighting and household articles n.e.c</th>\n",
       "      <th>Electrical household aplliances</th>\n",
       "      <th>Hardware, paints and glass</th>\n",
       "      <th>Music and video recordings &amp; equiptment</th>\n",
       "      <th>Non-store retailing</th>\n",
       "      <th>Mail order</th>\n",
       "    </tr>\n",
       "  </thead>\n",
       "  <tbody>\n",
       "    <tr>\n",
       "      <th>13</th>\n",
       "      <td>4.0</td>\n",
       "      <td>2022JAN</td>\n",
       "      <td>9367862</td>\n",
       "      <td>9367862</td>\n",
       "      <td>1263960</td>\n",
       "      <td>1176187.0</td>\n",
       "      <td>50133</td>\n",
       "      <td>37640</td>\n",
       "      <td>3174195</td>\n",
       "      <td>597766.0</td>\n",
       "      <td>...</td>\n",
       "      <td>25506.0</td>\n",
       "      <td>889281.0</td>\n",
       "      <td>77013.0</td>\n",
       "      <td>632025</td>\n",
       "      <td>226866.0</td>\n",
       "      <td>225671.0</td>\n",
       "      <td>161323.0</td>\n",
       "      <td>18165</td>\n",
       "      <td>4929707</td>\n",
       "      <td>4873991.0</td>\n",
       "    </tr>\n",
       "    <tr>\n",
       "      <th>14</th>\n",
       "      <td>4.0</td>\n",
       "      <td>2022FEB</td>\n",
       "      <td>9283142</td>\n",
       "      <td>9283142</td>\n",
       "      <td>1240681</td>\n",
       "      <td>1157014.0</td>\n",
       "      <td>55635</td>\n",
       "      <td>28032</td>\n",
       "      <td>3155490</td>\n",
       "      <td>598397.0</td>\n",
       "      <td>...</td>\n",
       "      <td>22659.0</td>\n",
       "      <td>891616.0</td>\n",
       "      <td>89997.0</td>\n",
       "      <td>617307</td>\n",
       "      <td>209643.0</td>\n",
       "      <td>239052.0</td>\n",
       "      <td>150517.0</td>\n",
       "      <td>18095</td>\n",
       "      <td>4886971</td>\n",
       "      <td>4832096.0</td>\n",
       "    </tr>\n",
       "    <tr>\n",
       "      <th>15</th>\n",
       "      <td>5.0</td>\n",
       "      <td>2022MAR</td>\n",
       "      <td>10786590</td>\n",
       "      <td>10786590</td>\n",
       "      <td>1574320</td>\n",
       "      <td>1477908.0</td>\n",
       "      <td>68517</td>\n",
       "      <td>27895</td>\n",
       "      <td>3898631</td>\n",
       "      <td>737451.0</td>\n",
       "      <td>...</td>\n",
       "      <td>26244.0</td>\n",
       "      <td>1129078.0</td>\n",
       "      <td>110075.0</td>\n",
       "      <td>812506</td>\n",
       "      <td>293587.0</td>\n",
       "      <td>286228.0</td>\n",
       "      <td>211474.0</td>\n",
       "      <td>21217</td>\n",
       "      <td>5313639</td>\n",
       "      <td>5237856.0</td>\n",
       "    </tr>\n",
       "    <tr>\n",
       "      <th>16</th>\n",
       "      <td>4.0</td>\n",
       "      <td>2022APR</td>\n",
       "      <td>9160045</td>\n",
       "      <td>9160045</td>\n",
       "      <td>1268102</td>\n",
       "      <td>1192733.0</td>\n",
       "      <td>50843</td>\n",
       "      <td>24526</td>\n",
       "      <td>3162662</td>\n",
       "      <td>602408.0</td>\n",
       "      <td>...</td>\n",
       "      <td>20704.0</td>\n",
       "      <td>941284.0</td>\n",
       "      <td>86409.0</td>\n",
       "      <td>662738</td>\n",
       "      <td>247678.0</td>\n",
       "      <td>236372.0</td>\n",
       "      <td>163440.0</td>\n",
       "      <td>15248</td>\n",
       "      <td>4729281</td>\n",
       "      <td>4670586.0</td>\n",
       "    </tr>\n",
       "  </tbody>\n",
       "</table>\n",
       "<p>4 rows × 33 columns</p>\n",
       "</div>"
      ],
      "text/plain": [
       "    Number of weeks Description All retailing  \\\n",
       "13              4.0     2022JAN       9367862   \n",
       "14              4.0     2022FEB       9283142   \n",
       "15              5.0     2022MAR      10786590   \n",
       "16              4.0     2022APR       9160045   \n",
       "\n",
       "   All retailing except automotive fuel Predominantly food stores  \\\n",
       "13                              9367862                   1263960   \n",
       "14                              9283142                   1240681   \n",
       "15                             10786590                   1574320   \n",
       "16                              9160045                   1268102   \n",
       "\n",
       "    Non-specialised stores (i.e supermarkets)  \\\n",
       "13                                  1176187.0   \n",
       "14                                  1157014.0   \n",
       "15                                  1477908.0   \n",
       "16                                  1192733.0   \n",
       "\n",
       "   Specialist food stores (i.e butchers and bakers)  \\\n",
       "13                                            50133   \n",
       "14                                            55635   \n",
       "15                                            68517   \n",
       "16                                            50843   \n",
       "\n",
       "   Alcoholic drink, beverages & tobacco Predominantly non-food stores  \\\n",
       "13                                37640                       3174195   \n",
       "14                                28032                       3155490   \n",
       "15                                27895                       3898631   \n",
       "16                                24526                       3162662   \n",
       "\n",
       "    Non-specialised stores (i.e department stores)  ... Textiles   Clothing  \\\n",
       "13                                        597766.0  ...  25506.0   889281.0   \n",
       "14                                        598397.0  ...  22659.0   891616.0   \n",
       "15                                        737451.0  ...  26244.0  1129078.0   \n",
       "16                                        602408.0  ...  20704.0   941284.0   \n",
       "\n",
       "    Footwear and leather goods  Household goods stores  \\\n",
       "13                     77013.0                  632025   \n",
       "14                     89997.0                  617307   \n",
       "15                    110075.0                  812506   \n",
       "16                     86409.0                  662738   \n",
       "\n",
       "   Furniture, lighting and household articles n.e.c  \\\n",
       "13                                         226866.0   \n",
       "14                                         209643.0   \n",
       "15                                         293587.0   \n",
       "16                                         247678.0   \n",
       "\n",
       "    Electrical household aplliances Hardware, paints and glass  \\\n",
       "13                         225671.0                   161323.0   \n",
       "14                         239052.0                   150517.0   \n",
       "15                         286228.0                   211474.0   \n",
       "16                         236372.0                   163440.0   \n",
       "\n",
       "   Music and video recordings & equiptment  Non-store retailing  Mail order  \n",
       "13                                   18165              4929707   4873991.0  \n",
       "14                                   18095              4886971   4832096.0  \n",
       "15                                   21217              5313639   5237856.0  \n",
       "16                                   15248              4729281   4670586.0  \n",
       "\n",
       "[4 rows x 33 columns]"
      ]
     },
     "execution_count": 21,
     "metadata": {},
     "output_type": "execute_result"
    }
   ],
   "source": [
    "# convert to a dataframe \n",
    "df_online_2 = pd.DataFrame(online_updated)\n",
    "# df_online_2\n",
    "df_final = df_online_2.drop_duplicates().dropna().loc[13:]\n",
    "df_final"
   ]
  },
  {
   "cell_type": "code",
   "execution_count": 22,
   "metadata": {},
   "outputs": [
    {
     "data": {
      "application/vnd.plotly.v1+json": {
       "config": {
        "plotlyServerURL": "https://plot.ly"
       },
       "data": [
        {
         "hovertemplate": "variable=Predominantly food stores<br>Description=%{x}<br>value=%{y}<extra></extra>",
         "legendgroup": "Predominantly food stores",
         "line": {
          "color": "#636efa",
          "dash": "solid"
         },
         "marker": {
          "symbol": "circle"
         },
         "mode": "lines",
         "name": "Predominantly food stores",
         "orientation": "v",
         "showlegend": true,
         "type": "scatter",
         "x": [
          "2022JAN",
          "2022FEB",
          "2022MAR",
          "2022APR"
         ],
         "xaxis": "x",
         "y": [
          1263960,
          1240681,
          1574320,
          1268102
         ],
         "yaxis": "y"
        },
        {
         "hovertemplate": "variable=Non-store retailing<br>Description=%{x}<br>value=%{y}<extra></extra>",
         "legendgroup": "Non-store retailing",
         "line": {
          "color": "#EF553B",
          "dash": "solid"
         },
         "marker": {
          "symbol": "circle"
         },
         "mode": "lines",
         "name": "Non-store retailing",
         "orientation": "v",
         "showlegend": true,
         "type": "scatter",
         "x": [
          "2022JAN",
          "2022FEB",
          "2022MAR",
          "2022APR"
         ],
         "xaxis": "x",
         "y": [
          4929707,
          4886971,
          5313639,
          4729281
         ],
         "yaxis": "y"
        },
        {
         "hovertemplate": "variable=Predominantly non-food stores<br>Description=%{x}<br>value=%{y}<extra></extra>",
         "legendgroup": "Predominantly non-food stores",
         "line": {
          "color": "#00cc96",
          "dash": "solid"
         },
         "marker": {
          "symbol": "circle"
         },
         "mode": "lines",
         "name": "Predominantly non-food stores",
         "orientation": "v",
         "showlegend": true,
         "type": "scatter",
         "x": [
          "2022JAN",
          "2022FEB",
          "2022MAR",
          "2022APR"
         ],
         "xaxis": "x",
         "y": [
          3174195,
          3155490,
          3898631,
          3162662
         ],
         "yaxis": "y"
        },
        {
         "hovertemplate": "variable=Household goods stores<br>Description=%{x}<br>value=%{y}<extra></extra>",
         "legendgroup": "Household goods stores",
         "line": {
          "color": "#ab63fa",
          "dash": "solid"
         },
         "marker": {
          "symbol": "circle"
         },
         "mode": "lines",
         "name": "Household goods stores",
         "orientation": "v",
         "showlegend": true,
         "type": "scatter",
         "x": [
          "2022JAN",
          "2022FEB",
          "2022MAR",
          "2022APR"
         ],
         "xaxis": "x",
         "y": [
          632025,
          617307,
          812506,
          662738
         ],
         "yaxis": "y"
        }
       ],
       "layout": {
        "legend": {
         "title": {
          "text": "variable"
         },
         "tracegroupgap": 0
        },
        "margin": {
         "t": 60
        },
        "template": {
         "data": {
          "bar": [
           {
            "error_x": {
             "color": "#2a3f5f"
            },
            "error_y": {
             "color": "#2a3f5f"
            },
            "marker": {
             "line": {
              "color": "#E5ECF6",
              "width": 0.5
             },
             "pattern": {
              "fillmode": "overlay",
              "size": 10,
              "solidity": 0.2
             }
            },
            "type": "bar"
           }
          ],
          "barpolar": [
           {
            "marker": {
             "line": {
              "color": "#E5ECF6",
              "width": 0.5
             },
             "pattern": {
              "fillmode": "overlay",
              "size": 10,
              "solidity": 0.2
             }
            },
            "type": "barpolar"
           }
          ],
          "carpet": [
           {
            "aaxis": {
             "endlinecolor": "#2a3f5f",
             "gridcolor": "white",
             "linecolor": "white",
             "minorgridcolor": "white",
             "startlinecolor": "#2a3f5f"
            },
            "baxis": {
             "endlinecolor": "#2a3f5f",
             "gridcolor": "white",
             "linecolor": "white",
             "minorgridcolor": "white",
             "startlinecolor": "#2a3f5f"
            },
            "type": "carpet"
           }
          ],
          "choropleth": [
           {
            "colorbar": {
             "outlinewidth": 0,
             "ticks": ""
            },
            "type": "choropleth"
           }
          ],
          "contour": [
           {
            "colorbar": {
             "outlinewidth": 0,
             "ticks": ""
            },
            "colorscale": [
             [
              0,
              "#0d0887"
             ],
             [
              0.1111111111111111,
              "#46039f"
             ],
             [
              0.2222222222222222,
              "#7201a8"
             ],
             [
              0.3333333333333333,
              "#9c179e"
             ],
             [
              0.4444444444444444,
              "#bd3786"
             ],
             [
              0.5555555555555556,
              "#d8576b"
             ],
             [
              0.6666666666666666,
              "#ed7953"
             ],
             [
              0.7777777777777778,
              "#fb9f3a"
             ],
             [
              0.8888888888888888,
              "#fdca26"
             ],
             [
              1,
              "#f0f921"
             ]
            ],
            "type": "contour"
           }
          ],
          "contourcarpet": [
           {
            "colorbar": {
             "outlinewidth": 0,
             "ticks": ""
            },
            "type": "contourcarpet"
           }
          ],
          "heatmap": [
           {
            "colorbar": {
             "outlinewidth": 0,
             "ticks": ""
            },
            "colorscale": [
             [
              0,
              "#0d0887"
             ],
             [
              0.1111111111111111,
              "#46039f"
             ],
             [
              0.2222222222222222,
              "#7201a8"
             ],
             [
              0.3333333333333333,
              "#9c179e"
             ],
             [
              0.4444444444444444,
              "#bd3786"
             ],
             [
              0.5555555555555556,
              "#d8576b"
             ],
             [
              0.6666666666666666,
              "#ed7953"
             ],
             [
              0.7777777777777778,
              "#fb9f3a"
             ],
             [
              0.8888888888888888,
              "#fdca26"
             ],
             [
              1,
              "#f0f921"
             ]
            ],
            "type": "heatmap"
           }
          ],
          "heatmapgl": [
           {
            "colorbar": {
             "outlinewidth": 0,
             "ticks": ""
            },
            "colorscale": [
             [
              0,
              "#0d0887"
             ],
             [
              0.1111111111111111,
              "#46039f"
             ],
             [
              0.2222222222222222,
              "#7201a8"
             ],
             [
              0.3333333333333333,
              "#9c179e"
             ],
             [
              0.4444444444444444,
              "#bd3786"
             ],
             [
              0.5555555555555556,
              "#d8576b"
             ],
             [
              0.6666666666666666,
              "#ed7953"
             ],
             [
              0.7777777777777778,
              "#fb9f3a"
             ],
             [
              0.8888888888888888,
              "#fdca26"
             ],
             [
              1,
              "#f0f921"
             ]
            ],
            "type": "heatmapgl"
           }
          ],
          "histogram": [
           {
            "marker": {
             "pattern": {
              "fillmode": "overlay",
              "size": 10,
              "solidity": 0.2
             }
            },
            "type": "histogram"
           }
          ],
          "histogram2d": [
           {
            "colorbar": {
             "outlinewidth": 0,
             "ticks": ""
            },
            "colorscale": [
             [
              0,
              "#0d0887"
             ],
             [
              0.1111111111111111,
              "#46039f"
             ],
             [
              0.2222222222222222,
              "#7201a8"
             ],
             [
              0.3333333333333333,
              "#9c179e"
             ],
             [
              0.4444444444444444,
              "#bd3786"
             ],
             [
              0.5555555555555556,
              "#d8576b"
             ],
             [
              0.6666666666666666,
              "#ed7953"
             ],
             [
              0.7777777777777778,
              "#fb9f3a"
             ],
             [
              0.8888888888888888,
              "#fdca26"
             ],
             [
              1,
              "#f0f921"
             ]
            ],
            "type": "histogram2d"
           }
          ],
          "histogram2dcontour": [
           {
            "colorbar": {
             "outlinewidth": 0,
             "ticks": ""
            },
            "colorscale": [
             [
              0,
              "#0d0887"
             ],
             [
              0.1111111111111111,
              "#46039f"
             ],
             [
              0.2222222222222222,
              "#7201a8"
             ],
             [
              0.3333333333333333,
              "#9c179e"
             ],
             [
              0.4444444444444444,
              "#bd3786"
             ],
             [
              0.5555555555555556,
              "#d8576b"
             ],
             [
              0.6666666666666666,
              "#ed7953"
             ],
             [
              0.7777777777777778,
              "#fb9f3a"
             ],
             [
              0.8888888888888888,
              "#fdca26"
             ],
             [
              1,
              "#f0f921"
             ]
            ],
            "type": "histogram2dcontour"
           }
          ],
          "mesh3d": [
           {
            "colorbar": {
             "outlinewidth": 0,
             "ticks": ""
            },
            "type": "mesh3d"
           }
          ],
          "parcoords": [
           {
            "line": {
             "colorbar": {
              "outlinewidth": 0,
              "ticks": ""
             }
            },
            "type": "parcoords"
           }
          ],
          "pie": [
           {
            "automargin": true,
            "type": "pie"
           }
          ],
          "scatter": [
           {
            "fillpattern": {
             "fillmode": "overlay",
             "size": 10,
             "solidity": 0.2
            },
            "type": "scatter"
           }
          ],
          "scatter3d": [
           {
            "line": {
             "colorbar": {
              "outlinewidth": 0,
              "ticks": ""
             }
            },
            "marker": {
             "colorbar": {
              "outlinewidth": 0,
              "ticks": ""
             }
            },
            "type": "scatter3d"
           }
          ],
          "scattercarpet": [
           {
            "marker": {
             "colorbar": {
              "outlinewidth": 0,
              "ticks": ""
             }
            },
            "type": "scattercarpet"
           }
          ],
          "scattergeo": [
           {
            "marker": {
             "colorbar": {
              "outlinewidth": 0,
              "ticks": ""
             }
            },
            "type": "scattergeo"
           }
          ],
          "scattergl": [
           {
            "marker": {
             "colorbar": {
              "outlinewidth": 0,
              "ticks": ""
             }
            },
            "type": "scattergl"
           }
          ],
          "scattermapbox": [
           {
            "marker": {
             "colorbar": {
              "outlinewidth": 0,
              "ticks": ""
             }
            },
            "type": "scattermapbox"
           }
          ],
          "scatterpolar": [
           {
            "marker": {
             "colorbar": {
              "outlinewidth": 0,
              "ticks": ""
             }
            },
            "type": "scatterpolar"
           }
          ],
          "scatterpolargl": [
           {
            "marker": {
             "colorbar": {
              "outlinewidth": 0,
              "ticks": ""
             }
            },
            "type": "scatterpolargl"
           }
          ],
          "scatterternary": [
           {
            "marker": {
             "colorbar": {
              "outlinewidth": 0,
              "ticks": ""
             }
            },
            "type": "scatterternary"
           }
          ],
          "surface": [
           {
            "colorbar": {
             "outlinewidth": 0,
             "ticks": ""
            },
            "colorscale": [
             [
              0,
              "#0d0887"
             ],
             [
              0.1111111111111111,
              "#46039f"
             ],
             [
              0.2222222222222222,
              "#7201a8"
             ],
             [
              0.3333333333333333,
              "#9c179e"
             ],
             [
              0.4444444444444444,
              "#bd3786"
             ],
             [
              0.5555555555555556,
              "#d8576b"
             ],
             [
              0.6666666666666666,
              "#ed7953"
             ],
             [
              0.7777777777777778,
              "#fb9f3a"
             ],
             [
              0.8888888888888888,
              "#fdca26"
             ],
             [
              1,
              "#f0f921"
             ]
            ],
            "type": "surface"
           }
          ],
          "table": [
           {
            "cells": {
             "fill": {
              "color": "#EBF0F8"
             },
             "line": {
              "color": "white"
             }
            },
            "header": {
             "fill": {
              "color": "#C8D4E3"
             },
             "line": {
              "color": "white"
             }
            },
            "type": "table"
           }
          ]
         },
         "layout": {
          "annotationdefaults": {
           "arrowcolor": "#2a3f5f",
           "arrowhead": 0,
           "arrowwidth": 1
          },
          "autotypenumbers": "strict",
          "coloraxis": {
           "colorbar": {
            "outlinewidth": 0,
            "ticks": ""
           }
          },
          "colorscale": {
           "diverging": [
            [
             0,
             "#8e0152"
            ],
            [
             0.1,
             "#c51b7d"
            ],
            [
             0.2,
             "#de77ae"
            ],
            [
             0.3,
             "#f1b6da"
            ],
            [
             0.4,
             "#fde0ef"
            ],
            [
             0.5,
             "#f7f7f7"
            ],
            [
             0.6,
             "#e6f5d0"
            ],
            [
             0.7,
             "#b8e186"
            ],
            [
             0.8,
             "#7fbc41"
            ],
            [
             0.9,
             "#4d9221"
            ],
            [
             1,
             "#276419"
            ]
           ],
           "sequential": [
            [
             0,
             "#0d0887"
            ],
            [
             0.1111111111111111,
             "#46039f"
            ],
            [
             0.2222222222222222,
             "#7201a8"
            ],
            [
             0.3333333333333333,
             "#9c179e"
            ],
            [
             0.4444444444444444,
             "#bd3786"
            ],
            [
             0.5555555555555556,
             "#d8576b"
            ],
            [
             0.6666666666666666,
             "#ed7953"
            ],
            [
             0.7777777777777778,
             "#fb9f3a"
            ],
            [
             0.8888888888888888,
             "#fdca26"
            ],
            [
             1,
             "#f0f921"
            ]
           ],
           "sequentialminus": [
            [
             0,
             "#0d0887"
            ],
            [
             0.1111111111111111,
             "#46039f"
            ],
            [
             0.2222222222222222,
             "#7201a8"
            ],
            [
             0.3333333333333333,
             "#9c179e"
            ],
            [
             0.4444444444444444,
             "#bd3786"
            ],
            [
             0.5555555555555556,
             "#d8576b"
            ],
            [
             0.6666666666666666,
             "#ed7953"
            ],
            [
             0.7777777777777778,
             "#fb9f3a"
            ],
            [
             0.8888888888888888,
             "#fdca26"
            ],
            [
             1,
             "#f0f921"
            ]
           ]
          },
          "colorway": [
           "#636efa",
           "#EF553B",
           "#00cc96",
           "#ab63fa",
           "#FFA15A",
           "#19d3f3",
           "#FF6692",
           "#B6E880",
           "#FF97FF",
           "#FECB52"
          ],
          "font": {
           "color": "#2a3f5f"
          },
          "geo": {
           "bgcolor": "white",
           "lakecolor": "white",
           "landcolor": "#E5ECF6",
           "showlakes": true,
           "showland": true,
           "subunitcolor": "white"
          },
          "hoverlabel": {
           "align": "left"
          },
          "hovermode": "closest",
          "mapbox": {
           "style": "light"
          },
          "paper_bgcolor": "white",
          "plot_bgcolor": "#E5ECF6",
          "polar": {
           "angularaxis": {
            "gridcolor": "white",
            "linecolor": "white",
            "ticks": ""
           },
           "bgcolor": "#E5ECF6",
           "radialaxis": {
            "gridcolor": "white",
            "linecolor": "white",
            "ticks": ""
           }
          },
          "scene": {
           "xaxis": {
            "backgroundcolor": "#E5ECF6",
            "gridcolor": "white",
            "gridwidth": 2,
            "linecolor": "white",
            "showbackground": true,
            "ticks": "",
            "zerolinecolor": "white"
           },
           "yaxis": {
            "backgroundcolor": "#E5ECF6",
            "gridcolor": "white",
            "gridwidth": 2,
            "linecolor": "white",
            "showbackground": true,
            "ticks": "",
            "zerolinecolor": "white"
           },
           "zaxis": {
            "backgroundcolor": "#E5ECF6",
            "gridcolor": "white",
            "gridwidth": 2,
            "linecolor": "white",
            "showbackground": true,
            "ticks": "",
            "zerolinecolor": "white"
           }
          },
          "shapedefaults": {
           "line": {
            "color": "#2a3f5f"
           }
          },
          "ternary": {
           "aaxis": {
            "gridcolor": "white",
            "linecolor": "white",
            "ticks": ""
           },
           "baxis": {
            "gridcolor": "white",
            "linecolor": "white",
            "ticks": ""
           },
           "bgcolor": "#E5ECF6",
           "caxis": {
            "gridcolor": "white",
            "linecolor": "white",
            "ticks": ""
           }
          },
          "title": {
           "x": 0.05
          },
          "xaxis": {
           "automargin": true,
           "gridcolor": "white",
           "linecolor": "white",
           "ticks": "",
           "title": {
            "standoff": 15
           },
           "zerolinecolor": "white",
           "zerolinewidth": 2
          },
          "yaxis": {
           "automargin": true,
           "gridcolor": "white",
           "linecolor": "white",
           "ticks": "",
           "title": {
            "standoff": 15
           },
           "zerolinecolor": "white",
           "zerolinewidth": 2
          }
         }
        },
        "xaxis": {
         "anchor": "y",
         "domain": [
          0,
          1
         ],
         "title": {
          "text": "Description"
         }
        },
        "yaxis": {
         "anchor": "x",
         "domain": [
          0,
          1
         ],
         "title": {
          "text": "value"
         }
        }
       }
      }
     },
     "metadata": {},
     "output_type": "display_data"
    }
   ],
   "source": [
    "# from ctypes import sizeof\n",
    "import plotly.graph_objects as go # linechart to show value of sales across selected timeline - post covid\n",
    "import numpy as np\n",
    "dfb = df_final \n",
    "# df = px.data.weekstips()\n",
    "px.line(dfb, x='Description', y=['Predominantly food stores', 'Non-store retailing', 'Predominantly non-food stores', 'Household goods stores'])\n"
   ]
  },
  {
   "cell_type": "code",
   "execution_count": 23,
   "metadata": {},
   "outputs": [
    {
     "data": {
      "application/vnd.plotly.v1+json": {
       "config": {
        "plotlyServerURL": "https://plot.ly"
       },
       "data": [
        {
         "alignmentgroup": "True",
         "bingroup": "x",
         "histfunc": "sum",
         "hovertemplate": "variable=Predominantly food stores<br>Description=%{x}<br>sum of value=%{y}<extra></extra>",
         "legendgroup": "Predominantly food stores",
         "marker": {
          "color": "#636efa",
          "pattern": {
           "shape": ""
          }
         },
         "name": "Predominantly food stores",
         "offsetgroup": "Predominantly food stores",
         "orientation": "v",
         "showlegend": true,
         "type": "histogram",
         "x": [
          "2022JAN",
          "2022FEB"
         ],
         "xaxis": "x",
         "y": [
          1263960,
          1240681
         ],
         "yaxis": "y"
        },
        {
         "alignmentgroup": "True",
         "bingroup": "x",
         "histfunc": "sum",
         "hovertemplate": "variable=Non-store retailing<br>Description=%{x}<br>sum of value=%{y}<extra></extra>",
         "legendgroup": "Non-store retailing",
         "marker": {
          "color": "#EF553B",
          "pattern": {
           "shape": ""
          }
         },
         "name": "Non-store retailing",
         "offsetgroup": "Non-store retailing",
         "orientation": "v",
         "showlegend": true,
         "type": "histogram",
         "x": [
          "2022JAN",
          "2022FEB"
         ],
         "xaxis": "x",
         "y": [
          4929707,
          4886971
         ],
         "yaxis": "y"
        },
        {
         "alignmentgroup": "True",
         "bingroup": "x",
         "histfunc": "sum",
         "hovertemplate": "variable=Predominantly non-food stores<br>Description=%{x}<br>sum of value=%{y}<extra></extra>",
         "legendgroup": "Predominantly non-food stores",
         "marker": {
          "color": "#00cc96",
          "pattern": {
           "shape": ""
          }
         },
         "name": "Predominantly non-food stores",
         "offsetgroup": "Predominantly non-food stores",
         "orientation": "v",
         "showlegend": true,
         "type": "histogram",
         "x": [
          "2022JAN",
          "2022FEB"
         ],
         "xaxis": "x",
         "y": [
          3174195,
          3155490
         ],
         "yaxis": "y"
        },
        {
         "alignmentgroup": "True",
         "bingroup": "x",
         "histfunc": "sum",
         "hovertemplate": "variable=Household goods stores<br>Description=%{x}<br>sum of value=%{y}<extra></extra>",
         "legendgroup": "Household goods stores",
         "marker": {
          "color": "#ab63fa",
          "pattern": {
           "shape": ""
          }
         },
         "name": "Household goods stores",
         "offsetgroup": "Household goods stores",
         "orientation": "v",
         "showlegend": true,
         "type": "histogram",
         "x": [
          "2022JAN",
          "2022FEB"
         ],
         "xaxis": "x",
         "y": [
          632025,
          617307
         ],
         "yaxis": "y"
        }
       ],
       "layout": {
        "barmode": "group",
        "legend": {
         "title": {
          "text": "variable"
         },
         "tracegroupgap": 0
        },
        "margin": {
         "t": 60
        },
        "template": {
         "data": {
          "bar": [
           {
            "error_x": {
             "color": "#2a3f5f"
            },
            "error_y": {
             "color": "#2a3f5f"
            },
            "marker": {
             "line": {
              "color": "#E5ECF6",
              "width": 0.5
             },
             "pattern": {
              "fillmode": "overlay",
              "size": 10,
              "solidity": 0.2
             }
            },
            "type": "bar"
           }
          ],
          "barpolar": [
           {
            "marker": {
             "line": {
              "color": "#E5ECF6",
              "width": 0.5
             },
             "pattern": {
              "fillmode": "overlay",
              "size": 10,
              "solidity": 0.2
             }
            },
            "type": "barpolar"
           }
          ],
          "carpet": [
           {
            "aaxis": {
             "endlinecolor": "#2a3f5f",
             "gridcolor": "white",
             "linecolor": "white",
             "minorgridcolor": "white",
             "startlinecolor": "#2a3f5f"
            },
            "baxis": {
             "endlinecolor": "#2a3f5f",
             "gridcolor": "white",
             "linecolor": "white",
             "minorgridcolor": "white",
             "startlinecolor": "#2a3f5f"
            },
            "type": "carpet"
           }
          ],
          "choropleth": [
           {
            "colorbar": {
             "outlinewidth": 0,
             "ticks": ""
            },
            "type": "choropleth"
           }
          ],
          "contour": [
           {
            "colorbar": {
             "outlinewidth": 0,
             "ticks": ""
            },
            "colorscale": [
             [
              0,
              "#0d0887"
             ],
             [
              0.1111111111111111,
              "#46039f"
             ],
             [
              0.2222222222222222,
              "#7201a8"
             ],
             [
              0.3333333333333333,
              "#9c179e"
             ],
             [
              0.4444444444444444,
              "#bd3786"
             ],
             [
              0.5555555555555556,
              "#d8576b"
             ],
             [
              0.6666666666666666,
              "#ed7953"
             ],
             [
              0.7777777777777778,
              "#fb9f3a"
             ],
             [
              0.8888888888888888,
              "#fdca26"
             ],
             [
              1,
              "#f0f921"
             ]
            ],
            "type": "contour"
           }
          ],
          "contourcarpet": [
           {
            "colorbar": {
             "outlinewidth": 0,
             "ticks": ""
            },
            "type": "contourcarpet"
           }
          ],
          "heatmap": [
           {
            "colorbar": {
             "outlinewidth": 0,
             "ticks": ""
            },
            "colorscale": [
             [
              0,
              "#0d0887"
             ],
             [
              0.1111111111111111,
              "#46039f"
             ],
             [
              0.2222222222222222,
              "#7201a8"
             ],
             [
              0.3333333333333333,
              "#9c179e"
             ],
             [
              0.4444444444444444,
              "#bd3786"
             ],
             [
              0.5555555555555556,
              "#d8576b"
             ],
             [
              0.6666666666666666,
              "#ed7953"
             ],
             [
              0.7777777777777778,
              "#fb9f3a"
             ],
             [
              0.8888888888888888,
              "#fdca26"
             ],
             [
              1,
              "#f0f921"
             ]
            ],
            "type": "heatmap"
           }
          ],
          "heatmapgl": [
           {
            "colorbar": {
             "outlinewidth": 0,
             "ticks": ""
            },
            "colorscale": [
             [
              0,
              "#0d0887"
             ],
             [
              0.1111111111111111,
              "#46039f"
             ],
             [
              0.2222222222222222,
              "#7201a8"
             ],
             [
              0.3333333333333333,
              "#9c179e"
             ],
             [
              0.4444444444444444,
              "#bd3786"
             ],
             [
              0.5555555555555556,
              "#d8576b"
             ],
             [
              0.6666666666666666,
              "#ed7953"
             ],
             [
              0.7777777777777778,
              "#fb9f3a"
             ],
             [
              0.8888888888888888,
              "#fdca26"
             ],
             [
              1,
              "#f0f921"
             ]
            ],
            "type": "heatmapgl"
           }
          ],
          "histogram": [
           {
            "marker": {
             "pattern": {
              "fillmode": "overlay",
              "size": 10,
              "solidity": 0.2
             }
            },
            "type": "histogram"
           }
          ],
          "histogram2d": [
           {
            "colorbar": {
             "outlinewidth": 0,
             "ticks": ""
            },
            "colorscale": [
             [
              0,
              "#0d0887"
             ],
             [
              0.1111111111111111,
              "#46039f"
             ],
             [
              0.2222222222222222,
              "#7201a8"
             ],
             [
              0.3333333333333333,
              "#9c179e"
             ],
             [
              0.4444444444444444,
              "#bd3786"
             ],
             [
              0.5555555555555556,
              "#d8576b"
             ],
             [
              0.6666666666666666,
              "#ed7953"
             ],
             [
              0.7777777777777778,
              "#fb9f3a"
             ],
             [
              0.8888888888888888,
              "#fdca26"
             ],
             [
              1,
              "#f0f921"
             ]
            ],
            "type": "histogram2d"
           }
          ],
          "histogram2dcontour": [
           {
            "colorbar": {
             "outlinewidth": 0,
             "ticks": ""
            },
            "colorscale": [
             [
              0,
              "#0d0887"
             ],
             [
              0.1111111111111111,
              "#46039f"
             ],
             [
              0.2222222222222222,
              "#7201a8"
             ],
             [
              0.3333333333333333,
              "#9c179e"
             ],
             [
              0.4444444444444444,
              "#bd3786"
             ],
             [
              0.5555555555555556,
              "#d8576b"
             ],
             [
              0.6666666666666666,
              "#ed7953"
             ],
             [
              0.7777777777777778,
              "#fb9f3a"
             ],
             [
              0.8888888888888888,
              "#fdca26"
             ],
             [
              1,
              "#f0f921"
             ]
            ],
            "type": "histogram2dcontour"
           }
          ],
          "mesh3d": [
           {
            "colorbar": {
             "outlinewidth": 0,
             "ticks": ""
            },
            "type": "mesh3d"
           }
          ],
          "parcoords": [
           {
            "line": {
             "colorbar": {
              "outlinewidth": 0,
              "ticks": ""
             }
            },
            "type": "parcoords"
           }
          ],
          "pie": [
           {
            "automargin": true,
            "type": "pie"
           }
          ],
          "scatter": [
           {
            "fillpattern": {
             "fillmode": "overlay",
             "size": 10,
             "solidity": 0.2
            },
            "type": "scatter"
           }
          ],
          "scatter3d": [
           {
            "line": {
             "colorbar": {
              "outlinewidth": 0,
              "ticks": ""
             }
            },
            "marker": {
             "colorbar": {
              "outlinewidth": 0,
              "ticks": ""
             }
            },
            "type": "scatter3d"
           }
          ],
          "scattercarpet": [
           {
            "marker": {
             "colorbar": {
              "outlinewidth": 0,
              "ticks": ""
             }
            },
            "type": "scattercarpet"
           }
          ],
          "scattergeo": [
           {
            "marker": {
             "colorbar": {
              "outlinewidth": 0,
              "ticks": ""
             }
            },
            "type": "scattergeo"
           }
          ],
          "scattergl": [
           {
            "marker": {
             "colorbar": {
              "outlinewidth": 0,
              "ticks": ""
             }
            },
            "type": "scattergl"
           }
          ],
          "scattermapbox": [
           {
            "marker": {
             "colorbar": {
              "outlinewidth": 0,
              "ticks": ""
             }
            },
            "type": "scattermapbox"
           }
          ],
          "scatterpolar": [
           {
            "marker": {
             "colorbar": {
              "outlinewidth": 0,
              "ticks": ""
             }
            },
            "type": "scatterpolar"
           }
          ],
          "scatterpolargl": [
           {
            "marker": {
             "colorbar": {
              "outlinewidth": 0,
              "ticks": ""
             }
            },
            "type": "scatterpolargl"
           }
          ],
          "scatterternary": [
           {
            "marker": {
             "colorbar": {
              "outlinewidth": 0,
              "ticks": ""
             }
            },
            "type": "scatterternary"
           }
          ],
          "surface": [
           {
            "colorbar": {
             "outlinewidth": 0,
             "ticks": ""
            },
            "colorscale": [
             [
              0,
              "#0d0887"
             ],
             [
              0.1111111111111111,
              "#46039f"
             ],
             [
              0.2222222222222222,
              "#7201a8"
             ],
             [
              0.3333333333333333,
              "#9c179e"
             ],
             [
              0.4444444444444444,
              "#bd3786"
             ],
             [
              0.5555555555555556,
              "#d8576b"
             ],
             [
              0.6666666666666666,
              "#ed7953"
             ],
             [
              0.7777777777777778,
              "#fb9f3a"
             ],
             [
              0.8888888888888888,
              "#fdca26"
             ],
             [
              1,
              "#f0f921"
             ]
            ],
            "type": "surface"
           }
          ],
          "table": [
           {
            "cells": {
             "fill": {
              "color": "#EBF0F8"
             },
             "line": {
              "color": "white"
             }
            },
            "header": {
             "fill": {
              "color": "#C8D4E3"
             },
             "line": {
              "color": "white"
             }
            },
            "type": "table"
           }
          ]
         },
         "layout": {
          "annotationdefaults": {
           "arrowcolor": "#2a3f5f",
           "arrowhead": 0,
           "arrowwidth": 1
          },
          "autotypenumbers": "strict",
          "coloraxis": {
           "colorbar": {
            "outlinewidth": 0,
            "ticks": ""
           }
          },
          "colorscale": {
           "diverging": [
            [
             0,
             "#8e0152"
            ],
            [
             0.1,
             "#c51b7d"
            ],
            [
             0.2,
             "#de77ae"
            ],
            [
             0.3,
             "#f1b6da"
            ],
            [
             0.4,
             "#fde0ef"
            ],
            [
             0.5,
             "#f7f7f7"
            ],
            [
             0.6,
             "#e6f5d0"
            ],
            [
             0.7,
             "#b8e186"
            ],
            [
             0.8,
             "#7fbc41"
            ],
            [
             0.9,
             "#4d9221"
            ],
            [
             1,
             "#276419"
            ]
           ],
           "sequential": [
            [
             0,
             "#0d0887"
            ],
            [
             0.1111111111111111,
             "#46039f"
            ],
            [
             0.2222222222222222,
             "#7201a8"
            ],
            [
             0.3333333333333333,
             "#9c179e"
            ],
            [
             0.4444444444444444,
             "#bd3786"
            ],
            [
             0.5555555555555556,
             "#d8576b"
            ],
            [
             0.6666666666666666,
             "#ed7953"
            ],
            [
             0.7777777777777778,
             "#fb9f3a"
            ],
            [
             0.8888888888888888,
             "#fdca26"
            ],
            [
             1,
             "#f0f921"
            ]
           ],
           "sequentialminus": [
            [
             0,
             "#0d0887"
            ],
            [
             0.1111111111111111,
             "#46039f"
            ],
            [
             0.2222222222222222,
             "#7201a8"
            ],
            [
             0.3333333333333333,
             "#9c179e"
            ],
            [
             0.4444444444444444,
             "#bd3786"
            ],
            [
             0.5555555555555556,
             "#d8576b"
            ],
            [
             0.6666666666666666,
             "#ed7953"
            ],
            [
             0.7777777777777778,
             "#fb9f3a"
            ],
            [
             0.8888888888888888,
             "#fdca26"
            ],
            [
             1,
             "#f0f921"
            ]
           ]
          },
          "colorway": [
           "#636efa",
           "#EF553B",
           "#00cc96",
           "#ab63fa",
           "#FFA15A",
           "#19d3f3",
           "#FF6692",
           "#B6E880",
           "#FF97FF",
           "#FECB52"
          ],
          "font": {
           "color": "#2a3f5f"
          },
          "geo": {
           "bgcolor": "white",
           "lakecolor": "white",
           "landcolor": "#E5ECF6",
           "showlakes": true,
           "showland": true,
           "subunitcolor": "white"
          },
          "hoverlabel": {
           "align": "left"
          },
          "hovermode": "closest",
          "mapbox": {
           "style": "light"
          },
          "paper_bgcolor": "white",
          "plot_bgcolor": "#E5ECF6",
          "polar": {
           "angularaxis": {
            "gridcolor": "white",
            "linecolor": "white",
            "ticks": ""
           },
           "bgcolor": "#E5ECF6",
           "radialaxis": {
            "gridcolor": "white",
            "linecolor": "white",
            "ticks": ""
           }
          },
          "scene": {
           "xaxis": {
            "backgroundcolor": "#E5ECF6",
            "gridcolor": "white",
            "gridwidth": 2,
            "linecolor": "white",
            "showbackground": true,
            "ticks": "",
            "zerolinecolor": "white"
           },
           "yaxis": {
            "backgroundcolor": "#E5ECF6",
            "gridcolor": "white",
            "gridwidth": 2,
            "linecolor": "white",
            "showbackground": true,
            "ticks": "",
            "zerolinecolor": "white"
           },
           "zaxis": {
            "backgroundcolor": "#E5ECF6",
            "gridcolor": "white",
            "gridwidth": 2,
            "linecolor": "white",
            "showbackground": true,
            "ticks": "",
            "zerolinecolor": "white"
           }
          },
          "shapedefaults": {
           "line": {
            "color": "#2a3f5f"
           }
          },
          "ternary": {
           "aaxis": {
            "gridcolor": "white",
            "linecolor": "white",
            "ticks": ""
           },
           "baxis": {
            "gridcolor": "white",
            "linecolor": "white",
            "ticks": ""
           },
           "bgcolor": "#E5ECF6",
           "caxis": {
            "gridcolor": "white",
            "linecolor": "white",
            "ticks": ""
           }
          },
          "title": {
           "x": 0.05
          },
          "xaxis": {
           "automargin": true,
           "gridcolor": "white",
           "linecolor": "white",
           "ticks": "",
           "title": {
            "standoff": 15
           },
           "zerolinecolor": "white",
           "zerolinewidth": 2
          },
          "yaxis": {
           "automargin": true,
           "gridcolor": "white",
           "linecolor": "white",
           "ticks": "",
           "title": {
            "standoff": 15
           },
           "zerolinecolor": "white",
           "zerolinewidth": 2
          }
         }
        },
        "xaxis": {
         "anchor": "y",
         "domain": [
          0,
          1
         ],
         "title": {
          "text": "Description"
         }
        },
        "yaxis": {
         "anchor": "x",
         "domain": [
          0,
          1
         ],
         "title": {
          "text": "sum of value"
         }
        }
       }
      }
     },
     "metadata": {},
     "output_type": "display_data"
    }
   ],
   "source": [
    "jan_feb = df_online_2.drop_duplicates().dropna().loc[13:14]\n",
    "\n",
    "import plotly.graph_objects as go # linechart to show value of sales across selected timeline - post covid\n",
    "import numpy as np\n",
    "dfb = jan_feb  \n",
    "# df = px.data.weekstips() \n",
    "px.histogram(dfb, x='Description', y=['Predominantly food stores', 'Non-store retailing', 'Predominantly non-food stores', 'Household goods stores'], barmode='group')"
   ]
  },
  {
   "cell_type": "code",
   "execution_count": 24,
   "metadata": {},
   "outputs": [
    {
     "data": {
      "application/vnd.plotly.v1+json": {
       "config": {
        "plotlyServerURL": "https://plot.ly"
       },
       "data": [
        {
         "hovertemplate": "variable=Predominantly food stores<br>Description=%{x}<br>value=%{y}<extra></extra>",
         "legendgroup": "Predominantly food stores",
         "line": {
          "color": "#636efa",
          "dash": "solid"
         },
         "marker": {
          "symbol": "circle"
         },
         "mode": "lines",
         "name": "Predominantly food stores",
         "orientation": "v",
         "showlegend": true,
         "type": "scatter",
         "x": [
          "2022FEB",
          "2022MAR",
          "2022APR"
         ],
         "xaxis": "x",
         "y": [
          1240681,
          1574320,
          1268102
         ],
         "yaxis": "y"
        },
        {
         "hovertemplate": "variable=Non-store retailing<br>Description=%{x}<br>value=%{y}<extra></extra>",
         "legendgroup": "Non-store retailing",
         "line": {
          "color": "#EF553B",
          "dash": "solid"
         },
         "marker": {
          "symbol": "circle"
         },
         "mode": "lines",
         "name": "Non-store retailing",
         "orientation": "v",
         "showlegend": true,
         "type": "scatter",
         "x": [
          "2022FEB",
          "2022MAR",
          "2022APR"
         ],
         "xaxis": "x",
         "y": [
          4886971,
          5313639,
          4729281
         ],
         "yaxis": "y"
        },
        {
         "hovertemplate": "variable=Predominantly non-food stores<br>Description=%{x}<br>value=%{y}<extra></extra>",
         "legendgroup": "Predominantly non-food stores",
         "line": {
          "color": "#00cc96",
          "dash": "solid"
         },
         "marker": {
          "symbol": "circle"
         },
         "mode": "lines",
         "name": "Predominantly non-food stores",
         "orientation": "v",
         "showlegend": true,
         "type": "scatter",
         "x": [
          "2022FEB",
          "2022MAR",
          "2022APR"
         ],
         "xaxis": "x",
         "y": [
          3155490,
          3898631,
          3162662
         ],
         "yaxis": "y"
        },
        {
         "hovertemplate": "variable=Household goods stores<br>Description=%{x}<br>value=%{y}<extra></extra>",
         "legendgroup": "Household goods stores",
         "line": {
          "color": "#ab63fa",
          "dash": "solid"
         },
         "marker": {
          "symbol": "circle"
         },
         "mode": "lines",
         "name": "Household goods stores",
         "orientation": "v",
         "showlegend": true,
         "type": "scatter",
         "x": [
          "2022FEB",
          "2022MAR",
          "2022APR"
         ],
         "xaxis": "x",
         "y": [
          617307,
          812506,
          662738
         ],
         "yaxis": "y"
        }
       ],
       "layout": {
        "legend": {
         "title": {
          "text": "variable"
         },
         "tracegroupgap": 0
        },
        "margin": {
         "t": 60
        },
        "template": {
         "data": {
          "bar": [
           {
            "error_x": {
             "color": "#2a3f5f"
            },
            "error_y": {
             "color": "#2a3f5f"
            },
            "marker": {
             "line": {
              "color": "#E5ECF6",
              "width": 0.5
             },
             "pattern": {
              "fillmode": "overlay",
              "size": 10,
              "solidity": 0.2
             }
            },
            "type": "bar"
           }
          ],
          "barpolar": [
           {
            "marker": {
             "line": {
              "color": "#E5ECF6",
              "width": 0.5
             },
             "pattern": {
              "fillmode": "overlay",
              "size": 10,
              "solidity": 0.2
             }
            },
            "type": "barpolar"
           }
          ],
          "carpet": [
           {
            "aaxis": {
             "endlinecolor": "#2a3f5f",
             "gridcolor": "white",
             "linecolor": "white",
             "minorgridcolor": "white",
             "startlinecolor": "#2a3f5f"
            },
            "baxis": {
             "endlinecolor": "#2a3f5f",
             "gridcolor": "white",
             "linecolor": "white",
             "minorgridcolor": "white",
             "startlinecolor": "#2a3f5f"
            },
            "type": "carpet"
           }
          ],
          "choropleth": [
           {
            "colorbar": {
             "outlinewidth": 0,
             "ticks": ""
            },
            "type": "choropleth"
           }
          ],
          "contour": [
           {
            "colorbar": {
             "outlinewidth": 0,
             "ticks": ""
            },
            "colorscale": [
             [
              0,
              "#0d0887"
             ],
             [
              0.1111111111111111,
              "#46039f"
             ],
             [
              0.2222222222222222,
              "#7201a8"
             ],
             [
              0.3333333333333333,
              "#9c179e"
             ],
             [
              0.4444444444444444,
              "#bd3786"
             ],
             [
              0.5555555555555556,
              "#d8576b"
             ],
             [
              0.6666666666666666,
              "#ed7953"
             ],
             [
              0.7777777777777778,
              "#fb9f3a"
             ],
             [
              0.8888888888888888,
              "#fdca26"
             ],
             [
              1,
              "#f0f921"
             ]
            ],
            "type": "contour"
           }
          ],
          "contourcarpet": [
           {
            "colorbar": {
             "outlinewidth": 0,
             "ticks": ""
            },
            "type": "contourcarpet"
           }
          ],
          "heatmap": [
           {
            "colorbar": {
             "outlinewidth": 0,
             "ticks": ""
            },
            "colorscale": [
             [
              0,
              "#0d0887"
             ],
             [
              0.1111111111111111,
              "#46039f"
             ],
             [
              0.2222222222222222,
              "#7201a8"
             ],
             [
              0.3333333333333333,
              "#9c179e"
             ],
             [
              0.4444444444444444,
              "#bd3786"
             ],
             [
              0.5555555555555556,
              "#d8576b"
             ],
             [
              0.6666666666666666,
              "#ed7953"
             ],
             [
              0.7777777777777778,
              "#fb9f3a"
             ],
             [
              0.8888888888888888,
              "#fdca26"
             ],
             [
              1,
              "#f0f921"
             ]
            ],
            "type": "heatmap"
           }
          ],
          "heatmapgl": [
           {
            "colorbar": {
             "outlinewidth": 0,
             "ticks": ""
            },
            "colorscale": [
             [
              0,
              "#0d0887"
             ],
             [
              0.1111111111111111,
              "#46039f"
             ],
             [
              0.2222222222222222,
              "#7201a8"
             ],
             [
              0.3333333333333333,
              "#9c179e"
             ],
             [
              0.4444444444444444,
              "#bd3786"
             ],
             [
              0.5555555555555556,
              "#d8576b"
             ],
             [
              0.6666666666666666,
              "#ed7953"
             ],
             [
              0.7777777777777778,
              "#fb9f3a"
             ],
             [
              0.8888888888888888,
              "#fdca26"
             ],
             [
              1,
              "#f0f921"
             ]
            ],
            "type": "heatmapgl"
           }
          ],
          "histogram": [
           {
            "marker": {
             "pattern": {
              "fillmode": "overlay",
              "size": 10,
              "solidity": 0.2
             }
            },
            "type": "histogram"
           }
          ],
          "histogram2d": [
           {
            "colorbar": {
             "outlinewidth": 0,
             "ticks": ""
            },
            "colorscale": [
             [
              0,
              "#0d0887"
             ],
             [
              0.1111111111111111,
              "#46039f"
             ],
             [
              0.2222222222222222,
              "#7201a8"
             ],
             [
              0.3333333333333333,
              "#9c179e"
             ],
             [
              0.4444444444444444,
              "#bd3786"
             ],
             [
              0.5555555555555556,
              "#d8576b"
             ],
             [
              0.6666666666666666,
              "#ed7953"
             ],
             [
              0.7777777777777778,
              "#fb9f3a"
             ],
             [
              0.8888888888888888,
              "#fdca26"
             ],
             [
              1,
              "#f0f921"
             ]
            ],
            "type": "histogram2d"
           }
          ],
          "histogram2dcontour": [
           {
            "colorbar": {
             "outlinewidth": 0,
             "ticks": ""
            },
            "colorscale": [
             [
              0,
              "#0d0887"
             ],
             [
              0.1111111111111111,
              "#46039f"
             ],
             [
              0.2222222222222222,
              "#7201a8"
             ],
             [
              0.3333333333333333,
              "#9c179e"
             ],
             [
              0.4444444444444444,
              "#bd3786"
             ],
             [
              0.5555555555555556,
              "#d8576b"
             ],
             [
              0.6666666666666666,
              "#ed7953"
             ],
             [
              0.7777777777777778,
              "#fb9f3a"
             ],
             [
              0.8888888888888888,
              "#fdca26"
             ],
             [
              1,
              "#f0f921"
             ]
            ],
            "type": "histogram2dcontour"
           }
          ],
          "mesh3d": [
           {
            "colorbar": {
             "outlinewidth": 0,
             "ticks": ""
            },
            "type": "mesh3d"
           }
          ],
          "parcoords": [
           {
            "line": {
             "colorbar": {
              "outlinewidth": 0,
              "ticks": ""
             }
            },
            "type": "parcoords"
           }
          ],
          "pie": [
           {
            "automargin": true,
            "type": "pie"
           }
          ],
          "scatter": [
           {
            "fillpattern": {
             "fillmode": "overlay",
             "size": 10,
             "solidity": 0.2
            },
            "type": "scatter"
           }
          ],
          "scatter3d": [
           {
            "line": {
             "colorbar": {
              "outlinewidth": 0,
              "ticks": ""
             }
            },
            "marker": {
             "colorbar": {
              "outlinewidth": 0,
              "ticks": ""
             }
            },
            "type": "scatter3d"
           }
          ],
          "scattercarpet": [
           {
            "marker": {
             "colorbar": {
              "outlinewidth": 0,
              "ticks": ""
             }
            },
            "type": "scattercarpet"
           }
          ],
          "scattergeo": [
           {
            "marker": {
             "colorbar": {
              "outlinewidth": 0,
              "ticks": ""
             }
            },
            "type": "scattergeo"
           }
          ],
          "scattergl": [
           {
            "marker": {
             "colorbar": {
              "outlinewidth": 0,
              "ticks": ""
             }
            },
            "type": "scattergl"
           }
          ],
          "scattermapbox": [
           {
            "marker": {
             "colorbar": {
              "outlinewidth": 0,
              "ticks": ""
             }
            },
            "type": "scattermapbox"
           }
          ],
          "scatterpolar": [
           {
            "marker": {
             "colorbar": {
              "outlinewidth": 0,
              "ticks": ""
             }
            },
            "type": "scatterpolar"
           }
          ],
          "scatterpolargl": [
           {
            "marker": {
             "colorbar": {
              "outlinewidth": 0,
              "ticks": ""
             }
            },
            "type": "scatterpolargl"
           }
          ],
          "scatterternary": [
           {
            "marker": {
             "colorbar": {
              "outlinewidth": 0,
              "ticks": ""
             }
            },
            "type": "scatterternary"
           }
          ],
          "surface": [
           {
            "colorbar": {
             "outlinewidth": 0,
             "ticks": ""
            },
            "colorscale": [
             [
              0,
              "#0d0887"
             ],
             [
              0.1111111111111111,
              "#46039f"
             ],
             [
              0.2222222222222222,
              "#7201a8"
             ],
             [
              0.3333333333333333,
              "#9c179e"
             ],
             [
              0.4444444444444444,
              "#bd3786"
             ],
             [
              0.5555555555555556,
              "#d8576b"
             ],
             [
              0.6666666666666666,
              "#ed7953"
             ],
             [
              0.7777777777777778,
              "#fb9f3a"
             ],
             [
              0.8888888888888888,
              "#fdca26"
             ],
             [
              1,
              "#f0f921"
             ]
            ],
            "type": "surface"
           }
          ],
          "table": [
           {
            "cells": {
             "fill": {
              "color": "#EBF0F8"
             },
             "line": {
              "color": "white"
             }
            },
            "header": {
             "fill": {
              "color": "#C8D4E3"
             },
             "line": {
              "color": "white"
             }
            },
            "type": "table"
           }
          ]
         },
         "layout": {
          "annotationdefaults": {
           "arrowcolor": "#2a3f5f",
           "arrowhead": 0,
           "arrowwidth": 1
          },
          "autotypenumbers": "strict",
          "coloraxis": {
           "colorbar": {
            "outlinewidth": 0,
            "ticks": ""
           }
          },
          "colorscale": {
           "diverging": [
            [
             0,
             "#8e0152"
            ],
            [
             0.1,
             "#c51b7d"
            ],
            [
             0.2,
             "#de77ae"
            ],
            [
             0.3,
             "#f1b6da"
            ],
            [
             0.4,
             "#fde0ef"
            ],
            [
             0.5,
             "#f7f7f7"
            ],
            [
             0.6,
             "#e6f5d0"
            ],
            [
             0.7,
             "#b8e186"
            ],
            [
             0.8,
             "#7fbc41"
            ],
            [
             0.9,
             "#4d9221"
            ],
            [
             1,
             "#276419"
            ]
           ],
           "sequential": [
            [
             0,
             "#0d0887"
            ],
            [
             0.1111111111111111,
             "#46039f"
            ],
            [
             0.2222222222222222,
             "#7201a8"
            ],
            [
             0.3333333333333333,
             "#9c179e"
            ],
            [
             0.4444444444444444,
             "#bd3786"
            ],
            [
             0.5555555555555556,
             "#d8576b"
            ],
            [
             0.6666666666666666,
             "#ed7953"
            ],
            [
             0.7777777777777778,
             "#fb9f3a"
            ],
            [
             0.8888888888888888,
             "#fdca26"
            ],
            [
             1,
             "#f0f921"
            ]
           ],
           "sequentialminus": [
            [
             0,
             "#0d0887"
            ],
            [
             0.1111111111111111,
             "#46039f"
            ],
            [
             0.2222222222222222,
             "#7201a8"
            ],
            [
             0.3333333333333333,
             "#9c179e"
            ],
            [
             0.4444444444444444,
             "#bd3786"
            ],
            [
             0.5555555555555556,
             "#d8576b"
            ],
            [
             0.6666666666666666,
             "#ed7953"
            ],
            [
             0.7777777777777778,
             "#fb9f3a"
            ],
            [
             0.8888888888888888,
             "#fdca26"
            ],
            [
             1,
             "#f0f921"
            ]
           ]
          },
          "colorway": [
           "#636efa",
           "#EF553B",
           "#00cc96",
           "#ab63fa",
           "#FFA15A",
           "#19d3f3",
           "#FF6692",
           "#B6E880",
           "#FF97FF",
           "#FECB52"
          ],
          "font": {
           "color": "#2a3f5f"
          },
          "geo": {
           "bgcolor": "white",
           "lakecolor": "white",
           "landcolor": "#E5ECF6",
           "showlakes": true,
           "showland": true,
           "subunitcolor": "white"
          },
          "hoverlabel": {
           "align": "left"
          },
          "hovermode": "closest",
          "mapbox": {
           "style": "light"
          },
          "paper_bgcolor": "white",
          "plot_bgcolor": "#E5ECF6",
          "polar": {
           "angularaxis": {
            "gridcolor": "white",
            "linecolor": "white",
            "ticks": ""
           },
           "bgcolor": "#E5ECF6",
           "radialaxis": {
            "gridcolor": "white",
            "linecolor": "white",
            "ticks": ""
           }
          },
          "scene": {
           "xaxis": {
            "backgroundcolor": "#E5ECF6",
            "gridcolor": "white",
            "gridwidth": 2,
            "linecolor": "white",
            "showbackground": true,
            "ticks": "",
            "zerolinecolor": "white"
           },
           "yaxis": {
            "backgroundcolor": "#E5ECF6",
            "gridcolor": "white",
            "gridwidth": 2,
            "linecolor": "white",
            "showbackground": true,
            "ticks": "",
            "zerolinecolor": "white"
           },
           "zaxis": {
            "backgroundcolor": "#E5ECF6",
            "gridcolor": "white",
            "gridwidth": 2,
            "linecolor": "white",
            "showbackground": true,
            "ticks": "",
            "zerolinecolor": "white"
           }
          },
          "shapedefaults": {
           "line": {
            "color": "#2a3f5f"
           }
          },
          "ternary": {
           "aaxis": {
            "gridcolor": "white",
            "linecolor": "white",
            "ticks": ""
           },
           "baxis": {
            "gridcolor": "white",
            "linecolor": "white",
            "ticks": ""
           },
           "bgcolor": "#E5ECF6",
           "caxis": {
            "gridcolor": "white",
            "linecolor": "white",
            "ticks": ""
           }
          },
          "title": {
           "x": 0.05
          },
          "xaxis": {
           "automargin": true,
           "gridcolor": "white",
           "linecolor": "white",
           "ticks": "",
           "title": {
            "standoff": 15
           },
           "zerolinecolor": "white",
           "zerolinewidth": 2
          },
          "yaxis": {
           "automargin": true,
           "gridcolor": "white",
           "linecolor": "white",
           "ticks": "",
           "title": {
            "standoff": 15
           },
           "zerolinecolor": "white",
           "zerolinewidth": 2
          }
         }
        },
        "xaxis": {
         "anchor": "y",
         "domain": [
          0,
          1
         ],
         "title": {
          "text": "Description"
         }
        },
        "yaxis": {
         "anchor": "x",
         "domain": [
          0,
          1
         ],
         "title": {
          "text": "value"
         }
        }
       }
      }
     },
     "metadata": {},
     "output_type": "display_data"
    }
   ],
   "source": [
    "march = df_online_2.drop_duplicates().dropna().loc[14:] \n",
    "march \n",
    "import plotly.graph_objects as go # linechart to show value of sales across selected timeline - post covid\n",
    "import numpy as np\n",
    "dfb = march  \n",
    "# df = px.data.weekstips() \n",
    "px.line(dfb, x='Description', y=['Predominantly food stores', 'Non-store retailing', 'Predominantly non-food stores', 'Household goods stores'])\n"
   ]
  },
  {
   "cell_type": "code",
   "execution_count": 25,
   "metadata": {},
   "outputs": [
    {
     "data": {
      "application/vnd.plotly.v1+json": {
       "config": {
        "plotlyServerURL": "https://plot.ly"
       },
       "data": [
        {
         "hovertemplate": "variable=All retailing<br>Description=%{x}<br>value=%{y}<extra></extra>",
         "legendgroup": "All retailing",
         "line": {
          "color": "#636efa",
          "dash": "solid"
         },
         "marker": {
          "symbol": "circle"
         },
         "mode": "lines",
         "name": "All retailing",
         "orientation": "v",
         "showlegend": true,
         "type": "scatter",
         "x": [
          "2022JAN",
          "2022FEB",
          "2022MAR",
          "2022APR"
         ],
         "xaxis": "x",
         "y": [
          9367862,
          9283142,
          10786590,
          9160045
         ],
         "yaxis": "y"
        }
       ],
       "layout": {
        "legend": {
         "title": {
          "text": "variable"
         },
         "tracegroupgap": 0
        },
        "margin": {
         "t": 60
        },
        "template": {
         "data": {
          "bar": [
           {
            "error_x": {
             "color": "#2a3f5f"
            },
            "error_y": {
             "color": "#2a3f5f"
            },
            "marker": {
             "line": {
              "color": "#E5ECF6",
              "width": 0.5
             },
             "pattern": {
              "fillmode": "overlay",
              "size": 10,
              "solidity": 0.2
             }
            },
            "type": "bar"
           }
          ],
          "barpolar": [
           {
            "marker": {
             "line": {
              "color": "#E5ECF6",
              "width": 0.5
             },
             "pattern": {
              "fillmode": "overlay",
              "size": 10,
              "solidity": 0.2
             }
            },
            "type": "barpolar"
           }
          ],
          "carpet": [
           {
            "aaxis": {
             "endlinecolor": "#2a3f5f",
             "gridcolor": "white",
             "linecolor": "white",
             "minorgridcolor": "white",
             "startlinecolor": "#2a3f5f"
            },
            "baxis": {
             "endlinecolor": "#2a3f5f",
             "gridcolor": "white",
             "linecolor": "white",
             "minorgridcolor": "white",
             "startlinecolor": "#2a3f5f"
            },
            "type": "carpet"
           }
          ],
          "choropleth": [
           {
            "colorbar": {
             "outlinewidth": 0,
             "ticks": ""
            },
            "type": "choropleth"
           }
          ],
          "contour": [
           {
            "colorbar": {
             "outlinewidth": 0,
             "ticks": ""
            },
            "colorscale": [
             [
              0,
              "#0d0887"
             ],
             [
              0.1111111111111111,
              "#46039f"
             ],
             [
              0.2222222222222222,
              "#7201a8"
             ],
             [
              0.3333333333333333,
              "#9c179e"
             ],
             [
              0.4444444444444444,
              "#bd3786"
             ],
             [
              0.5555555555555556,
              "#d8576b"
             ],
             [
              0.6666666666666666,
              "#ed7953"
             ],
             [
              0.7777777777777778,
              "#fb9f3a"
             ],
             [
              0.8888888888888888,
              "#fdca26"
             ],
             [
              1,
              "#f0f921"
             ]
            ],
            "type": "contour"
           }
          ],
          "contourcarpet": [
           {
            "colorbar": {
             "outlinewidth": 0,
             "ticks": ""
            },
            "type": "contourcarpet"
           }
          ],
          "heatmap": [
           {
            "colorbar": {
             "outlinewidth": 0,
             "ticks": ""
            },
            "colorscale": [
             [
              0,
              "#0d0887"
             ],
             [
              0.1111111111111111,
              "#46039f"
             ],
             [
              0.2222222222222222,
              "#7201a8"
             ],
             [
              0.3333333333333333,
              "#9c179e"
             ],
             [
              0.4444444444444444,
              "#bd3786"
             ],
             [
              0.5555555555555556,
              "#d8576b"
             ],
             [
              0.6666666666666666,
              "#ed7953"
             ],
             [
              0.7777777777777778,
              "#fb9f3a"
             ],
             [
              0.8888888888888888,
              "#fdca26"
             ],
             [
              1,
              "#f0f921"
             ]
            ],
            "type": "heatmap"
           }
          ],
          "heatmapgl": [
           {
            "colorbar": {
             "outlinewidth": 0,
             "ticks": ""
            },
            "colorscale": [
             [
              0,
              "#0d0887"
             ],
             [
              0.1111111111111111,
              "#46039f"
             ],
             [
              0.2222222222222222,
              "#7201a8"
             ],
             [
              0.3333333333333333,
              "#9c179e"
             ],
             [
              0.4444444444444444,
              "#bd3786"
             ],
             [
              0.5555555555555556,
              "#d8576b"
             ],
             [
              0.6666666666666666,
              "#ed7953"
             ],
             [
              0.7777777777777778,
              "#fb9f3a"
             ],
             [
              0.8888888888888888,
              "#fdca26"
             ],
             [
              1,
              "#f0f921"
             ]
            ],
            "type": "heatmapgl"
           }
          ],
          "histogram": [
           {
            "marker": {
             "pattern": {
              "fillmode": "overlay",
              "size": 10,
              "solidity": 0.2
             }
            },
            "type": "histogram"
           }
          ],
          "histogram2d": [
           {
            "colorbar": {
             "outlinewidth": 0,
             "ticks": ""
            },
            "colorscale": [
             [
              0,
              "#0d0887"
             ],
             [
              0.1111111111111111,
              "#46039f"
             ],
             [
              0.2222222222222222,
              "#7201a8"
             ],
             [
              0.3333333333333333,
              "#9c179e"
             ],
             [
              0.4444444444444444,
              "#bd3786"
             ],
             [
              0.5555555555555556,
              "#d8576b"
             ],
             [
              0.6666666666666666,
              "#ed7953"
             ],
             [
              0.7777777777777778,
              "#fb9f3a"
             ],
             [
              0.8888888888888888,
              "#fdca26"
             ],
             [
              1,
              "#f0f921"
             ]
            ],
            "type": "histogram2d"
           }
          ],
          "histogram2dcontour": [
           {
            "colorbar": {
             "outlinewidth": 0,
             "ticks": ""
            },
            "colorscale": [
             [
              0,
              "#0d0887"
             ],
             [
              0.1111111111111111,
              "#46039f"
             ],
             [
              0.2222222222222222,
              "#7201a8"
             ],
             [
              0.3333333333333333,
              "#9c179e"
             ],
             [
              0.4444444444444444,
              "#bd3786"
             ],
             [
              0.5555555555555556,
              "#d8576b"
             ],
             [
              0.6666666666666666,
              "#ed7953"
             ],
             [
              0.7777777777777778,
              "#fb9f3a"
             ],
             [
              0.8888888888888888,
              "#fdca26"
             ],
             [
              1,
              "#f0f921"
             ]
            ],
            "type": "histogram2dcontour"
           }
          ],
          "mesh3d": [
           {
            "colorbar": {
             "outlinewidth": 0,
             "ticks": ""
            },
            "type": "mesh3d"
           }
          ],
          "parcoords": [
           {
            "line": {
             "colorbar": {
              "outlinewidth": 0,
              "ticks": ""
             }
            },
            "type": "parcoords"
           }
          ],
          "pie": [
           {
            "automargin": true,
            "type": "pie"
           }
          ],
          "scatter": [
           {
            "fillpattern": {
             "fillmode": "overlay",
             "size": 10,
             "solidity": 0.2
            },
            "type": "scatter"
           }
          ],
          "scatter3d": [
           {
            "line": {
             "colorbar": {
              "outlinewidth": 0,
              "ticks": ""
             }
            },
            "marker": {
             "colorbar": {
              "outlinewidth": 0,
              "ticks": ""
             }
            },
            "type": "scatter3d"
           }
          ],
          "scattercarpet": [
           {
            "marker": {
             "colorbar": {
              "outlinewidth": 0,
              "ticks": ""
             }
            },
            "type": "scattercarpet"
           }
          ],
          "scattergeo": [
           {
            "marker": {
             "colorbar": {
              "outlinewidth": 0,
              "ticks": ""
             }
            },
            "type": "scattergeo"
           }
          ],
          "scattergl": [
           {
            "marker": {
             "colorbar": {
              "outlinewidth": 0,
              "ticks": ""
             }
            },
            "type": "scattergl"
           }
          ],
          "scattermapbox": [
           {
            "marker": {
             "colorbar": {
              "outlinewidth": 0,
              "ticks": ""
             }
            },
            "type": "scattermapbox"
           }
          ],
          "scatterpolar": [
           {
            "marker": {
             "colorbar": {
              "outlinewidth": 0,
              "ticks": ""
             }
            },
            "type": "scatterpolar"
           }
          ],
          "scatterpolargl": [
           {
            "marker": {
             "colorbar": {
              "outlinewidth": 0,
              "ticks": ""
             }
            },
            "type": "scatterpolargl"
           }
          ],
          "scatterternary": [
           {
            "marker": {
             "colorbar": {
              "outlinewidth": 0,
              "ticks": ""
             }
            },
            "type": "scatterternary"
           }
          ],
          "surface": [
           {
            "colorbar": {
             "outlinewidth": 0,
             "ticks": ""
            },
            "colorscale": [
             [
              0,
              "#0d0887"
             ],
             [
              0.1111111111111111,
              "#46039f"
             ],
             [
              0.2222222222222222,
              "#7201a8"
             ],
             [
              0.3333333333333333,
              "#9c179e"
             ],
             [
              0.4444444444444444,
              "#bd3786"
             ],
             [
              0.5555555555555556,
              "#d8576b"
             ],
             [
              0.6666666666666666,
              "#ed7953"
             ],
             [
              0.7777777777777778,
              "#fb9f3a"
             ],
             [
              0.8888888888888888,
              "#fdca26"
             ],
             [
              1,
              "#f0f921"
             ]
            ],
            "type": "surface"
           }
          ],
          "table": [
           {
            "cells": {
             "fill": {
              "color": "#EBF0F8"
             },
             "line": {
              "color": "white"
             }
            },
            "header": {
             "fill": {
              "color": "#C8D4E3"
             },
             "line": {
              "color": "white"
             }
            },
            "type": "table"
           }
          ]
         },
         "layout": {
          "annotationdefaults": {
           "arrowcolor": "#2a3f5f",
           "arrowhead": 0,
           "arrowwidth": 1
          },
          "autotypenumbers": "strict",
          "coloraxis": {
           "colorbar": {
            "outlinewidth": 0,
            "ticks": ""
           }
          },
          "colorscale": {
           "diverging": [
            [
             0,
             "#8e0152"
            ],
            [
             0.1,
             "#c51b7d"
            ],
            [
             0.2,
             "#de77ae"
            ],
            [
             0.3,
             "#f1b6da"
            ],
            [
             0.4,
             "#fde0ef"
            ],
            [
             0.5,
             "#f7f7f7"
            ],
            [
             0.6,
             "#e6f5d0"
            ],
            [
             0.7,
             "#b8e186"
            ],
            [
             0.8,
             "#7fbc41"
            ],
            [
             0.9,
             "#4d9221"
            ],
            [
             1,
             "#276419"
            ]
           ],
           "sequential": [
            [
             0,
             "#0d0887"
            ],
            [
             0.1111111111111111,
             "#46039f"
            ],
            [
             0.2222222222222222,
             "#7201a8"
            ],
            [
             0.3333333333333333,
             "#9c179e"
            ],
            [
             0.4444444444444444,
             "#bd3786"
            ],
            [
             0.5555555555555556,
             "#d8576b"
            ],
            [
             0.6666666666666666,
             "#ed7953"
            ],
            [
             0.7777777777777778,
             "#fb9f3a"
            ],
            [
             0.8888888888888888,
             "#fdca26"
            ],
            [
             1,
             "#f0f921"
            ]
           ],
           "sequentialminus": [
            [
             0,
             "#0d0887"
            ],
            [
             0.1111111111111111,
             "#46039f"
            ],
            [
             0.2222222222222222,
             "#7201a8"
            ],
            [
             0.3333333333333333,
             "#9c179e"
            ],
            [
             0.4444444444444444,
             "#bd3786"
            ],
            [
             0.5555555555555556,
             "#d8576b"
            ],
            [
             0.6666666666666666,
             "#ed7953"
            ],
            [
             0.7777777777777778,
             "#fb9f3a"
            ],
            [
             0.8888888888888888,
             "#fdca26"
            ],
            [
             1,
             "#f0f921"
            ]
           ]
          },
          "colorway": [
           "#636efa",
           "#EF553B",
           "#00cc96",
           "#ab63fa",
           "#FFA15A",
           "#19d3f3",
           "#FF6692",
           "#B6E880",
           "#FF97FF",
           "#FECB52"
          ],
          "font": {
           "color": "#2a3f5f"
          },
          "geo": {
           "bgcolor": "white",
           "lakecolor": "white",
           "landcolor": "#E5ECF6",
           "showlakes": true,
           "showland": true,
           "subunitcolor": "white"
          },
          "hoverlabel": {
           "align": "left"
          },
          "hovermode": "closest",
          "mapbox": {
           "style": "light"
          },
          "paper_bgcolor": "white",
          "plot_bgcolor": "#E5ECF6",
          "polar": {
           "angularaxis": {
            "gridcolor": "white",
            "linecolor": "white",
            "ticks": ""
           },
           "bgcolor": "#E5ECF6",
           "radialaxis": {
            "gridcolor": "white",
            "linecolor": "white",
            "ticks": ""
           }
          },
          "scene": {
           "xaxis": {
            "backgroundcolor": "#E5ECF6",
            "gridcolor": "white",
            "gridwidth": 2,
            "linecolor": "white",
            "showbackground": true,
            "ticks": "",
            "zerolinecolor": "white"
           },
           "yaxis": {
            "backgroundcolor": "#E5ECF6",
            "gridcolor": "white",
            "gridwidth": 2,
            "linecolor": "white",
            "showbackground": true,
            "ticks": "",
            "zerolinecolor": "white"
           },
           "zaxis": {
            "backgroundcolor": "#E5ECF6",
            "gridcolor": "white",
            "gridwidth": 2,
            "linecolor": "white",
            "showbackground": true,
            "ticks": "",
            "zerolinecolor": "white"
           }
          },
          "shapedefaults": {
           "line": {
            "color": "#2a3f5f"
           }
          },
          "ternary": {
           "aaxis": {
            "gridcolor": "white",
            "linecolor": "white",
            "ticks": ""
           },
           "baxis": {
            "gridcolor": "white",
            "linecolor": "white",
            "ticks": ""
           },
           "bgcolor": "#E5ECF6",
           "caxis": {
            "gridcolor": "white",
            "linecolor": "white",
            "ticks": ""
           }
          },
          "title": {
           "x": 0.05
          },
          "xaxis": {
           "automargin": true,
           "gridcolor": "white",
           "linecolor": "white",
           "ticks": "",
           "title": {
            "standoff": 15
           },
           "zerolinecolor": "white",
           "zerolinewidth": 2
          },
          "yaxis": {
           "automargin": true,
           "gridcolor": "white",
           "linecolor": "white",
           "ticks": "",
           "title": {
            "standoff": 15
           },
           "zerolinecolor": "white",
           "zerolinewidth": 2
          }
         }
        },
        "xaxis": {
         "anchor": "y",
         "domain": [
          0,
          1
         ],
         "title": {
          "text": "Description"
         }
        },
        "yaxis": {
         "anchor": "x",
         "domain": [
          0,
          1
         ],
         "title": {
          "text": "value"
         }
        }
       }
      }
     },
     "metadata": {},
     "output_type": "display_data"
    }
   ],
   "source": [
    "# from ctypes import sizeof\n",
    "import plotly.graph_objects as go # linechart to show value of sales across selected timeline - post covid\n",
    "import numpy as np\n",
    "dfb = df_final \n",
    "# df = px.data.weekstips()\n",
    "px.line(dfb, x='Description', y=['All retailing'])\n",
    "\n"
   ]
  },
  {
   "cell_type": "code",
   "execution_count": 26,
   "metadata": {},
   "outputs": [
    {
     "data": {
      "application/vnd.plotly.v1+json": {
       "config": {
        "plotlyServerURL": "https://plot.ly"
       },
       "data": [
        {
         "hovertemplate": "Description=%{x}<br>All retailing=%{y}<extra></extra>",
         "legendgroup": "",
         "line": {
          "color": "#636efa",
          "dash": "solid"
         },
         "marker": {
          "symbol": "circle"
         },
         "mode": "lines",
         "name": "",
         "orientation": "v",
         "showlegend": false,
         "type": "scatter",
         "x": [
          "2019JAN",
          "2019FEB",
          "2019MAR",
          "2019APR",
          "2019MAY",
          "2019JUN",
          "2019JUL",
          "2019AUG",
          "2019SEP",
          "2019OCT",
          "2019NOV",
          "2019DEC",
          "2020JAN",
          "2020FEB",
          "2020MAR",
          "2020APR",
          "2020MAY",
          "2020JUN",
          "2020JUL",
          "2020AUG",
          "2020SEP",
          "2020OCT",
          "2020NOV",
          "2020DEC",
          "2021JAN",
          "2021FEB",
          "2021MAR",
          "2021APR",
          "2021MAY",
          "2021JUN",
          "2021JUL",
          "2021AUG",
          "2021SEP",
          "2021OCT",
          "2021NOV",
          "2021DEC",
          "2022JAN",
          "2022FEB"
         ],
         "xaxis": "x",
         "y": [
          5558356,
          5656326,
          7174287,
          5790753,
          5804254,
          7124100,
          6114114,
          5997269,
          7338805,
          5899943,
          5718776,
          7366505,
          7405682,
          6034975,
          8167377,
          7806532,
          9376638,
          12548487,
          9549576,
          9344042,
          11511586,
          9777552,
          10204375,
          11867521,
          10530710,
          11258708,
          13591034,
          10217527,
          9664194,
          11928822,
          9403366,
          9557216,
          12023737,
          9566557,
          9481485,
          11813749,
          9279541,
          9216920
         ],
         "yaxis": "y"
        }
       ],
       "layout": {
        "legend": {
         "tracegroupgap": 0
        },
        "margin": {
         "t": 60
        },
        "template": {
         "data": {
          "bar": [
           {
            "error_x": {
             "color": "#2a3f5f"
            },
            "error_y": {
             "color": "#2a3f5f"
            },
            "marker": {
             "line": {
              "color": "#E5ECF6",
              "width": 0.5
             },
             "pattern": {
              "fillmode": "overlay",
              "size": 10,
              "solidity": 0.2
             }
            },
            "type": "bar"
           }
          ],
          "barpolar": [
           {
            "marker": {
             "line": {
              "color": "#E5ECF6",
              "width": 0.5
             },
             "pattern": {
              "fillmode": "overlay",
              "size": 10,
              "solidity": 0.2
             }
            },
            "type": "barpolar"
           }
          ],
          "carpet": [
           {
            "aaxis": {
             "endlinecolor": "#2a3f5f",
             "gridcolor": "white",
             "linecolor": "white",
             "minorgridcolor": "white",
             "startlinecolor": "#2a3f5f"
            },
            "baxis": {
             "endlinecolor": "#2a3f5f",
             "gridcolor": "white",
             "linecolor": "white",
             "minorgridcolor": "white",
             "startlinecolor": "#2a3f5f"
            },
            "type": "carpet"
           }
          ],
          "choropleth": [
           {
            "colorbar": {
             "outlinewidth": 0,
             "ticks": ""
            },
            "type": "choropleth"
           }
          ],
          "contour": [
           {
            "colorbar": {
             "outlinewidth": 0,
             "ticks": ""
            },
            "colorscale": [
             [
              0,
              "#0d0887"
             ],
             [
              0.1111111111111111,
              "#46039f"
             ],
             [
              0.2222222222222222,
              "#7201a8"
             ],
             [
              0.3333333333333333,
              "#9c179e"
             ],
             [
              0.4444444444444444,
              "#bd3786"
             ],
             [
              0.5555555555555556,
              "#d8576b"
             ],
             [
              0.6666666666666666,
              "#ed7953"
             ],
             [
              0.7777777777777778,
              "#fb9f3a"
             ],
             [
              0.8888888888888888,
              "#fdca26"
             ],
             [
              1,
              "#f0f921"
             ]
            ],
            "type": "contour"
           }
          ],
          "contourcarpet": [
           {
            "colorbar": {
             "outlinewidth": 0,
             "ticks": ""
            },
            "type": "contourcarpet"
           }
          ],
          "heatmap": [
           {
            "colorbar": {
             "outlinewidth": 0,
             "ticks": ""
            },
            "colorscale": [
             [
              0,
              "#0d0887"
             ],
             [
              0.1111111111111111,
              "#46039f"
             ],
             [
              0.2222222222222222,
              "#7201a8"
             ],
             [
              0.3333333333333333,
              "#9c179e"
             ],
             [
              0.4444444444444444,
              "#bd3786"
             ],
             [
              0.5555555555555556,
              "#d8576b"
             ],
             [
              0.6666666666666666,
              "#ed7953"
             ],
             [
              0.7777777777777778,
              "#fb9f3a"
             ],
             [
              0.8888888888888888,
              "#fdca26"
             ],
             [
              1,
              "#f0f921"
             ]
            ],
            "type": "heatmap"
           }
          ],
          "heatmapgl": [
           {
            "colorbar": {
             "outlinewidth": 0,
             "ticks": ""
            },
            "colorscale": [
             [
              0,
              "#0d0887"
             ],
             [
              0.1111111111111111,
              "#46039f"
             ],
             [
              0.2222222222222222,
              "#7201a8"
             ],
             [
              0.3333333333333333,
              "#9c179e"
             ],
             [
              0.4444444444444444,
              "#bd3786"
             ],
             [
              0.5555555555555556,
              "#d8576b"
             ],
             [
              0.6666666666666666,
              "#ed7953"
             ],
             [
              0.7777777777777778,
              "#fb9f3a"
             ],
             [
              0.8888888888888888,
              "#fdca26"
             ],
             [
              1,
              "#f0f921"
             ]
            ],
            "type": "heatmapgl"
           }
          ],
          "histogram": [
           {
            "marker": {
             "pattern": {
              "fillmode": "overlay",
              "size": 10,
              "solidity": 0.2
             }
            },
            "type": "histogram"
           }
          ],
          "histogram2d": [
           {
            "colorbar": {
             "outlinewidth": 0,
             "ticks": ""
            },
            "colorscale": [
             [
              0,
              "#0d0887"
             ],
             [
              0.1111111111111111,
              "#46039f"
             ],
             [
              0.2222222222222222,
              "#7201a8"
             ],
             [
              0.3333333333333333,
              "#9c179e"
             ],
             [
              0.4444444444444444,
              "#bd3786"
             ],
             [
              0.5555555555555556,
              "#d8576b"
             ],
             [
              0.6666666666666666,
              "#ed7953"
             ],
             [
              0.7777777777777778,
              "#fb9f3a"
             ],
             [
              0.8888888888888888,
              "#fdca26"
             ],
             [
              1,
              "#f0f921"
             ]
            ],
            "type": "histogram2d"
           }
          ],
          "histogram2dcontour": [
           {
            "colorbar": {
             "outlinewidth": 0,
             "ticks": ""
            },
            "colorscale": [
             [
              0,
              "#0d0887"
             ],
             [
              0.1111111111111111,
              "#46039f"
             ],
             [
              0.2222222222222222,
              "#7201a8"
             ],
             [
              0.3333333333333333,
              "#9c179e"
             ],
             [
              0.4444444444444444,
              "#bd3786"
             ],
             [
              0.5555555555555556,
              "#d8576b"
             ],
             [
              0.6666666666666666,
              "#ed7953"
             ],
             [
              0.7777777777777778,
              "#fb9f3a"
             ],
             [
              0.8888888888888888,
              "#fdca26"
             ],
             [
              1,
              "#f0f921"
             ]
            ],
            "type": "histogram2dcontour"
           }
          ],
          "mesh3d": [
           {
            "colorbar": {
             "outlinewidth": 0,
             "ticks": ""
            },
            "type": "mesh3d"
           }
          ],
          "parcoords": [
           {
            "line": {
             "colorbar": {
              "outlinewidth": 0,
              "ticks": ""
             }
            },
            "type": "parcoords"
           }
          ],
          "pie": [
           {
            "automargin": true,
            "type": "pie"
           }
          ],
          "scatter": [
           {
            "fillpattern": {
             "fillmode": "overlay",
             "size": 10,
             "solidity": 0.2
            },
            "type": "scatter"
           }
          ],
          "scatter3d": [
           {
            "line": {
             "colorbar": {
              "outlinewidth": 0,
              "ticks": ""
             }
            },
            "marker": {
             "colorbar": {
              "outlinewidth": 0,
              "ticks": ""
             }
            },
            "type": "scatter3d"
           }
          ],
          "scattercarpet": [
           {
            "marker": {
             "colorbar": {
              "outlinewidth": 0,
              "ticks": ""
             }
            },
            "type": "scattercarpet"
           }
          ],
          "scattergeo": [
           {
            "marker": {
             "colorbar": {
              "outlinewidth": 0,
              "ticks": ""
             }
            },
            "type": "scattergeo"
           }
          ],
          "scattergl": [
           {
            "marker": {
             "colorbar": {
              "outlinewidth": 0,
              "ticks": ""
             }
            },
            "type": "scattergl"
           }
          ],
          "scattermapbox": [
           {
            "marker": {
             "colorbar": {
              "outlinewidth": 0,
              "ticks": ""
             }
            },
            "type": "scattermapbox"
           }
          ],
          "scatterpolar": [
           {
            "marker": {
             "colorbar": {
              "outlinewidth": 0,
              "ticks": ""
             }
            },
            "type": "scatterpolar"
           }
          ],
          "scatterpolargl": [
           {
            "marker": {
             "colorbar": {
              "outlinewidth": 0,
              "ticks": ""
             }
            },
            "type": "scatterpolargl"
           }
          ],
          "scatterternary": [
           {
            "marker": {
             "colorbar": {
              "outlinewidth": 0,
              "ticks": ""
             }
            },
            "type": "scatterternary"
           }
          ],
          "surface": [
           {
            "colorbar": {
             "outlinewidth": 0,
             "ticks": ""
            },
            "colorscale": [
             [
              0,
              "#0d0887"
             ],
             [
              0.1111111111111111,
              "#46039f"
             ],
             [
              0.2222222222222222,
              "#7201a8"
             ],
             [
              0.3333333333333333,
              "#9c179e"
             ],
             [
              0.4444444444444444,
              "#bd3786"
             ],
             [
              0.5555555555555556,
              "#d8576b"
             ],
             [
              0.6666666666666666,
              "#ed7953"
             ],
             [
              0.7777777777777778,
              "#fb9f3a"
             ],
             [
              0.8888888888888888,
              "#fdca26"
             ],
             [
              1,
              "#f0f921"
             ]
            ],
            "type": "surface"
           }
          ],
          "table": [
           {
            "cells": {
             "fill": {
              "color": "#EBF0F8"
             },
             "line": {
              "color": "white"
             }
            },
            "header": {
             "fill": {
              "color": "#C8D4E3"
             },
             "line": {
              "color": "white"
             }
            },
            "type": "table"
           }
          ]
         },
         "layout": {
          "annotationdefaults": {
           "arrowcolor": "#2a3f5f",
           "arrowhead": 0,
           "arrowwidth": 1
          },
          "autotypenumbers": "strict",
          "coloraxis": {
           "colorbar": {
            "outlinewidth": 0,
            "ticks": ""
           }
          },
          "colorscale": {
           "diverging": [
            [
             0,
             "#8e0152"
            ],
            [
             0.1,
             "#c51b7d"
            ],
            [
             0.2,
             "#de77ae"
            ],
            [
             0.3,
             "#f1b6da"
            ],
            [
             0.4,
             "#fde0ef"
            ],
            [
             0.5,
             "#f7f7f7"
            ],
            [
             0.6,
             "#e6f5d0"
            ],
            [
             0.7,
             "#b8e186"
            ],
            [
             0.8,
             "#7fbc41"
            ],
            [
             0.9,
             "#4d9221"
            ],
            [
             1,
             "#276419"
            ]
           ],
           "sequential": [
            [
             0,
             "#0d0887"
            ],
            [
             0.1111111111111111,
             "#46039f"
            ],
            [
             0.2222222222222222,
             "#7201a8"
            ],
            [
             0.3333333333333333,
             "#9c179e"
            ],
            [
             0.4444444444444444,
             "#bd3786"
            ],
            [
             0.5555555555555556,
             "#d8576b"
            ],
            [
             0.6666666666666666,
             "#ed7953"
            ],
            [
             0.7777777777777778,
             "#fb9f3a"
            ],
            [
             0.8888888888888888,
             "#fdca26"
            ],
            [
             1,
             "#f0f921"
            ]
           ],
           "sequentialminus": [
            [
             0,
             "#0d0887"
            ],
            [
             0.1111111111111111,
             "#46039f"
            ],
            [
             0.2222222222222222,
             "#7201a8"
            ],
            [
             0.3333333333333333,
             "#9c179e"
            ],
            [
             0.4444444444444444,
             "#bd3786"
            ],
            [
             0.5555555555555556,
             "#d8576b"
            ],
            [
             0.6666666666666666,
             "#ed7953"
            ],
            [
             0.7777777777777778,
             "#fb9f3a"
            ],
            [
             0.8888888888888888,
             "#fdca26"
            ],
            [
             1,
             "#f0f921"
            ]
           ]
          },
          "colorway": [
           "#636efa",
           "#EF553B",
           "#00cc96",
           "#ab63fa",
           "#FFA15A",
           "#19d3f3",
           "#FF6692",
           "#B6E880",
           "#FF97FF",
           "#FECB52"
          ],
          "font": {
           "color": "#2a3f5f"
          },
          "geo": {
           "bgcolor": "white",
           "lakecolor": "white",
           "landcolor": "#E5ECF6",
           "showlakes": true,
           "showland": true,
           "subunitcolor": "white"
          },
          "hoverlabel": {
           "align": "left"
          },
          "hovermode": "closest",
          "mapbox": {
           "style": "light"
          },
          "paper_bgcolor": "white",
          "plot_bgcolor": "#E5ECF6",
          "polar": {
           "angularaxis": {
            "gridcolor": "white",
            "linecolor": "white",
            "ticks": ""
           },
           "bgcolor": "#E5ECF6",
           "radialaxis": {
            "gridcolor": "white",
            "linecolor": "white",
            "ticks": ""
           }
          },
          "scene": {
           "xaxis": {
            "backgroundcolor": "#E5ECF6",
            "gridcolor": "white",
            "gridwidth": 2,
            "linecolor": "white",
            "showbackground": true,
            "ticks": "",
            "zerolinecolor": "white"
           },
           "yaxis": {
            "backgroundcolor": "#E5ECF6",
            "gridcolor": "white",
            "gridwidth": 2,
            "linecolor": "white",
            "showbackground": true,
            "ticks": "",
            "zerolinecolor": "white"
           },
           "zaxis": {
            "backgroundcolor": "#E5ECF6",
            "gridcolor": "white",
            "gridwidth": 2,
            "linecolor": "white",
            "showbackground": true,
            "ticks": "",
            "zerolinecolor": "white"
           }
          },
          "shapedefaults": {
           "line": {
            "color": "#2a3f5f"
           }
          },
          "ternary": {
           "aaxis": {
            "gridcolor": "white",
            "linecolor": "white",
            "ticks": ""
           },
           "baxis": {
            "gridcolor": "white",
            "linecolor": "white",
            "ticks": ""
           },
           "bgcolor": "#E5ECF6",
           "caxis": {
            "gridcolor": "white",
            "linecolor": "white",
            "ticks": ""
           }
          },
          "title": {
           "x": 0.05
          },
          "xaxis": {
           "automargin": true,
           "gridcolor": "white",
           "linecolor": "white",
           "ticks": "",
           "title": {
            "standoff": 15
           },
           "zerolinecolor": "white",
           "zerolinewidth": 2
          },
          "yaxis": {
           "automargin": true,
           "gridcolor": "white",
           "linecolor": "white",
           "ticks": "",
           "title": {
            "standoff": 15
           },
           "zerolinecolor": "white",
           "zerolinewidth": 2
          }
         }
        },
        "xaxis": {
         "anchor": "y",
         "domain": [
          0,
          1
         ],
         "title": {
          "text": "Description"
         }
        },
        "yaxis": {
         "anchor": "x",
         "domain": [
          0,
          1
         ],
         "title": {
          "text": "All retailing"
         }
        }
       }
      }
     },
     "metadata": {},
     "output_type": "display_data"
    }
   ],
   "source": [
    "\n",
    "import plotly.graph_objects as go # linechart to show value of sales across selected timeline - post covid\n",
    "import numpy as np\n",
    "dfb = df1_subset.loc[145:182] \n",
    "# df = px.data.weekstips()\n",
    "px.line(dfb, x='Description', y='All retailing')\n",
    "\n",
    " "
   ]
  },
  {
   "cell_type": "code",
   "execution_count": 27,
   "metadata": {},
   "outputs": [
    {
     "data": {
      "text/html": [
       "<div>\n",
       "<style scoped>\n",
       "    .dataframe tbody tr th:only-of-type {\n",
       "        vertical-align: middle;\n",
       "    }\n",
       "\n",
       "    .dataframe tbody tr th {\n",
       "        vertical-align: top;\n",
       "    }\n",
       "\n",
       "    .dataframe thead th {\n",
       "        text-align: right;\n",
       "    }\n",
       "</style>\n",
       "<table border=\"1\" class=\"dataframe\">\n",
       "  <thead>\n",
       "    <tr style=\"text-align: right;\">\n",
       "      <th></th>\n",
       "      <th>Description</th>\n",
       "      <th>All retailing</th>\n",
       "      <th>Supermarkets</th>\n",
       "      <th>Department stores</th>\n",
       "      <th>Non-store retailing</th>\n",
       "    </tr>\n",
       "  </thead>\n",
       "  <tbody>\n",
       "    <tr>\n",
       "      <th>13</th>\n",
       "      <td>2022JAN</td>\n",
       "      <td>9367862</td>\n",
       "      <td>1176187.0</td>\n",
       "      <td>597766.0</td>\n",
       "      <td>4929707.0</td>\n",
       "    </tr>\n",
       "    <tr>\n",
       "      <th>14</th>\n",
       "      <td>2022FEB</td>\n",
       "      <td>9283142</td>\n",
       "      <td>1157014.0</td>\n",
       "      <td>598397.0</td>\n",
       "      <td>4886971.0</td>\n",
       "    </tr>\n",
       "    <tr>\n",
       "      <th>15</th>\n",
       "      <td>2022MAR</td>\n",
       "      <td>10786590</td>\n",
       "      <td>1477908.0</td>\n",
       "      <td>737451.0</td>\n",
       "      <td>5313639.0</td>\n",
       "    </tr>\n",
       "    <tr>\n",
       "      <th>16</th>\n",
       "      <td>2022APR</td>\n",
       "      <td>9160045</td>\n",
       "      <td>1192733.0</td>\n",
       "      <td>602408.0</td>\n",
       "      <td>4729281.0</td>\n",
       "    </tr>\n",
       "  </tbody>\n",
       "</table>\n",
       "</div>"
      ],
      "text/plain": [
       "   Description All retailing  Supermarkets  Department stores  \\\n",
       "13     2022JAN       9367862     1176187.0           597766.0   \n",
       "14     2022FEB       9283142     1157014.0           598397.0   \n",
       "15     2022MAR      10786590     1477908.0           737451.0   \n",
       "16     2022APR       9160045     1192733.0           602408.0   \n",
       "\n",
       "    Non-store retailing  \n",
       "13            4929707.0  \n",
       "14            4886971.0  \n",
       "15            5313639.0  \n",
       "16            4729281.0  "
      ]
     },
     "execution_count": 27,
     "metadata": {},
     "output_type": "execute_result"
    }
   ],
   "source": [
    "# subsetting supermarkets with All reatiling. \n",
    "df_two_col = df_final[['Description','All retailing', 'Non-specialised stores (i.e supermarkets)']]\n",
    "# df_two_col\n",
    "df_super_allretail = df_two_col.copy()\n",
    "df_super_allretail.rename(columns={'Non-specialised stores (i.e supermarkets)': 'Supermarkets'}, inplace=True)\n",
    "df_super_allretail['Department stores'] = df_final['Non-specialised stores (i.e department stores)']\n",
    "df_super_allretail['Non-store retailing'] = df_final['Non-store retailing'].astype(float)\n",
    "#df_super_allretail['pct of total sales'] = df_super_allretail['Supermarkets'] / df_super_allretail['All retailing'] * 100 \n",
    "#df_super_allretail['pct of total sales'] = df_super_allretail['pct of total sales'].astype(float)\n",
    "df_super_allretail \n"
   ]
  },
  {
   "cell_type": "code",
   "execution_count": 28,
   "metadata": {},
   "outputs": [
    {
     "data": {
      "application/vnd.plotly.v1+json": {
       "config": {
        "plotlyServerURL": "https://plot.ly"
       },
       "data": [
        {
         "hovertemplate": "variable=Supermarkets<br>Description=%{x}<br>value=%{y}<extra></extra>",
         "legendgroup": "Supermarkets",
         "line": {
          "color": "#636efa",
          "dash": "solid"
         },
         "marker": {
          "symbol": "circle"
         },
         "mode": "lines",
         "name": "Supermarkets",
         "orientation": "v",
         "showlegend": true,
         "type": "scatter",
         "x": [
          "2022JAN",
          "2022FEB",
          "2022MAR",
          "2022APR"
         ],
         "xaxis": "x",
         "y": [
          1176187,
          1157014,
          1477908,
          1192733
         ],
         "yaxis": "y"
        },
        {
         "hovertemplate": "variable=Department stores<br>Description=%{x}<br>value=%{y}<extra></extra>",
         "legendgroup": "Department stores",
         "line": {
          "color": "#EF553B",
          "dash": "solid"
         },
         "marker": {
          "symbol": "circle"
         },
         "mode": "lines",
         "name": "Department stores",
         "orientation": "v",
         "showlegend": true,
         "type": "scatter",
         "x": [
          "2022JAN",
          "2022FEB",
          "2022MAR",
          "2022APR"
         ],
         "xaxis": "x",
         "y": [
          597766,
          598397,
          737451,
          602408
         ],
         "yaxis": "y"
        },
        {
         "hovertemplate": "variable=Non-store retailing<br>Description=%{x}<br>value=%{y}<extra></extra>",
         "legendgroup": "Non-store retailing",
         "line": {
          "color": "#00cc96",
          "dash": "solid"
         },
         "marker": {
          "symbol": "circle"
         },
         "mode": "lines",
         "name": "Non-store retailing",
         "orientation": "v",
         "showlegend": true,
         "type": "scatter",
         "x": [
          "2022JAN",
          "2022FEB",
          "2022MAR",
          "2022APR"
         ],
         "xaxis": "x",
         "y": [
          4929707,
          4886971,
          5313639,
          4729281
         ],
         "yaxis": "y"
        }
       ],
       "layout": {
        "legend": {
         "title": {
          "text": "variable"
         },
         "tracegroupgap": 0
        },
        "margin": {
         "t": 60
        },
        "template": {
         "data": {
          "bar": [
           {
            "error_x": {
             "color": "#2a3f5f"
            },
            "error_y": {
             "color": "#2a3f5f"
            },
            "marker": {
             "line": {
              "color": "#E5ECF6",
              "width": 0.5
             },
             "pattern": {
              "fillmode": "overlay",
              "size": 10,
              "solidity": 0.2
             }
            },
            "type": "bar"
           }
          ],
          "barpolar": [
           {
            "marker": {
             "line": {
              "color": "#E5ECF6",
              "width": 0.5
             },
             "pattern": {
              "fillmode": "overlay",
              "size": 10,
              "solidity": 0.2
             }
            },
            "type": "barpolar"
           }
          ],
          "carpet": [
           {
            "aaxis": {
             "endlinecolor": "#2a3f5f",
             "gridcolor": "white",
             "linecolor": "white",
             "minorgridcolor": "white",
             "startlinecolor": "#2a3f5f"
            },
            "baxis": {
             "endlinecolor": "#2a3f5f",
             "gridcolor": "white",
             "linecolor": "white",
             "minorgridcolor": "white",
             "startlinecolor": "#2a3f5f"
            },
            "type": "carpet"
           }
          ],
          "choropleth": [
           {
            "colorbar": {
             "outlinewidth": 0,
             "ticks": ""
            },
            "type": "choropleth"
           }
          ],
          "contour": [
           {
            "colorbar": {
             "outlinewidth": 0,
             "ticks": ""
            },
            "colorscale": [
             [
              0,
              "#0d0887"
             ],
             [
              0.1111111111111111,
              "#46039f"
             ],
             [
              0.2222222222222222,
              "#7201a8"
             ],
             [
              0.3333333333333333,
              "#9c179e"
             ],
             [
              0.4444444444444444,
              "#bd3786"
             ],
             [
              0.5555555555555556,
              "#d8576b"
             ],
             [
              0.6666666666666666,
              "#ed7953"
             ],
             [
              0.7777777777777778,
              "#fb9f3a"
             ],
             [
              0.8888888888888888,
              "#fdca26"
             ],
             [
              1,
              "#f0f921"
             ]
            ],
            "type": "contour"
           }
          ],
          "contourcarpet": [
           {
            "colorbar": {
             "outlinewidth": 0,
             "ticks": ""
            },
            "type": "contourcarpet"
           }
          ],
          "heatmap": [
           {
            "colorbar": {
             "outlinewidth": 0,
             "ticks": ""
            },
            "colorscale": [
             [
              0,
              "#0d0887"
             ],
             [
              0.1111111111111111,
              "#46039f"
             ],
             [
              0.2222222222222222,
              "#7201a8"
             ],
             [
              0.3333333333333333,
              "#9c179e"
             ],
             [
              0.4444444444444444,
              "#bd3786"
             ],
             [
              0.5555555555555556,
              "#d8576b"
             ],
             [
              0.6666666666666666,
              "#ed7953"
             ],
             [
              0.7777777777777778,
              "#fb9f3a"
             ],
             [
              0.8888888888888888,
              "#fdca26"
             ],
             [
              1,
              "#f0f921"
             ]
            ],
            "type": "heatmap"
           }
          ],
          "heatmapgl": [
           {
            "colorbar": {
             "outlinewidth": 0,
             "ticks": ""
            },
            "colorscale": [
             [
              0,
              "#0d0887"
             ],
             [
              0.1111111111111111,
              "#46039f"
             ],
             [
              0.2222222222222222,
              "#7201a8"
             ],
             [
              0.3333333333333333,
              "#9c179e"
             ],
             [
              0.4444444444444444,
              "#bd3786"
             ],
             [
              0.5555555555555556,
              "#d8576b"
             ],
             [
              0.6666666666666666,
              "#ed7953"
             ],
             [
              0.7777777777777778,
              "#fb9f3a"
             ],
             [
              0.8888888888888888,
              "#fdca26"
             ],
             [
              1,
              "#f0f921"
             ]
            ],
            "type": "heatmapgl"
           }
          ],
          "histogram": [
           {
            "marker": {
             "pattern": {
              "fillmode": "overlay",
              "size": 10,
              "solidity": 0.2
             }
            },
            "type": "histogram"
           }
          ],
          "histogram2d": [
           {
            "colorbar": {
             "outlinewidth": 0,
             "ticks": ""
            },
            "colorscale": [
             [
              0,
              "#0d0887"
             ],
             [
              0.1111111111111111,
              "#46039f"
             ],
             [
              0.2222222222222222,
              "#7201a8"
             ],
             [
              0.3333333333333333,
              "#9c179e"
             ],
             [
              0.4444444444444444,
              "#bd3786"
             ],
             [
              0.5555555555555556,
              "#d8576b"
             ],
             [
              0.6666666666666666,
              "#ed7953"
             ],
             [
              0.7777777777777778,
              "#fb9f3a"
             ],
             [
              0.8888888888888888,
              "#fdca26"
             ],
             [
              1,
              "#f0f921"
             ]
            ],
            "type": "histogram2d"
           }
          ],
          "histogram2dcontour": [
           {
            "colorbar": {
             "outlinewidth": 0,
             "ticks": ""
            },
            "colorscale": [
             [
              0,
              "#0d0887"
             ],
             [
              0.1111111111111111,
              "#46039f"
             ],
             [
              0.2222222222222222,
              "#7201a8"
             ],
             [
              0.3333333333333333,
              "#9c179e"
             ],
             [
              0.4444444444444444,
              "#bd3786"
             ],
             [
              0.5555555555555556,
              "#d8576b"
             ],
             [
              0.6666666666666666,
              "#ed7953"
             ],
             [
              0.7777777777777778,
              "#fb9f3a"
             ],
             [
              0.8888888888888888,
              "#fdca26"
             ],
             [
              1,
              "#f0f921"
             ]
            ],
            "type": "histogram2dcontour"
           }
          ],
          "mesh3d": [
           {
            "colorbar": {
             "outlinewidth": 0,
             "ticks": ""
            },
            "type": "mesh3d"
           }
          ],
          "parcoords": [
           {
            "line": {
             "colorbar": {
              "outlinewidth": 0,
              "ticks": ""
             }
            },
            "type": "parcoords"
           }
          ],
          "pie": [
           {
            "automargin": true,
            "type": "pie"
           }
          ],
          "scatter": [
           {
            "fillpattern": {
             "fillmode": "overlay",
             "size": 10,
             "solidity": 0.2
            },
            "type": "scatter"
           }
          ],
          "scatter3d": [
           {
            "line": {
             "colorbar": {
              "outlinewidth": 0,
              "ticks": ""
             }
            },
            "marker": {
             "colorbar": {
              "outlinewidth": 0,
              "ticks": ""
             }
            },
            "type": "scatter3d"
           }
          ],
          "scattercarpet": [
           {
            "marker": {
             "colorbar": {
              "outlinewidth": 0,
              "ticks": ""
             }
            },
            "type": "scattercarpet"
           }
          ],
          "scattergeo": [
           {
            "marker": {
             "colorbar": {
              "outlinewidth": 0,
              "ticks": ""
             }
            },
            "type": "scattergeo"
           }
          ],
          "scattergl": [
           {
            "marker": {
             "colorbar": {
              "outlinewidth": 0,
              "ticks": ""
             }
            },
            "type": "scattergl"
           }
          ],
          "scattermapbox": [
           {
            "marker": {
             "colorbar": {
              "outlinewidth": 0,
              "ticks": ""
             }
            },
            "type": "scattermapbox"
           }
          ],
          "scatterpolar": [
           {
            "marker": {
             "colorbar": {
              "outlinewidth": 0,
              "ticks": ""
             }
            },
            "type": "scatterpolar"
           }
          ],
          "scatterpolargl": [
           {
            "marker": {
             "colorbar": {
              "outlinewidth": 0,
              "ticks": ""
             }
            },
            "type": "scatterpolargl"
           }
          ],
          "scatterternary": [
           {
            "marker": {
             "colorbar": {
              "outlinewidth": 0,
              "ticks": ""
             }
            },
            "type": "scatterternary"
           }
          ],
          "surface": [
           {
            "colorbar": {
             "outlinewidth": 0,
             "ticks": ""
            },
            "colorscale": [
             [
              0,
              "#0d0887"
             ],
             [
              0.1111111111111111,
              "#46039f"
             ],
             [
              0.2222222222222222,
              "#7201a8"
             ],
             [
              0.3333333333333333,
              "#9c179e"
             ],
             [
              0.4444444444444444,
              "#bd3786"
             ],
             [
              0.5555555555555556,
              "#d8576b"
             ],
             [
              0.6666666666666666,
              "#ed7953"
             ],
             [
              0.7777777777777778,
              "#fb9f3a"
             ],
             [
              0.8888888888888888,
              "#fdca26"
             ],
             [
              1,
              "#f0f921"
             ]
            ],
            "type": "surface"
           }
          ],
          "table": [
           {
            "cells": {
             "fill": {
              "color": "#EBF0F8"
             },
             "line": {
              "color": "white"
             }
            },
            "header": {
             "fill": {
              "color": "#C8D4E3"
             },
             "line": {
              "color": "white"
             }
            },
            "type": "table"
           }
          ]
         },
         "layout": {
          "annotationdefaults": {
           "arrowcolor": "#2a3f5f",
           "arrowhead": 0,
           "arrowwidth": 1
          },
          "autotypenumbers": "strict",
          "coloraxis": {
           "colorbar": {
            "outlinewidth": 0,
            "ticks": ""
           }
          },
          "colorscale": {
           "diverging": [
            [
             0,
             "#8e0152"
            ],
            [
             0.1,
             "#c51b7d"
            ],
            [
             0.2,
             "#de77ae"
            ],
            [
             0.3,
             "#f1b6da"
            ],
            [
             0.4,
             "#fde0ef"
            ],
            [
             0.5,
             "#f7f7f7"
            ],
            [
             0.6,
             "#e6f5d0"
            ],
            [
             0.7,
             "#b8e186"
            ],
            [
             0.8,
             "#7fbc41"
            ],
            [
             0.9,
             "#4d9221"
            ],
            [
             1,
             "#276419"
            ]
           ],
           "sequential": [
            [
             0,
             "#0d0887"
            ],
            [
             0.1111111111111111,
             "#46039f"
            ],
            [
             0.2222222222222222,
             "#7201a8"
            ],
            [
             0.3333333333333333,
             "#9c179e"
            ],
            [
             0.4444444444444444,
             "#bd3786"
            ],
            [
             0.5555555555555556,
             "#d8576b"
            ],
            [
             0.6666666666666666,
             "#ed7953"
            ],
            [
             0.7777777777777778,
             "#fb9f3a"
            ],
            [
             0.8888888888888888,
             "#fdca26"
            ],
            [
             1,
             "#f0f921"
            ]
           ],
           "sequentialminus": [
            [
             0,
             "#0d0887"
            ],
            [
             0.1111111111111111,
             "#46039f"
            ],
            [
             0.2222222222222222,
             "#7201a8"
            ],
            [
             0.3333333333333333,
             "#9c179e"
            ],
            [
             0.4444444444444444,
             "#bd3786"
            ],
            [
             0.5555555555555556,
             "#d8576b"
            ],
            [
             0.6666666666666666,
             "#ed7953"
            ],
            [
             0.7777777777777778,
             "#fb9f3a"
            ],
            [
             0.8888888888888888,
             "#fdca26"
            ],
            [
             1,
             "#f0f921"
            ]
           ]
          },
          "colorway": [
           "#636efa",
           "#EF553B",
           "#00cc96",
           "#ab63fa",
           "#FFA15A",
           "#19d3f3",
           "#FF6692",
           "#B6E880",
           "#FF97FF",
           "#FECB52"
          ],
          "font": {
           "color": "#2a3f5f"
          },
          "geo": {
           "bgcolor": "white",
           "lakecolor": "white",
           "landcolor": "#E5ECF6",
           "showlakes": true,
           "showland": true,
           "subunitcolor": "white"
          },
          "hoverlabel": {
           "align": "left"
          },
          "hovermode": "closest",
          "mapbox": {
           "style": "light"
          },
          "paper_bgcolor": "white",
          "plot_bgcolor": "#E5ECF6",
          "polar": {
           "angularaxis": {
            "gridcolor": "white",
            "linecolor": "white",
            "ticks": ""
           },
           "bgcolor": "#E5ECF6",
           "radialaxis": {
            "gridcolor": "white",
            "linecolor": "white",
            "ticks": ""
           }
          },
          "scene": {
           "xaxis": {
            "backgroundcolor": "#E5ECF6",
            "gridcolor": "white",
            "gridwidth": 2,
            "linecolor": "white",
            "showbackground": true,
            "ticks": "",
            "zerolinecolor": "white"
           },
           "yaxis": {
            "backgroundcolor": "#E5ECF6",
            "gridcolor": "white",
            "gridwidth": 2,
            "linecolor": "white",
            "showbackground": true,
            "ticks": "",
            "zerolinecolor": "white"
           },
           "zaxis": {
            "backgroundcolor": "#E5ECF6",
            "gridcolor": "white",
            "gridwidth": 2,
            "linecolor": "white",
            "showbackground": true,
            "ticks": "",
            "zerolinecolor": "white"
           }
          },
          "shapedefaults": {
           "line": {
            "color": "#2a3f5f"
           }
          },
          "ternary": {
           "aaxis": {
            "gridcolor": "white",
            "linecolor": "white",
            "ticks": ""
           },
           "baxis": {
            "gridcolor": "white",
            "linecolor": "white",
            "ticks": ""
           },
           "bgcolor": "#E5ECF6",
           "caxis": {
            "gridcolor": "white",
            "linecolor": "white",
            "ticks": ""
           }
          },
          "title": {
           "x": 0.05
          },
          "xaxis": {
           "automargin": true,
           "gridcolor": "white",
           "linecolor": "white",
           "ticks": "",
           "title": {
            "standoff": 15
           },
           "zerolinecolor": "white",
           "zerolinewidth": 2
          },
          "yaxis": {
           "automargin": true,
           "gridcolor": "white",
           "linecolor": "white",
           "ticks": "",
           "title": {
            "standoff": 15
           },
           "zerolinecolor": "white",
           "zerolinewidth": 2
          }
         }
        },
        "xaxis": {
         "anchor": "y",
         "domain": [
          0,
          1
         ],
         "title": {
          "text": "Description"
         }
        },
        "yaxis": {
         "anchor": "x",
         "domain": [
          0,
          1
         ],
         "title": {
          "text": "value"
         }
        }
       }
      }
     },
     "metadata": {},
     "output_type": "display_data"
    }
   ],
   "source": [
    "import plotly.graph_objects as go # linechart to show value of sales across selected timeline - post covid\n",
    "import numpy as np\n",
    "dfb = df_super_allretail\n",
    "# df = px.data.weekstips()\n",
    "px.line(dfb, x='Description', y=['Supermarkets', 'Department stores', 'Non-store retailing'])\n"
   ]
  },
  {
   "cell_type": "code",
   "execution_count": 34,
   "metadata": {},
   "outputs": [
    {
     "data": {
      "application/vnd.plotly.v1+json": {
       "config": {
        "plotlyServerURL": "https://plot.ly"
       },
       "data": [
        {
         "alignmentgroup": "True",
         "hovertemplate": "variable=Supermarkets<br>value=%{x}<br>Description=%{y}<extra></extra>",
         "legendgroup": "Supermarkets",
         "marker": {
          "color": "#636efa",
          "pattern": {
           "shape": ""
          }
         },
         "name": "Supermarkets",
         "offsetgroup": "Supermarkets",
         "orientation": "h",
         "showlegend": true,
         "textposition": "auto",
         "type": "bar",
         "x": [
          1176187,
          1157014,
          1477908,
          1192733
         ],
         "xaxis": "x",
         "y": [
          "2022JAN",
          "2022FEB",
          "2022MAR",
          "2022APR"
         ],
         "yaxis": "y"
        },
        {
         "alignmentgroup": "True",
         "hovertemplate": "variable=Department stores<br>value=%{x}<br>Description=%{y}<extra></extra>",
         "legendgroup": "Department stores",
         "marker": {
          "color": "#EF553B",
          "pattern": {
           "shape": ""
          }
         },
         "name": "Department stores",
         "offsetgroup": "Department stores",
         "orientation": "h",
         "showlegend": true,
         "textposition": "auto",
         "type": "bar",
         "x": [
          597766,
          598397,
          737451,
          602408
         ],
         "xaxis": "x",
         "y": [
          "2022JAN",
          "2022FEB",
          "2022MAR",
          "2022APR"
         ],
         "yaxis": "y"
        }
       ],
       "layout": {
        "barmode": "group",
        "legend": {
         "title": {
          "text": "variable"
         },
         "tracegroupgap": 0
        },
        "margin": {
         "t": 60
        },
        "template": {
         "data": {
          "bar": [
           {
            "error_x": {
             "color": "#2a3f5f"
            },
            "error_y": {
             "color": "#2a3f5f"
            },
            "marker": {
             "line": {
              "color": "#E5ECF6",
              "width": 0.5
             },
             "pattern": {
              "fillmode": "overlay",
              "size": 10,
              "solidity": 0.2
             }
            },
            "type": "bar"
           }
          ],
          "barpolar": [
           {
            "marker": {
             "line": {
              "color": "#E5ECF6",
              "width": 0.5
             },
             "pattern": {
              "fillmode": "overlay",
              "size": 10,
              "solidity": 0.2
             }
            },
            "type": "barpolar"
           }
          ],
          "carpet": [
           {
            "aaxis": {
             "endlinecolor": "#2a3f5f",
             "gridcolor": "white",
             "linecolor": "white",
             "minorgridcolor": "white",
             "startlinecolor": "#2a3f5f"
            },
            "baxis": {
             "endlinecolor": "#2a3f5f",
             "gridcolor": "white",
             "linecolor": "white",
             "minorgridcolor": "white",
             "startlinecolor": "#2a3f5f"
            },
            "type": "carpet"
           }
          ],
          "choropleth": [
           {
            "colorbar": {
             "outlinewidth": 0,
             "ticks": ""
            },
            "type": "choropleth"
           }
          ],
          "contour": [
           {
            "colorbar": {
             "outlinewidth": 0,
             "ticks": ""
            },
            "colorscale": [
             [
              0,
              "#0d0887"
             ],
             [
              0.1111111111111111,
              "#46039f"
             ],
             [
              0.2222222222222222,
              "#7201a8"
             ],
             [
              0.3333333333333333,
              "#9c179e"
             ],
             [
              0.4444444444444444,
              "#bd3786"
             ],
             [
              0.5555555555555556,
              "#d8576b"
             ],
             [
              0.6666666666666666,
              "#ed7953"
             ],
             [
              0.7777777777777778,
              "#fb9f3a"
             ],
             [
              0.8888888888888888,
              "#fdca26"
             ],
             [
              1,
              "#f0f921"
             ]
            ],
            "type": "contour"
           }
          ],
          "contourcarpet": [
           {
            "colorbar": {
             "outlinewidth": 0,
             "ticks": ""
            },
            "type": "contourcarpet"
           }
          ],
          "heatmap": [
           {
            "colorbar": {
             "outlinewidth": 0,
             "ticks": ""
            },
            "colorscale": [
             [
              0,
              "#0d0887"
             ],
             [
              0.1111111111111111,
              "#46039f"
             ],
             [
              0.2222222222222222,
              "#7201a8"
             ],
             [
              0.3333333333333333,
              "#9c179e"
             ],
             [
              0.4444444444444444,
              "#bd3786"
             ],
             [
              0.5555555555555556,
              "#d8576b"
             ],
             [
              0.6666666666666666,
              "#ed7953"
             ],
             [
              0.7777777777777778,
              "#fb9f3a"
             ],
             [
              0.8888888888888888,
              "#fdca26"
             ],
             [
              1,
              "#f0f921"
             ]
            ],
            "type": "heatmap"
           }
          ],
          "heatmapgl": [
           {
            "colorbar": {
             "outlinewidth": 0,
             "ticks": ""
            },
            "colorscale": [
             [
              0,
              "#0d0887"
             ],
             [
              0.1111111111111111,
              "#46039f"
             ],
             [
              0.2222222222222222,
              "#7201a8"
             ],
             [
              0.3333333333333333,
              "#9c179e"
             ],
             [
              0.4444444444444444,
              "#bd3786"
             ],
             [
              0.5555555555555556,
              "#d8576b"
             ],
             [
              0.6666666666666666,
              "#ed7953"
             ],
             [
              0.7777777777777778,
              "#fb9f3a"
             ],
             [
              0.8888888888888888,
              "#fdca26"
             ],
             [
              1,
              "#f0f921"
             ]
            ],
            "type": "heatmapgl"
           }
          ],
          "histogram": [
           {
            "marker": {
             "pattern": {
              "fillmode": "overlay",
              "size": 10,
              "solidity": 0.2
             }
            },
            "type": "histogram"
           }
          ],
          "histogram2d": [
           {
            "colorbar": {
             "outlinewidth": 0,
             "ticks": ""
            },
            "colorscale": [
             [
              0,
              "#0d0887"
             ],
             [
              0.1111111111111111,
              "#46039f"
             ],
             [
              0.2222222222222222,
              "#7201a8"
             ],
             [
              0.3333333333333333,
              "#9c179e"
             ],
             [
              0.4444444444444444,
              "#bd3786"
             ],
             [
              0.5555555555555556,
              "#d8576b"
             ],
             [
              0.6666666666666666,
              "#ed7953"
             ],
             [
              0.7777777777777778,
              "#fb9f3a"
             ],
             [
              0.8888888888888888,
              "#fdca26"
             ],
             [
              1,
              "#f0f921"
             ]
            ],
            "type": "histogram2d"
           }
          ],
          "histogram2dcontour": [
           {
            "colorbar": {
             "outlinewidth": 0,
             "ticks": ""
            },
            "colorscale": [
             [
              0,
              "#0d0887"
             ],
             [
              0.1111111111111111,
              "#46039f"
             ],
             [
              0.2222222222222222,
              "#7201a8"
             ],
             [
              0.3333333333333333,
              "#9c179e"
             ],
             [
              0.4444444444444444,
              "#bd3786"
             ],
             [
              0.5555555555555556,
              "#d8576b"
             ],
             [
              0.6666666666666666,
              "#ed7953"
             ],
             [
              0.7777777777777778,
              "#fb9f3a"
             ],
             [
              0.8888888888888888,
              "#fdca26"
             ],
             [
              1,
              "#f0f921"
             ]
            ],
            "type": "histogram2dcontour"
           }
          ],
          "mesh3d": [
           {
            "colorbar": {
             "outlinewidth": 0,
             "ticks": ""
            },
            "type": "mesh3d"
           }
          ],
          "parcoords": [
           {
            "line": {
             "colorbar": {
              "outlinewidth": 0,
              "ticks": ""
             }
            },
            "type": "parcoords"
           }
          ],
          "pie": [
           {
            "automargin": true,
            "type": "pie"
           }
          ],
          "scatter": [
           {
            "fillpattern": {
             "fillmode": "overlay",
             "size": 10,
             "solidity": 0.2
            },
            "type": "scatter"
           }
          ],
          "scatter3d": [
           {
            "line": {
             "colorbar": {
              "outlinewidth": 0,
              "ticks": ""
             }
            },
            "marker": {
             "colorbar": {
              "outlinewidth": 0,
              "ticks": ""
             }
            },
            "type": "scatter3d"
           }
          ],
          "scattercarpet": [
           {
            "marker": {
             "colorbar": {
              "outlinewidth": 0,
              "ticks": ""
             }
            },
            "type": "scattercarpet"
           }
          ],
          "scattergeo": [
           {
            "marker": {
             "colorbar": {
              "outlinewidth": 0,
              "ticks": ""
             }
            },
            "type": "scattergeo"
           }
          ],
          "scattergl": [
           {
            "marker": {
             "colorbar": {
              "outlinewidth": 0,
              "ticks": ""
             }
            },
            "type": "scattergl"
           }
          ],
          "scattermapbox": [
           {
            "marker": {
             "colorbar": {
              "outlinewidth": 0,
              "ticks": ""
             }
            },
            "type": "scattermapbox"
           }
          ],
          "scatterpolar": [
           {
            "marker": {
             "colorbar": {
              "outlinewidth": 0,
              "ticks": ""
             }
            },
            "type": "scatterpolar"
           }
          ],
          "scatterpolargl": [
           {
            "marker": {
             "colorbar": {
              "outlinewidth": 0,
              "ticks": ""
             }
            },
            "type": "scatterpolargl"
           }
          ],
          "scatterternary": [
           {
            "marker": {
             "colorbar": {
              "outlinewidth": 0,
              "ticks": ""
             }
            },
            "type": "scatterternary"
           }
          ],
          "surface": [
           {
            "colorbar": {
             "outlinewidth": 0,
             "ticks": ""
            },
            "colorscale": [
             [
              0,
              "#0d0887"
             ],
             [
              0.1111111111111111,
              "#46039f"
             ],
             [
              0.2222222222222222,
              "#7201a8"
             ],
             [
              0.3333333333333333,
              "#9c179e"
             ],
             [
              0.4444444444444444,
              "#bd3786"
             ],
             [
              0.5555555555555556,
              "#d8576b"
             ],
             [
              0.6666666666666666,
              "#ed7953"
             ],
             [
              0.7777777777777778,
              "#fb9f3a"
             ],
             [
              0.8888888888888888,
              "#fdca26"
             ],
             [
              1,
              "#f0f921"
             ]
            ],
            "type": "surface"
           }
          ],
          "table": [
           {
            "cells": {
             "fill": {
              "color": "#EBF0F8"
             },
             "line": {
              "color": "white"
             }
            },
            "header": {
             "fill": {
              "color": "#C8D4E3"
             },
             "line": {
              "color": "white"
             }
            },
            "type": "table"
           }
          ]
         },
         "layout": {
          "annotationdefaults": {
           "arrowcolor": "#2a3f5f",
           "arrowhead": 0,
           "arrowwidth": 1
          },
          "autotypenumbers": "strict",
          "coloraxis": {
           "colorbar": {
            "outlinewidth": 0,
            "ticks": ""
           }
          },
          "colorscale": {
           "diverging": [
            [
             0,
             "#8e0152"
            ],
            [
             0.1,
             "#c51b7d"
            ],
            [
             0.2,
             "#de77ae"
            ],
            [
             0.3,
             "#f1b6da"
            ],
            [
             0.4,
             "#fde0ef"
            ],
            [
             0.5,
             "#f7f7f7"
            ],
            [
             0.6,
             "#e6f5d0"
            ],
            [
             0.7,
             "#b8e186"
            ],
            [
             0.8,
             "#7fbc41"
            ],
            [
             0.9,
             "#4d9221"
            ],
            [
             1,
             "#276419"
            ]
           ],
           "sequential": [
            [
             0,
             "#0d0887"
            ],
            [
             0.1111111111111111,
             "#46039f"
            ],
            [
             0.2222222222222222,
             "#7201a8"
            ],
            [
             0.3333333333333333,
             "#9c179e"
            ],
            [
             0.4444444444444444,
             "#bd3786"
            ],
            [
             0.5555555555555556,
             "#d8576b"
            ],
            [
             0.6666666666666666,
             "#ed7953"
            ],
            [
             0.7777777777777778,
             "#fb9f3a"
            ],
            [
             0.8888888888888888,
             "#fdca26"
            ],
            [
             1,
             "#f0f921"
            ]
           ],
           "sequentialminus": [
            [
             0,
             "#0d0887"
            ],
            [
             0.1111111111111111,
             "#46039f"
            ],
            [
             0.2222222222222222,
             "#7201a8"
            ],
            [
             0.3333333333333333,
             "#9c179e"
            ],
            [
             0.4444444444444444,
             "#bd3786"
            ],
            [
             0.5555555555555556,
             "#d8576b"
            ],
            [
             0.6666666666666666,
             "#ed7953"
            ],
            [
             0.7777777777777778,
             "#fb9f3a"
            ],
            [
             0.8888888888888888,
             "#fdca26"
            ],
            [
             1,
             "#f0f921"
            ]
           ]
          },
          "colorway": [
           "#636efa",
           "#EF553B",
           "#00cc96",
           "#ab63fa",
           "#FFA15A",
           "#19d3f3",
           "#FF6692",
           "#B6E880",
           "#FF97FF",
           "#FECB52"
          ],
          "font": {
           "color": "#2a3f5f"
          },
          "geo": {
           "bgcolor": "white",
           "lakecolor": "white",
           "landcolor": "#E5ECF6",
           "showlakes": true,
           "showland": true,
           "subunitcolor": "white"
          },
          "hoverlabel": {
           "align": "left"
          },
          "hovermode": "closest",
          "mapbox": {
           "style": "light"
          },
          "paper_bgcolor": "white",
          "plot_bgcolor": "#E5ECF6",
          "polar": {
           "angularaxis": {
            "gridcolor": "white",
            "linecolor": "white",
            "ticks": ""
           },
           "bgcolor": "#E5ECF6",
           "radialaxis": {
            "gridcolor": "white",
            "linecolor": "white",
            "ticks": ""
           }
          },
          "scene": {
           "xaxis": {
            "backgroundcolor": "#E5ECF6",
            "gridcolor": "white",
            "gridwidth": 2,
            "linecolor": "white",
            "showbackground": true,
            "ticks": "",
            "zerolinecolor": "white"
           },
           "yaxis": {
            "backgroundcolor": "#E5ECF6",
            "gridcolor": "white",
            "gridwidth": 2,
            "linecolor": "white",
            "showbackground": true,
            "ticks": "",
            "zerolinecolor": "white"
           },
           "zaxis": {
            "backgroundcolor": "#E5ECF6",
            "gridcolor": "white",
            "gridwidth": 2,
            "linecolor": "white",
            "showbackground": true,
            "ticks": "",
            "zerolinecolor": "white"
           }
          },
          "shapedefaults": {
           "line": {
            "color": "#2a3f5f"
           }
          },
          "ternary": {
           "aaxis": {
            "gridcolor": "white",
            "linecolor": "white",
            "ticks": ""
           },
           "baxis": {
            "gridcolor": "white",
            "linecolor": "white",
            "ticks": ""
           },
           "bgcolor": "#E5ECF6",
           "caxis": {
            "gridcolor": "white",
            "linecolor": "white",
            "ticks": ""
           }
          },
          "title": {
           "x": 0.05
          },
          "xaxis": {
           "automargin": true,
           "gridcolor": "white",
           "linecolor": "white",
           "ticks": "",
           "title": {
            "standoff": 15
           },
           "zerolinecolor": "white",
           "zerolinewidth": 2
          },
          "yaxis": {
           "automargin": true,
           "gridcolor": "white",
           "linecolor": "white",
           "ticks": "",
           "title": {
            "standoff": 15
           },
           "zerolinecolor": "white",
           "zerolinewidth": 2
          }
         }
        },
        "xaxis": {
         "anchor": "y",
         "domain": [
          0,
          1
         ],
         "title": {
          "text": "value"
         }
        },
        "yaxis": {
         "anchor": "x",
         "domain": [
          0,
          1
         ],
         "title": {
          "text": "Description"
         }
        }
       }
      }
     },
     "metadata": {},
     "output_type": "display_data"
    }
   ],
   "source": [
    "import plotly.express as px # linechart to show value of sales across selected timeline - post covid\n",
    "import numpy as np\n",
    "dfb = df_super_allretail\n",
    "# df = px.data.weekstips()\n",
    "px.bar(dfb, y='Description', x=['Supermarkets', 'Department stores'], barmode='group', orientation='h', title=\"Online sales for Supermarkets and Department stores\")"
   ]
  },
  {
   "cell_type": "code",
   "execution_count": 30,
   "metadata": {},
   "outputs": [
    {
     "data": {
      "application/vnd.plotly.v1+json": {
       "config": {
        "plotlyServerURL": "https://plot.ly"
       },
       "data": [
        {
         "domain": {
          "x": [
           0,
           1
          ],
          "y": [
           0,
           1
          ]
         },
         "hovertemplate": "Description=%{label}<br>Supermarkets=%{value}<extra></extra>",
         "labels": [
          "2022JAN",
          "2022FEB",
          "2022MAR",
          "2022APR"
         ],
         "legendgroup": "",
         "name": "",
         "showlegend": true,
         "type": "pie",
         "values": [
          1176187,
          1157014,
          1477908,
          1192733
         ]
        }
       ],
       "layout": {
        "legend": {
         "tracegroupgap": 0
        },
        "margin": {
         "t": 60
        },
        "template": {
         "data": {
          "bar": [
           {
            "error_x": {
             "color": "#2a3f5f"
            },
            "error_y": {
             "color": "#2a3f5f"
            },
            "marker": {
             "line": {
              "color": "#E5ECF6",
              "width": 0.5
             },
             "pattern": {
              "fillmode": "overlay",
              "size": 10,
              "solidity": 0.2
             }
            },
            "type": "bar"
           }
          ],
          "barpolar": [
           {
            "marker": {
             "line": {
              "color": "#E5ECF6",
              "width": 0.5
             },
             "pattern": {
              "fillmode": "overlay",
              "size": 10,
              "solidity": 0.2
             }
            },
            "type": "barpolar"
           }
          ],
          "carpet": [
           {
            "aaxis": {
             "endlinecolor": "#2a3f5f",
             "gridcolor": "white",
             "linecolor": "white",
             "minorgridcolor": "white",
             "startlinecolor": "#2a3f5f"
            },
            "baxis": {
             "endlinecolor": "#2a3f5f",
             "gridcolor": "white",
             "linecolor": "white",
             "minorgridcolor": "white",
             "startlinecolor": "#2a3f5f"
            },
            "type": "carpet"
           }
          ],
          "choropleth": [
           {
            "colorbar": {
             "outlinewidth": 0,
             "ticks": ""
            },
            "type": "choropleth"
           }
          ],
          "contour": [
           {
            "colorbar": {
             "outlinewidth": 0,
             "ticks": ""
            },
            "colorscale": [
             [
              0,
              "#0d0887"
             ],
             [
              0.1111111111111111,
              "#46039f"
             ],
             [
              0.2222222222222222,
              "#7201a8"
             ],
             [
              0.3333333333333333,
              "#9c179e"
             ],
             [
              0.4444444444444444,
              "#bd3786"
             ],
             [
              0.5555555555555556,
              "#d8576b"
             ],
             [
              0.6666666666666666,
              "#ed7953"
             ],
             [
              0.7777777777777778,
              "#fb9f3a"
             ],
             [
              0.8888888888888888,
              "#fdca26"
             ],
             [
              1,
              "#f0f921"
             ]
            ],
            "type": "contour"
           }
          ],
          "contourcarpet": [
           {
            "colorbar": {
             "outlinewidth": 0,
             "ticks": ""
            },
            "type": "contourcarpet"
           }
          ],
          "heatmap": [
           {
            "colorbar": {
             "outlinewidth": 0,
             "ticks": ""
            },
            "colorscale": [
             [
              0,
              "#0d0887"
             ],
             [
              0.1111111111111111,
              "#46039f"
             ],
             [
              0.2222222222222222,
              "#7201a8"
             ],
             [
              0.3333333333333333,
              "#9c179e"
             ],
             [
              0.4444444444444444,
              "#bd3786"
             ],
             [
              0.5555555555555556,
              "#d8576b"
             ],
             [
              0.6666666666666666,
              "#ed7953"
             ],
             [
              0.7777777777777778,
              "#fb9f3a"
             ],
             [
              0.8888888888888888,
              "#fdca26"
             ],
             [
              1,
              "#f0f921"
             ]
            ],
            "type": "heatmap"
           }
          ],
          "heatmapgl": [
           {
            "colorbar": {
             "outlinewidth": 0,
             "ticks": ""
            },
            "colorscale": [
             [
              0,
              "#0d0887"
             ],
             [
              0.1111111111111111,
              "#46039f"
             ],
             [
              0.2222222222222222,
              "#7201a8"
             ],
             [
              0.3333333333333333,
              "#9c179e"
             ],
             [
              0.4444444444444444,
              "#bd3786"
             ],
             [
              0.5555555555555556,
              "#d8576b"
             ],
             [
              0.6666666666666666,
              "#ed7953"
             ],
             [
              0.7777777777777778,
              "#fb9f3a"
             ],
             [
              0.8888888888888888,
              "#fdca26"
             ],
             [
              1,
              "#f0f921"
             ]
            ],
            "type": "heatmapgl"
           }
          ],
          "histogram": [
           {
            "marker": {
             "pattern": {
              "fillmode": "overlay",
              "size": 10,
              "solidity": 0.2
             }
            },
            "type": "histogram"
           }
          ],
          "histogram2d": [
           {
            "colorbar": {
             "outlinewidth": 0,
             "ticks": ""
            },
            "colorscale": [
             [
              0,
              "#0d0887"
             ],
             [
              0.1111111111111111,
              "#46039f"
             ],
             [
              0.2222222222222222,
              "#7201a8"
             ],
             [
              0.3333333333333333,
              "#9c179e"
             ],
             [
              0.4444444444444444,
              "#bd3786"
             ],
             [
              0.5555555555555556,
              "#d8576b"
             ],
             [
              0.6666666666666666,
              "#ed7953"
             ],
             [
              0.7777777777777778,
              "#fb9f3a"
             ],
             [
              0.8888888888888888,
              "#fdca26"
             ],
             [
              1,
              "#f0f921"
             ]
            ],
            "type": "histogram2d"
           }
          ],
          "histogram2dcontour": [
           {
            "colorbar": {
             "outlinewidth": 0,
             "ticks": ""
            },
            "colorscale": [
             [
              0,
              "#0d0887"
             ],
             [
              0.1111111111111111,
              "#46039f"
             ],
             [
              0.2222222222222222,
              "#7201a8"
             ],
             [
              0.3333333333333333,
              "#9c179e"
             ],
             [
              0.4444444444444444,
              "#bd3786"
             ],
             [
              0.5555555555555556,
              "#d8576b"
             ],
             [
              0.6666666666666666,
              "#ed7953"
             ],
             [
              0.7777777777777778,
              "#fb9f3a"
             ],
             [
              0.8888888888888888,
              "#fdca26"
             ],
             [
              1,
              "#f0f921"
             ]
            ],
            "type": "histogram2dcontour"
           }
          ],
          "mesh3d": [
           {
            "colorbar": {
             "outlinewidth": 0,
             "ticks": ""
            },
            "type": "mesh3d"
           }
          ],
          "parcoords": [
           {
            "line": {
             "colorbar": {
              "outlinewidth": 0,
              "ticks": ""
             }
            },
            "type": "parcoords"
           }
          ],
          "pie": [
           {
            "automargin": true,
            "type": "pie"
           }
          ],
          "scatter": [
           {
            "fillpattern": {
             "fillmode": "overlay",
             "size": 10,
             "solidity": 0.2
            },
            "type": "scatter"
           }
          ],
          "scatter3d": [
           {
            "line": {
             "colorbar": {
              "outlinewidth": 0,
              "ticks": ""
             }
            },
            "marker": {
             "colorbar": {
              "outlinewidth": 0,
              "ticks": ""
             }
            },
            "type": "scatter3d"
           }
          ],
          "scattercarpet": [
           {
            "marker": {
             "colorbar": {
              "outlinewidth": 0,
              "ticks": ""
             }
            },
            "type": "scattercarpet"
           }
          ],
          "scattergeo": [
           {
            "marker": {
             "colorbar": {
              "outlinewidth": 0,
              "ticks": ""
             }
            },
            "type": "scattergeo"
           }
          ],
          "scattergl": [
           {
            "marker": {
             "colorbar": {
              "outlinewidth": 0,
              "ticks": ""
             }
            },
            "type": "scattergl"
           }
          ],
          "scattermapbox": [
           {
            "marker": {
             "colorbar": {
              "outlinewidth": 0,
              "ticks": ""
             }
            },
            "type": "scattermapbox"
           }
          ],
          "scatterpolar": [
           {
            "marker": {
             "colorbar": {
              "outlinewidth": 0,
              "ticks": ""
             }
            },
            "type": "scatterpolar"
           }
          ],
          "scatterpolargl": [
           {
            "marker": {
             "colorbar": {
              "outlinewidth": 0,
              "ticks": ""
             }
            },
            "type": "scatterpolargl"
           }
          ],
          "scatterternary": [
           {
            "marker": {
             "colorbar": {
              "outlinewidth": 0,
              "ticks": ""
             }
            },
            "type": "scatterternary"
           }
          ],
          "surface": [
           {
            "colorbar": {
             "outlinewidth": 0,
             "ticks": ""
            },
            "colorscale": [
             [
              0,
              "#0d0887"
             ],
             [
              0.1111111111111111,
              "#46039f"
             ],
             [
              0.2222222222222222,
              "#7201a8"
             ],
             [
              0.3333333333333333,
              "#9c179e"
             ],
             [
              0.4444444444444444,
              "#bd3786"
             ],
             [
              0.5555555555555556,
              "#d8576b"
             ],
             [
              0.6666666666666666,
              "#ed7953"
             ],
             [
              0.7777777777777778,
              "#fb9f3a"
             ],
             [
              0.8888888888888888,
              "#fdca26"
             ],
             [
              1,
              "#f0f921"
             ]
            ],
            "type": "surface"
           }
          ],
          "table": [
           {
            "cells": {
             "fill": {
              "color": "#EBF0F8"
             },
             "line": {
              "color": "white"
             }
            },
            "header": {
             "fill": {
              "color": "#C8D4E3"
             },
             "line": {
              "color": "white"
             }
            },
            "type": "table"
           }
          ]
         },
         "layout": {
          "annotationdefaults": {
           "arrowcolor": "#2a3f5f",
           "arrowhead": 0,
           "arrowwidth": 1
          },
          "autotypenumbers": "strict",
          "coloraxis": {
           "colorbar": {
            "outlinewidth": 0,
            "ticks": ""
           }
          },
          "colorscale": {
           "diverging": [
            [
             0,
             "#8e0152"
            ],
            [
             0.1,
             "#c51b7d"
            ],
            [
             0.2,
             "#de77ae"
            ],
            [
             0.3,
             "#f1b6da"
            ],
            [
             0.4,
             "#fde0ef"
            ],
            [
             0.5,
             "#f7f7f7"
            ],
            [
             0.6,
             "#e6f5d0"
            ],
            [
             0.7,
             "#b8e186"
            ],
            [
             0.8,
             "#7fbc41"
            ],
            [
             0.9,
             "#4d9221"
            ],
            [
             1,
             "#276419"
            ]
           ],
           "sequential": [
            [
             0,
             "#0d0887"
            ],
            [
             0.1111111111111111,
             "#46039f"
            ],
            [
             0.2222222222222222,
             "#7201a8"
            ],
            [
             0.3333333333333333,
             "#9c179e"
            ],
            [
             0.4444444444444444,
             "#bd3786"
            ],
            [
             0.5555555555555556,
             "#d8576b"
            ],
            [
             0.6666666666666666,
             "#ed7953"
            ],
            [
             0.7777777777777778,
             "#fb9f3a"
            ],
            [
             0.8888888888888888,
             "#fdca26"
            ],
            [
             1,
             "#f0f921"
            ]
           ],
           "sequentialminus": [
            [
             0,
             "#0d0887"
            ],
            [
             0.1111111111111111,
             "#46039f"
            ],
            [
             0.2222222222222222,
             "#7201a8"
            ],
            [
             0.3333333333333333,
             "#9c179e"
            ],
            [
             0.4444444444444444,
             "#bd3786"
            ],
            [
             0.5555555555555556,
             "#d8576b"
            ],
            [
             0.6666666666666666,
             "#ed7953"
            ],
            [
             0.7777777777777778,
             "#fb9f3a"
            ],
            [
             0.8888888888888888,
             "#fdca26"
            ],
            [
             1,
             "#f0f921"
            ]
           ]
          },
          "colorway": [
           "#636efa",
           "#EF553B",
           "#00cc96",
           "#ab63fa",
           "#FFA15A",
           "#19d3f3",
           "#FF6692",
           "#B6E880",
           "#FF97FF",
           "#FECB52"
          ],
          "font": {
           "color": "#2a3f5f"
          },
          "geo": {
           "bgcolor": "white",
           "lakecolor": "white",
           "landcolor": "#E5ECF6",
           "showlakes": true,
           "showland": true,
           "subunitcolor": "white"
          },
          "hoverlabel": {
           "align": "left"
          },
          "hovermode": "closest",
          "mapbox": {
           "style": "light"
          },
          "paper_bgcolor": "white",
          "plot_bgcolor": "#E5ECF6",
          "polar": {
           "angularaxis": {
            "gridcolor": "white",
            "linecolor": "white",
            "ticks": ""
           },
           "bgcolor": "#E5ECF6",
           "radialaxis": {
            "gridcolor": "white",
            "linecolor": "white",
            "ticks": ""
           }
          },
          "scene": {
           "xaxis": {
            "backgroundcolor": "#E5ECF6",
            "gridcolor": "white",
            "gridwidth": 2,
            "linecolor": "white",
            "showbackground": true,
            "ticks": "",
            "zerolinecolor": "white"
           },
           "yaxis": {
            "backgroundcolor": "#E5ECF6",
            "gridcolor": "white",
            "gridwidth": 2,
            "linecolor": "white",
            "showbackground": true,
            "ticks": "",
            "zerolinecolor": "white"
           },
           "zaxis": {
            "backgroundcolor": "#E5ECF6",
            "gridcolor": "white",
            "gridwidth": 2,
            "linecolor": "white",
            "showbackground": true,
            "ticks": "",
            "zerolinecolor": "white"
           }
          },
          "shapedefaults": {
           "line": {
            "color": "#2a3f5f"
           }
          },
          "ternary": {
           "aaxis": {
            "gridcolor": "white",
            "linecolor": "white",
            "ticks": ""
           },
           "baxis": {
            "gridcolor": "white",
            "linecolor": "white",
            "ticks": ""
           },
           "bgcolor": "#E5ECF6",
           "caxis": {
            "gridcolor": "white",
            "linecolor": "white",
            "ticks": ""
           }
          },
          "title": {
           "x": 0.05
          },
          "xaxis": {
           "automargin": true,
           "gridcolor": "white",
           "linecolor": "white",
           "ticks": "",
           "title": {
            "standoff": 15
           },
           "zerolinecolor": "white",
           "zerolinewidth": 2
          },
          "yaxis": {
           "automargin": true,
           "gridcolor": "white",
           "linecolor": "white",
           "ticks": "",
           "title": {
            "standoff": 15
           },
           "zerolinecolor": "white",
           "zerolinewidth": 2
          }
         }
        }
       }
      }
     },
     "metadata": {},
     "output_type": "display_data"
    }
   ],
   "source": [
    "import plotly.express as px # linechart to show value of sales across selected timeline - post covid\n",
    "import numpy as np\n",
    "dfb = df_super_allretail\n",
    "# df = px.data.weekstips()\n",
    "px.pie(dfb, values='Supermarkets', names= 'Description')\n"
   ]
  },
  {
   "cell_type": "code",
   "execution_count": 31,
   "metadata": {},
   "outputs": [],
   "source": [
    "\n",
    "# use aggregate statistics \n",
    "# comparative analysis of avg sales across the years \n",
    "# variance - yearly cumulative result \n",
    "# convergence over the years - mutual peak point over the years\n",
    "# aggregate vs agg \n",
    "# "
   ]
  }
 ],
 "metadata": {
  "kernelspec": {
   "display_name": "Python 3.9.7 ('base')",
   "language": "python",
   "name": "python3"
  },
  "language_info": {
   "codemirror_mode": {
    "name": "ipython",
    "version": 3
   },
   "file_extension": ".py",
   "mimetype": "text/x-python",
   "name": "python",
   "nbconvert_exporter": "python",
   "pygments_lexer": "ipython3",
   "version": "3.9.7"
  },
  "orig_nbformat": 4,
  "vscode": {
   "interpreter": {
    "hash": "40d3a090f54c6569ab1632332b64b2c03c39dcf918b08424e98f38b5ae0af88f"
   }
  }
 },
 "nbformat": 4,
 "nbformat_minor": 2
}
